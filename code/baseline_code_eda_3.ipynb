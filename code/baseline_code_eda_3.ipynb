{
  "cells": [
    {
      "cell_type": "markdown",
      "metadata": {
        "id": "92WHLz8346Yf"
      },
      "source": [
        "# **🏠 부동산 실거래가 Baseline code**\n",
        "> 부동산 실거래가 예측 대회에 오신 여러분 환영합니다! 🎉     \n",
        "> 아래 baseline에서는 RandomForest를 활용해 ML 방법론들을 실제 대회에 적용해보도록 하겠습니다.\n",
        "> 강의는 google colab으로 실행하였기에 아래의 베이스라인 코드와는 일부 차이가 있을 수 있습니다. \n",
        "\n",
        "## Contents\n",
        "- Library Import\n",
        "- Data Load\n",
        "- Data Preprocessing\n",
        "- Feature Engineering\n",
        "- Model Training\n",
        "- Inference\n",
        "- Output File Save\n"
      ]
    },
    {
      "cell_type": "markdown",
      "metadata": {
        "id": "2-DJzJjvO88V"
      },
      "source": [
        "## 1. Library Import\n",
        "- 필요한 라이브러리를 불러옵니다."
      ]
    },
    {
      "cell_type": "code",
      "execution_count": 29,
      "metadata": {
        "colab": {
          "base_uri": "https://localhost:8080/"
        },
        "id": "PKs1Mj7OcWU0",
        "outputId": "d142df48-acc5-4bca-c9be-18575aa6a6dc"
      },
      "outputs": [
        {
          "name": "stdout",
          "output_type": "stream",
          "text": [
            "Requirement already satisfied: eli5==0.13.0 in /opt/conda/lib/python3.10/site-packages (0.13.0)\n",
            "Requirement already satisfied: attrs>17.1.0 in /opt/conda/lib/python3.10/site-packages (from eli5==0.13.0) (23.1.0)\n",
            "Requirement already satisfied: jinja2>=3.0.0 in /opt/conda/lib/python3.10/site-packages (from eli5==0.13.0) (3.1.2)\n",
            "Requirement already satisfied: numpy>=1.9.0 in /opt/conda/lib/python3.10/site-packages (from eli5==0.13.0) (1.23.5)\n",
            "Requirement already satisfied: scipy in /opt/conda/lib/python3.10/site-packages (from eli5==0.13.0) (1.11.3)\n",
            "Requirement already satisfied: six in /opt/conda/lib/python3.10/site-packages (from eli5==0.13.0) (1.16.0)\n",
            "Requirement already satisfied: scikit-learn>=0.20 in /opt/conda/lib/python3.10/site-packages (from eli5==0.13.0) (1.2.2)\n",
            "Requirement already satisfied: graphviz in /opt/conda/lib/python3.10/site-packages (from eli5==0.13.0) (0.20.1)\n",
            "Requirement already satisfied: tabulate>=0.7.7 in /opt/conda/lib/python3.10/site-packages (from eli5==0.13.0) (0.9.0)\n",
            "Requirement already satisfied: MarkupSafe>=2.0 in /opt/conda/lib/python3.10/site-packages (from jinja2>=3.0.0->eli5==0.13.0) (2.1.1)\n",
            "Requirement already satisfied: joblib>=1.1.1 in /opt/conda/lib/python3.10/site-packages (from scikit-learn>=0.20->eli5==0.13.0) (1.3.2)\n",
            "Requirement already satisfied: threadpoolctl>=2.0.0 in /opt/conda/lib/python3.10/site-packages (from scikit-learn>=0.20->eli5==0.13.0) (3.2.0)\n",
            "\u001b[33mWARNING: Running pip as the 'root' user can result in broken permissions and conflicting behaviour with the system package manager. It is recommended to use a virtual environment instead: https://pip.pypa.io/warnings/venv\u001b[0m\u001b[33m\n",
            "Reading package lists... Done\n",
            "Building dependency tree       \n",
            "Reading state information... Done\n",
            "fonts-nanum is already the newest version (20180306-3).\n",
            "0 upgraded, 0 newly installed, 0 to remove and 14 not upgraded.\n"
          ]
        }
      ],
      "source": [
        "!pip install eli5==0.13.0\n",
        "\n",
        "# 한글 폰트 사용을 위한 라이브러리입니다.\n",
        "!apt-get install -y fonts-nanum"
      ]
    },
    {
      "cell_type": "code",
      "execution_count": 226,
      "metadata": {
        "id": "d-NiCLGs4ZpM"
      },
      "outputs": [],
      "source": [
        "# visualization\n",
        "import matplotlib.pyplot as plt\n",
        "import matplotlib.font_manager as fm\n",
        "fe = fm.FontEntry(\n",
        "    fname=r'/usr/share/fonts/truetype/nanum/NanumGothic.ttf', # ttf 파일이 저장되어 있는 경로\n",
        "    name='NanumBarunGothic')                        # 이 폰트의 원하는 이름 설정\n",
        "fm.fontManager.ttflist.insert(0, fe)              # Matplotlib에 폰트 추가\n",
        "plt.rcParams.update({'font.size': 10, 'font.family': 'NanumBarunGothic'}) # 폰트 설정\n",
        "plt.rc('font', family='NanumBarunGothic')\n",
        "import seaborn as sns\n",
        "\n",
        "# utils\n",
        "import pandas as pd\n",
        "import numpy as np\n",
        "from tqdm import tqdm\n",
        "import pickle\n",
        "import warnings;warnings.filterwarnings('ignore')\n",
        "\n",
        "# Model\n",
        "from sklearn.preprocessing import LabelEncoder\n",
        "from sklearn.model_selection import train_test_split\n",
        "from sklearn.metrics import mean_squared_error\n",
        "from sklearn.ensemble import RandomForestRegressor\n",
        "from sklearn import metrics\n",
        "\n",
        "import eli5\n",
        "from eli5.sklearn import PermutationImportance"
      ]
    },
    {
      "cell_type": "markdown",
      "metadata": {
        "id": "OPJvYT0OPAWS"
      },
      "source": [
        "## 2. Data Load"
      ]
    },
    {
      "cell_type": "markdown",
      "metadata": {
        "id": "vvwnwnpNJeR1"
      },
      "source": [
        "#### 2.1. 데이터 로드"
      ]
    },
    {
      "cell_type": "code",
      "execution_count": 31,
      "metadata": {},
      "outputs": [
        {
          "data": {
            "text/plain": [
              "'/data/ephemeral/home/code'"
            ]
          },
          "execution_count": 31,
          "metadata": {},
          "output_type": "execute_result"
        }
      ],
      "source": [
        "import os\n",
        "os.getcwd()"
      ]
    },
    {
      "cell_type": "code",
      "execution_count": 174,
      "metadata": {
        "id": "hx6nk3N_4_Tk"
      },
      "outputs": [],
      "source": [
        "# 필요한 데이터를 load 하겠습니다. 경로는 환경에 맞게 지정해주면 됩니다.\n",
        "train_path = '../data/train.csv'\n",
        "test_path  = '../data/test.csv'\n",
        "dt = pd.read_csv(train_path)\n",
        "dt_test = pd.read_csv(test_path)"
      ]
    },
    {
      "cell_type": "code",
      "execution_count": 175,
      "metadata": {
        "id": "vltXVoeRhZiI"
      },
      "outputs": [],
      "source": [
        "# train/test 구분을 위한 칼럼을 하나 만들어 줍니다.\n",
        "dt['is_test'] = 0\n",
        "dt_test['is_test'] = 1\n",
        "concat = pd.concat([dt, dt_test])     # 하나의 데이터로 만들어줍니다."
      ]
    },
    {
      "cell_type": "code",
      "execution_count": 176,
      "metadata": {},
      "outputs": [],
      "source": [
        "# 칼럼 이름을 쉽게 바꿔주겠습니다. 다른 칼럼도 사용에 따라 바꿔주셔도 됩니다!\n",
        "concat = concat.rename(columns={'전용면적(㎡)':'전용면적'})"
      ]
    },
    {
      "cell_type": "code",
      "execution_count": 177,
      "metadata": {},
      "outputs": [
        {
          "data": {
            "text/plain": [
              "0"
            ]
          },
          "execution_count": 177,
          "metadata": {},
          "output_type": "execute_result"
        }
      ],
      "source": [
        "# 주소로 unique id를 만들어봅니다\n",
        "\n",
        "concat['본번'] = concat['본번'].fillna(-1)\n",
        "concat['부번'] = concat['부번'].fillna(-1)\n",
        "\n",
        "concat['본번'] = concat['본번'].astype(int).astype(str).replace({-1: np.nan})\n",
        "concat['부번'] = concat['부번'].astype(int).astype(str).replace({-1: np.nan})\n",
        "\n",
        "concat['지번_temp'] = concat['본번'] + '-' + concat['부번']\n",
        "\n",
        "concat['번지'] = concat['번지'].fillna(concat['지번_temp'])\n",
        "concat['번지'].isnull().sum()\n",
        "\n",
        "concat = concat.drop('지번_temp', axis=1)"
      ]
    },
    {
      "cell_type": "code",
      "execution_count": 178,
      "metadata": {},
      "outputs": [],
      "source": [
        "# 본번, 부번의 경우 float로 되어있지만 범주형 변수의 의미를 가지므로 object(string) 형태로 바꾸어주고 아래 작업을 진행하겠습니다.\n",
        "concat['본번'] = concat['본번'].astype('str')\n",
        "concat['부번'] = concat['부번'].astype('str')\n",
        "\n",
        "\n",
        "# '시군구'와 '번지'를 이용해 unique id를 만들어준다\n",
        "concat['주소'] = concat['시군구'] + ' ' + concat['번지']"
      ]
    },
    {
      "cell_type": "markdown",
      "metadata": {},
      "source": [
        "### xy좌표 결측치를 제거해봅니다"
      ]
    },
    {
      "cell_type": "code",
      "execution_count": 179,
      "metadata": {},
      "outputs": [],
      "source": [
        "# xy좌표를 불러오고 unique id를 맞춰준다\n",
        "\n",
        "coordinates = pd.read_csv('../data/xy좌표.csv', encoding='cp949')\n",
        "\n",
        "coordinates['주소'] = coordinates['시군구'] + ' ' + coordinates['번지']"
      ]
    },
    {
      "cell_type": "code",
      "execution_count": 180,
      "metadata": {},
      "outputs": [],
      "source": [
        "concat_temp = pd.merge(concat, coordinates, on='주소', how='left', suffixes=('_A', '_B'))\n",
        "\n",
        "concat = concat_temp\n",
        "\n",
        "concat = concat.drop(columns=['시군구_B', '번지_B'])\n",
        "\n",
        "concat = concat.rename(columns={'시군구_A':'시군구'})\n",
        "concat = concat.rename(columns={'번지_A':'번지'})"
      ]
    },
    {
      "cell_type": "markdown",
      "metadata": {},
      "source": [
        "### xy좌표 결측치 채우기(주소로 정렬한 후 선형보간으로 채우기)"
      ]
    },
    {
      "cell_type": "code",
      "execution_count": 182,
      "metadata": {},
      "outputs": [],
      "source": [
        "# xy좌표 결측치 채우기(주소로 정렬한 후 선형보간으로 채우기)\n",
        "\n",
        "concat_sorted = concat.sort_values(by='주소')\n",
        "\n",
        "# 연속형 변수에 대한 보간 (선형 보간)\n",
        "col = ['x', 'y']\n",
        "concat_sorted[col] = concat_sorted[col].interpolate(method='linear', axis=0)\n",
        "\n",
        "concat = concat_sorted.sort_index()"
      ]
    },
    {
      "cell_type": "code",
      "execution_count": 183,
      "metadata": {},
      "outputs": [],
      "source": [
        "concat['계약년월'] = concat['계약년월'].astype(str)\n",
        "\n",
        "concat['계약년'] = concat['계약년월'].str[:4]\n",
        "concat['계약월'] = concat['계약년월'].str[4:]\n",
        "\n",
        "concat['계약년'] = concat['계약년'].astype(int)\n",
        "concat['계약월'] = concat['계약월'].astype(int)"
      ]
    },
    {
      "cell_type": "code",
      "execution_count": 184,
      "metadata": {},
      "outputs": [],
      "source": [
        "# 해제사유발생 = 1, 미발생 = 0 으로 바꾸기\n",
        "\n",
        "concat['거래취소여부'] = concat['해제사유발생일'].notnull().astype(int)\n",
        "\n",
        "concat['거래취소여부'].value_counts()\n",
        "\n",
        "concat = concat.drop(columns = '해제사유발생일',  errors='ignore')"
      ]
    },
    {
      "cell_type": "code",
      "execution_count": 187,
      "metadata": {},
      "outputs": [],
      "source": [
        "# 불필요한 컬럼 제거\n",
        "\n",
        "drop_columns = ['아파트명', '도로명', '등기신청일자', '거래유형', '중개사소재지', '좌표X', '좌표Y','계약년월'\n",
        "                'k-전화번호', 'k-팩스번호', '단지소개기존clob', 'k-관리방식', 'k-난방방식', 'k-시행사', 'k-사용검사일-사용승인일', 'k-연면적', 'k-주거전용면적', 'k-관리비부과면적', 'k-전용면적별세대현황(60㎡이하)',\n",
        "                'k-전용면적별세대현황(60㎡~85㎡이하)', 'k-85㎡~135㎡이하', 'k-135㎡초과', 'k-홈페이지', '단지승인일',\n",
        "                'k-등록일자', 'k-수정일자', '고용보험관리번호', '경비비관리형태', '세대전기계약방법', '청소비관리형태', '기타/의무/임대/임의=1/2/3/4', '기타/의무/임대/임의=1/2/3/4', '사용허가여부', '관리비 업로드', '단지신청일'\n",
        "                ]\n",
        "\n",
        "concat = concat.drop(columns = drop_columns,  errors='ignore')"
      ]
    },
    {
      "cell_type": "code",
      "execution_count": 188,
      "metadata": {},
      "outputs": [],
      "source": [
        "# 거래일 건물연식\n",
        "\n",
        "concat['거래일건물연식'] = concat['계약년'] - concat['건축년도']"
      ]
    },
    {
      "cell_type": "code",
      "execution_count": 189,
      "metadata": {},
      "outputs": [],
      "source": [
        "# 시군구, 년월 등 분할할 수 있는 변수들은 세부사항 고려를 용이하게 하기 위해 모두 분할해 주겠습니다.\n",
        "concat['구'] = concat['시군구'].map(lambda x : x.split()[1])\n",
        "concat['동'] = concat['시군구'].map(lambda x : x.split()[2])\n",
        "del concat['시군구']\n",
        "\n",
        "# concat_select['계약년'] = concat_select['계약년월'].astype('str').map(lambda x : x[:4])\n",
        "# concat_select['계약월'] = concat_select['계약년월'].astype('str').map(lambda x : x[4:])\n",
        "del concat['계약년월']"
      ]
    },
    {
      "cell_type": "code",
      "execution_count": 191,
      "metadata": {},
      "outputs": [],
      "source": [
        "all = list(concat['구'].unique())\n",
        "gangnam = ['강서구', '영등포구', '동작구', '서초구', '강남구', '송파구', '강동구']\n",
        "gangbuk = [x for x in all if x not in gangnam]\n",
        "\n",
        "assert len(all) == len(gangnam) + len(gangbuk)       # 알맞게 분리되었는지 체크합니다.\n",
        "\n",
        "# 강남의 여부를 체크합니다.\n",
        "is_gangnam = []\n",
        "for x in concat['구'].tolist() :\n",
        "  if x in gangnam :\n",
        "    is_gangnam.append(1)\n",
        "  else :\n",
        "    is_gangnam.append(0)\n",
        "\n",
        "# 파생변수를 하나 만릅니다.\n",
        "concat['강남여부'] = is_gangnam"
      ]
    },
    {
      "cell_type": "code",
      "execution_count": 192,
      "metadata": {},
      "outputs": [],
      "source": [
        "# 따라서 2009년 이후에 지어졌으면 비교적 신축이라고 판단하고, 신축 여부 변수를 제작해보도록 하겠습니다.\n",
        "# 노후건축물 기준에 맞추어 거래일 기준 20년 미만일 시 신축으로 분류\n",
        "concat['신축여부'] = concat['거래일건물연식'].apply(lambda x: 1 if x < 20 else 0)"
      ]
    },
    {
      "cell_type": "code",
      "execution_count": null,
      "metadata": {
        "colab": {
          "base_uri": "https://localhost:8080/"
        },
        "id": "msOiDlOPQ8hS",
        "outputId": "4ab60461-ef7e-4037-e6f4-5de494eed5bd"
      },
      "outputs": [],
      "source": [
        "# EDA에 앞서 결측치를 확인해보겠습니다.\n",
        "concat.isnull().sum()\n",
        "\n",
        "# concat.columns"
      ]
    },
    {
      "cell_type": "code",
      "execution_count": 194,
      "metadata": {},
      "outputs": [],
      "source": [
        "concat.to_csv('../data/base_dataset.csv', index=False)"
      ]
    },
    {
      "cell_type": "markdown",
      "metadata": {},
      "source": [
        "### 기본 데이터셋 정의"
      ]
    },
    {
      "cell_type": "code",
      "execution_count": 69,
      "metadata": {},
      "outputs": [],
      "source": [
        "# 위 코드까지 실행할 결과를 새로운 기본 데이터셋으로 삼음\n",
        "concat = pd.read_csv('../data/base_dataset.csv')\n",
        "\n",
        "drop_col = ['k-단지분류(아파트,주상복합등등)', 'k-세대타입(분양형태)', 'k-복도유형', 'k-전체동수', 'k-전체세대수', 'k-건설사(시공사)', '건축면적', '주차대수']\n",
        "\n",
        "concat = concat.drop(columns = drop_col, errors = 'ignore')"
      ]
    },
    {
      "cell_type": "markdown",
      "metadata": {},
      "source": [
        "### 빈 데이터를 채움"
      ]
    },
    {
      "cell_type": "code",
      "execution_count": 70,
      "metadata": {},
      "outputs": [
        {
          "data": {
            "text/html": [
              "<div>\n",
              "<style scoped>\n",
              "    .dataframe tbody tr th:only-of-type {\n",
              "        vertical-align: middle;\n",
              "    }\n",
              "\n",
              "    .dataframe tbody tr th {\n",
              "        vertical-align: top;\n",
              "    }\n",
              "\n",
              "    .dataframe thead th {\n",
              "        text-align: right;\n",
              "    }\n",
              "</style>\n",
              "<table border=\"1\" class=\"dataframe\">\n",
              "  <thead>\n",
              "    <tr style=\"text-align: right;\">\n",
              "      <th></th>\n",
              "      <th>주소</th>\n",
              "      <th>건축면적</th>\n",
              "      <th>연면적</th>\n",
              "      <th>대지면적</th>\n",
              "      <th>건폐율</th>\n",
              "      <th>용적율</th>\n",
              "    </tr>\n",
              "  </thead>\n",
              "  <tbody>\n",
              "    <tr>\n",
              "      <th>0</th>\n",
              "      <td>서울특별시 강남구 개포동 1055</td>\n",
              "      <td>507.18</td>\n",
              "      <td>11729.79</td>\n",
              "      <td>3017.0</td>\n",
              "      <td>16.81</td>\n",
              "      <td>51.99</td>\n",
              "    </tr>\n",
              "    <tr>\n",
              "      <th>1</th>\n",
              "      <td>서울특별시 강남구 개포동 1057-9</td>\n",
              "      <td>608.80</td>\n",
              "      <td>1359.20</td>\n",
              "      <td>3062.0</td>\n",
              "      <td>19.88</td>\n",
              "      <td>39.76</td>\n",
              "    </tr>\n",
              "    <tr>\n",
              "      <th>2</th>\n",
              "      <td>서울특별시 강남구 개포동 108</td>\n",
              "      <td>0.00</td>\n",
              "      <td>0.00</td>\n",
              "      <td>0.0</td>\n",
              "      <td>0.00</td>\n",
              "      <td>0.00</td>\n",
              "    </tr>\n",
              "    <tr>\n",
              "      <th>3</th>\n",
              "      <td>서울특별시 강남구 개포동 109</td>\n",
              "      <td>0.00</td>\n",
              "      <td>0.00</td>\n",
              "      <td>0.0</td>\n",
              "      <td>0.00</td>\n",
              "      <td>0.00</td>\n",
              "    </tr>\n",
              "    <tr>\n",
              "      <th>4</th>\n",
              "      <td>서울특별시 강남구 개포동 112-1</td>\n",
              "      <td>0.00</td>\n",
              "      <td>0.00</td>\n",
              "      <td>0.0</td>\n",
              "      <td>0.00</td>\n",
              "      <td>0.00</td>\n",
              "    </tr>\n",
              "  </tbody>\n",
              "</table>\n",
              "</div>"
            ],
            "text/plain": [
              "                     주소    건축면적       연면적    대지면적    건폐율    용적율\n",
              "0    서울특별시 강남구 개포동 1055  507.18  11729.79  3017.0  16.81  51.99\n",
              "1  서울특별시 강남구 개포동 1057-9  608.80   1359.20  3062.0  19.88  39.76\n",
              "2     서울특별시 강남구 개포동 108    0.00      0.00     0.0   0.00   0.00\n",
              "3     서울특별시 강남구 개포동 109    0.00      0.00     0.0   0.00   0.00\n",
              "4   서울특별시 강남구 개포동 112-1    0.00      0.00     0.0   0.00   0.00"
            ]
          },
          "execution_count": 70,
          "metadata": {},
          "output_type": "execute_result"
        }
      ],
      "source": [
        "# 지번별 건물정보가 담긴 gis건물통합정보 파일을 불러와 데이터 병합하기\n",
        "\n",
        "gis = pd.read_csv('../data/gis건물통합정보.csv')\n",
        "\n",
        "drop_col = ['Unnamed: 0', '법정동명', '번지', '사용승인일자']\n",
        "gis = gis.drop(columns = drop_col)\n",
        "\n",
        "gis = gis.rename(columns={'ID':'주소'})\n",
        "\n",
        "gis= gis.groupby('주소', as_index=False).agg({'건축면적': 'sum', '연면적': 'sum', '대지면적': 'sum', '건폐율': 'sum', '용적율': 'sum'})\n",
        "\n",
        "gis.head()"
      ]
    },
    {
      "cell_type": "code",
      "execution_count": 71,
      "metadata": {},
      "outputs": [],
      "source": [
        "from sklearn.experimental import enable_iterative_imputer\n",
        "from sklearn.impute import IterativeImputer\n",
        "\n",
        "# IterativeImputer 사용 보간\n",
        "concat_temp = pd.merge(concat, gis, on='주소', how='left', suffixes=('_A', '_B'))\n",
        "concat_temp.sort_values('주소')\n",
        "\n",
        "col = ['건축면적', '연면적', '대지면적', '건폐율', '용적율']\n",
        "concat_temp[col] = concat_temp[col].replace(0, np.nan)\n",
        "\n",
        "imputer = IterativeImputer(max_iter=10, random_state=0)\n",
        "concat_temp[col] = pd.DataFrame(imputer.fit_transform(concat_temp[col]), columns=[col])\n",
        "\n",
        "\n",
        "concat_temp.sort_index()\n",
        "\n",
        "concat = concat_temp"
      ]
    },
    {
      "cell_type": "code",
      "execution_count": 73,
      "metadata": {},
      "outputs": [
        {
          "data": {
            "text/plain": [
              "0          1\n",
              "1          1\n",
              "2          1\n",
              "3          1\n",
              "4          1\n",
              "          ..\n",
              "1141115    0\n",
              "1141116    0\n",
              "1141117    0\n",
              "1141118    0\n",
              "1141119    0\n",
              "Name: 부번, Length: 1141120, dtype: object"
            ]
          },
          "execution_count": 73,
          "metadata": {},
          "output_type": "execute_result"
        }
      ],
      "source": [
        "concat['거래취소여부'].astype(str)\n",
        "concat['강남여부'].astype(str)\n",
        "concat['층'].astype(str)\n",
        "concat['본번'].astype(str)\n",
        "concat['부번'].astype(str)"
      ]
    },
    {
      "cell_type": "code",
      "execution_count": 74,
      "metadata": {},
      "outputs": [],
      "source": [
        "# concat.to_csv('../data/base_dataset_1.csv', index=False)"
      ]
    },
    {
      "cell_type": "markdown",
      "metadata": {},
      "source": [
        "### target값을 제곱미터당 가격으로 변경"
      ]
    },
    {
      "cell_type": "code",
      "execution_count": 112,
      "metadata": {},
      "outputs": [],
      "source": [
        "concat = pd.read_csv('../data/base_dataset_1.csv')"
      ]
    },
    {
      "cell_type": "code",
      "execution_count": 113,
      "metadata": {},
      "outputs": [],
      "source": [
        "# 평균층수 파생변수 추가\n",
        "concat['평균층수'] = concat['연면적'] / concat['건축면적']"
      ]
    },
    {
      "cell_type": "code",
      "execution_count": 114,
      "metadata": {},
      "outputs": [],
      "source": [
        "# target값을 평당 가격으로 바꿈 -> 최종 결과때 다시 new_target을 전용면적으로 곱하여 rmes구해야함\n",
        "\n",
        "concat.rename(columns={'target': 'target_original'}, inplace=True)\n",
        "\n",
        "concat['target'] = concat['target_original'] / concat['전용면적']\n",
        "\n",
        "# concat.info()"
      ]
    },
    {
      "cell_type": "code",
      "execution_count": 115,
      "metadata": {},
      "outputs": [],
      "source": [
        "concat = concat.drop(columns = 'target_original')"
      ]
    },
    {
      "cell_type": "code",
      "execution_count": 116,
      "metadata": {},
      "outputs": [],
      "source": [
        "str_columns = ['본번', '부번', '거래취소여부', '구', '동', '강남여부', '신축여부']\n",
        "\n",
        "concat[str_columns] = concat[str_columns].astype(str)\n",
        "\n",
        "# concat.info()"
      ]
    },
    {
      "cell_type": "code",
      "execution_count": null,
      "metadata": {},
      "outputs": [],
      "source": []
    },
    {
      "cell_type": "code",
      "execution_count": null,
      "metadata": {},
      "outputs": [],
      "source": []
    },
    {
      "cell_type": "code",
      "execution_count": 117,
      "metadata": {},
      "outputs": [],
      "source": [
        "# concat.to_csv('../data/base_dataset_2.csv', index=False)"
      ]
    },
    {
      "cell_type": "markdown",
      "metadata": {},
      "source": [
        "### dataset_2 시작"
      ]
    },
    {
      "cell_type": "code",
      "execution_count": 249,
      "metadata": {},
      "outputs": [
        {
          "data": {
            "text/plain": [
              "Index(['번지', '본번', '부번', '전용면적', '계약일', '층', '건축년도', 'is_test', '주소', 'x', 'y',\n",
              "       '계약년', '계약월', '거래취소여부', '거래일건물연식', '구', '동', '강남여부', '신축여부', '건축면적',\n",
              "       '연면적', '대지면적', '건폐율', '용적율', '평균층수', 'target'],\n",
              "      dtype='object')"
            ]
          },
          "execution_count": 249,
          "metadata": {},
          "output_type": "execute_result"
        }
      ],
      "source": [
        "concat = pd.read_csv('../data/base_dataset_2.csv')\n",
        "\n",
        "concat.columns"
      ]
    },
    {
      "cell_type": "code",
      "execution_count": 250,
      "metadata": {},
      "outputs": [],
      "source": [
        "concat['계약월'] = concat['계약월'].astype(str).str.zfill(2)"
      ]
    },
    {
      "cell_type": "code",
      "execution_count": 251,
      "metadata": {},
      "outputs": [],
      "source": [
        "# 금리데이터를 넣습니다\n",
        "\n",
        "concat['계약년월'] = concat['계약년'].astype(str) + '' + concat['계약월'].astype(str)\n",
        "\n",
        "interest = pd.read_csv('../data/한국기준금리07-23.csv')\n",
        "\n",
        "interest['날짜'] = interest['날짜'].astype(str)\n",
        "interest['계약년월'] = interest['날짜'].str[:6]\n",
        "interest.drop(columns = '날짜', inplace = True)"
      ]
    },
    {
      "cell_type": "code",
      "execution_count": 253,
      "metadata": {},
      "outputs": [],
      "source": [
        "# interest['계약년월'].fillna('-1')\n",
        "# interest['계약년월'] = interest['계약년월'].astype(str)\n",
        "concat['계약년월'] = concat['계약년월'].astype(str)\n",
        "\n",
        "concat_temp = pd.merge(concat, interest, on='계약년월', how='left', suffixes=('_A', '_B'))\n",
        "\n",
        "# concat_temp.drop(columns='계약년월', inplace=True)"
      ]
    },
    {
      "cell_type": "code",
      "execution_count": 254,
      "metadata": {},
      "outputs": [],
      "source": [
        "concat = concat_temp"
      ]
    },
    {
      "cell_type": "code",
      "execution_count": 255,
      "metadata": {},
      "outputs": [],
      "source": [
        "# 평형별로 초소형, 소형, 중형, 대형으로 분류\n",
        "\n",
        "bins = [0, 26, 50, 60, 85, 245, float('inf')]\n",
        "labels = [0, 1, 2, 3, 4, 5]\n",
        "\n",
        "concat['면적분류'] = pd.cut(concat['전용면적'], bins=bins, labels=labels, right=False)"
      ]
    },
    {
      "cell_type": "code",
      "execution_count": 107,
      "metadata": {},
      "outputs": [
        {
          "data": {
            "text/plain": [
              "{'encoding': 'EUC-KR', 'confidence': 0.99, 'language': 'Korean'}"
            ]
          },
          "execution_count": 107,
          "metadata": {},
          "output_type": "execute_result"
        }
      ],
      "source": [
        "\n",
        "import chardet\n",
        "\n",
        "with open('../data/11_24인구.csv', 'rb') as f:\n",
        "    raw_data = f.read()\n",
        "\n",
        "# 인코딩 형식 보기\n",
        "result = chardet.detect(raw_data)\n",
        "result"
      ]
    },
    {
      "cell_type": "code",
      "execution_count": 299,
      "metadata": {},
      "outputs": [],
      "source": [
        "# 인구데이터를 넣습니다 - 카테고리형 변수\n",
        "p12 = pd.read_csv('../data/11_12인구.csv', encoding = 'EUC-KR')\n",
        "p23 = pd.read_csv('../data/07_11인구.csv', encoding = 'utf-8')\n",
        "\n",
        "p12 = p12[p12['행정구역(동읍면)별'] == '서울특별시']\n",
        "p12 = p12.T\n",
        "\n",
        "p23 = p23[p23['행정구역(동읍면)별(1)'] == '서울특별시']"
      ]
    },
    {
      "cell_type": "code",
      "execution_count": 292,
      "metadata": {},
      "outputs": [
        {
          "data": {
            "text/html": [
              "<div>\n",
              "<style scoped>\n",
              "    .dataframe tbody tr th:only-of-type {\n",
              "        vertical-align: middle;\n",
              "    }\n",
              "\n",
              "    .dataframe tbody tr th {\n",
              "        vertical-align: top;\n",
              "    }\n",
              "\n",
              "    .dataframe thead th {\n",
              "        text-align: right;\n",
              "    }\n",
              "</style>\n",
              "<table border=\"1\" class=\"dataframe\">\n",
              "  <thead>\n",
              "    <tr style=\"text-align: right;\">\n",
              "      <th></th>\n",
              "      <th>66</th>\n",
              "      <th>67</th>\n",
              "      <th>68</th>\n",
              "      <th>69</th>\n",
              "      <th>70</th>\n",
              "      <th>71</th>\n",
              "      <th>72</th>\n",
              "      <th>73</th>\n",
              "      <th>74</th>\n",
              "      <th>75</th>\n",
              "      <th>...</th>\n",
              "      <th>122</th>\n",
              "      <th>123</th>\n",
              "      <th>124</th>\n",
              "      <th>125</th>\n",
              "      <th>126</th>\n",
              "      <th>127</th>\n",
              "      <th>128</th>\n",
              "      <th>129</th>\n",
              "      <th>130</th>\n",
              "      <th>131</th>\n",
              "    </tr>\n",
              "  </thead>\n",
              "  <tbody>\n",
              "    <tr>\n",
              "      <th>행정구역(동읍면)별</th>\n",
              "      <td>서울특별시</td>\n",
              "      <td>서울특별시</td>\n",
              "      <td>서울특별시</td>\n",
              "      <td>서울특별시</td>\n",
              "      <td>서울특별시</td>\n",
              "      <td>서울특별시</td>\n",
              "      <td>서울특별시</td>\n",
              "      <td>서울특별시</td>\n",
              "      <td>서울특별시</td>\n",
              "      <td>서울특별시</td>\n",
              "      <td>...</td>\n",
              "      <td>서울특별시</td>\n",
              "      <td>서울특별시</td>\n",
              "      <td>서울특별시</td>\n",
              "      <td>서울특별시</td>\n",
              "      <td>서울특별시</td>\n",
              "      <td>서울특별시</td>\n",
              "      <td>서울특별시</td>\n",
              "      <td>서울특별시</td>\n",
              "      <td>서울특별시</td>\n",
              "      <td>서울특별시</td>\n",
              "    </tr>\n",
              "    <tr>\n",
              "      <th>5세별</th>\n",
              "      <td>계</td>\n",
              "      <td>계</td>\n",
              "      <td>계</td>\n",
              "      <td>0 - 4세</td>\n",
              "      <td>0 - 4세</td>\n",
              "      <td>0 - 4세</td>\n",
              "      <td>5 - 9세</td>\n",
              "      <td>5 - 9세</td>\n",
              "      <td>5 - 9세</td>\n",
              "      <td>10 - 14세</td>\n",
              "      <td>...</td>\n",
              "      <td>85 - 89세</td>\n",
              "      <td>90 - 94세</td>\n",
              "      <td>90 - 94세</td>\n",
              "      <td>90 - 94세</td>\n",
              "      <td>95 - 99세</td>\n",
              "      <td>95 - 99세</td>\n",
              "      <td>95 - 99세</td>\n",
              "      <td>100+</td>\n",
              "      <td>100+</td>\n",
              "      <td>100+</td>\n",
              "    </tr>\n",
              "    <tr>\n",
              "      <th>항목</th>\n",
              "      <td>총인구수[명]</td>\n",
              "      <td>남자인구수[명]</td>\n",
              "      <td>여자인구수[명]</td>\n",
              "      <td>총인구수[명]</td>\n",
              "      <td>남자인구수[명]</td>\n",
              "      <td>여자인구수[명]</td>\n",
              "      <td>총인구수[명]</td>\n",
              "      <td>남자인구수[명]</td>\n",
              "      <td>여자인구수[명]</td>\n",
              "      <td>총인구수[명]</td>\n",
              "      <td>...</td>\n",
              "      <td>여자인구수[명]</td>\n",
              "      <td>총인구수[명]</td>\n",
              "      <td>남자인구수[명]</td>\n",
              "      <td>여자인구수[명]</td>\n",
              "      <td>총인구수[명]</td>\n",
              "      <td>남자인구수[명]</td>\n",
              "      <td>여자인구수[명]</td>\n",
              "      <td>총인구수[명]</td>\n",
              "      <td>남자인구수[명]</td>\n",
              "      <td>여자인구수[명]</td>\n",
              "    </tr>\n",
              "    <tr>\n",
              "      <th>단위</th>\n",
              "      <td>명</td>\n",
              "      <td>명</td>\n",
              "      <td>명</td>\n",
              "      <td>명</td>\n",
              "      <td>명</td>\n",
              "      <td>명</td>\n",
              "      <td>명</td>\n",
              "      <td>명</td>\n",
              "      <td>명</td>\n",
              "      <td>명</td>\n",
              "      <td>...</td>\n",
              "      <td>명</td>\n",
              "      <td>명</td>\n",
              "      <td>명</td>\n",
              "      <td>명</td>\n",
              "      <td>명</td>\n",
              "      <td>명</td>\n",
              "      <td>명</td>\n",
              "      <td>명</td>\n",
              "      <td>명</td>\n",
              "      <td>명</td>\n",
              "    </tr>\n",
              "    <tr>\n",
              "      <th>2012.07 월</th>\n",
              "      <td>10227761</td>\n",
              "      <td>5059710</td>\n",
              "      <td>5168051</td>\n",
              "      <td>420994</td>\n",
              "      <td>216282</td>\n",
              "      <td>204712</td>\n",
              "      <td>407612</td>\n",
              "      <td>209976</td>\n",
              "      <td>197636</td>\n",
              "      <td>527119</td>\n",
              "      <td>...</td>\n",
              "      <td>35582</td>\n",
              "      <td>18606</td>\n",
              "      <td>4984</td>\n",
              "      <td>13622</td>\n",
              "      <td>5297</td>\n",
              "      <td>1235</td>\n",
              "      <td>4062</td>\n",
              "      <td>3753</td>\n",
              "      <td>956</td>\n",
              "      <td>2797</td>\n",
              "    </tr>\n",
              "  </tbody>\n",
              "</table>\n",
              "<p>5 rows × 66 columns</p>\n",
              "</div>"
            ],
            "text/plain": [
              "                 66        67        68       69        70        71   \\\n",
              "행정구역(동읍면)별     서울특별시     서울특별시     서울특별시    서울특별시     서울특별시     서울특별시   \n",
              "5세별                계         계         계   0 - 4세    0 - 4세    0 - 4세   \n",
              "항목           총인구수[명]  남자인구수[명]  여자인구수[명]  총인구수[명]  남자인구수[명]  여자인구수[명]   \n",
              "단위                 명         명         명        명         명         명   \n",
              "2012.07 월   10227761   5059710   5168051   420994    216282    204712   \n",
              "\n",
              "                72        73        74        75   ...       122       123  \\\n",
              "행정구역(동읍면)별    서울특별시     서울특별시     서울특별시     서울특별시  ...     서울특별시     서울특별시   \n",
              "5세별          5 - 9세    5 - 9세    5 - 9세  10 - 14세  ...  85 - 89세  90 - 94세   \n",
              "항목          총인구수[명]  남자인구수[명]  여자인구수[명]   총인구수[명]  ...  여자인구수[명]   총인구수[명]   \n",
              "단위                명         명         명         명  ...         명         명   \n",
              "2012.07 월    407612    209976    197636    527119  ...     35582     18606   \n",
              "\n",
              "                 124       125       126       127       128      129  \\\n",
              "행정구역(동읍면)별     서울특별시     서울특별시     서울특별시     서울특별시     서울특별시    서울특별시   \n",
              "5세별         90 - 94세  90 - 94세  95 - 99세  95 - 99세  95 - 99세     100+   \n",
              "항목          남자인구수[명]  여자인구수[명]   총인구수[명]  남자인구수[명]  여자인구수[명]  총인구수[명]   \n",
              "단위                 명         명         명         명         명        명   \n",
              "2012.07 월       4984     13622      5297      1235      4062     3753   \n",
              "\n",
              "                 130       131  \n",
              "행정구역(동읍면)별     서울특별시     서울특별시  \n",
              "5세별             100+      100+  \n",
              "항목          남자인구수[명]  여자인구수[명]  \n",
              "단위                 명         명  \n",
              "2012.07 월        956      2797  \n",
              "\n",
              "[5 rows x 66 columns]"
            ]
          },
          "execution_count": 292,
          "metadata": {},
          "output_type": "execute_result"
        }
      ],
      "source": [
        "p12.head()"
      ]
    },
    {
      "cell_type": "code",
      "execution_count": 296,
      "metadata": {},
      "outputs": [
        {
          "data": {
            "text/html": [
              "<div>\n",
              "<style scoped>\n",
              "    .dataframe tbody tr th:only-of-type {\n",
              "        vertical-align: middle;\n",
              "    }\n",
              "\n",
              "    .dataframe tbody tr th {\n",
              "        vertical-align: top;\n",
              "    }\n",
              "\n",
              "    .dataframe thead th {\n",
              "        text-align: right;\n",
              "    }\n",
              "</style>\n",
              "<table border=\"1\" class=\"dataframe\">\n",
              "  <thead>\n",
              "    <tr style=\"text-align: right;\">\n",
              "      <th></th>\n",
              "      <th>index</th>\n",
              "      <th>66</th>\n",
              "      <th>69</th>\n",
              "      <th>72</th>\n",
              "      <th>75</th>\n",
              "      <th>78</th>\n",
              "      <th>81</th>\n",
              "      <th>84</th>\n",
              "      <th>87</th>\n",
              "      <th>90</th>\n",
              "      <th>...</th>\n",
              "      <th>102</th>\n",
              "      <th>105</th>\n",
              "      <th>108</th>\n",
              "      <th>111</th>\n",
              "      <th>114</th>\n",
              "      <th>117</th>\n",
              "      <th>120</th>\n",
              "      <th>123</th>\n",
              "      <th>126</th>\n",
              "      <th>129</th>\n",
              "    </tr>\n",
              "  </thead>\n",
              "  <tbody>\n",
              "    <tr>\n",
              "      <th>0</th>\n",
              "      <td>2012.07 월</td>\n",
              "      <td>10227761</td>\n",
              "      <td>420994</td>\n",
              "      <td>407612</td>\n",
              "      <td>527119</td>\n",
              "      <td>644646</td>\n",
              "      <td>679120</td>\n",
              "      <td>826325</td>\n",
              "      <td>950825</td>\n",
              "      <td>870248</td>\n",
              "      <td>...</td>\n",
              "      <td>696176</td>\n",
              "      <td>511002</td>\n",
              "      <td>401195</td>\n",
              "      <td>313809</td>\n",
              "      <td>188745</td>\n",
              "      <td>102066</td>\n",
              "      <td>49096</td>\n",
              "      <td>18606</td>\n",
              "      <td>5297</td>\n",
              "      <td>3753</td>\n",
              "    </tr>\n",
              "    <tr>\n",
              "      <th>1</th>\n",
              "      <td>2012.08 월</td>\n",
              "      <td>10223243</td>\n",
              "      <td>420541</td>\n",
              "      <td>407676</td>\n",
              "      <td>524187</td>\n",
              "      <td>643423</td>\n",
              "      <td>680519</td>\n",
              "      <td>822471</td>\n",
              "      <td>950892</td>\n",
              "      <td>866040</td>\n",
              "      <td>...</td>\n",
              "      <td>702403</td>\n",
              "      <td>512182</td>\n",
              "      <td>401497</td>\n",
              "      <td>316978</td>\n",
              "      <td>189293</td>\n",
              "      <td>102636</td>\n",
              "      <td>49177</td>\n",
              "      <td>18744</td>\n",
              "      <td>5299</td>\n",
              "      <td>3785</td>\n",
              "    </tr>\n",
              "    <tr>\n",
              "      <th>2</th>\n",
              "      <td>2012.09 월</td>\n",
              "      <td>10219334</td>\n",
              "      <td>418942</td>\n",
              "      <td>408451</td>\n",
              "      <td>521169</td>\n",
              "      <td>641527</td>\n",
              "      <td>681335</td>\n",
              "      <td>818747</td>\n",
              "      <td>951043</td>\n",
              "      <td>863172</td>\n",
              "      <td>...</td>\n",
              "      <td>705492</td>\n",
              "      <td>512975</td>\n",
              "      <td>402171</td>\n",
              "      <td>319385</td>\n",
              "      <td>190333</td>\n",
              "      <td>103204</td>\n",
              "      <td>49511</td>\n",
              "      <td>18901</td>\n",
              "      <td>5348</td>\n",
              "      <td>3819</td>\n",
              "    </tr>\n",
              "    <tr>\n",
              "      <th>3</th>\n",
              "      <td>2012.10 월</td>\n",
              "      <td>10212445</td>\n",
              "      <td>417821</td>\n",
              "      <td>409489</td>\n",
              "      <td>517669</td>\n",
              "      <td>639583</td>\n",
              "      <td>681942</td>\n",
              "      <td>814709</td>\n",
              "      <td>949486</td>\n",
              "      <td>860650</td>\n",
              "      <td>...</td>\n",
              "      <td>708287</td>\n",
              "      <td>513452</td>\n",
              "      <td>401076</td>\n",
              "      <td>323379</td>\n",
              "      <td>191236</td>\n",
              "      <td>103523</td>\n",
              "      <td>49711</td>\n",
              "      <td>19047</td>\n",
              "      <td>5357</td>\n",
              "      <td>3851</td>\n",
              "    </tr>\n",
              "    <tr>\n",
              "      <th>4</th>\n",
              "      <td>2012.11 월</td>\n",
              "      <td>10205843</td>\n",
              "      <td>417091</td>\n",
              "      <td>409384</td>\n",
              "      <td>514630</td>\n",
              "      <td>638080</td>\n",
              "      <td>682466</td>\n",
              "      <td>810890</td>\n",
              "      <td>947896</td>\n",
              "      <td>859192</td>\n",
              "      <td>...</td>\n",
              "      <td>710897</td>\n",
              "      <td>513853</td>\n",
              "      <td>401075</td>\n",
              "      <td>325196</td>\n",
              "      <td>192250</td>\n",
              "      <td>103971</td>\n",
              "      <td>49969</td>\n",
              "      <td>19114</td>\n",
              "      <td>5369</td>\n",
              "      <td>3888</td>\n",
              "    </tr>\n",
              "  </tbody>\n",
              "</table>\n",
              "<p>5 rows × 23 columns</p>\n",
              "</div>"
            ],
            "text/plain": [
              "       index        66      69      72      75      78      81      84  \\\n",
              "0  2012.07 월  10227761  420994  407612  527119  644646  679120  826325   \n",
              "1  2012.08 월  10223243  420541  407676  524187  643423  680519  822471   \n",
              "2  2012.09 월  10219334  418942  408451  521169  641527  681335  818747   \n",
              "3  2012.10 월  10212445  417821  409489  517669  639583  681942  814709   \n",
              "4  2012.11 월  10205843  417091  409384  514630  638080  682466  810890   \n",
              "\n",
              "       87      90  ...     102     105     108     111     114     117    120  \\\n",
              "0  950825  870248  ...  696176  511002  401195  313809  188745  102066  49096   \n",
              "1  950892  866040  ...  702403  512182  401497  316978  189293  102636  49177   \n",
              "2  951043  863172  ...  705492  512975  402171  319385  190333  103204  49511   \n",
              "3  949486  860650  ...  708287  513452  401076  323379  191236  103523  49711   \n",
              "4  947896  859192  ...  710897  513853  401075  325196  192250  103971  49969   \n",
              "\n",
              "     123   126   129  \n",
              "0  18606  5297  3753  \n",
              "1  18744  5299  3785  \n",
              "2  18901  5348  3819  \n",
              "3  19047  5357  3851  \n",
              "4  19114  5369  3888  \n",
              "\n",
              "[5 rows x 23 columns]"
            ]
          },
          "execution_count": 296,
          "metadata": {},
          "output_type": "execute_result"
        }
      ],
      "source": [
        "p12_col = p12.loc[:, p12.iloc[2] == '총인구수[명]']\n",
        "\n",
        "p12_col.reset_index(drop=False, inplace=True)\n",
        "\n",
        "p12_col = p12_col.drop(index=[0, 2, 3], axis = 0)\n",
        "\n",
        "# 첫 번째 행을 인덱스로 설정\n",
        "# p12_col = p12_col.set_index(p12_col.iloc[1])\n",
        "\n",
        "# 인덱스로 설정한 후 첫 번째 행 제거\n",
        "p12_col = p12_col[1:].reset_index(drop=True)\n",
        "\n",
        "p12_col.head()"
      ]
    },
    {
      "cell_type": "code",
      "execution_count": 297,
      "metadata": {},
      "outputs": [
        {
          "data": {
            "text/html": [
              "<div>\n",
              "<style scoped>\n",
              "    .dataframe tbody tr th:only-of-type {\n",
              "        vertical-align: middle;\n",
              "    }\n",
              "\n",
              "    .dataframe tbody tr th {\n",
              "        vertical-align: top;\n",
              "    }\n",
              "\n",
              "    .dataframe thead th {\n",
              "        text-align: right;\n",
              "    }\n",
              "</style>\n",
              "<table border=\"1\" class=\"dataframe\">\n",
              "  <thead>\n",
              "    <tr style=\"text-align: right;\">\n",
              "      <th></th>\n",
              "      <th>시점</th>\n",
              "      <th>계</th>\n",
              "      <th>0 - 4세</th>\n",
              "      <th>5 - 9세</th>\n",
              "      <th>10 - 14세</th>\n",
              "      <th>15 - 19세</th>\n",
              "      <th>20 - 24세</th>\n",
              "      <th>25 - 29세</th>\n",
              "      <th>30 - 34세</th>\n",
              "      <th>35 - 39세</th>\n",
              "      <th>...</th>\n",
              "      <th>55 - 59세</th>\n",
              "      <th>60 - 64세</th>\n",
              "      <th>65 - 69세</th>\n",
              "      <th>70 - 74세</th>\n",
              "      <th>75 - 79세</th>\n",
              "      <th>80 - 84세</th>\n",
              "      <th>85 - 89세</th>\n",
              "      <th>90 - 94세</th>\n",
              "      <th>95 - 99세</th>\n",
              "      <th>100+</th>\n",
              "    </tr>\n",
              "  </thead>\n",
              "  <tbody>\n",
              "    <tr>\n",
              "      <th>0</th>\n",
              "      <td>200701</td>\n",
              "      <td>10192710</td>\n",
              "      <td>441701</td>\n",
              "      <td>521680</td>\n",
              "      <td>634031</td>\n",
              "      <td>652013</td>\n",
              "      <td>725293</td>\n",
              "      <td>1001374</td>\n",
              "      <td>953950</td>\n",
              "      <td>972353</td>\n",
              "      <td>...</td>\n",
              "      <td>548503</td>\n",
              "      <td>434817</td>\n",
              "      <td>363080</td>\n",
              "      <td>224790</td>\n",
              "      <td>132343</td>\n",
              "      <td>74594</td>\n",
              "      <td>35918</td>\n",
              "      <td>11357</td>\n",
              "      <td>2368</td>\n",
              "      <td>389</td>\n",
              "    </tr>\n",
              "    <tr>\n",
              "      <th>1</th>\n",
              "      <td>200702</td>\n",
              "      <td>10192710</td>\n",
              "      <td>441701</td>\n",
              "      <td>521680</td>\n",
              "      <td>634031</td>\n",
              "      <td>652013</td>\n",
              "      <td>725293</td>\n",
              "      <td>1001374</td>\n",
              "      <td>953950</td>\n",
              "      <td>972353</td>\n",
              "      <td>...</td>\n",
              "      <td>548503</td>\n",
              "      <td>434817</td>\n",
              "      <td>363080</td>\n",
              "      <td>224790</td>\n",
              "      <td>132343</td>\n",
              "      <td>74594</td>\n",
              "      <td>35918</td>\n",
              "      <td>11357</td>\n",
              "      <td>2368</td>\n",
              "      <td>389</td>\n",
              "    </tr>\n",
              "    <tr>\n",
              "      <th>2</th>\n",
              "      <td>200703</td>\n",
              "      <td>10192710</td>\n",
              "      <td>441701</td>\n",
              "      <td>521680</td>\n",
              "      <td>634031</td>\n",
              "      <td>652013</td>\n",
              "      <td>725293</td>\n",
              "      <td>1001374</td>\n",
              "      <td>953950</td>\n",
              "      <td>972353</td>\n",
              "      <td>...</td>\n",
              "      <td>548503</td>\n",
              "      <td>434817</td>\n",
              "      <td>363080</td>\n",
              "      <td>224790</td>\n",
              "      <td>132343</td>\n",
              "      <td>74594</td>\n",
              "      <td>35918</td>\n",
              "      <td>11357</td>\n",
              "      <td>2368</td>\n",
              "      <td>389</td>\n",
              "    </tr>\n",
              "    <tr>\n",
              "      <th>3</th>\n",
              "      <td>200704</td>\n",
              "      <td>10192710</td>\n",
              "      <td>441701</td>\n",
              "      <td>521680</td>\n",
              "      <td>634031</td>\n",
              "      <td>652013</td>\n",
              "      <td>725293</td>\n",
              "      <td>1001374</td>\n",
              "      <td>953950</td>\n",
              "      <td>972353</td>\n",
              "      <td>...</td>\n",
              "      <td>548503</td>\n",
              "      <td>434817</td>\n",
              "      <td>363080</td>\n",
              "      <td>224790</td>\n",
              "      <td>132343</td>\n",
              "      <td>74594</td>\n",
              "      <td>35918</td>\n",
              "      <td>11357</td>\n",
              "      <td>2368</td>\n",
              "      <td>389</td>\n",
              "    </tr>\n",
              "    <tr>\n",
              "      <th>4</th>\n",
              "      <td>200705</td>\n",
              "      <td>10192710</td>\n",
              "      <td>441701</td>\n",
              "      <td>521680</td>\n",
              "      <td>634031</td>\n",
              "      <td>652013</td>\n",
              "      <td>725293</td>\n",
              "      <td>1001374</td>\n",
              "      <td>953950</td>\n",
              "      <td>972353</td>\n",
              "      <td>...</td>\n",
              "      <td>548503</td>\n",
              "      <td>434817</td>\n",
              "      <td>363080</td>\n",
              "      <td>224790</td>\n",
              "      <td>132343</td>\n",
              "      <td>74594</td>\n",
              "      <td>35918</td>\n",
              "      <td>11357</td>\n",
              "      <td>2368</td>\n",
              "      <td>389</td>\n",
              "    </tr>\n",
              "  </tbody>\n",
              "</table>\n",
              "<p>5 rows × 23 columns</p>\n",
              "</div>"
            ],
            "text/plain": [
              "       시점         계  0 - 4세  5 - 9세  10 - 14세  15 - 19세  20 - 24세  25 - 29세  \\\n",
              "0  200701  10192710  441701  521680    634031    652013    725293   1001374   \n",
              "1  200702  10192710  441701  521680    634031    652013    725293   1001374   \n",
              "2  200703  10192710  441701  521680    634031    652013    725293   1001374   \n",
              "3  200704  10192710  441701  521680    634031    652013    725293   1001374   \n",
              "4  200705  10192710  441701  521680    634031    652013    725293   1001374   \n",
              "\n",
              "   30 - 34세  35 - 39세  ...  55 - 59세  60 - 64세  65 - 69세  70 - 74세  75 - 79세  \\\n",
              "0    953950    972353  ...    548503    434817    363080    224790    132343   \n",
              "1    953950    972353  ...    548503    434817    363080    224790    132343   \n",
              "2    953950    972353  ...    548503    434817    363080    224790    132343   \n",
              "3    953950    972353  ...    548503    434817    363080    224790    132343   \n",
              "4    953950    972353  ...    548503    434817    363080    224790    132343   \n",
              "\n",
              "   80 - 84세  85 - 89세  90 - 94세  95 - 99세  100+  \n",
              "0     74594     35918     11357      2368   389  \n",
              "1     74594     35918     11357      2368   389  \n",
              "2     74594     35918     11357      2368   389  \n",
              "3     74594     35918     11357      2368   389  \n",
              "4     74594     35918     11357      2368   389  \n",
              "\n",
              "[5 rows x 23 columns]"
            ]
          },
          "execution_count": 297,
          "metadata": {},
          "output_type": "execute_result"
        }
      ],
      "source": [
        "p23 = pd.read_csv('../data/07_11인구.csv', encoding = 'utf-8')\n",
        "p23 = p23[p23['행정구역(동읍면)별(1)'] == '서울특별시']\n",
        "p23 = p23[p23['항목'] == '인구']\n",
        "\n",
        "p23.drop(columns='행정구역(동읍면)별(1)', inplace=True)\n",
        "p23.drop(columns='항목', inplace=True)\n",
        "\n",
        "p23_col = p23.loc[p23.index.repeat(12)].reset_index(drop=True)\n",
        "p23_col['시점'] = [f\"{year}{month:02d}\" for year in p23['시점'] for month in range(1, 13)]\n",
        "\n",
        "p23_col.head()"
      ]
    },
    {
      "cell_type": "code",
      "execution_count": 311,
      "metadata": {},
      "outputs": [
        {
          "data": {
            "text/html": [
              "<div>\n",
              "<style scoped>\n",
              "    .dataframe tbody tr th:only-of-type {\n",
              "        vertical-align: middle;\n",
              "    }\n",
              "\n",
              "    .dataframe tbody tr th {\n",
              "        vertical-align: top;\n",
              "    }\n",
              "\n",
              "    .dataframe thead th {\n",
              "        text-align: right;\n",
              "    }\n",
              "</style>\n",
              "<table border=\"1\" class=\"dataframe\">\n",
              "  <thead>\n",
              "    <tr style=\"text-align: right;\">\n",
              "      <th>5세별</th>\n",
              "      <th>index</th>\n",
              "      <th>계</th>\n",
              "      <th>0 - 4세</th>\n",
              "      <th>5 - 9세</th>\n",
              "      <th>10 - 14세</th>\n",
              "      <th>15 - 19세</th>\n",
              "      <th>20 - 24세</th>\n",
              "      <th>25 - 29세</th>\n",
              "      <th>30 - 34세</th>\n",
              "      <th>35 - 39세</th>\n",
              "      <th>...</th>\n",
              "      <th>55 - 59세</th>\n",
              "      <th>60 - 64세</th>\n",
              "      <th>65 - 69세</th>\n",
              "      <th>70 - 74세</th>\n",
              "      <th>75 - 79세</th>\n",
              "      <th>80 - 84세</th>\n",
              "      <th>85 - 89세</th>\n",
              "      <th>90 - 94세</th>\n",
              "      <th>95 - 99세</th>\n",
              "      <th>100+</th>\n",
              "    </tr>\n",
              "  </thead>\n",
              "  <tbody>\n",
              "    <tr>\n",
              "      <th>4</th>\n",
              "      <td>201207</td>\n",
              "      <td>10227761</td>\n",
              "      <td>420994</td>\n",
              "      <td>407612</td>\n",
              "      <td>527119</td>\n",
              "      <td>644646</td>\n",
              "      <td>679120</td>\n",
              "      <td>826325</td>\n",
              "      <td>950825</td>\n",
              "      <td>870248</td>\n",
              "      <td>...</td>\n",
              "      <td>696176</td>\n",
              "      <td>511002</td>\n",
              "      <td>401195</td>\n",
              "      <td>313809</td>\n",
              "      <td>188745</td>\n",
              "      <td>102066</td>\n",
              "      <td>49096</td>\n",
              "      <td>18606</td>\n",
              "      <td>5297</td>\n",
              "      <td>3753</td>\n",
              "    </tr>\n",
              "    <tr>\n",
              "      <th>5</th>\n",
              "      <td>201208</td>\n",
              "      <td>10223243</td>\n",
              "      <td>420541</td>\n",
              "      <td>407676</td>\n",
              "      <td>524187</td>\n",
              "      <td>643423</td>\n",
              "      <td>680519</td>\n",
              "      <td>822471</td>\n",
              "      <td>950892</td>\n",
              "      <td>866040</td>\n",
              "      <td>...</td>\n",
              "      <td>702403</td>\n",
              "      <td>512182</td>\n",
              "      <td>401497</td>\n",
              "      <td>316978</td>\n",
              "      <td>189293</td>\n",
              "      <td>102636</td>\n",
              "      <td>49177</td>\n",
              "      <td>18744</td>\n",
              "      <td>5299</td>\n",
              "      <td>3785</td>\n",
              "    </tr>\n",
              "    <tr>\n",
              "      <th>6</th>\n",
              "      <td>201209</td>\n",
              "      <td>10219334</td>\n",
              "      <td>418942</td>\n",
              "      <td>408451</td>\n",
              "      <td>521169</td>\n",
              "      <td>641527</td>\n",
              "      <td>681335</td>\n",
              "      <td>818747</td>\n",
              "      <td>951043</td>\n",
              "      <td>863172</td>\n",
              "      <td>...</td>\n",
              "      <td>705492</td>\n",
              "      <td>512975</td>\n",
              "      <td>402171</td>\n",
              "      <td>319385</td>\n",
              "      <td>190333</td>\n",
              "      <td>103204</td>\n",
              "      <td>49511</td>\n",
              "      <td>18901</td>\n",
              "      <td>5348</td>\n",
              "      <td>3819</td>\n",
              "    </tr>\n",
              "    <tr>\n",
              "      <th>7</th>\n",
              "      <td>201210</td>\n",
              "      <td>10212445</td>\n",
              "      <td>417821</td>\n",
              "      <td>409489</td>\n",
              "      <td>517669</td>\n",
              "      <td>639583</td>\n",
              "      <td>681942</td>\n",
              "      <td>814709</td>\n",
              "      <td>949486</td>\n",
              "      <td>860650</td>\n",
              "      <td>...</td>\n",
              "      <td>708287</td>\n",
              "      <td>513452</td>\n",
              "      <td>401076</td>\n",
              "      <td>323379</td>\n",
              "      <td>191236</td>\n",
              "      <td>103523</td>\n",
              "      <td>49711</td>\n",
              "      <td>19047</td>\n",
              "      <td>5357</td>\n",
              "      <td>3851</td>\n",
              "    </tr>\n",
              "    <tr>\n",
              "      <th>8</th>\n",
              "      <td>201211</td>\n",
              "      <td>10205843</td>\n",
              "      <td>417091</td>\n",
              "      <td>409384</td>\n",
              "      <td>514630</td>\n",
              "      <td>638080</td>\n",
              "      <td>682466</td>\n",
              "      <td>810890</td>\n",
              "      <td>947896</td>\n",
              "      <td>859192</td>\n",
              "      <td>...</td>\n",
              "      <td>710897</td>\n",
              "      <td>513853</td>\n",
              "      <td>401075</td>\n",
              "      <td>325196</td>\n",
              "      <td>192250</td>\n",
              "      <td>103971</td>\n",
              "      <td>49969</td>\n",
              "      <td>19114</td>\n",
              "      <td>5369</td>\n",
              "      <td>3888</td>\n",
              "    </tr>\n",
              "  </tbody>\n",
              "</table>\n",
              "<p>5 rows × 23 columns</p>\n",
              "</div>"
            ],
            "text/plain": [
              "5세별   index         계  0 - 4세  5 - 9세 10 - 14세 15 - 19세 20 - 24세 25 - 29세  \\\n",
              "4    201207  10227761  420994  407612   527119   644646   679120   826325   \n",
              "5    201208  10223243  420541  407676   524187   643423   680519   822471   \n",
              "6    201209  10219334  418942  408451   521169   641527   681335   818747   \n",
              "7    201210  10212445  417821  409489   517669   639583   681942   814709   \n",
              "8    201211  10205843  417091  409384   514630   638080   682466   810890   \n",
              "\n",
              "5세별 30 - 34세 35 - 39세  ... 55 - 59세 60 - 64세 65 - 69세 70 - 74세 75 - 79세  \\\n",
              "4     950825   870248  ...   696176   511002   401195   313809   188745   \n",
              "5     950892   866040  ...   702403   512182   401497   316978   189293   \n",
              "6     951043   863172  ...   705492   512975   402171   319385   190333   \n",
              "7     949486   860650  ...   708287   513452   401076   323379   191236   \n",
              "8     947896   859192  ...   710897   513853   401075   325196   192250   \n",
              "\n",
              "5세별 80 - 84세 85 - 89세 90 - 94세 95 - 99세  100+  \n",
              "4     102066    49096    18606     5297  3753  \n",
              "5     102636    49177    18744     5299  3785  \n",
              "6     103204    49511    18901     5348  3819  \n",
              "7     103523    49711    19047     5357  3851  \n",
              "8     103971    49969    19114     5369  3888  \n",
              "\n",
              "[5 rows x 23 columns]"
            ]
          },
          "execution_count": 311,
          "metadata": {},
          "output_type": "execute_result"
        }
      ],
      "source": [
        "p12_col = p12.loc[:, p12.iloc[2] == '총인구수[명]']\n",
        "\n",
        "p12_col.columns = p12_col.iloc[1]\n",
        "\n",
        "p12_col.reset_index(drop=False, inplace=True)\n",
        "\n",
        "p12_col = p12_col.drop(index=[0, 1, 2, 3], axis = 0)\n",
        "\n",
        "p12_col.index.name = None\n",
        "p12_col['index'] = p12_col['index'].str.replace('.', '').str[:6]\n",
        "\n",
        "p12_col.head()"
      ]
    },
    {
      "cell_type": "code",
      "execution_count": 315,
      "metadata": {},
      "outputs": [],
      "source": [
        "population = pd.concat([p23_col, p12_col], axis=0)\n",
        "population = population.drop([150, 151, 152])\n",
        "\n",
        "population.to_csv('../data/population.csv', index=)"
      ]
    },
    {
      "cell_type": "code",
      "execution_count": 261,
      "metadata": {},
      "outputs": [],
      "source": [
        "str_columns = ['본번', '부번', '거래취소여부', '구', '동', '강남여부', '신축여부', '계약년월', '면적분류']\n",
        "\n",
        "concat[str_columns] = concat[str_columns].astype(str)\n",
        "# concat['면적분류'] = concat['면적분류'].astype(int)\n",
        "concat['계약월'] = concat['계약월'].astype(int)"
      ]
    },
    {
      "cell_type": "code",
      "execution_count": 262,
      "metadata": {
        "colab": {
          "base_uri": "https://localhost:8080/"
        },
        "id": "wVdU-Ge00OGM",
        "outputId": "6bd1a10a-689a-46ef-c0af-c879be59f715"
      },
      "outputs": [
        {
          "name": "stdout",
          "output_type": "stream",
          "text": [
            "연속형 변수: ['전용면적', '계약일', '층', '건축년도', 'is_test', 'x', 'y', '계약년', '계약월', '거래일건물연식', '건축면적', '연면적', '대지면적', '건폐율', '용적율', '평균층수', 'target', '기준금리']\n",
            "범주형 변수: ['번지', '본번', '부번', '주소', '거래취소여부', '구', '동', '강남여부', '신축여부', '계약년월', '면적분류']\n"
          ]
        }
      ],
      "source": [
        "# 먼저, 연속형 변수와 범주형 변수를 위 info에 따라 분리해주겠습니다.\n",
        "continuous_columns = []\n",
        "categorical_columns = []\n",
        "\n",
        "for column in concat.columns:\n",
        "    if pd.api.types.is_numeric_dtype(concat[column]):\n",
        "        continuous_columns.append(column)\n",
        "    else:\n",
        "        categorical_columns.append(column)\n",
        "\n",
        "print(\"연속형 변수:\", continuous_columns)\n",
        "print(\"범주형 변수:\", categorical_columns)"
      ]
    },
    {
      "cell_type": "code",
      "execution_count": 85,
      "metadata": {
        "colab": {
          "base_uri": "https://localhost:8080/"
        },
        "id": "t7omvXsd9GP1",
        "outputId": "83808c7b-df9a-46ee-d86a-966e7eff3248"
      },
      "outputs": [
        {
          "name": "stdout",
          "output_type": "stream",
          "text": [
            "(1128094, 25)\n"
          ]
        }
      ],
      "source": [
        "# 이상치 제거 이전의 shape은 아래와 같습니다.\n",
        "print(concat.shape)"
      ]
    },
    {
      "cell_type": "code",
      "execution_count": null,
      "metadata": {
        "colab": {
          "base_uri": "https://localhost:8080/",
          "height": 332
        },
        "id": "MGxTxfr06n3F",
        "outputId": "6c5c8c01-20f8-4d61-dde7-87187dd2f5bd"
      },
      "outputs": [],
      "source": [
        "# 대표적인 연속형 변수인 “전용 면적” 변수 관련한 분포를 먼저 살펴보도록 하겠습니다.\n",
        "fig = plt.figure(figsize=(7, 3))\n",
        "sns.boxplot(data = concat, x = '전용면적', color='lightgreen')\n",
        "plt.title('전용면적 분포')\n",
        "plt.xlabel('Area')\n",
        "plt.show()"
      ]
    },
    {
      "cell_type": "code",
      "execution_count": 263,
      "metadata": {
        "id": "fOCSdvBd8GJq"
      },
      "outputs": [],
      "source": [
        "# 이상치 제거 방법에는 IQR을 이용하겠습니다.\n",
        "def remove_outliers_iqr(dt, column_name):\n",
        "    df = dt.query('is_test == 0')       # train data 내에 있는 이상치만 제거하도록 하겠습니다.\n",
        "    df_test = dt.query('is_test == 1')\n",
        "\n",
        "    Q1 = df[column_name].quantile(0.25)\n",
        "    Q3 = df[column_name].quantile(0.75)\n",
        "    IQR = Q3 - Q1\n",
        "\n",
        "    lower_bound = Q1 - 1.5 * IQR\n",
        "    upper_bound = Q3 + 1.5 * IQR\n",
        "\n",
        "    df = df[(df[column_name] >= lower_bound) & (df[column_name] <= upper_bound)]\n",
        "\n",
        "    result = pd.concat([df, df_test])   # test data와 다시 합쳐주겠습니다.\n",
        "    return result"
      ]
    },
    {
      "cell_type": "code",
      "execution_count": 264,
      "metadata": {
        "id": "F_GJQBVX8AH9"
      },
      "outputs": [],
      "source": [
        "# 위 방법으로 전용 면적에 대한 이상치를 제거해보겠습니다.\n",
        "concat_select = remove_outliers_iqr(concat, '전용면적')"
      ]
    },
    {
      "cell_type": "code",
      "execution_count": 204,
      "metadata": {
        "colab": {
          "base_uri": "https://localhost:8080/"
        },
        "id": "RZitCX1tEvWX",
        "outputId": "c01ac230-4e49-4d8f-a0f0-8805de9499cc"
      },
      "outputs": [
        {
          "data": {
            "text/plain": [
              "0    1041193\n",
              "1       9390\n",
              "Name: is_test, dtype: int64"
            ]
          },
          "execution_count": 204,
          "metadata": {},
          "output_type": "execute_result"
        }
      ],
      "source": [
        "concat_select['is_test'].value_counts()     # 또한, train data만 제거되었습니다."
      ]
    },
    {
      "cell_type": "code",
      "execution_count": 241,
      "metadata": {
        "colab": {
          "base_uri": "https://localhost:8080/",
          "height": 179
        },
        "id": "PWuNlTfN_FMs",
        "outputId": "971536d0-d21a-4c07-809a-27260680439e"
      },
      "outputs": [
        {
          "name": "stdout",
          "output_type": "stream",
          "text": [
            "<class 'pandas.core.frame.DataFrame'>\n",
            "Int64Index: 1095248 entries, 0 to 1188876\n",
            "Data columns (total 27 columns):\n",
            " #   Column   Non-Null Count    Dtype  \n",
            "---  ------   --------------    -----  \n",
            " 0   번지       1095248 non-null  object \n",
            " 1   본번       1095248 non-null  object \n",
            " 2   부번       1095248 non-null  object \n",
            " 3   전용면적     1095248 non-null  float64\n",
            " 4   계약일      1095248 non-null  int64  \n",
            " 5   층        1095248 non-null  int64  \n",
            " 6   건축년도     1095248 non-null  int64  \n",
            " 7   is_test  1095248 non-null  int64  \n",
            " 8   주소       1095248 non-null  object \n",
            " 9   x        1095248 non-null  float64\n",
            " 10  y        1095248 non-null  float64\n",
            " 11  계약년      1095248 non-null  int64  \n",
            " 12  계약월      1095248 non-null  int64  \n",
            " 13  거래취소여부   1095248 non-null  object \n",
            " 14  거래일건물연식  1095248 non-null  int64  \n",
            " 15  구        1095248 non-null  object \n",
            " 16  동        1095248 non-null  object \n",
            " 17  강남여부     1095248 non-null  object \n",
            " 18  신축여부     1095248 non-null  object \n",
            " 19  건축면적     1095248 non-null  float64\n",
            " 20  연면적      1095248 non-null  float64\n",
            " 21  대지면적     1095248 non-null  float64\n",
            " 22  건폐율      1095248 non-null  float64\n",
            " 23  용적율      1095248 non-null  float64\n",
            " 24  평균층수     1095248 non-null  float64\n",
            " 25  target   1085858 non-null  float64\n",
            " 26  기준금리     1095248 non-null  float64\n",
            "dtypes: float64(11), int64(7), object(9)\n",
            "memory usage: 234.0+ MB\n"
          ]
        }
      ],
      "source": [
        "concat_select.info()       # 최종 데이터셋은 아래와 같습니다."
      ]
    },
    {
      "cell_type": "markdown",
      "metadata": {
        "id": "ytuwazY43gwQ"
      },
      "source": [
        "- 이제 위에서 만든 파생변수들과 정제한 데이터를 기반으로 본격적으로 부동산 실거래가를 예측하는 모델링을 진행하겠습니다.\n",
        "- 모델링에는 `sklearn`의 `RandomForest`를 이용하도록 하겠습니다.\n",
        "\n",
        "- 참고 ✅\n",
        "  - `RandomForest`는 배깅(Bagging)의 일종으로, 학습시키는 데이터 뿐 아니라 특성변수(X)들도 무작위로 선택해 트리를 생성하는 방법입니다.\n",
        "  - 모델 학습 과정에서 서로 다른 N개의 Tree 생성하고, N개의 Tree에서 발생한 Output을 Voting(범주형, 분류문제)하거나, Average(연속형, 회귀문제)해 최종 Output 생성합니다.\n",
        "  - 이는 High variance, Low bias 상황에서 분산(Variance) 감소에 도움을 줍니다."
      ]
    },
    {
      "cell_type": "code",
      "execution_count": 265,
      "metadata": {
        "colab": {
          "base_uri": "https://localhost:8080/"
        },
        "id": "9E__0jEyyXIA",
        "outputId": "ffb3cc6e-d337-4ed6-96d1-ddf96dc97449"
      },
      "outputs": [
        {
          "name": "stdout",
          "output_type": "stream",
          "text": [
            "(1085858, 28) (9390, 28)\n"
          ]
        }
      ],
      "source": [
        "# 이제 다시 train과 test dataset을 분할해줍니다. 위에서 제작해 놓았던 is_test 칼럼을 이용합니다.\n",
        "dt_train = concat_select.query('is_test==0')\n",
        "dt_test = concat_select.query('is_test==1')\n",
        "\n",
        "# 이제 is_test 칼럼은 drop해줍니다.\n",
        "dt_train.drop(['is_test'], axis = 1, inplace=True)\n",
        "dt_test.drop(['is_test'], axis = 1, inplace=True)\n",
        "print(dt_train.shape, dt_test.shape)\n",
        "\n",
        "# dt_test의 target은 일단 0으로 임의로 채워주도록 하겠습니다.\n",
        "dt_test['target'] = 0"
      ]
    },
    {
      "cell_type": "markdown",
      "metadata": {
        "id": "wdHNkPO_3tSb"
      },
      "source": [
        "### 5.1. 범주형 변수 Encoding\n",
        "- 범주형 변수는 그대로 모델에 투입하면, 모델이 제대로 작동할 수 없습니다.\n",
        "- 따라서 **레이블 인코딩 과정**을 통해 범주형 변수들을 numeric하게 바꾸는 인코딩 과정을 진행해주도록 하겠습니다."
      ]
    },
    {
      "cell_type": "code",
      "execution_count": 266,
      "metadata": {
        "colab": {
          "base_uri": "https://localhost:8080/"
        },
        "id": "yCW2dTz12VMZ",
        "outputId": "5c81b9e1-0462-421e-cb77-6b056532e5cd"
      },
      "outputs": [
        {
          "name": "stdout",
          "output_type": "stream",
          "text": [
            "연속형 변수: ['전용면적', '계약일', '층', '건축년도', 'x', 'y', '계약년', '계약월', '거래일건물연식', '건축면적', '연면적', '대지면적', '건폐율', '용적율', '평균층수', 'target', '기준금리']\n",
            "범주형 변수: ['번지', '본번', '부번', '주소', '거래취소여부', '구', '동', '강남여부', '신축여부', '계약년월', '면적분류']\n"
          ]
        },
        {
          "name": "stderr",
          "output_type": "stream",
          "text": [
            "100%|██████████| 11/11 [00:03<00:00,  3.35it/s]\n"
          ]
        }
      ],
      "source": [
        "# 파생변수 제작으로 추가된 변수들이 존재하기에, 다시한번 연속형과 범주형 칼럼을 분리해주겠습니다.\n",
        "continuous_columns_v2 = []\n",
        "categorical_columns_v2 = []\n",
        "\n",
        "for column in dt_train.columns:\n",
        "    if pd.api.types.is_numeric_dtype(dt_train[column]):\n",
        "        continuous_columns_v2.append(column)\n",
        "    else:\n",
        "        categorical_columns_v2.append(column)\n",
        "\n",
        "print(\"연속형 변수:\", continuous_columns_v2)\n",
        "print(\"범주형 변수:\", categorical_columns_v2)\n",
        "\n",
        "# 아래에서 범주형 변수들을 대상으로 레이블인코딩을 진행해 주겠습니다.\n",
        "\n",
        "# 각 변수에 대한 LabelEncoder를 저장할 딕셔너리\n",
        "label_encoders = {}\n",
        "\n",
        "# Implement Label Encoding\n",
        "for col in tqdm( categorical_columns ):\n",
        "    lbl = LabelEncoder()\n",
        "\n",
        "    # Label-Encoding을 fit\n",
        "    lbl.fit( dt_train[col].astype(str) )\n",
        "    dt_train[col] = lbl.transform(dt_train[col].astype(str))\n",
        "    label_encoders[col] = lbl           # 나중에 후처리를 위해 레이블인코더를 저장해주겠습니다.\n",
        "\n",
        "    # Test 데이터에만 존재하는 새로 출현한 데이터를 신규 클래스로 추가해줍니다.\n",
        "    for label in np.unique(dt_test[col]):\n",
        "      if label not in lbl.classes_: # unseen label 데이터인 경우\n",
        "        lbl.classes_ = np.append(lbl.classes_, label) # 미처리 시 ValueError발생하니 주의하세요!\n",
        "\n",
        "    dt_test[col] = lbl.transform(dt_test[col].astype(str))"
      ]
    },
    {
      "cell_type": "code",
      "execution_count": 267,
      "metadata": {
        "id": "7S-ow8vVP_YZ"
      },
      "outputs": [],
      "source": [
        "assert dt_train.shape[1] == dt_test.shape[1]          # train/test dataset의 shape이 같은지 확인해주겠습니다.\n",
        "\n",
        "# Target과 독립변수들을 분리해줍니다.\n",
        "y_train = dt_train['target']\n",
        "X_train = dt_train.drop(['target'], axis=1)\n",
        "\n",
        "# Hold out split을 사용해 학습 데이터와 검증 데이터를 8:2 비율로 나누겠습니다.\n",
        "X_train, X_val, y_train, y_val = train_test_split(X_train, y_train, test_size=0.2, random_state=2023)"
      ]
    },
    {
      "cell_type": "code",
      "execution_count": 245,
      "metadata": {
        "colab": {
          "base_uri": "https://localhost:8080/"
        },
        "id": "fGNHMAD2aBGI",
        "outputId": "5471313e-6838-44d3-8567-940c7456ef9e"
      },
      "outputs": [],
      "source": [
        "# RandomForestRegressor를 이용해 회귀 모델을 적합시키겠습니다.\n",
        "model = RandomForestRegressor(n_estimators=5, criterion='squared_error', random_state=1, n_jobs=-1)\n",
        "model.fit(X_train, y_train)\n",
        "pred = model.predict(X_val)"
      ]
    },
    {
      "cell_type": "code",
      "execution_count": 246,
      "metadata": {},
      "outputs": [],
      "source": [
        "y_val = y_val * X_val['전용면적']\n",
        "pred = pred * X_val['전용면적']"
      ]
    },
    {
      "cell_type": "code",
      "execution_count": 247,
      "metadata": {
        "colab": {
          "base_uri": "https://localhost:8080/"
        },
        "id": "39uvsgeXey3R",
        "outputId": "139e341d-2abd-4923-ed05-a28a70a4caef"
      },
      "outputs": [
        {
          "name": "stdout",
          "output_type": "stream",
          "text": [
            "RMSE test: 4769.639578755779\n"
          ]
        }
      ],
      "source": [
        "# 회귀 관련 metric을 통해 train/valid의 모델 적합 결과를 관찰합니다.\n",
        "print(f'RMSE test: {np.sqrt(metrics.mean_squared_error(y_val, pred))}')"
      ]
    },
    {
      "cell_type": "code",
      "execution_count": 268,
      "metadata": {},
      "outputs": [],
      "source": [
        "#  XGBoost 사용\n",
        "\n",
        "import xgboost as xgb"
      ]
    },
    {
      "cell_type": "code",
      "execution_count": 269,
      "metadata": {},
      "outputs": [],
      "source": [
        "model = xgb.XGBRegressor(objective='reg:squarederror', \n",
        "                         n_estimators=1000,  \n",
        "                         learning_rate=0.1,  \n",
        "                         max_depth=10,\n",
        "                         random_state=1)\n",
        "\n",
        "model.fit(X_train, y_train)\n",
        "\n",
        "pred = model.predict(X_val)\n",
        "\n",
        "y_val_1 = y_val * X_val['전용면적']\n",
        "pred_1 = pred * X_val['전용면적']"
      ]
    },
    {
      "cell_type": "code",
      "execution_count": 270,
      "metadata": {},
      "outputs": [
        {
          "name": "stdout",
          "output_type": "stream",
          "text": [
            "RMSE test: 3761.8572486169746\n"
          ]
        }
      ],
      "source": [
        "# 회귀 관련 metric을 통해 train/valid의 모델 적합 결과를 관찰합니다.\n",
        "print(f'RMSE test: {np.sqrt(metrics.mean_squared_error(y_val_1, pred_1))}')"
      ]
    },
    {
      "cell_type": "markdown",
      "metadata": {
        "id": "4jhh_fZ0DHOd"
      },
      "source": [
        "- 변수 중요도도 확인해보도록 하겠습니다."
      ]
    },
    {
      "cell_type": "code",
      "execution_count": 272,
      "metadata": {},
      "outputs": [
        {
          "data": {
            "image/png": "[encoded data removed]",
            "text/plain": [
              "<Figure size 640x480 with 1 Axes>"
            ]
          },
          "metadata": {},
          "output_type": "display_data"
        }
      ],
      "source": [
        "xgb.plot_importance(model)\n",
        "plt.show()"
      ]
    },
    {
      "cell_type": "code",
      "execution_count": 275,
      "metadata": {},
      "outputs": [
        {
          "data": {
            "image/png": "[encoded data removed]",
            "text/plain": [
              "<Figure size 640x480 with 1 Axes>"
            ]
          },
          "metadata": {},
          "output_type": "display_data"
        }
      ],
      "source": [
        "xgb.plot_importance(model, importance_type='total_gain')\n",
        "plt.show()"
      ]
    },
    {
      "cell_type": "code",
      "execution_count": 277,
      "metadata": {},
      "outputs": [
        {
          "data": {
            "image/png": "[encoded data removed]",
            "text/plain": [
              "<Figure size 640x480 with 1 Axes>"
            ]
          },
          "metadata": {},
          "output_type": "display_data"
        }
      ],
      "source": [
        "xgb.plot_importance(model, importance_type='total_cover')\n",
        "plt.show()\n"
      ]
    },
    {
      "cell_type": "code",
      "execution_count": null,
      "metadata": {
        "colab": {
          "base_uri": "https://localhost:8080/",
          "height": 698
        },
        "id": "VbgCRxFgdFQb",
        "outputId": "f9114f72-78e1-471c-fc0b-ba5b8b6b6d2f"
      },
      "outputs": [],
      "source": [
        "# 위 feature importance를 시각화해봅니다.\n",
        "importances = pd.Series(model.feature_importances_, index=list(X_train.columns))\n",
        "importances = importances.sort_values(ascending=False)\n",
        "\n",
        "plt.figure(figsize=(10,8))\n",
        "plt.title(\"Feature Importances\")\n",
        "sns.barplot(x=importances, y=importances.index)\n",
        "plt.show()"
      ]
    },
    {
      "cell_type": "code",
      "execution_count": 48,
      "metadata": {
        "id": "vycdrTEAa2va"
      },
      "outputs": [],
      "source": [
        "# 학습된 모델을 저장합니다. Pickle 라이브러리를 이용하겠습니다.\n",
        "with open('saved_model.pkl', 'wb') as f:\n",
        "    pickle.dump(model, f)"
      ]
    },
    {
      "cell_type": "markdown",
      "metadata": {
        "id": "jOVbJ3KWgBTC"
      },
      "source": [
        "### 5.3. Feature selection"
      ]
    },
    {
      "cell_type": "markdown",
      "metadata": {
        "id": "0Qp7gLG3CfgJ"
      },
      "source": [
        "- 어떤 변수가 유용한 변수인지 확인해보기 위해 permutation selection을 이용해보겠습니다."
      ]
    },
    {
      "cell_type": "code",
      "execution_count": 50,
      "metadata": {
        "colab": {
          "base_uri": "https://localhost:8080/",
          "height": 399
        },
        "id": "bWucmvKrf-tq",
        "outputId": "016c2fae-320b-4778-efb9-799b5cf695b0"
      },
      "outputs": [
        {
          "data": {
            "text/html": [
              "\n",
              "    <style>\n",
              "    table.eli5-weights tr:hover {\n",
              "        filter: brightness(85%);\n",
              "    }\n",
              "</style>\n",
              "\n",
              "\n",
              "\n",
              "    \n",
              "\n",
              "    \n",
              "\n",
              "    \n",
              "\n",
              "    \n",
              "\n",
              "    \n",
              "\n",
              "    \n",
              "\n",
              "\n",
              "    \n",
              "\n",
              "    \n",
              "\n",
              "    \n",
              "\n",
              "    \n",
              "\n",
              "    \n",
              "\n",
              "    \n",
              "\n",
              "\n",
              "    \n",
              "\n",
              "    \n",
              "\n",
              "    \n",
              "\n",
              "    \n",
              "\n",
              "    \n",
              "        <table class=\"eli5-weights eli5-feature-importances\" style=\"border-collapse: collapse; border: none; margin-top: 0em; table-layout: auto;\">\n",
              "    <thead>\n",
              "    <tr style=\"border: none;\">\n",
              "        <th style=\"padding: 0 1em 0 0.5em; text-align: right; border: none;\">Weight</th>\n",
              "        <th style=\"padding: 0 0.5em 0 0.5em; text-align: left; border: none;\">Feature</th>\n",
              "    </tr>\n",
              "    </thead>\n",
              "    <tbody>\n",
              "    \n",
              "        <tr style=\"background-color: hsl(120, 100.00%, 80.00%); border: none;\">\n",
              "            <td style=\"padding: 0 1em 0 0.5em; text-align: right; border: none;\">\n",
              "                823047870.2609\n",
              "                \n",
              "                    &plusmn; 8900351.9650\n",
              "                \n",
              "            </td>\n",
              "            <td style=\"padding: 0 0.5em 0 0.5em; text-align: left; border: none;\">\n",
              "                계약년\n",
              "            </td>\n",
              "        </tr>\n",
              "    \n",
              "        <tr style=\"background-color: hsl(120, 100.00%, 85.17%); border: none;\">\n",
              "            <td style=\"padding: 0 1em 0 0.5em; text-align: right; border: none;\">\n",
              "                536944566.6213\n",
              "                \n",
              "                    &plusmn; 7820460.5348\n",
              "                \n",
              "            </td>\n",
              "            <td style=\"padding: 0 0.5em 0 0.5em; text-align: left; border: none;\">\n",
              "                전용면적\n",
              "            </td>\n",
              "        </tr>\n",
              "    \n",
              "        <tr style=\"background-color: hsl(120, 100.00%, 85.82%); border: none;\">\n",
              "            <td style=\"padding: 0 1em 0 0.5em; text-align: right; border: none;\">\n",
              "                503390054.3853\n",
              "                \n",
              "                    &plusmn; 908357.0511\n",
              "                \n",
              "            </td>\n",
              "            <td style=\"padding: 0 0.5em 0 0.5em; text-align: left; border: none;\">\n",
              "                강남여부\n",
              "            </td>\n",
              "        </tr>\n",
              "    \n",
              "        <tr style=\"background-color: hsl(120, 100.00%, 86.60%); border: none;\">\n",
              "            <td style=\"padding: 0 1em 0 0.5em; text-align: right; border: none;\">\n",
              "                464525321.1065\n",
              "                \n",
              "                    &plusmn; 3725634.6999\n",
              "                \n",
              "            </td>\n",
              "            <td style=\"padding: 0 0.5em 0 0.5em; text-align: left; border: none;\">\n",
              "                구\n",
              "            </td>\n",
              "        </tr>\n",
              "    \n",
              "        <tr style=\"background-color: hsl(120, 100.00%, 92.06%); border: none;\">\n",
              "            <td style=\"padding: 0 1em 0 0.5em; text-align: right; border: none;\">\n",
              "                220041093.3418\n",
              "                \n",
              "                    &plusmn; 1321259.2984\n",
              "                \n",
              "            </td>\n",
              "            <td style=\"padding: 0 0.5em 0 0.5em; text-align: left; border: none;\">\n",
              "                건축년도\n",
              "            </td>\n",
              "        </tr>\n",
              "    \n",
              "        <tr style=\"background-color: hsl(120, 100.00%, 93.51%); border: none;\">\n",
              "            <td style=\"padding: 0 1em 0 0.5em; text-align: right; border: none;\">\n",
              "                164955812.8059\n",
              "                \n",
              "                    &plusmn; 3791409.1530\n",
              "                \n",
              "            </td>\n",
              "            <td style=\"padding: 0 0.5em 0 0.5em; text-align: left; border: none;\">\n",
              "                좌표X\n",
              "            </td>\n",
              "        </tr>\n",
              "    \n",
              "        <tr style=\"background-color: hsl(120, 100.00%, 96.03%); border: none;\">\n",
              "            <td style=\"padding: 0 1em 0 0.5em; text-align: right; border: none;\">\n",
              "                81769146.1616\n",
              "                \n",
              "                    &plusmn; 812894.8077\n",
              "                \n",
              "            </td>\n",
              "            <td style=\"padding: 0 0.5em 0 0.5em; text-align: left; border: none;\">\n",
              "                동\n",
              "            </td>\n",
              "        </tr>\n",
              "    \n",
              "        <tr style=\"background-color: hsl(120, 100.00%, 96.17%); border: none;\">\n",
              "            <td style=\"padding: 0 1em 0 0.5em; text-align: right; border: none;\">\n",
              "                77491296.2992\n",
              "                \n",
              "                    &plusmn; 1140328.2482\n",
              "                \n",
              "            </td>\n",
              "            <td style=\"padding: 0 0.5em 0 0.5em; text-align: left; border: none;\">\n",
              "                좌표Y\n",
              "            </td>\n",
              "        </tr>\n",
              "    \n",
              "        <tr style=\"background-color: hsl(120, 100.00%, 96.50%); border: none;\">\n",
              "            <td style=\"padding: 0 1em 0 0.5em; text-align: right; border: none;\">\n",
              "                68289406.9442\n",
              "                \n",
              "                    &plusmn; 780157.3094\n",
              "                \n",
              "            </td>\n",
              "            <td style=\"padding: 0 0.5em 0 0.5em; text-align: left; border: none;\">\n",
              "                거래일건물연식\n",
              "            </td>\n",
              "        </tr>\n",
              "    \n",
              "        <tr style=\"background-color: hsl(120, 100.00%, 97.25%); border: none;\">\n",
              "            <td style=\"padding: 0 1em 0 0.5em; text-align: right; border: none;\">\n",
              "                48265561.3721\n",
              "                \n",
              "                    &plusmn; 290119.0346\n",
              "                \n",
              "            </td>\n",
              "            <td style=\"padding: 0 0.5em 0 0.5em; text-align: left; border: none;\">\n",
              "                부번\n",
              "            </td>\n",
              "        </tr>\n",
              "    \n",
              "        <tr style=\"background-color: hsl(120, 100.00%, 97.37%); border: none;\">\n",
              "            <td style=\"padding: 0 1em 0 0.5em; text-align: right; border: none;\">\n",
              "                45479508.3897\n",
              "                \n",
              "                    &plusmn; 2130038.5428\n",
              "                \n",
              "            </td>\n",
              "            <td style=\"padding: 0 0.5em 0 0.5em; text-align: left; border: none;\">\n",
              "                주차대수\n",
              "            </td>\n",
              "        </tr>\n",
              "    \n",
              "        <tr style=\"background-color: hsl(120, 100.00%, 97.91%); border: none;\">\n",
              "            <td style=\"padding: 0 1em 0 0.5em; text-align: right; border: none;\">\n",
              "                32695722.9777\n",
              "                \n",
              "                    &plusmn; 1759353.0471\n",
              "                \n",
              "            </td>\n",
              "            <td style=\"padding: 0 0.5em 0 0.5em; text-align: left; border: none;\">\n",
              "                번지\n",
              "            </td>\n",
              "        </tr>\n",
              "    \n",
              "        <tr style=\"background-color: hsl(120, 100.00%, 97.98%); border: none;\">\n",
              "            <td style=\"padding: 0 1em 0 0.5em; text-align: right; border: none;\">\n",
              "                31089612.7005\n",
              "                \n",
              "                    &plusmn; 59424.1050\n",
              "                \n",
              "            </td>\n",
              "            <td style=\"padding: 0 0.5em 0 0.5em; text-align: left; border: none;\">\n",
              "                본번\n",
              "            </td>\n",
              "        </tr>\n",
              "    \n",
              "        <tr style=\"background-color: hsl(120, 100.00%, 98.68%); border: none;\">\n",
              "            <td style=\"padding: 0 1em 0 0.5em; text-align: right; border: none;\">\n",
              "                17022135.9393\n",
              "                \n",
              "                    &plusmn; 943633.1618\n",
              "                \n",
              "            </td>\n",
              "            <td style=\"padding: 0 0.5em 0 0.5em; text-align: left; border: none;\">\n",
              "                k-건설사(시공사)\n",
              "            </td>\n",
              "        </tr>\n",
              "    \n",
              "        <tr style=\"background-color: hsl(120, 100.00%, 98.83%); border: none;\">\n",
              "            <td style=\"padding: 0 1em 0 0.5em; text-align: right; border: none;\">\n",
              "                14227306.6551\n",
              "                \n",
              "                    &plusmn; 343894.7665\n",
              "                \n",
              "            </td>\n",
              "            <td style=\"padding: 0 0.5em 0 0.5em; text-align: left; border: none;\">\n",
              "                k-전체동수\n",
              "            </td>\n",
              "        </tr>\n",
              "    \n",
              "        <tr style=\"background-color: hsl(120, 100.00%, 98.94%); border: none;\">\n",
              "            <td style=\"padding: 0 1em 0 0.5em; text-align: right; border: none;\">\n",
              "                12467670.1281\n",
              "                \n",
              "                    &plusmn; 594561.6963\n",
              "                \n",
              "            </td>\n",
              "            <td style=\"padding: 0 0.5em 0 0.5em; text-align: left; border: none;\">\n",
              "                건축면적\n",
              "            </td>\n",
              "        </tr>\n",
              "    \n",
              "        <tr style=\"background-color: hsl(120, 100.00%, 98.94%); border: none;\">\n",
              "            <td style=\"padding: 0 1em 0 0.5em; text-align: right; border: none;\">\n",
              "                12411918.2620\n",
              "                \n",
              "                    &plusmn; 240579.1003\n",
              "                \n",
              "            </td>\n",
              "            <td style=\"padding: 0 0.5em 0 0.5em; text-align: left; border: none;\">\n",
              "                계약월\n",
              "            </td>\n",
              "        </tr>\n",
              "    \n",
              "        <tr style=\"background-color: hsl(120, 100.00%, 99.05%); border: none;\">\n",
              "            <td style=\"padding: 0 1em 0 0.5em; text-align: right; border: none;\">\n",
              "                10537622.1566\n",
              "                \n",
              "                    &plusmn; 296909.9650\n",
              "                \n",
              "            </td>\n",
              "            <td style=\"padding: 0 0.5em 0 0.5em; text-align: left; border: none;\">\n",
              "                k-전체세대수\n",
              "            </td>\n",
              "        </tr>\n",
              "    \n",
              "        <tr style=\"background-color: hsl(120, 100.00%, 99.22%); border: none;\">\n",
              "            <td style=\"padding: 0 1em 0 0.5em; text-align: right; border: none;\">\n",
              "                8058072.0322\n",
              "                \n",
              "                    &plusmn; 283018.8470\n",
              "                \n",
              "            </td>\n",
              "            <td style=\"padding: 0 0.5em 0 0.5em; text-align: left; border: none;\">\n",
              "                층\n",
              "            </td>\n",
              "        </tr>\n",
              "    \n",
              "        <tr style=\"background-color: hsl(120, 100.00%, 99.30%); border: none;\">\n",
              "            <td style=\"padding: 0 1em 0 0.5em; text-align: right; border: none;\">\n",
              "                6834502.1887\n",
              "                \n",
              "                    &plusmn; 502662.1534\n",
              "                \n",
              "            </td>\n",
              "            <td style=\"padding: 0 0.5em 0 0.5em; text-align: left; border: none;\">\n",
              "                k-복도유형\n",
              "            </td>\n",
              "        </tr>\n",
              "    \n",
              "    \n",
              "        \n",
              "            <tr style=\"background-color: hsl(120, 100.00%, 99.30%); border: none;\">\n",
              "                <td colspan=\"2\" style=\"padding: 0 0.5em 0 0.5em; text-align: center; border: none; white-space: nowrap;\">\n",
              "                    <i>&hellip; 5 more &hellip;</i>\n",
              "                </td>\n",
              "            </tr>\n",
              "        \n",
              "    \n",
              "    </tbody>\n",
              "</table>\n",
              "    \n",
              "\n",
              "    \n",
              "\n",
              "\n",
              "    \n",
              "\n",
              "    \n",
              "\n",
              "    \n",
              "\n",
              "    \n",
              "\n",
              "    \n",
              "\n",
              "    \n",
              "\n",
              "\n",
              "\n"
            ],
            "text/plain": [
              "<IPython.core.display.HTML object>"
            ]
          },
          "execution_count": 50,
          "metadata": {},
          "output_type": "execute_result"
        }
      ],
      "source": [
        "# Permutation importance 방법을 변수 선택에 이용해보겠습니다.\n",
        "perm = PermutationImportance(model,        # 위에서 학습된 모델을 이용하겠습니다.\n",
        "                             scoring = \"neg_mean_squared_error\",        # 평가 지표로는 회귀문제이기에 negative rmse를 사용합니다. (neg_mean_squared_error : 음의 평균 제곱 오차)\n",
        "                             random_state = 42,\n",
        "                             n_iter=3).fit(X_val, y_val)\n",
        "eli5.show_weights(perm, feature_names = X_val.columns.tolist())    # valid data에 대해 적합시킵니다."
      ]
    },
    {
      "cell_type": "markdown",
      "metadata": {
        "id": "8GbMRUxyCmWC"
      },
      "source": [
        "- 분석 결과 \"계약년\", \"전용면적\" 변수가 유의한 변수로 보입니다. 따라서 이 변수로 또 다른 파생변수를 더 생성해보거나, 중요도가 낮아보이는 변수를 제거해 차원의 저주를 막아볼 수도 있습니다."
      ]
    },
    {
      "cell_type": "markdown",
      "metadata": {
        "id": "YncDzsK1zl2w"
      },
      "source": [
        "### 5.4. Valid prediction 분석"
      ]
    },
    {
      "cell_type": "markdown",
      "metadata": {
        "id": "iQS1Fno2C-1R"
      },
      "source": [
        "- 예측값을 분석해보기 위해 valid prediction을 확인해보겠습니다."
      ]
    },
    {
      "cell_type": "code",
      "execution_count": null,
      "metadata": {
        "id": "_xViv0o6DXQ-"
      },
      "outputs": [],
      "source": [
        "# Validation dataset에 target과 pred 값을 채워주도록 하겠습니다.\n",
        "X_val['target'] = y_val\n",
        "X_val['pred'] = pred"
      ]
    },
    {
      "cell_type": "code",
      "execution_count": null,
      "metadata": {
        "id": "-D8NCLkWC-g6"
      },
      "outputs": [],
      "source": [
        "# Squared_error를 계산하는 함수를 정의하겠습니다.\n",
        "def calculate_se(target, pred):\n",
        "    squared_errors = (target - pred) ** 2\n",
        "    return squared_errors\n",
        "\n",
        "# RMSE 계산\n",
        "squared_errors = calculate_se(X_val['target'], X_val['pred'])\n",
        "X_val['error'] = squared_errors"
      ]
    },
    {
      "cell_type": "code",
      "execution_count": null,
      "metadata": {
        "id": "fXbdC7b9HDDQ"
      },
      "outputs": [],
      "source": [
        "# Error가 큰 순서대로 sorting 해 보겠습니다.\n",
        "X_val_sort = X_val.sort_values(by='error', ascending=False)       # 내림차순 sorting"
      ]
    },
    {
      "cell_type": "code",
      "execution_count": null,
      "metadata": {
        "colab": {
          "base_uri": "https://localhost:8080/",
          "height": 287
        },
        "id": "gOc8HmvDHhz8",
        "outputId": "17e408cb-9533-4d3b-baf6-245de0ae1a43"
      },
      "outputs": [],
      "source": [
        "X_val_sort.head()"
      ]
    },
    {
      "cell_type": "markdown",
      "metadata": {
        "id": "Mms3pe564O6v"
      },
      "source": [
        "- 예측을 잘 하지 못한 top 100개의 데이터와 예측을 잘한 top 100개의 데이터를 비교해보겠습니다."
      ]
    },
    {
      "cell_type": "code",
      "execution_count": null,
      "metadata": {
        "id": "xxEferiRIM8A"
      },
      "outputs": [],
      "source": [
        "X_val_sort_top100 = X_val.sort_values(by='error', ascending=False).head(100)        # 예측을 잘 하지못한 top 100개의 data\n",
        "X_val_sort_tail100 = X_val.sort_values(by='error', ascending=False).tail(100)       # 예측을 잘한 top 100개의 data"
      ]
    },
    {
      "cell_type": "code",
      "execution_count": null,
      "metadata": {
        "id": "JPt_LNqW3TZ2"
      },
      "outputs": [],
      "source": [
        "# 해석을 위해 레이블인코딩 된 변수를 복원해줍니다.\n",
        "error_top100 = X_val_sort_top100.copy()\n",
        "for column in categorical_columns_v2 :     # 앞서 레이블 인코딩에서 정의했던 categorical_columns_v2 범주형 변수 리스트를 사용합니다.\n",
        "    error_top100[column] = label_encoders[column].inverse_transform(X_val_sort_top100[column])\n",
        "\n",
        "best_top100 = X_val_sort_tail100.copy()\n",
        "for column in categorical_columns_v2 :     # 앞서 레이블 인코딩에서 정의했던 categorical_columns_v2 범주형 변수 리스트를 사용합니다.\n",
        "    best_top100[column] = label_encoders[column].inverse_transform(X_val_sort_tail100[column])"
      ]
    },
    {
      "cell_type": "code",
      "execution_count": null,
      "metadata": {
        "colab": {
          "base_uri": "https://localhost:8080/",
          "height": 358
        },
        "id": "Rlo-K31L3PEQ",
        "outputId": "f009d0e0-0224-46eb-de2d-3eff99a2dbd0"
      },
      "outputs": [],
      "source": [
        "display(error_top100.head(1))\n",
        "display(best_top100.head(1))"
      ]
    },
    {
      "cell_type": "markdown",
      "metadata": {
        "id": "K6gnHzd55c6f"
      },
      "source": [
        "- 이제 분포를 비교해보도록 하겠습니다."
      ]
    },
    {
      "cell_type": "code",
      "execution_count": null,
      "metadata": {
        "colab": {
          "base_uri": "https://localhost:8080/",
          "height": 925
        },
        "id": "SyJJoEiu4kes",
        "outputId": "afd5876f-264e-4ad1-d2bf-cb400819c794"
      },
      "outputs": [],
      "source": [
        "sns.boxplot(data = error_top100, x='target')\n",
        "plt.title('The worst top100 prediction의 target 분포')\n",
        "plt.show()\n",
        "\n",
        "sns.boxplot(data = best_top100, x='target', color='orange')\n",
        "plt.title('The best top100 prediction의 target 분포')\n",
        "plt.show()"
      ]
    },
    {
      "cell_type": "markdown",
      "metadata": {
        "id": "gWnF219657Lc"
      },
      "source": [
        "- Taget 분포를 보니 좋은 예측을 보인 top 100개의 data보다 상대적으로 나쁜 예측을 보인 top 100 dataset들이 높은 가격을 보였음을 확인할 수 있습니다. 이에 대한 모델링 및 처리가 필요해보입니다."
      ]
    },
    {
      "cell_type": "code",
      "execution_count": null,
      "metadata": {
        "colab": {
          "base_uri": "https://localhost:8080/",
          "height": 471
        },
        "id": "qOhsS3Cr6IuH",
        "outputId": "462592ff-31b6-4300-9edb-cbec64054deb"
      },
      "outputs": [],
      "source": [
        "sns.histplot(data = error_top100, x='전용면적', alpha=0.5)\n",
        "sns.histplot(data = best_top100, x='전용면적', color='orange', alpha=0.5)\n",
        "plt.title('전용면적 분포 비교')\n",
        "plt.show()"
      ]
    },
    {
      "cell_type": "markdown",
      "metadata": {
        "id": "XsMOOYc16jU8"
      },
      "source": [
        "- 전용면적 또한 나쁜 예측을 보인 집들이 더 넓음을 확인할 수 있습니다."
      ]
    },
    {
      "cell_type": "markdown",
      "metadata": {
        "id": "F0Ga4ljBNYIy"
      },
      "source": [
        "## 6. Inference"
      ]
    },
    {
      "cell_type": "code",
      "execution_count": null,
      "metadata": {
        "colab": {
          "base_uri": "https://localhost:8080/",
          "height": 158
        },
        "id": "7LC7NuRaD_Dd",
        "outputId": "c2827163-dbdd-4c8c-d35b-1c325b8d14c0"
      },
      "outputs": [],
      "source": [
        "dt_test.head(2)      # test dataset에 대한 inference를 진행해보겠습니다."
      ]
    },
    {
      "cell_type": "code",
      "execution_count": null,
      "metadata": {
        "id": "0HXvn8ZSa1kt"
      },
      "outputs": [],
      "source": [
        "# 저장된 모델을 불러옵니다.\n",
        "with open('saved_model.pkl', 'rb') as f:\n",
        "    model = pickle.load(f)"
      ]
    },
    {
      "cell_type": "code",
      "execution_count": null,
      "metadata": {
        "colab": {
          "base_uri": "https://localhost:8080/"
        },
        "id": "qbZ2A49LP_T9",
        "outputId": "89676c9b-c0a2-4951-84f0-430c5648331c"
      },
      "outputs": [],
      "source": [
        "%%time\n",
        "X_test = dt_test.drop(['target'], axis=1)\n",
        "\n",
        "# Test dataset에 대한 inference를 진행합니다.\n",
        "real_test_pred = model.predict(X_test)"
      ]
    },
    {
      "cell_type": "code",
      "execution_count": null,
      "metadata": {
        "colab": {
          "base_uri": "https://localhost:8080/"
        },
        "id": "4M1QkrH_31zK",
        "outputId": "6c6f4635-50bb-4a2d-8453-56f700ec6140"
      },
      "outputs": [],
      "source": [
        "real_test_pred          # 예측값들이 출력됨을 확인할 수 있습니다."
      ]
    },
    {
      "cell_type": "markdown",
      "metadata": {
        "id": "KlxtDBDNNa6Y"
      },
      "source": [
        "## 7. Output File Save"
      ]
    },
    {
      "cell_type": "code",
      "execution_count": null,
      "metadata": {
        "id": "Tn36fIuB42aM"
      },
      "outputs": [],
      "source": [
        "# 앞서 예측한 예측값들을 저장합니다.\n",
        "preds_df = pd.DataFrame(real_test_pred.astype(int), columns=[\"target\"])\n",
        "preds_df.to_csv('output.csv', index=False)"
      ]
    },
    {
      "cell_type": "code",
      "execution_count": null,
      "metadata": {},
      "outputs": [],
      "source": []
    }
  ],
  "metadata": {
    "colab": {
      "provenance": []
    },
    "kernelspec": {
      "display_name": "Python 3.10.13 ('base')",
      "language": "python",
      "name": "python3"
    },
    "language_info": {
      "codemirror_mode": {
        "name": "ipython",
        "version": 3
      },
      "file_extension": ".py",
      "mimetype": "text/x-python",
      "name": "python",
      "nbconvert_exporter": "python",
      "pygments_lexer": "ipython3",
      "version": "3.10.13"
    },
    "vscode": {
      "interpreter": {
        "hash": "d4d1e4263499bec80672ea0156c357c1ee493ec2b1c70f0acce89fc37c4a6abe"
      }
    }
  },
  "nbformat": 4,
  "nbformat_minor": 0
}
