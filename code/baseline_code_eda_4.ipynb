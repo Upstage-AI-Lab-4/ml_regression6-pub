{
  "cells": [
    {
      "cell_type": "markdown",
      "metadata": {
        "id": "92WHLz8346Yf"
      },
      "source": [
        "# **🏠 부동산 실거래가 Baseline code**\n",
        "> 부동산 실거래가 예측 대회에 오신 여러분 환영합니다! 🎉     \n",
        "> 아래 baseline에서는 RandomForest를 활용해 ML 방법론들을 실제 대회에 적용해보도록 하겠습니다.\n",
        "> 강의는 google colab으로 실행하였기에 아래의 베이스라인 코드와는 일부 차이가 있을 수 있습니다. \n",
        "\n",
        "## Contents\n",
        "- Library Import\n",
        "- Data Load\n",
        "- Data Preprocessing\n",
        "- Feature Engineering\n",
        "- Model Training\n",
        "- Inference\n",
        "- Output File Save\n"
      ]
    },
    {
      "cell_type": "markdown",
      "metadata": {
        "id": "2-DJzJjvO88V"
      },
      "source": [
        "## 1. Library Import\n",
        "- 필요한 라이브러리를 불러옵니다."
      ]
    },
    {
      "cell_type": "code",
      "execution_count": 29,
      "metadata": {
        "colab": {
          "base_uri": "https://localhost:8080/"
        },
        "id": "PKs1Mj7OcWU0",
        "outputId": "d142df48-acc5-4bca-c9be-18575aa6a6dc"
      },
      "outputs": [
        {
          "name": "stdout",
          "output_type": "stream",
          "text": [
            "Requirement already satisfied: eli5==0.13.0 in /opt/conda/lib/python3.10/site-packages (0.13.0)\n",
            "Requirement already satisfied: attrs>17.1.0 in /opt/conda/lib/python3.10/site-packages (from eli5==0.13.0) (23.1.0)\n",
            "Requirement already satisfied: jinja2>=3.0.0 in /opt/conda/lib/python3.10/site-packages (from eli5==0.13.0) (3.1.2)\n",
            "Requirement already satisfied: numpy>=1.9.0 in /opt/conda/lib/python3.10/site-packages (from eli5==0.13.0) (1.23.5)\n",
            "Requirement already satisfied: scipy in /opt/conda/lib/python3.10/site-packages (from eli5==0.13.0) (1.11.3)\n",
            "Requirement already satisfied: six in /opt/conda/lib/python3.10/site-packages (from eli5==0.13.0) (1.16.0)\n",
            "Requirement already satisfied: scikit-learn>=0.20 in /opt/conda/lib/python3.10/site-packages (from eli5==0.13.0) (1.2.2)\n",
            "Requirement already satisfied: graphviz in /opt/conda/lib/python3.10/site-packages (from eli5==0.13.0) (0.20.1)\n",
            "Requirement already satisfied: tabulate>=0.7.7 in /opt/conda/lib/python3.10/site-packages (from eli5==0.13.0) (0.9.0)\n",
            "Requirement already satisfied: MarkupSafe>=2.0 in /opt/conda/lib/python3.10/site-packages (from jinja2>=3.0.0->eli5==0.13.0) (2.1.1)\n",
            "Requirement already satisfied: joblib>=1.1.1 in /opt/conda/lib/python3.10/site-packages (from scikit-learn>=0.20->eli5==0.13.0) (1.3.2)\n",
            "Requirement already satisfied: threadpoolctl>=2.0.0 in /opt/conda/lib/python3.10/site-packages (from scikit-learn>=0.20->eli5==0.13.0) (3.2.0)\n",
            "\u001b[33mWARNING: Running pip as the 'root' user can result in broken permissions and conflicting behaviour with the system package manager. It is recommended to use a virtual environment instead: https://pip.pypa.io/warnings/venv\u001b[0m\u001b[33m\n",
            "Reading package lists... Done\n",
            "Building dependency tree       \n",
            "Reading state information... Done\n",
            "fonts-nanum is already the newest version (20180306-3).\n",
            "0 upgraded, 0 newly installed, 0 to remove and 14 not upgraded.\n"
          ]
        }
      ],
      "source": [
        "!pip install eli5==0.13.0\n",
        "\n",
        "# 한글 폰트 사용을 위한 라이브러리입니다.\n",
        "!apt-get install -y fonts-nanum"
      ]
    },
    {
      "cell_type": "markdown",
      "metadata": {
        "id": "OPJvYT0OPAWS"
      },
      "source": [
        "## 2. Data Load"
      ]
    },
    {
      "cell_type": "markdown",
      "metadata": {
        "id": "vvwnwnpNJeR1"
      },
      "source": [
        "#### 2.1. 데이터 로드"
      ]
    },
    {
      "cell_type": "code",
      "execution_count": 31,
      "metadata": {},
      "outputs": [
        {
          "data": {
            "text/plain": [
              "'/data/ephemeral/home/code'"
            ]
          },
          "execution_count": 31,
          "metadata": {},
          "output_type": "execute_result"
        }
      ],
      "source": [
        "import os\n",
        "os.getcwd()"
      ]
    },
    {
      "cell_type": "code",
      "execution_count": 9,
      "metadata": {
        "id": "hx6nk3N_4_Tk"
      },
      "outputs": [],
      "source": [
        "# 필요한 데이터를 load 하겠습니다. 경로는 환경에 맞게 지정해주면 됩니다.\n",
        "train_path = '../data/train.csv'\n",
        "test_path  = '../data/test.csv'\n",
        "dt = pd.read_csv(train_path)\n",
        "dt_test = pd.read_csv(test_path)"
      ]
    },
    {
      "cell_type": "code",
      "execution_count": 11,
      "metadata": {},
      "outputs": [
        {
          "data": {
            "text/plain": [
              "(9272, 52)"
            ]
          },
          "execution_count": 11,
          "metadata": {},
          "output_type": "execute_result"
        }
      ],
      "source": [
        "dt_test.shape\n",
        "# dt['계약년월'].value_counts()"
      ]
    },
    {
      "cell_type": "code",
      "execution_count": 10,
      "metadata": {
        "id": "vltXVoeRhZiI"
      },
      "outputs": [],
      "source": [
        "# train/test 구분을 위한 칼럼을 하나 만들어 줍니다.\n",
        "dt['is_test'] = 0\n",
        "dt_test['is_test'] = 1\n",
        "\n",
        "concat = pd.concat([dt, dt_test])     # 하나의 데이터로 만들어줍니다."
      ]
    },
    {
      "cell_type": "code",
      "execution_count": 12,
      "metadata": {},
      "outputs": [
        {
          "data": {
            "text/plain": [
              "0    1118822\n",
              "1       9272\n",
              "Name: is_test, dtype: int64"
            ]
          },
          "execution_count": 12,
          "metadata": {},
          "output_type": "execute_result"
        }
      ],
      "source": [
        "concat['is_test'].value_counts()"
      ]
    },
    {
      "cell_type": "code",
      "execution_count": 13,
      "metadata": {},
      "outputs": [],
      "source": [
        "# 칼럼 이름을 쉽게 바꿔주겠습니다. 다른 칼럼도 사용에 따라 바꿔주셔도 됩니다!\n",
        "concat = concat.rename(columns={'전용면적(㎡)':'전용면적'})"
      ]
    },
    {
      "cell_type": "code",
      "execution_count": 14,
      "metadata": {},
      "outputs": [],
      "source": [
        "# 주소로 unique id를 만들어봅니다\n",
        "\n",
        "concat['본번'] = concat['본번'].fillna(-1)\n",
        "concat['부번'] = concat['부번'].fillna(-1)\n",
        "\n",
        "concat['본번'] = concat['본번'].astype(int).astype(str).replace({-1: np.nan})\n",
        "concat['부번'] = concat['부번'].astype(int).astype(str).replace({-1: np.nan})\n",
        "\n",
        "concat['지번_temp'] = concat['본번'] + '-' + concat['부번']\n",
        "\n",
        "concat['번지'] = concat['번지'].fillna(concat['지번_temp'])\n",
        "concat['번지'].isnull().sum()\n",
        "\n",
        "concat = concat.drop('지번_temp', axis=1)"
      ]
    },
    {
      "cell_type": "code",
      "execution_count": 15,
      "metadata": {},
      "outputs": [],
      "source": [
        "# 본번, 부번의 경우 float로 되어있지만 범주형 변수의 의미를 가지므로 object(string) 형태로 바꾸어주고 아래 작업을 진행하겠습니다.\n",
        "concat['본번'] = concat['본번'].astype('str')\n",
        "concat['부번'] = concat['부번'].astype('str')\n",
        "\n",
        "\n",
        "# '시군구'와 '번지'를 이용해 unique id를 만들어준다\n",
        "concat['주소'] = concat['시군구'] + ' ' + concat['번지']"
      ]
    },
    {
      "cell_type": "markdown",
      "metadata": {},
      "source": [
        "### xy좌표 결측치를 제거해봅니다"
      ]
    },
    {
      "cell_type": "code",
      "execution_count": 16,
      "metadata": {},
      "outputs": [
        {
          "data": {
            "text/plain": [
              "0    1118822\n",
              "1       9272\n",
              "Name: is_test, dtype: int64"
            ]
          },
          "execution_count": 16,
          "metadata": {},
          "output_type": "execute_result"
        }
      ],
      "source": [
        "concat['is_test'].value_counts()"
      ]
    },
    {
      "cell_type": "code",
      "execution_count": 190,
      "metadata": {},
      "outputs": [],
      "source": [
        "concat_temp = concat"
      ]
    },
    {
      "cell_type": "code",
      "execution_count": 17,
      "metadata": {},
      "outputs": [],
      "source": [
        "# xy좌표를 불러오고 unique id를 맞춰준다\n",
        "\n",
        "coordinates = pd.read_csv('../data/xy좌표.csv', encoding='cp949')\n",
        "\n",
        "coordinates['주소'] = coordinates['시군구'] + ' ' + coordinates['번지']"
      ]
    },
    {
      "cell_type": "code",
      "execution_count": 18,
      "metadata": {},
      "outputs": [
        {
          "data": {
            "text/plain": [
              "0    1118822\n",
              "1       9272\n",
              "Name: is_test, dtype: int64"
            ]
          },
          "execution_count": 18,
          "metadata": {},
          "output_type": "execute_result"
        }
      ],
      "source": [
        "concat['is_test'].value_counts()"
      ]
    },
    {
      "cell_type": "code",
      "execution_count": 207,
      "metadata": {},
      "outputs": [
        {
          "data": {
            "text/plain": [
              "0    서울특별시 금천구 독산동 1022-124\n",
              "1    서울특별시 금천구 독산동 1022-120\n",
              "2      서울특별시 종로구 창신동 595-99\n",
              "3     서울특별시 종로구 창신동 595-247\n",
              "4     서울특별시 금천구 독산동 1037-23\n",
              "Name: 주소, dtype: object"
            ]
          },
          "execution_count": 207,
          "metadata": {},
          "output_type": "execute_result"
        }
      ],
      "source": [
        "coordinates['주소'].head()"
      ]
    },
    {
      "cell_type": "code",
      "execution_count": null,
      "metadata": {},
      "outputs": [],
      "source": [
        "import pandasql as psql\n",
        "\n",
        "# SQL 쿼리로 병합\n",
        "query = \"\"\"\n",
        "SELECT concat.*, coordinates.x, coordinates.y\n",
        "FROM concat\n",
        "LEFT JOIN coordinates\n",
        "ON concat.주소 = coordinates.주소\n",
        "\"\"\"\n",
        "result = psql.sqldf(query, locals())\n",
        "\n",
        "print(result)"
      ]
    },
    {
      "cell_type": "code",
      "execution_count": 19,
      "metadata": {},
      "outputs": [
        {
          "data": {
            "text/plain": [
              "0    1131730\n",
              "1       9390\n",
              "Name: is_test, dtype: int64"
            ]
          },
          "execution_count": 19,
          "metadata": {},
          "output_type": "execute_result"
        }
      ],
      "source": [
        "concat_temp = pd.merge(concat, coordinates, left_on='주소', right_on='주소', how='left', suffixes=('_A', '_B'))\n",
        "\n",
        "# concat = concat_temp\n",
        "\n",
        "concat_temp['is_test'].value_counts()\n",
        "# concat = concat.drop(columns=['시군구_B', '번지_B'])\n",
        "\n",
        "# concat = concat.rename(columns={'시군구_A':'시군구'})\n",
        "# concat = concat.rename(columns={'번지_A':'번지'})"
      ]
    },
    {
      "cell_type": "markdown",
      "metadata": {},
      "source": [
        "### xy좌표 결측치 채우기(주소로 정렬한 후 선형보간으로 채우기)"
      ]
    },
    {
      "cell_type": "code",
      "execution_count": 182,
      "metadata": {},
      "outputs": [
        {
          "data": {
            "text/plain": [
              "0    1131730\n",
              "1       9390\n",
              "Name: is_test, dtype: int64"
            ]
          },
          "execution_count": 182,
          "metadata": {},
          "output_type": "execute_result"
        }
      ],
      "source": [
        "concat['is_test'].value_counts()"
      ]
    },
    {
      "cell_type": "code",
      "execution_count": 182,
      "metadata": {},
      "outputs": [],
      "source": [
        "# xy좌표 결측치 채우기(주소로 정렬한 후 선형보간으로 채우기)\n",
        "\n",
        "concat_sorted = concat.sort_values(by='주소')\n",
        "\n",
        "# 연속형 변수에 대한 보간 (선형 보간)\n",
        "col = ['x', 'y']\n",
        "concat_sorted[col] = concat_sorted[col].interpolate(method='linear', axis=0)\n",
        "\n",
        "concat = concat_sorted.sort_index()"
      ]
    },
    {
      "cell_type": "code",
      "execution_count": 183,
      "metadata": {},
      "outputs": [],
      "source": [
        "concat['계약년월'] = concat['계약년월'].astype(str)\n",
        "\n",
        "concat['계약년'] = concat['계약년월'].str[:4]\n",
        "concat['계약월'] = concat['계약년월'].str[4:]\n",
        "\n",
        "concat['계약년'] = concat['계약년'].astype(int)\n",
        "concat['계약월'] = concat['계약월'].astype(int)"
      ]
    },
    {
      "cell_type": "code",
      "execution_count": 184,
      "metadata": {},
      "outputs": [],
      "source": [
        "# 해제사유발생 = 1, 미발생 = 0 으로 바꾸기\n",
        "\n",
        "concat['거래취소여부'] = concat['해제사유발생일'].notnull().astype(int)\n",
        "\n",
        "concat['거래취소여부'].value_counts()\n",
        "\n",
        "concat = concat.drop(columns = '해제사유발생일',  errors='ignore')"
      ]
    },
    {
      "cell_type": "code",
      "execution_count": 187,
      "metadata": {},
      "outputs": [],
      "source": [
        "# 불필요한 컬럼 제거\n",
        "\n",
        "drop_columns = ['아파트명', '도로명', '등기신청일자', '거래유형', '중개사소재지', '좌표X', '좌표Y','계약년월'\n",
        "                'k-전화번호', 'k-팩스번호', '단지소개기존clob', 'k-관리방식', 'k-난방방식', 'k-시행사', 'k-사용검사일-사용승인일', 'k-연면적', 'k-주거전용면적', 'k-관리비부과면적', 'k-전용면적별세대현황(60㎡이하)',\n",
        "                'k-전용면적별세대현황(60㎡~85㎡이하)', 'k-85㎡~135㎡이하', 'k-135㎡초과', 'k-홈페이지', '단지승인일',\n",
        "                'k-등록일자', 'k-수정일자', '고용보험관리번호', '경비비관리형태', '세대전기계약방법', '청소비관리형태', '기타/의무/임대/임의=1/2/3/4', '기타/의무/임대/임의=1/2/3/4', '사용허가여부', '관리비 업로드', '단지신청일'\n",
        "                ]\n",
        "\n",
        "concat = concat.drop(columns = drop_columns,  errors='ignore')"
      ]
    },
    {
      "cell_type": "code",
      "execution_count": 188,
      "metadata": {},
      "outputs": [],
      "source": [
        "# 거래일 건물연식\n",
        "\n",
        "concat['거래일건물연식'] = concat['계약년'] - concat['건축년도']"
      ]
    },
    {
      "cell_type": "code",
      "execution_count": 189,
      "metadata": {},
      "outputs": [],
      "source": [
        "# 시군구, 년월 등 분할할 수 있는 변수들은 세부사항 고려를 용이하게 하기 위해 모두 분할해 주겠습니다.\n",
        "concat['구'] = concat['시군구'].map(lambda x : x.split()[1])\n",
        "concat['동'] = concat['시군구'].map(lambda x : x.split()[2])\n",
        "del concat['시군구']\n",
        "\n",
        "# concat_select['계약년'] = concat_select['계약년월'].astype('str').map(lambda x : x[:4])\n",
        "# concat_select['계약월'] = concat_select['계약년월'].astype('str').map(lambda x : x[4:])\n",
        "del concat['계약년월']"
      ]
    },
    {
      "cell_type": "code",
      "execution_count": 191,
      "metadata": {},
      "outputs": [],
      "source": [
        "all = list(concat['구'].unique())\n",
        "gangnam = ['강서구', '영등포구', '동작구', '서초구', '강남구', '송파구', '강동구']\n",
        "gangbuk = [x for x in all if x not in gangnam]\n",
        "\n",
        "assert len(all) == len(gangnam) + len(gangbuk)       # 알맞게 분리되었는지 체크합니다.\n",
        "\n",
        "# 강남의 여부를 체크합니다.\n",
        "is_gangnam = []\n",
        "for x in concat['구'].tolist() :\n",
        "  if x in gangnam :\n",
        "    is_gangnam.append(1)\n",
        "  else :\n",
        "    is_gangnam.append(0)\n",
        "\n",
        "# 파생변수를 하나 만릅니다.\n",
        "concat['강남여부'] = is_gangnam"
      ]
    },
    {
      "cell_type": "code",
      "execution_count": 192,
      "metadata": {},
      "outputs": [],
      "source": [
        "# 따라서 2009년 이후에 지어졌으면 비교적 신축이라고 판단하고, 신축 여부 변수를 제작해보도록 하겠습니다.\n",
        "# 노후건축물 기준에 맞추어 거래일 기준 20년 미만일 시 신축으로 분류\n",
        "concat['신축여부'] = concat['거래일건물연식'].apply(lambda x: 1 if x < 20 else 0)"
      ]
    },
    {
      "cell_type": "code",
      "execution_count": null,
      "metadata": {
        "colab": {
          "base_uri": "https://localhost:8080/"
        },
        "id": "msOiDlOPQ8hS",
        "outputId": "4ab60461-ef7e-4037-e6f4-5de494eed5bd"
      },
      "outputs": [],
      "source": [
        "# EDA에 앞서 결측치를 확인해보겠습니다.\n",
        "concat.isnull().sum()\n",
        "\n",
        "# concat.columns"
      ]
    },
    {
      "cell_type": "code",
      "execution_count": 194,
      "metadata": {},
      "outputs": [],
      "source": [
        "concat.to_csv('../data/base_dataset.csv', index=False)"
      ]
    },
    {
      "cell_type": "markdown",
      "metadata": {},
      "source": [
        "### 기본 데이터셋 정의"
      ]
    },
    {
      "cell_type": "code",
      "execution_count": 69,
      "metadata": {},
      "outputs": [],
      "source": [
        "# 위 코드까지 실행할 결과를 새로운 기본 데이터셋으로 삼음\n",
        "concat = pd.read_csv('../data/base_dataset.csv')\n",
        "\n",
        "drop_col = ['k-단지분류(아파트,주상복합등등)', 'k-세대타입(분양형태)', 'k-복도유형', 'k-전체동수', 'k-전체세대수', 'k-건설사(시공사)', '건축면적', '주차대수']\n",
        "\n",
        "concat = concat.drop(columns = drop_col, errors = 'ignore')"
      ]
    },
    {
      "cell_type": "markdown",
      "metadata": {},
      "source": [
        "### 빈 데이터를 채움"
      ]
    },
    {
      "cell_type": "code",
      "execution_count": 70,
      "metadata": {},
      "outputs": [
        {
          "data": {
            "text/html": [
              "<div>\n",
              "<style scoped>\n",
              "    .dataframe tbody tr th:only-of-type {\n",
              "        vertical-align: middle;\n",
              "    }\n",
              "\n",
              "    .dataframe tbody tr th {\n",
              "        vertical-align: top;\n",
              "    }\n",
              "\n",
              "    .dataframe thead th {\n",
              "        text-align: right;\n",
              "    }\n",
              "</style>\n",
              "<table border=\"1\" class=\"dataframe\">\n",
              "  <thead>\n",
              "    <tr style=\"text-align: right;\">\n",
              "      <th></th>\n",
              "      <th>주소</th>\n",
              "      <th>건축면적</th>\n",
              "      <th>연면적</th>\n",
              "      <th>대지면적</th>\n",
              "      <th>건폐율</th>\n",
              "      <th>용적율</th>\n",
              "    </tr>\n",
              "  </thead>\n",
              "  <tbody>\n",
              "    <tr>\n",
              "      <th>0</th>\n",
              "      <td>서울특별시 강남구 개포동 1055</td>\n",
              "      <td>507.18</td>\n",
              "      <td>11729.79</td>\n",
              "      <td>3017.0</td>\n",
              "      <td>16.81</td>\n",
              "      <td>51.99</td>\n",
              "    </tr>\n",
              "    <tr>\n",
              "      <th>1</th>\n",
              "      <td>서울특별시 강남구 개포동 1057-9</td>\n",
              "      <td>608.80</td>\n",
              "      <td>1359.20</td>\n",
              "      <td>3062.0</td>\n",
              "      <td>19.88</td>\n",
              "      <td>39.76</td>\n",
              "    </tr>\n",
              "    <tr>\n",
              "      <th>2</th>\n",
              "      <td>서울특별시 강남구 개포동 108</td>\n",
              "      <td>0.00</td>\n",
              "      <td>0.00</td>\n",
              "      <td>0.0</td>\n",
              "      <td>0.00</td>\n",
              "      <td>0.00</td>\n",
              "    </tr>\n",
              "    <tr>\n",
              "      <th>3</th>\n",
              "      <td>서울특별시 강남구 개포동 109</td>\n",
              "      <td>0.00</td>\n",
              "      <td>0.00</td>\n",
              "      <td>0.0</td>\n",
              "      <td>0.00</td>\n",
              "      <td>0.00</td>\n",
              "    </tr>\n",
              "    <tr>\n",
              "      <th>4</th>\n",
              "      <td>서울특별시 강남구 개포동 112-1</td>\n",
              "      <td>0.00</td>\n",
              "      <td>0.00</td>\n",
              "      <td>0.0</td>\n",
              "      <td>0.00</td>\n",
              "      <td>0.00</td>\n",
              "    </tr>\n",
              "  </tbody>\n",
              "</table>\n",
              "</div>"
            ],
            "text/plain": [
              "                     주소    건축면적       연면적    대지면적    건폐율    용적율\n",
              "0    서울특별시 강남구 개포동 1055  507.18  11729.79  3017.0  16.81  51.99\n",
              "1  서울특별시 강남구 개포동 1057-9  608.80   1359.20  3062.0  19.88  39.76\n",
              "2     서울특별시 강남구 개포동 108    0.00      0.00     0.0   0.00   0.00\n",
              "3     서울특별시 강남구 개포동 109    0.00      0.00     0.0   0.00   0.00\n",
              "4   서울특별시 강남구 개포동 112-1    0.00      0.00     0.0   0.00   0.00"
            ]
          },
          "execution_count": 70,
          "metadata": {},
          "output_type": "execute_result"
        }
      ],
      "source": [
        "# 지번별 건물정보가 담긴 gis건물통합정보 파일을 불러와 데이터 병합하기\n",
        "\n",
        "gis = pd.read_csv('../data/gis건물통합정보.csv')\n",
        "\n",
        "drop_col = ['Unnamed: 0', '법정동명', '번지', '사용승인일자']\n",
        "gis = gis.drop(columns = drop_col)\n",
        "\n",
        "gis = gis.rename(columns={'ID':'주소'})\n",
        "\n",
        "gis= gis.groupby('주소', as_index=False).agg({'건축면적': 'sum', '연면적': 'sum', '대지면적': 'sum', '건폐율': 'sum', '용적율': 'sum'})\n",
        "\n",
        "gis.head()"
      ]
    },
    {
      "cell_type": "code",
      "execution_count": 71,
      "metadata": {},
      "outputs": [],
      "source": [
        "from sklearn.experimental import enable_iterative_imputer\n",
        "from sklearn.impute import IterativeImputer\n",
        "\n",
        "# IterativeImputer 사용 보간\n",
        "concat_temp = pd.merge(concat, gis, on='주소', how='left', suffixes=('_A', '_B'))\n",
        "concat_temp.sort_values('주소')\n",
        "\n",
        "col = ['건축면적', '연면적', '대지면적', '건폐율', '용적율']\n",
        "concat_temp[col] = concat_temp[col].replace(0, np.nan)\n",
        "\n",
        "imputer = IterativeImputer(max_iter=10, random_state=0)\n",
        "concat_temp[col] = pd.DataFrame(imputer.fit_transform(concat_temp[col]), columns=[col])\n",
        "\n",
        "\n",
        "concat_temp.sort_index()\n",
        "\n",
        "concat = concat_temp"
      ]
    },
    {
      "cell_type": "code",
      "execution_count": 73,
      "metadata": {},
      "outputs": [
        {
          "data": {
            "text/plain": [
              "0          1\n",
              "1          1\n",
              "2          1\n",
              "3          1\n",
              "4          1\n",
              "          ..\n",
              "1141115    0\n",
              "1141116    0\n",
              "1141117    0\n",
              "1141118    0\n",
              "1141119    0\n",
              "Name: 부번, Length: 1141120, dtype: object"
            ]
          },
          "execution_count": 73,
          "metadata": {},
          "output_type": "execute_result"
        }
      ],
      "source": [
        "concat['거래취소여부'].astype(str)\n",
        "concat['강남여부'].astype(str)\n",
        "concat['층'].astype(str)\n",
        "concat['본번'].astype(str)\n",
        "concat['부번'].astype(str)"
      ]
    },
    {
      "cell_type": "code",
      "execution_count": 74,
      "metadata": {},
      "outputs": [],
      "source": [
        "# concat.to_csv('../data/base_dataset_1.csv', index=False)"
      ]
    },
    {
      "cell_type": "markdown",
      "metadata": {},
      "source": [
        "### target값을 제곱미터당 가격으로 변경"
      ]
    },
    {
      "cell_type": "code",
      "execution_count": 112,
      "metadata": {},
      "outputs": [],
      "source": [
        "concat = pd.read_csv('../data/base_dataset_1.csv')"
      ]
    },
    {
      "cell_type": "code",
      "execution_count": 113,
      "metadata": {},
      "outputs": [],
      "source": [
        "# 평균층수 파생변수 추가\n",
        "concat['평균층수'] = concat['연면적'] / concat['건축면적']"
      ]
    },
    {
      "cell_type": "code",
      "execution_count": 114,
      "metadata": {},
      "outputs": [],
      "source": [
        "# target값을 평당 가격으로 바꿈 -> 최종 결과때 다시 new_target을 전용면적으로 곱하여 rmes구해야함\n",
        "\n",
        "concat.rename(columns={'target': 'target_original'}, inplace=True)\n",
        "\n",
        "concat['target'] = concat['target_original'] / concat['전용면적']\n",
        "\n",
        "# concat.info()"
      ]
    },
    {
      "cell_type": "code",
      "execution_count": 115,
      "metadata": {},
      "outputs": [],
      "source": [
        "concat = concat.drop(columns = 'target_original')"
      ]
    },
    {
      "cell_type": "code",
      "execution_count": 116,
      "metadata": {},
      "outputs": [],
      "source": [
        "str_columns = ['본번', '부번', '거래취소여부', '구', '동', '강남여부', '신축여부']\n",
        "\n",
        "concat[str_columns] = concat[str_columns].astype(str)\n",
        "\n",
        "# concat.info()"
      ]
    },
    {
      "cell_type": "code",
      "execution_count": null,
      "metadata": {},
      "outputs": [],
      "source": []
    },
    {
      "cell_type": "code",
      "execution_count": null,
      "metadata": {},
      "outputs": [],
      "source": []
    },
    {
      "cell_type": "code",
      "execution_count": 117,
      "metadata": {},
      "outputs": [],
      "source": [
        "# concat.to_csv('../data/base_dataset_2.csv', index=False)"
      ]
    },
    {
      "cell_type": "code",
      "execution_count": 46,
      "metadata": {},
      "outputs": [],
      "source": [
        "# 인구증감율 or 인구수\n",
        "from sklearn.experimental import enable_iterative_imputer\n",
        "from sklearn.impute import IterativeImputer\n",
        "\n",
        "population = pd.read_csv('../data/population.csv')\n",
        "\n",
        "population['20대'] = population['20 - 24세'] + population['25 - 29세']\n",
        "population['30대'] = population['30 - 34세'] + population['35 - 39세']\n",
        "population['40대'] = population['40 - 44세'] + population['45 - 49세']\n",
        "\n",
        "pop = population[['index', '20대', '30대', '40대']]\n",
        "pop = pop.rename(columns = {'index': '계약년월'})\n",
        "pop['계약년월'] = pop['계약년월'].astype(str)\n",
        "\n",
        "pop['20대'] = pop['20대'].diff()\n",
        "pop['30대'] = pop['30대'].diff()\n",
        "pop['40대'] = pop['40대'].diff()\n",
        "\n",
        "concat_temp = pd.merge(concat, pop, on='계약년월', how='left', suffixes=('_A', '_B'))\n",
        "\n",
        "\n",
        "col = ['20대', '30대', '40대']\n",
        "\n",
        "imputer = IterativeImputer(max_iter=10, random_state=0)\n",
        "concat_temp[col] = pd.DataFrame(imputer.fit_transform(concat_temp[col]), columns=[col])\n",
        "\n",
        "concat_temp.head()\n",
        "concat = concat_temp"
      ]
    },
    {
      "cell_type": "code",
      "execution_count": 95,
      "metadata": {},
      "outputs": [],
      "source": [
        "# 혼인율\n",
        "marriage = pd.read_csv('../data/혼인율.csv')\n",
        "\n",
        "marriage = marriage.T\n",
        "\n",
        "marriage.columns = marriage.iloc[0]\n",
        "marriage = marriage.drop(index='시군구별')\n",
        "\n",
        "marriage = marriage.reset_index()\n",
        "marriage = marriage[['index', '서울특별시']]\n",
        "\n",
        "marriage['index'] = marriage['index'].str.replace('.', '')\n",
        "marriage = marriage.rename(columns = {'index' : '계약년월', '서울특별시' : '혼인건수'})\n",
        "\n",
        "marriage.head()\n",
        "\n",
        "concat = pd.merge(concat, marriage, on='계약년월', how='left', suffixes=('_A', '_B'))\n",
        "\n",
        "concat['혼인건수'] = concat['혼인건수'].astype(int)\n"
      ]
    },
    {
      "cell_type": "code",
      "execution_count": 1,
      "metadata": {
        "id": "d-NiCLGs4ZpM"
      },
      "outputs": [],
      "source": [
        "# visualization\n",
        "import matplotlib.pyplot as plt\n",
        "import matplotlib.font_manager as fm\n",
        "fe = fm.FontEntry(\n",
        "    fname=r'/usr/share/fonts/truetype/nanum/NanumGothic.ttf', # ttf 파일이 저장되어 있는 경로\n",
        "    name='NanumBarunGothic')                        # 이 폰트의 원하는 이름 설정\n",
        "fm.fontManager.ttflist.insert(0, fe)              # Matplotlib에 폰트 추가\n",
        "plt.rcParams.update({'font.size': 10, 'font.family': 'NanumBarunGothic'}) # 폰트 설정\n",
        "plt.rc('font', family='NanumBarunGothic')\n",
        "import seaborn as sns\n",
        "\n",
        "# utils\n",
        "import pandas as pd\n",
        "import numpy as np\n",
        "from tqdm import tqdm\n",
        "import pickle\n",
        "import warnings;warnings.filterwarnings('ignore')\n",
        "\n",
        "# Model\n",
        "from sklearn.preprocessing import LabelEncoder\n",
        "from sklearn.model_selection import train_test_split\n",
        "from sklearn.metrics import mean_squared_error\n",
        "from sklearn.ensemble import RandomForestRegressor\n",
        "from sklearn import metrics\n",
        "\n",
        "import eli5\n",
        "from eli5.sklearn import PermutationImportance"
      ]
    },
    {
      "cell_type": "markdown",
      "metadata": {},
      "source": [
        "### dataset_2 시작"
      ]
    },
    {
      "cell_type": "code",
      "execution_count": 153,
      "metadata": {},
      "outputs": [],
      "source": [
        "# concat = pd.read_csv('../data/base_dataset_2.csv')"
      ]
    },
    {
      "cell_type": "code",
      "execution_count": 6,
      "metadata": {},
      "outputs": [],
      "source": [
        "concat1 = pd.read_csv('../data/base_dataset_3.csv')"
      ]
    },
    {
      "cell_type": "code",
      "execution_count": 5,
      "metadata": {},
      "outputs": [
        {
          "data": {
            "text/plain": [
              " 5     82748\n",
              " 4     82633\n",
              " 3     81089\n",
              " 2     77575\n",
              " 6     74215\n",
              "       ...  \n",
              " 68        6\n",
              " 65        6\n",
              " 67        6\n",
              "-4         4\n",
              " 69        2\n",
              "Name: 층, Length: 73, dtype: int64"
            ]
          },
          "execution_count": 5,
          "metadata": {},
          "output_type": "execute_result"
        }
      ],
      "source": [
        "concat['층'].value_counts()"
      ]
    },
    {
      "cell_type": "code",
      "execution_count": 152,
      "metadata": {},
      "outputs": [],
      "source": [
        "concat['계약월'] = concat['계약월'].astype(str).str.zfill(2)"
      ]
    },
    {
      "cell_type": "code",
      "execution_count": 153,
      "metadata": {},
      "outputs": [],
      "source": [
        "# 금리데이터를 넣습니다\n",
        "\n",
        "concat['계약년월'] = concat['계약년'].astype(str) + '' + concat['계약월'].astype(str)\n",
        "\n",
        "interest = pd.read_csv('../data/한국기준금리07-23.csv')\n",
        "\n",
        "interest['날짜'] = interest['날짜'].astype(str)\n",
        "interest['계약년월'] = interest['날짜'].str[:6]\n",
        "interest.drop(columns = '날짜', inplace = True)"
      ]
    },
    {
      "cell_type": "code",
      "execution_count": 154,
      "metadata": {},
      "outputs": [],
      "source": [
        "# interest['계약년월'].fillna('-1')\n",
        "# interest['계약년월'] = interest['계약년월'].astype(str)\n",
        "concat['계약년월'] = concat['계약년월'].astype(str)\n",
        "\n",
        "concat_temp = pd.merge(concat, interest, on='계약년월', how='left', suffixes=('_A', '_B'))\n",
        "\n",
        "# concat_temp.drop(columns='계약년월', inplace=True)\n",
        "concat = concat_temp"
      ]
    },
    {
      "cell_type": "code",
      "execution_count": 155,
      "metadata": {},
      "outputs": [],
      "source": [
        "# 평형별로 초소형, 소형, 중형, 대형으로 분류\n",
        "\n",
        "bins = [0, 26, 50, 60, 85, 245, float('inf')]\n",
        "labels = [0, 1, 2, 3, 4, 5]\n",
        "\n",
        "concat['면적분류'] = pd.cut(concat['전용면적'], bins=bins, labels=labels, right=False)"
      ]
    },
    {
      "cell_type": "code",
      "execution_count": 136,
      "metadata": {},
      "outputs": [],
      "source": [
        "# 층 이상치 제거\n",
        "\n",
        "train1 = concat.query('is_test == 0')       # train data 내에 있는 이상치만 제거하도록 하겠습니다.\n",
        "test1 = concat.query('is_test == 1')\n",
        "\n",
        "train1 = train1[train1['층'] >= 1]\n",
        "\n",
        "# 거래일 건물연식 이상치 제거\n",
        "train1 = train1[train1['거래일건물연식'] >= 0]\n",
        "\n",
        "# 옛날 계약 데이터 삭제 - 12년도 이전 삭제해봄\n",
        "train1 = train1[train1['계약년'] >= 2012]\n",
        "\n",
        "# 건축물 준공연도\n",
        "concat = pd.concat([train1, test1])\n"
      ]
    },
    {
      "cell_type": "code",
      "execution_count": 156,
      "metadata": {},
      "outputs": [
        {
          "data": {
            "text/plain": [
              " 5     86440\n",
              " 4     86244\n",
              " 3     84754\n",
              " 2     80999\n",
              " 6     77372\n",
              "       ...  \n",
              " 68        6\n",
              " 65        6\n",
              " 67        6\n",
              "-4         4\n",
              " 69        2\n",
              "Name: 층, Length: 73, dtype: int64"
            ]
          },
          "execution_count": 156,
          "metadata": {},
          "output_type": "execute_result"
        }
      ],
      "source": [
        "concat['층'].value_counts()"
      ]
    },
    {
      "cell_type": "code",
      "execution_count": 138,
      "metadata": {},
      "outputs": [],
      "source": [
        "concat.loc[(concat['층'] < 1), '층'] = 1"
      ]
    },
    {
      "cell_type": "code",
      "execution_count": 137,
      "metadata": {},
      "outputs": [],
      "source": [
        "#IQR 이상치 제거\n",
        "\n",
        "\n",
        "# train1 = concat.query('is_test == 0')       # train data 내에 있는 이상치만 제거하도록 하겠습니다.\n",
        "# test1 = concat.query('is_test == 1')\n",
        "def iqr_both(df, column_name):\n",
        "\n",
        "    Q1 = df[column_name].quantile(0.25)\n",
        "    Q3 = df[column_name].quantile(0.75)\n",
        "    IQR = Q3 - Q1\n",
        "\n",
        "    lower_bound = Q1 - 1.5 * IQR\n",
        "    upper_bound = Q3 + 1.5 * IQR\n",
        "\n",
        "    df = df[(df[column_name] >= lower_bound) & (df[column_name] <= upper_bound)]\n",
        "\n",
        "    return df\n",
        "\n",
        "def iqr_upper(df, column_name):\n",
        "\n",
        "    Q1 = df[column_name].quantile(0.25)\n",
        "    Q3 = df[column_name].quantile(0.75)\n",
        "    IQR = Q3 - Q1\n",
        "    upper_bound = Q3 + 1.5 * IQR\n",
        "\n",
        "    df = df[(df[column_name] <= upper_bound)]\n",
        "\n",
        "    return df\n",
        "\n",
        "def iqr_lower(df, column_name):\n",
        "    Q1 = df[column_name].quantile(0.25)\n",
        "    Q3 = df[column_name].quantile(0.75)\n",
        "    IQR = Q3 - Q1\n",
        "    lower_bound = Q1 - 1.5 * IQR\n",
        "\n",
        "    df = df[(df[column_name] >= lower_bound)]\n",
        "\n",
        "    return df\n",
        "\n",
        "\n",
        "train1 = iqr_upper(train1, '연면적')\n",
        "train1 = iqr_lower(train1, '계약년')\n",
        "# train1 = iqr_both(train1, 'target')s\n",
        "\n",
        "# concat = pd.concat([train1, test1])\n",
        "train1['계약년'].describe()\n",
        "\n",
        "concat = pd.concat([train1, test1])"
      ]
    },
    {
      "cell_type": "code",
      "execution_count": 118,
      "metadata": {},
      "outputs": [],
      "source": [
        "concat = concat[(concat['층'] >= 1) | (concat['is_test'] == 1)]"
      ]
    },
    {
      "cell_type": "code",
      "execution_count": 101,
      "metadata": {},
      "outputs": [
        {
          "data": {
            "text/plain": [
              "5     85880\n",
              "4     85656\n",
              "3     84226\n",
              "2     80461\n",
              "6     76773\n",
              "      ...  \n",
              "61        8\n",
              "68        6\n",
              "67        6\n",
              "65        5\n",
              "69        2\n",
              "Name: 층, Length: 69, dtype: int64"
            ]
          },
          "execution_count": 101,
          "metadata": {},
          "output_type": "execute_result"
        }
      ],
      "source": [
        "train1 = concat.query('is_test == 0') \n",
        "train1['층'].value_counts()"
      ]
    },
    {
      "cell_type": "code",
      "execution_count": 140,
      "metadata": {},
      "outputs": [
        {
          "data": {
            "text/plain": [
              "5     56924\n",
              "4     56911\n",
              "3     55697\n",
              "2     53148\n",
              "6     51402\n",
              "      ...  \n",
              "67        2\n",
              "61        2\n",
              "59        2\n",
              "68        1\n",
              "65        1\n",
              "Name: 층, Length: 68, dtype: int64"
            ]
          },
          "execution_count": 140,
          "metadata": {},
          "output_type": "execute_result"
        }
      ],
      "source": [
        "pd.set_option('display.float_format', '{:.6f}'.format)\n",
        "\n",
        "concat['층'].value_counts()"
      ]
    },
    {
      "cell_type": "code",
      "execution_count": 72,
      "metadata": {},
      "outputs": [
        {
          "data": {
            "image/png": "[encoded data removed]",
            "text/plain": [
              "<Figure size 700x300 with 1 Axes>"
            ]
          },
          "metadata": {},
          "output_type": "display_data"
        }
      ],
      "source": [
        "# 기타 이상치를 확인해봄\n",
        "\n",
        "pd.set_option('display.float_format', '{:.6f}'.format)\n",
        "\n",
        "concat['층'].describe()\n",
        "\n",
        "fig = plt.figure(figsize=(7, 3))\n",
        "sns.boxplot(data = train1, x = '층', color='lightgreen')\n",
        "plt.title('건축년도 분포')\n",
        "plt.xlabel('Area')\n",
        "plt.show()"
      ]
    },
    {
      "cell_type": "code",
      "execution_count": null,
      "metadata": {},
      "outputs": [],
      "source": [
        "# sns.histplot(concat['연면적'], kde=True)\n",
        "# plt.title('연면적')\n",
        "# plt.xlabel('건축년도')\n",
        "# plt.ylabel('year')\n",
        "# plt.show()"
      ]
    },
    {
      "cell_type": "code",
      "execution_count": 58,
      "metadata": {},
      "outputs": [
        {
          "data": {
            "text/plain": [
              "Index(['번지', '본번', '부번', '전용면적', '계약일', '층', '건축년도', 'target', 'is_test', '주소',\n",
              "       'x', 'y', '계약년', '계약월', '거래취소여부', '거래일건물연식', '구', '동', '강남여부', '신축여부',\n",
              "       '건축면적', '연면적', '대지면적', '건폐율', '용적율', '평균층수', '계약년월', '기준금리', '면적분류'],\n",
              "      dtype='object')"
            ]
          },
          "execution_count": 58,
          "metadata": {},
          "output_type": "execute_result"
        }
      ],
      "source": [
        "concat.columns"
      ]
    },
    {
      "cell_type": "code",
      "execution_count": 120,
      "metadata": {},
      "outputs": [],
      "source": [
        "# 타임스플릿 전에 날짜별로 sorting해봄\n",
        "\n",
        "concat.rename(columns={'계약년': 'year', '계약월': 'month', '계약일': 'day'}, inplace=True)\n",
        "concat['계약날짜'] = pd.to_datetime(concat[['year', 'month', 'day']])\n",
        "\n",
        "concat = concat.drop(['year', 'month', 'day'], axis=1)\n",
        "\n",
        "# concat = concat.sort_values(by='계약날짜').reset_index(drop=True)"
      ]
    },
    {
      "cell_type": "code",
      "execution_count": 1,
      "metadata": {},
      "outputs": [],
      "source": [
        "# visualization\n",
        "import matplotlib.pyplot as plt\n",
        "import matplotlib.font_manager as fm\n",
        "fe = fm.FontEntry(\n",
        "    fname=r'/usr/share/fonts/truetype/nanum/NanumGothic.ttf', # ttf 파일이 저장되어 있는 경로\n",
        "    name='NanumBarunGothic')                        # 이 폰트의 원하는 이름 설정\n",
        "fm.fontManager.ttflist.insert(0, fe)              # Matplotlib에 폰트 추가\n",
        "plt.rcParams.update({'font.size': 10, 'font.family': 'NanumBarunGothic'}) # 폰트 설정\n",
        "plt.rc('font', family='NanumBarunGothic')\n",
        "import seaborn as sns\n",
        "\n",
        "# utils\n",
        "import pandas as pd\n",
        "import numpy as np\n",
        "from tqdm import tqdm\n",
        "import pickle\n",
        "import warnings;warnings.filterwarnings('ignore')\n",
        "\n",
        "# Model\n",
        "from sklearn.preprocessing import LabelEncoder\n",
        "from sklearn.model_selection import train_test_split\n",
        "from sklearn.metrics import mean_squared_error\n",
        "from sklearn.ensemble import RandomForestRegressor\n",
        "from sklearn import metrics\n",
        "\n",
        "import eli5\n",
        "from eli5.sklearn import PermutationImportance"
      ]
    },
    {
      "cell_type": "code",
      "execution_count": 2,
      "metadata": {},
      "outputs": [],
      "source": [
        "concat = pd.read_csv('../data/base_dataset_4.csv', index_col=None)"
      ]
    },
    {
      "cell_type": "code",
      "execution_count": 3,
      "metadata": {},
      "outputs": [
        {
          "data": {
            "text/plain": [
              "0    699179\n",
              "1      9272\n",
              "Name: is_test, dtype: int64"
            ]
          },
          "execution_count": 3,
          "metadata": {},
          "output_type": "execute_result"
        }
      ],
      "source": [
        "concat['is_test'].value_counts()"
      ]
    },
    {
      "cell_type": "code",
      "execution_count": 4,
      "metadata": {},
      "outputs": [],
      "source": [
        "str_columns = ['본번', '부번', '거래취소여부', '구', '동', '강남여부', '신축여부', '계약년월', '면적분류']\n",
        "\n",
        "concat[str_columns] = concat[str_columns].astype(str)\n",
        "concat['면적분류'] = concat['면적분류'].astype(int)\n",
        "# concat['계약월'] = concat['계약월'].astype(int)\n",
        "concat['계약날짜'] = concat['계약날짜'].astype(str)"
      ]
    },
    {
      "cell_type": "code",
      "execution_count": 5,
      "metadata": {
        "colab": {
          "base_uri": "https://localhost:8080/"
        },
        "id": "wVdU-Ge00OGM",
        "outputId": "6bd1a10a-689a-46ef-c0af-c879be59f715"
      },
      "outputs": [
        {
          "name": "stdout",
          "output_type": "stream",
          "text": [
            "연속형 변수: ['Unnamed: 0', '전용면적', '층', '건축년도', 'target', 'is_test', 'x', 'y', '거래일건물연식', '건축면적', '연면적', '대지면적', '건폐율', '용적율', '평균층수', '기준금리', '면적분류']\n",
            "범주형 변수: ['번지', '본번', '부번', '주소', '거래취소여부', '구', '동', '강남여부', '신축여부', '계약년월', '계약날짜']\n"
          ]
        }
      ],
      "source": [
        "# 먼저, 연속형 변수와 범주형 변수를 위 info에 따라 분리해주겠습니다.\n",
        "continuous_columns = []\n",
        "categorical_columns = []\n",
        "\n",
        "for column in concat.columns:\n",
        "    if pd.api.types.is_numeric_dtype(concat[column]):\n",
        "        continuous_columns.append(column)\n",
        "    else:\n",
        "        categorical_columns.append(column)\n",
        "\n",
        "print(\"연속형 변수:\", continuous_columns)\n",
        "print(\"범주형 변수:\", categorical_columns)"
      ]
    },
    {
      "cell_type": "code",
      "execution_count": null,
      "metadata": {},
      "outputs": [],
      "source": [
        "\n",
        "drop_col = ['Unnamed: ', '본번', '부번', '번지', ]\n",
        "\n",
        "concat.drop(columns=)"
      ]
    },
    {
      "cell_type": "code",
      "execution_count": 6,
      "metadata": {
        "id": "fOCSdvBd8GJq"
      },
      "outputs": [],
      "source": [
        "# 이상치 제거 방법에는 IQR을 이용하겠습니다.\n",
        "def remove_outliers_iqr(dt, column_name):\n",
        "    df = dt.query('is_test == 0')       # train data 내에 있는 이상치만 제거하도록 하겠습니다.\n",
        "    df_test = dt.query('is_test == 1')\n",
        "\n",
        "    Q1 = df[column_name].quantile(0.25)\n",
        "    Q3 = df[column_name].quantile(0.75)\n",
        "    IQR = Q3 - Q1\n",
        "\n",
        "    lower_bound = Q1 - 1.5 * IQR\n",
        "    upper_bound = Q3 + 1.5 * IQR\n",
        "\n",
        "    df = df[(df[column_name] >= lower_bound) & (df[column_name] <= upper_bound)]\n",
        "\n",
        "    result = pd.concat([df, df_test])   # test data와 다시 합쳐주겠습니다.\n",
        "    return result"
      ]
    },
    {
      "cell_type": "code",
      "execution_count": 7,
      "metadata": {
        "id": "F_GJQBVX8AH9"
      },
      "outputs": [],
      "source": [
        "# 위 방법으로 전용 면적에 대한 이상치를 제거해보겠습니다.\n",
        "concat_select = remove_outliers_iqr(concat, '전용면적')"
      ]
    },
    {
      "cell_type": "code",
      "execution_count": 8,
      "metadata": {
        "colab": {
          "base_uri": "https://localhost:8080/"
        },
        "id": "9E__0jEyyXIA",
        "outputId": "ffb3cc6e-d337-4ed6-96d1-ddf96dc97449"
      },
      "outputs": [
        {
          "name": "stdout",
          "output_type": "stream",
          "text": [
            "(699070, 27) (9272, 27)\n"
          ]
        }
      ],
      "source": [
        "# 이제 다시 train과 test dataset을 분할해줍니다. 위에서 제작해 놓았던 is_test 칼럼을 이용합니다.\n",
        "dt_train = concat_select.query('is_test==0')\n",
        "dt_test = concat_select.query('is_test==1')\n",
        "\n",
        "# 이제 is_test 칼럼은 drop해줍니다.\n",
        "dt_train.drop(['is_test'], axis = 1, inplace=True)\n",
        "dt_test.drop(['is_test'], axis = 1, inplace=True)\n",
        "print(dt_train.shape, dt_test.shape)\n",
        "\n",
        "# dt_test의 target은 일단 0으로 임의로 채워주도록 하겠습니다.\n",
        "dt_test['target'] = 0"
      ]
    },
    {
      "cell_type": "code",
      "execution_count": 16,
      "metadata": {
        "colab": {
          "base_uri": "https://localhost:8080/"
        },
        "id": "yCW2dTz12VMZ",
        "outputId": "5c81b9e1-0462-421e-cb77-6b056532e5cd"
      },
      "outputs": [
        {
          "name": "stdout",
          "output_type": "stream",
          "text": [
            "연속형 변수: ['Unnamed: 0', '전용면적', '층', '건축년도', 'target', 'x', 'y', '거래일건물연식', '건축면적', '연면적', '대지면적', '건폐율', '용적율', '평균층수', '기준금리', '면적분류']\n",
            "범주형 변수: ['번지', '본번', '부번', '주소', '거래취소여부', '구', '동', '강남여부', '신축여부', '계약년월', '계약날짜']\n"
          ]
        },
        {
          "name": "stderr",
          "output_type": "stream",
          "text": [
            "100%|██████████| 11/11 [00:02<00:00,  5.22it/s]\n"
          ]
        }
      ],
      "source": [
        "# 파생변수 제작으로 추가된 변수들이 존재하기에, 다시한번 연속형과 범주형 칼럼을 분리해주겠습니다.\n",
        "continuous_columns_v2 = []\n",
        "categorical_columns_v2 = []\n",
        "\n",
        "for column in dt_train.columns:\n",
        "    if pd.api.types.is_numeric_dtype(dt_train[column]):\n",
        "        continuous_columns_v2.append(column)\n",
        "    else:\n",
        "        categorical_columns_v2.append(column)\n",
        "\n",
        "print(\"연속형 변수:\", continuous_columns_v2)\n",
        "print(\"범주형 변수:\", categorical_columns_v2)\n",
        "\n",
        "# 아래에서 범주형 변수들을 대상으로 레이블인코딩을 진행해 주겠습니다.\n",
        "\n",
        "# 각 변수에 대한 LabelEncoder를 저장할 딕셔너리\n",
        "label_encoders = {}\n",
        "\n",
        "# Implement Label Encoding\n",
        "for col in tqdm( categorical_columns ):\n",
        "    lbl = LabelEncoder()\n",
        "\n",
        "    # Label-Encoding을 fit\n",
        "    lbl.fit( dt_train[col].astype(str) )\n",
        "    dt_train[col] = lbl.transform(dt_train[col].astype(str))\n",
        "    label_encoders[col] = lbl           # 나중에 후처리를 위해 레이블인코더를 저장해주겠습니다.\n",
        "\n",
        "    # Test 데이터에만 존재하는 새로 출현한 데이터를 신규 클래스로 추가해줍니다.\n",
        "    for label in np.unique(dt_test[col]):\n",
        "      if label not in lbl.classes_: # unseen label 데이터인 경우\n",
        "        lbl.classes_ = np.append(lbl.classes_, label) # 미처리 시 ValueError발생하니 주의하세요!\n",
        "\n",
        "    dt_test[col] = lbl.transform(dt_test[col].astype(str))"
      ]
    },
    {
      "cell_type": "code",
      "execution_count": 17,
      "metadata": {},
      "outputs": [],
      "source": [
        "from sklearn.model_selection import TimeSeriesSplit"
      ]
    },
    {
      "cell_type": "code",
      "execution_count": 18,
      "metadata": {},
      "outputs": [],
      "source": [
        "assert dt_train.shape[1] == dt_test.shape[1] \n",
        "\n",
        "# Target과 독립변수들을 분리합니다.\n",
        "y_train = dt_train['target']\n",
        "X_train = dt_train.drop(['target'], axis=1)\n",
        "\n",
        "# TimeSeriesSplit\n",
        "tscv = TimeSeriesSplit(n_splits=5)\n",
        "\n",
        "# TimeSeriesSplit을 통해 학습/검증 데이터로 나눔\n",
        "for train_index, val_index in tscv.split(X_train):\n",
        "    X_train_1, X_val_1 = X_train.iloc[train_index], X_train.iloc[val_index]\n",
        "    y_train_1, y_val_1 = y_train.iloc[train_index], y_train.iloc[val_index]"
      ]
    },
    {
      "cell_type": "code",
      "execution_count": 90,
      "metadata": {
        "id": "7S-ow8vVP_YZ"
      },
      "outputs": [],
      "source": [
        "assert dt_train.shape[1] == dt_test.shape[1]          # train/test dataset의 shape이 같은지 확인해주겠습니다.\n",
        "\n",
        "# Target과 독립변수들을 분리해줍니다.\n",
        "y_train = dt_train['target']\n",
        "X_train = dt_train.drop(['target'], axis=1)\n",
        "\n",
        "# Hold out split을 사용해 학습 데이터와 검증 데이터를 8:2 비율로 나누겠습니다.\n",
        "X_train, X_val, y_train, y_val = train_test_split(X_train, y_train, test_size=0.2, random_state=2024)"
      ]
    },
    {
      "cell_type": "code",
      "execution_count": 245,
      "metadata": {
        "colab": {
          "base_uri": "https://localhost:8080/"
        },
        "id": "fGNHMAD2aBGI",
        "outputId": "5471313e-6838-44d3-8567-940c7456ef9e"
      },
      "outputs": [],
      "source": [
        "# RandomForestRegressor를 이용해 회귀 모델을 적합시키겠습니다.\n",
        "model = RandomForestRegressor(n_estimators=5, criterion='squared_error', random_state=1, n_jobs=-1)\n",
        "model.fit(X_train, y_train)\n",
        "pred = model.predict(X_val)"
      ]
    },
    {
      "cell_type": "code",
      "execution_count": 246,
      "metadata": {},
      "outputs": [],
      "source": [
        "y_val = y_val * X_val['전용면적']\n",
        "pred = pred * X_val['전용면적']"
      ]
    },
    {
      "cell_type": "code",
      "execution_count": 247,
      "metadata": {
        "colab": {
          "base_uri": "https://localhost:8080/"
        },
        "id": "39uvsgeXey3R",
        "outputId": "139e341d-2abd-4923-ed05-a28a70a4caef"
      },
      "outputs": [
        {
          "name": "stdout",
          "output_type": "stream",
          "text": [
            "RMSE test: 4769.639578755779\n"
          ]
        }
      ],
      "source": [
        "# 회귀 관련 metric을 통해 train/valid의 모델 적합 결과를 관찰합니다.\n",
        "print(f'RMSE test: {np.sqrt(metrics.mean_squared_error(y_val, pred))}')"
      ]
    },
    {
      "cell_type": "code",
      "execution_count": 19,
      "metadata": {},
      "outputs": [],
      "source": [
        "#  XGBoost 사용\n",
        "\n",
        "import xgboost as xgb"
      ]
    },
    {
      "cell_type": "code",
      "execution_count": 20,
      "metadata": {},
      "outputs": [],
      "source": [
        "model = xgb.XGBRegressor(objective='reg:squarederror', \n",
        "                         n_estimators=1000,  \n",
        "                         learning_rate=0.1,  \n",
        "                         max_depth=10,\n",
        "                         random_state=1)\n",
        "\n",
        "model.fit(X_train_1, y_train_1)\n",
        "\n",
        "pred = model.predict(X_val_1)\n",
        "\n",
        "# y_val_2 = y_val_1 * X_val_1['전용면적']\n",
        "# pred_2 = pred * X_val_1['전용면적']"
      ]
    },
    {
      "cell_type": "code",
      "execution_count": 79,
      "metadata": {},
      "outputs": [
        {
          "data": {
            "text/plain": [
              "xgboost.sklearn.XGBRegressor"
            ]
          },
          "execution_count": 79,
          "metadata": {},
          "output_type": "execute_result"
        }
      ],
      "source": [
        "type(model)"
      ]
    },
    {
      "cell_type": "code",
      "execution_count": 21,
      "metadata": {},
      "outputs": [
        {
          "name": "stdout",
          "output_type": "stream",
          "text": [
            "RMSE test: 3010.7670749227054\n"
          ]
        }
      ],
      "source": [
        "# 회귀 관련 metric을 통해 train/valid의 모델 적합 결과를 관찰합니다.\n",
        "print(f'RMSE test: {np.sqrt(metrics.mean_squared_error(y_val_1, pred))}')"
      ]
    },
    {
      "cell_type": "markdown",
      "metadata": {
        "id": "4jhh_fZ0DHOd"
      },
      "source": [
        "- 변수 중요도도 확인해보도록 하겠습니다."
      ]
    },
    {
      "cell_type": "code",
      "execution_count": 26,
      "metadata": {},
      "outputs": [
        {
          "data": {
            "image/png": "[encoded data removed]",
            "text/plain": [
              "<Figure size 640x480 with 1 Axes>"
            ]
          },
          "metadata": {},
          "output_type": "display_data"
        }
      ],
      "source": [
        "xgb.plot_importance(model)\n",
        "plt.show()"
      ]
    },
    {
      "cell_type": "code",
      "execution_count": 24,
      "metadata": {},
      "outputs": [
        {
          "data": {
            "image/png": "[encoded data removed]",
            "text/plain": [
              "<Figure size 640x480 with 1 Axes>"
            ]
          },
          "metadata": {},
          "output_type": "display_data"
        }
      ],
      "source": [
        "xgb.plot_importance(model, importance_type='total_gain')\n",
        "plt.show()"
      ]
    },
    {
      "cell_type": "code",
      "execution_count": 33,
      "metadata": {},
      "outputs": [
        {
          "data": {
            "image/png": "[encoded data removed]",
            "text/plain": [
              "<Figure size 640x480 with 1 Axes>"
            ]
          },
          "metadata": {},
          "output_type": "display_data"
        }
      ],
      "source": [
        "xgb.plot_importance(model, importance_type='total_cover')\n",
        "plt.show()\n"
      ]
    },
    {
      "cell_type": "code",
      "execution_count": 27,
      "metadata": {
        "colab": {
          "base_uri": "https://localhost:8080/",
          "height": 698
        },
        "id": "VbgCRxFgdFQb",
        "outputId": "f9114f72-78e1-471c-fc0b-ba5b8b6b6d2f"
      },
      "outputs": [
        {
          "data": {
            "image/png": "[encoded data removed]",
            "text/plain": [
              "<Figure size 1000x800 with 1 Axes>"
            ]
          },
          "metadata": {},
          "output_type": "display_data"
        }
      ],
      "source": [
        "# 위 feature importance를 시각화해봅니다.\n",
        "importances = pd.Series(model.feature_importances_, index=list(X_train.columns))\n",
        "importances = importances.sort_values(ascending=False)\n",
        "\n",
        "plt.figure(figsize=(10,8))\n",
        "plt.title(\"Feature Importances\")\n",
        "sns.barplot(x=importances, y=importances.index)\n",
        "plt.show()"
      ]
    },
    {
      "cell_type": "code",
      "execution_count": 42,
      "metadata": {
        "id": "vycdrTEAa2va"
      },
      "outputs": [],
      "source": [
        "# 학습된 모델을 저장합니다. Pickle 라이브러리를 이용하겠습니다.\n",
        "with open('./temp/saved_model.pkl', 'wb') as f:\n",
        "    pickle.dump(model, f)"
      ]
    },
    {
      "cell_type": "markdown",
      "metadata": {
        "id": "jOVbJ3KWgBTC"
      },
      "source": [
        "### 5.3. Feature selection"
      ]
    },
    {
      "cell_type": "markdown",
      "metadata": {
        "id": "0Qp7gLG3CfgJ"
      },
      "source": [
        "- 어떤 변수가 유용한 변수인지 확인해보기 위해 permutation selection을 이용해보겠습니다."
      ]
    },
    {
      "cell_type": "code",
      "execution_count": 30,
      "metadata": {
        "colab": {
          "base_uri": "https://localhost:8080/",
          "height": 399
        },
        "id": "bWucmvKrf-tq",
        "outputId": "016c2fae-320b-4778-efb9-799b5cf695b0"
      },
      "outputs": [
        {
          "data": {
            "text/html": [
              "\n",
              "    <style>\n",
              "    table.eli5-weights tr:hover {\n",
              "        filter: brightness(85%);\n",
              "    }\n",
              "</style>\n",
              "\n",
              "\n",
              "\n",
              "    \n",
              "\n",
              "    \n",
              "\n",
              "    \n",
              "\n",
              "    \n",
              "\n",
              "    \n",
              "\n",
              "    \n",
              "\n",
              "\n",
              "    \n",
              "\n",
              "    \n",
              "\n",
              "    \n",
              "\n",
              "    \n",
              "\n",
              "    \n",
              "\n",
              "    \n",
              "\n",
              "\n",
              "    \n",
              "\n",
              "    \n",
              "\n",
              "    \n",
              "\n",
              "    \n",
              "\n",
              "    \n",
              "        <table class=\"eli5-weights eli5-feature-importances\" style=\"border-collapse: collapse; border: none; margin-top: 0em; table-layout: auto;\">\n",
              "    <thead>\n",
              "    <tr style=\"border: none;\">\n",
              "        <th style=\"padding: 0 1em 0 0.5em; text-align: right; border: none;\">Weight</th>\n",
              "        <th style=\"padding: 0 0.5em 0 0.5em; text-align: left; border: none;\">Feature</th>\n",
              "    </tr>\n",
              "    </thead>\n",
              "    <tbody>\n",
              "    \n",
              "        <tr style=\"background-color: hsl(120, 100.00%, 80.00%); border: none;\">\n",
              "            <td style=\"padding: 0 1em 0 0.5em; text-align: right; border: none;\">\n",
              "                163691237.3944\n",
              "                \n",
              "                    &plusmn; 991818.5707\n",
              "                \n",
              "            </td>\n",
              "            <td style=\"padding: 0 0.5em 0 0.5em; text-align: left; border: none;\">\n",
              "                전용면적\n",
              "            </td>\n",
              "        </tr>\n",
              "    \n",
              "        <tr style=\"background-color: hsl(120, 100.00%, 80.59%); border: none;\">\n",
              "            <td style=\"padding: 0 1em 0 0.5em; text-align: right; border: none;\">\n",
              "                156882247.4341\n",
              "                \n",
              "                    &plusmn; 1389089.4627\n",
              "                \n",
              "            </td>\n",
              "            <td style=\"padding: 0 0.5em 0 0.5em; text-align: left; border: none;\">\n",
              "                y\n",
              "            </td>\n",
              "        </tr>\n",
              "    \n",
              "        <tr style=\"background-color: hsl(120, 100.00%, 88.91%); border: none;\">\n",
              "            <td style=\"padding: 0 1em 0 0.5em; text-align: right; border: none;\">\n",
              "                70462396.2692\n",
              "                \n",
              "                    &plusmn; 385195.1738\n",
              "                \n",
              "            </td>\n",
              "            <td style=\"padding: 0 0.5em 0 0.5em; text-align: left; border: none;\">\n",
              "                x\n",
              "            </td>\n",
              "        </tr>\n",
              "    \n",
              "        <tr style=\"background-color: hsl(120, 100.00%, 91.66%); border: none;\">\n",
              "            <td style=\"padding: 0 1em 0 0.5em; text-align: right; border: none;\">\n",
              "                46885859.5093\n",
              "                \n",
              "                    &plusmn; 1064048.1831\n",
              "                \n",
              "            </td>\n",
              "            <td style=\"padding: 0 0.5em 0 0.5em; text-align: left; border: none;\">\n",
              "                구\n",
              "            </td>\n",
              "        </tr>\n",
              "    \n",
              "        <tr style=\"background-color: hsl(120, 100.00%, 92.36%); border: none;\">\n",
              "            <td style=\"padding: 0 1em 0 0.5em; text-align: right; border: none;\">\n",
              "                41426084.1838\n",
              "                \n",
              "                    &plusmn; 442003.0405\n",
              "                \n",
              "            </td>\n",
              "            <td style=\"padding: 0 0.5em 0 0.5em; text-align: left; border: none;\">\n",
              "                건축년도\n",
              "            </td>\n",
              "        </tr>\n",
              "    \n",
              "        <tr style=\"background-color: hsl(120, 100.00%, 94.88%); border: none;\">\n",
              "            <td style=\"padding: 0 1em 0 0.5em; text-align: right; border: none;\">\n",
              "                23351111.7542\n",
              "                \n",
              "                    &plusmn; 190353.0003\n",
              "                \n",
              "            </td>\n",
              "            <td style=\"padding: 0 0.5em 0 0.5em; text-align: left; border: none;\">\n",
              "                주소\n",
              "            </td>\n",
              "        </tr>\n",
              "    \n",
              "        <tr style=\"background-color: hsl(120, 100.00%, 97.05%); border: none;\">\n",
              "            <td style=\"padding: 0 1em 0 0.5em; text-align: right; border: none;\">\n",
              "                10631906.3862\n",
              "                \n",
              "                    &plusmn; 76894.2714\n",
              "                \n",
              "            </td>\n",
              "            <td style=\"padding: 0 0.5em 0 0.5em; text-align: left; border: none;\">\n",
              "                연면적\n",
              "            </td>\n",
              "        </tr>\n",
              "    \n",
              "        <tr style=\"background-color: hsl(120, 100.00%, 97.84%); border: none;\">\n",
              "            <td style=\"padding: 0 1em 0 0.5em; text-align: right; border: none;\">\n",
              "                6830699.6280\n",
              "                \n",
              "                    &plusmn; 133612.6366\n",
              "                \n",
              "            </td>\n",
              "            <td style=\"padding: 0 0.5em 0 0.5em; text-align: left; border: none;\">\n",
              "                거래일건물연식\n",
              "            </td>\n",
              "        </tr>\n",
              "    \n",
              "        <tr style=\"background-color: hsl(120, 100.00%, 98.25%); border: none;\">\n",
              "            <td style=\"padding: 0 1em 0 0.5em; text-align: right; border: none;\">\n",
              "                5044042.1262\n",
              "                \n",
              "                    &plusmn; 76370.0489\n",
              "                \n",
              "            </td>\n",
              "            <td style=\"padding: 0 0.5em 0 0.5em; text-align: left; border: none;\">\n",
              "                건축면적\n",
              "            </td>\n",
              "        </tr>\n",
              "    \n",
              "        <tr style=\"background-color: hsl(120, 100.00%, 98.41%); border: none;\">\n",
              "            <td style=\"padding: 0 1em 0 0.5em; text-align: right; border: none;\">\n",
              "                4410679.0537\n",
              "                \n",
              "                    &plusmn; 39411.1539\n",
              "                \n",
              "            </td>\n",
              "            <td style=\"padding: 0 0.5em 0 0.5em; text-align: left; border: none;\">\n",
              "                동\n",
              "            </td>\n",
              "        </tr>\n",
              "    \n",
              "        <tr style=\"background-color: hsl(120, 100.00%, 98.41%); border: none;\">\n",
              "            <td style=\"padding: 0 1em 0 0.5em; text-align: right; border: none;\">\n",
              "                4388526.5462\n",
              "                \n",
              "                    &plusmn; 95615.9393\n",
              "                \n",
              "            </td>\n",
              "            <td style=\"padding: 0 0.5em 0 0.5em; text-align: left; border: none;\">\n",
              "                대지면적\n",
              "            </td>\n",
              "        </tr>\n",
              "    \n",
              "        <tr style=\"background-color: hsl(120, 100.00%, 98.68%); border: none;\">\n",
              "            <td style=\"padding: 0 1em 0 0.5em; text-align: right; border: none;\">\n",
              "                3378070.0860\n",
              "                \n",
              "                    &plusmn; 20507.7615\n",
              "                \n",
              "            </td>\n",
              "            <td style=\"padding: 0 0.5em 0 0.5em; text-align: left; border: none;\">\n",
              "                층\n",
              "            </td>\n",
              "        </tr>\n",
              "    \n",
              "        <tr style=\"background-color: hsl(120, 100.00%, 98.75%); border: none;\">\n",
              "            <td style=\"padding: 0 1em 0 0.5em; text-align: right; border: none;\">\n",
              "                3101295.2562\n",
              "                \n",
              "                    &plusmn; 37455.2954\n",
              "                \n",
              "            </td>\n",
              "            <td style=\"padding: 0 0.5em 0 0.5em; text-align: left; border: none;\">\n",
              "                평균층수\n",
              "            </td>\n",
              "        </tr>\n",
              "    \n",
              "        <tr style=\"background-color: hsl(120, 100.00%, 98.91%); border: none;\">\n",
              "            <td style=\"padding: 0 1em 0 0.5em; text-align: right; border: none;\">\n",
              "                2559650.7524\n",
              "                \n",
              "                    &plusmn; 92791.7247\n",
              "                \n",
              "            </td>\n",
              "            <td style=\"padding: 0 0.5em 0 0.5em; text-align: left; border: none;\">\n",
              "                번지\n",
              "            </td>\n",
              "        </tr>\n",
              "    \n",
              "        <tr style=\"background-color: hsl(120, 100.00%, 99.01%); border: none;\">\n",
              "            <td style=\"padding: 0 1em 0 0.5em; text-align: right; border: none;\">\n",
              "                2244874.6053\n",
              "                \n",
              "                    &plusmn; 81652.4917\n",
              "                \n",
              "            </td>\n",
              "            <td style=\"padding: 0 0.5em 0 0.5em; text-align: left; border: none;\">\n",
              "                강남여부\n",
              "            </td>\n",
              "        </tr>\n",
              "    \n",
              "        <tr style=\"background-color: hsl(120, 100.00%, 99.04%); border: none;\">\n",
              "            <td style=\"padding: 0 1em 0 0.5em; text-align: right; border: none;\">\n",
              "                2150230.5949\n",
              "                \n",
              "                    &plusmn; 58199.5181\n",
              "                \n",
              "            </td>\n",
              "            <td style=\"padding: 0 0.5em 0 0.5em; text-align: left; border: none;\">\n",
              "                건폐율\n",
              "            </td>\n",
              "        </tr>\n",
              "    \n",
              "        <tr style=\"background-color: hsl(120, 100.00%, 99.06%); border: none;\">\n",
              "            <td style=\"padding: 0 1em 0 0.5em; text-align: right; border: none;\">\n",
              "                2087251.4977\n",
              "                \n",
              "                    &plusmn; 26606.0876\n",
              "                \n",
              "            </td>\n",
              "            <td style=\"padding: 0 0.5em 0 0.5em; text-align: left; border: none;\">\n",
              "                용적율\n",
              "            </td>\n",
              "        </tr>\n",
              "    \n",
              "        <tr style=\"background-color: hsl(120, 100.00%, 99.14%); border: none;\">\n",
              "            <td style=\"padding: 0 1em 0 0.5em; text-align: right; border: none;\">\n",
              "                1836131.1368\n",
              "                \n",
              "                    &plusmn; 126541.5782\n",
              "                \n",
              "            </td>\n",
              "            <td style=\"padding: 0 0.5em 0 0.5em; text-align: left; border: none;\">\n",
              "                부번\n",
              "            </td>\n",
              "        </tr>\n",
              "    \n",
              "        <tr style=\"background-color: hsl(120, 100.00%, 99.46%); border: none;\">\n",
              "            <td style=\"padding: 0 1em 0 0.5em; text-align: right; border: none;\">\n",
              "                940537.6057\n",
              "                \n",
              "                    &plusmn; 15831.0615\n",
              "                \n",
              "            </td>\n",
              "            <td style=\"padding: 0 0.5em 0 0.5em; text-align: left; border: none;\">\n",
              "                계약년월\n",
              "            </td>\n",
              "        </tr>\n",
              "    \n",
              "        <tr style=\"background-color: hsl(120, 100.00%, 99.56%); border: none;\">\n",
              "            <td style=\"padding: 0 1em 0 0.5em; text-align: right; border: none;\">\n",
              "                701444.5172\n",
              "                \n",
              "                    &plusmn; 16493.6415\n",
              "                \n",
              "            </td>\n",
              "            <td style=\"padding: 0 0.5em 0 0.5em; text-align: left; border: none;\">\n",
              "                본번\n",
              "            </td>\n",
              "        </tr>\n",
              "    \n",
              "    \n",
              "        \n",
              "            <tr style=\"background-color: hsl(120, 100.00%, 99.56%); border: none;\">\n",
              "                <td colspan=\"2\" style=\"padding: 0 0.5em 0 0.5em; text-align: center; border: none; white-space: nowrap;\">\n",
              "                    <i>&hellip; 6 more &hellip;</i>\n",
              "                </td>\n",
              "            </tr>\n",
              "        \n",
              "    \n",
              "    </tbody>\n",
              "</table>\n",
              "    \n",
              "\n",
              "    \n",
              "\n",
              "\n",
              "    \n",
              "\n",
              "    \n",
              "\n",
              "    \n",
              "\n",
              "    \n",
              "\n",
              "    \n",
              "\n",
              "    \n",
              "\n",
              "\n",
              "\n"
            ],
            "text/plain": [
              "<IPython.core.display.HTML object>"
            ]
          },
          "execution_count": 30,
          "metadata": {},
          "output_type": "execute_result"
        }
      ],
      "source": [
        "# Permutation importance 방법을 변수 선택에 이용해보겠습니다.\n",
        "perm = PermutationImportance(model,        # 위에서 학습된 모델을 이용하겠습니다.\n",
        "                             scoring = \"neg_mean_squared_error\",        # 평가 지표로는 회귀문제이기에 negative rmse를 사용합니다. (neg_mean_squared_error : 음의 평균 제곱 오차)\n",
        "                             random_state = 42,\n",
        "                             n_iter=3).fit(X_val_1, y_val_1)\n",
        "eli5.show_weights(perm, feature_names = X_val_1.columns.tolist())    # valid data에 대해 적합시킵니다."
      ]
    },
    {
      "cell_type": "markdown",
      "metadata": {
        "id": "8GbMRUxyCmWC"
      },
      "source": [
        "- 분석 결과 \"계약년\", \"전용면적\" 변수가 유의한 변수로 보입니다. 따라서 이 변수로 또 다른 파생변수를 더 생성해보거나, 중요도가 낮아보이는 변수를 제거해 차원의 저주를 막아볼 수도 있습니다."
      ]
    },
    {
      "cell_type": "markdown",
      "metadata": {
        "id": "YncDzsK1zl2w"
      },
      "source": [
        "### 5.4. Valid prediction 분석"
      ]
    },
    {
      "cell_type": "markdown",
      "metadata": {
        "id": "iQS1Fno2C-1R"
      },
      "source": [
        "- 예측값을 분석해보기 위해 valid prediction을 확인해보겠습니다."
      ]
    },
    {
      "cell_type": "code",
      "execution_count": 31,
      "metadata": {
        "id": "_xViv0o6DXQ-"
      },
      "outputs": [],
      "source": [
        "# Validation dataset에 target과 pred 값을 채워주도록 하겠습니다.\n",
        "X_val_1['target'] = y_val_1\n",
        "X_val_1['pred'] = pred"
      ]
    },
    {
      "cell_type": "code",
      "execution_count": 32,
      "metadata": {
        "id": "-D8NCLkWC-g6"
      },
      "outputs": [],
      "source": [
        "# Squared_error를 계산하는 함수를 정의하겠습니다.\n",
        "def calculate_se(target, pred):\n",
        "    squared_errors = (target - pred) ** 2\n",
        "    return squared_errors\n",
        "\n",
        "# RMSE 계산\n",
        "squared_errors = calculate_se(X_val_1['target'], X_val_1['pred'])\n",
        "X_val_1['error'] = squared_errors"
      ]
    },
    {
      "cell_type": "code",
      "execution_count": 33,
      "metadata": {
        "id": "fXbdC7b9HDDQ"
      },
      "outputs": [],
      "source": [
        "# Error가 큰 순서대로 sorting 해 보겠습니다.\n",
        "X_val_sort = X_val_1.sort_values(by='error', ascending=False)       # 내림차순 sorting"
      ]
    },
    {
      "cell_type": "code",
      "execution_count": 34,
      "metadata": {
        "colab": {
          "base_uri": "https://localhost:8080/",
          "height": 287
        },
        "id": "gOc8HmvDHhz8",
        "outputId": "17e408cb-9533-4d3b-baf6-245de0ae1a43"
      },
      "outputs": [
        {
          "data": {
            "text/html": [
              "<div>\n",
              "<style scoped>\n",
              "    .dataframe tbody tr th:only-of-type {\n",
              "        vertical-align: middle;\n",
              "    }\n",
              "\n",
              "    .dataframe tbody tr th {\n",
              "        vertical-align: top;\n",
              "    }\n",
              "\n",
              "    .dataframe thead th {\n",
              "        text-align: right;\n",
              "    }\n",
              "</style>\n",
              "<table border=\"1\" class=\"dataframe\">\n",
              "  <thead>\n",
              "    <tr style=\"text-align: right;\">\n",
              "      <th></th>\n",
              "      <th>Unnamed: 0</th>\n",
              "      <th>번지</th>\n",
              "      <th>본번</th>\n",
              "      <th>부번</th>\n",
              "      <th>전용면적</th>\n",
              "      <th>층</th>\n",
              "      <th>건축년도</th>\n",
              "      <th>주소</th>\n",
              "      <th>x</th>\n",
              "      <th>y</th>\n",
              "      <th>...</th>\n",
              "      <th>건폐율</th>\n",
              "      <th>용적율</th>\n",
              "      <th>평균층수</th>\n",
              "      <th>계약년월</th>\n",
              "      <th>기준금리</th>\n",
              "      <th>면적분류</th>\n",
              "      <th>계약날짜</th>\n",
              "      <th>target</th>\n",
              "      <th>pred</th>\n",
              "      <th>error</th>\n",
              "    </tr>\n",
              "  </thead>\n",
              "  <tbody>\n",
              "    <tr>\n",
              "      <th>640384</th>\n",
              "      <td>852135</td>\n",
              "      <td>2812</td>\n",
              "      <td>801</td>\n",
              "      <td>1</td>\n",
              "      <td>114.96</td>\n",
              "      <td>5</td>\n",
              "      <td>1994</td>\n",
              "      <td>6742</td>\n",
              "      <td>126.954929</td>\n",
              "      <td>37.525218</td>\n",
              "      <td>...</td>\n",
              "      <td>94.940000</td>\n",
              "      <td>1587.300000</td>\n",
              "      <td>4.819031</td>\n",
              "      <td>21</td>\n",
              "      <td>2.50</td>\n",
              "      <td>4</td>\n",
              "      <td>659</td>\n",
              "      <td>150500.0</td>\n",
              "      <td>88164.414062</td>\n",
              "      <td>3.885725e+09</td>\n",
              "    </tr>\n",
              "    <tr>\n",
              "      <th>619598</th>\n",
              "      <td>826736</td>\n",
              "      <td>4821</td>\n",
              "      <td>1222</td>\n",
              "      <td>1</td>\n",
              "      <td>107.47</td>\n",
              "      <td>1</td>\n",
              "      <td>1973</td>\n",
              "      <td>4743</td>\n",
              "      <td>126.989036</td>\n",
              "      <td>37.505354</td>\n",
              "      <td>...</td>\n",
              "      <td>295.753665</td>\n",
              "      <td>3116.907864</td>\n",
              "      <td>5.160202</td>\n",
              "      <td>28</td>\n",
              "      <td>2.50</td>\n",
              "      <td>4</td>\n",
              "      <td>871</td>\n",
              "      <td>120000.0</td>\n",
              "      <td>181089.218750</td>\n",
              "      <td>3.731893e+09</td>\n",
              "    </tr>\n",
              "    <tr>\n",
              "      <th>644300</th>\n",
              "      <td>856879</td>\n",
              "      <td>1615</td>\n",
              "      <td>576</td>\n",
              "      <td>1</td>\n",
              "      <td>115.04</td>\n",
              "      <td>7</td>\n",
              "      <td>2010</td>\n",
              "      <td>7631</td>\n",
              "      <td>126.980637</td>\n",
              "      <td>37.559126</td>\n",
              "      <td>...</td>\n",
              "      <td>52.810000</td>\n",
              "      <td>970.680000</td>\n",
              "      <td>29.504687</td>\n",
              "      <td>24</td>\n",
              "      <td>2.50</td>\n",
              "      <td>4</td>\n",
              "      <td>752</td>\n",
              "      <td>37500.0</td>\n",
              "      <td>95000.773438</td>\n",
              "      <td>3.306339e+09</td>\n",
              "    </tr>\n",
              "    <tr>\n",
              "      <th>649469</th>\n",
              "      <td>863031</td>\n",
              "      <td>3665</td>\n",
              "      <td>971</td>\n",
              "      <td>1</td>\n",
              "      <td>106.22</td>\n",
              "      <td>9</td>\n",
              "      <td>1981</td>\n",
              "      <td>323</td>\n",
              "      <td>127.044063</td>\n",
              "      <td>37.529126</td>\n",
              "      <td>...</td>\n",
              "      <td>297.238369</td>\n",
              "      <td>3138.077428</td>\n",
              "      <td>12.631906</td>\n",
              "      <td>15</td>\n",
              "      <td>2.75</td>\n",
              "      <td>4</td>\n",
              "      <td>455</td>\n",
              "      <td>60771.0</td>\n",
              "      <td>116362.835938</td>\n",
              "      <td>3.090452e+09</td>\n",
              "    </tr>\n",
              "    <tr>\n",
              "      <th>649549</th>\n",
              "      <td>863181</td>\n",
              "      <td>3396</td>\n",
              "      <td>904</td>\n",
              "      <td>1</td>\n",
              "      <td>111.50</td>\n",
              "      <td>9</td>\n",
              "      <td>1980</td>\n",
              "      <td>317</td>\n",
              "      <td>127.035440</td>\n",
              "      <td>37.531214</td>\n",
              "      <td>...</td>\n",
              "      <td>299.934718</td>\n",
              "      <td>3177.075452</td>\n",
              "      <td>11.455064</td>\n",
              "      <td>13</td>\n",
              "      <td>2.75</td>\n",
              "      <td>4</td>\n",
              "      <td>423</td>\n",
              "      <td>160000.0</td>\n",
              "      <td>105394.289062</td>\n",
              "      <td>2.981784e+09</td>\n",
              "    </tr>\n",
              "  </tbody>\n",
              "</table>\n",
              "<p>5 rows × 29 columns</p>\n",
              "</div>"
            ],
            "text/plain": [
              "        Unnamed: 0    번지    본번  부번    전용면적  층  건축년도    주소           x  \\\n",
              "640384      852135  2812   801   1  114.96  5  1994  6742  126.954929   \n",
              "619598      826736  4821  1222   1  107.47  1  1973  4743  126.989036   \n",
              "644300      856879  1615   576   1  115.04  7  2010  7631  126.980637   \n",
              "649469      863031  3665   971   1  106.22  9  1981   323  127.044063   \n",
              "649549      863181  3396   904   1  111.50  9  1980   317  127.035440   \n",
              "\n",
              "                y  ...         건폐율          용적율       평균층수  계약년월  기준금리  면적분류  \\\n",
              "640384  37.525218  ...   94.940000  1587.300000   4.819031    21  2.50     4   \n",
              "619598  37.505354  ...  295.753665  3116.907864   5.160202    28  2.50     4   \n",
              "644300  37.559126  ...   52.810000   970.680000  29.504687    24  2.50     4   \n",
              "649469  37.529126  ...  297.238369  3138.077428  12.631906    15  2.75     4   \n",
              "649549  37.531214  ...  299.934718  3177.075452  11.455064    13  2.75     4   \n",
              "\n",
              "        계약날짜    target           pred         error  \n",
              "640384   659  150500.0   88164.414062  3.885725e+09  \n",
              "619598   871  120000.0  181089.218750  3.731893e+09  \n",
              "644300   752   37500.0   95000.773438  3.306339e+09  \n",
              "649469   455   60771.0  116362.835938  3.090452e+09  \n",
              "649549   423  160000.0  105394.289062  2.981784e+09  \n",
              "\n",
              "[5 rows x 29 columns]"
            ]
          },
          "execution_count": 34,
          "metadata": {},
          "output_type": "execute_result"
        }
      ],
      "source": [
        "X_val_sort.head()"
      ]
    },
    {
      "cell_type": "markdown",
      "metadata": {
        "id": "Mms3pe564O6v"
      },
      "source": [
        "- 예측을 잘 하지 못한 top 100개의 데이터와 예측을 잘한 top 100개의 데이터를 비교해보겠습니다."
      ]
    },
    {
      "cell_type": "code",
      "execution_count": 36,
      "metadata": {
        "id": "xxEferiRIM8A"
      },
      "outputs": [],
      "source": [
        "X_val_sort_top100 = X_val_1.sort_values(by='error', ascending=False).head(100)        # 예측을 잘 하지못한 top 100개의 data\n",
        "X_val_sort_tail100 = X_val_1.sort_values(by='error', ascending=False).tail(100)       # 예측을 잘한 top 100개의 data"
      ]
    },
    {
      "cell_type": "code",
      "execution_count": 37,
      "metadata": {
        "id": "JPt_LNqW3TZ2"
      },
      "outputs": [],
      "source": [
        "# 해석을 위해 레이블인코딩 된 변수를 복원해줍니다.\n",
        "error_top100 = X_val_sort_top100.copy()\n",
        "for column in categorical_columns_v2 :     # 앞서 레이블 인코딩에서 정의했던 categorical_columns_v2 범주형 변수 리스트를 사용합니다.\n",
        "    error_top100[column] = label_encoders[column].inverse_transform(X_val_sort_top100[column])\n",
        "\n",
        "best_top100 = X_val_sort_tail100.copy()\n",
        "for column in categorical_columns_v2 :     # 앞서 레이블 인코딩에서 정의했던 categorical_columns_v2 범주형 변수 리스트를 사용합니다.\n",
        "    best_top100[column] = label_encoders[column].inverse_transform(X_val_sort_tail100[column])"
      ]
    },
    {
      "cell_type": "code",
      "execution_count": 39,
      "metadata": {
        "colab": {
          "base_uri": "https://localhost:8080/",
          "height": 358
        },
        "id": "Rlo-K31L3PEQ",
        "outputId": "f009d0e0-0224-46eb-de2d-3eff99a2dbd0"
      },
      "outputs": [
        {
          "data": {
            "text/html": [
              "<div>\n",
              "<style scoped>\n",
              "    .dataframe tbody tr th:only-of-type {\n",
              "        vertical-align: middle;\n",
              "    }\n",
              "\n",
              "    .dataframe tbody tr th {\n",
              "        vertical-align: top;\n",
              "    }\n",
              "\n",
              "    .dataframe thead th {\n",
              "        text-align: right;\n",
              "    }\n",
              "</style>\n",
              "<table border=\"1\" class=\"dataframe\">\n",
              "  <thead>\n",
              "    <tr style=\"text-align: right;\">\n",
              "      <th></th>\n",
              "      <th>Unnamed: 0</th>\n",
              "      <th>번지</th>\n",
              "      <th>본번</th>\n",
              "      <th>부번</th>\n",
              "      <th>전용면적</th>\n",
              "      <th>층</th>\n",
              "      <th>건축년도</th>\n",
              "      <th>주소</th>\n",
              "      <th>x</th>\n",
              "      <th>y</th>\n",
              "      <th>...</th>\n",
              "      <th>건폐율</th>\n",
              "      <th>용적율</th>\n",
              "      <th>평균층수</th>\n",
              "      <th>계약년월</th>\n",
              "      <th>기준금리</th>\n",
              "      <th>면적분류</th>\n",
              "      <th>계약날짜</th>\n",
              "      <th>target</th>\n",
              "      <th>pred</th>\n",
              "      <th>error</th>\n",
              "    </tr>\n",
              "  </thead>\n",
              "  <tbody>\n",
              "    <tr>\n",
              "      <th>640384</th>\n",
              "      <td>852135</td>\n",
              "      <td>395</td>\n",
              "      <td>395</td>\n",
              "      <td>0</td>\n",
              "      <td>114.96</td>\n",
              "      <td>5</td>\n",
              "      <td>1994</td>\n",
              "      <td>서울특별시 용산구 이촌동 395</td>\n",
              "      <td>126.954929</td>\n",
              "      <td>37.525218</td>\n",
              "      <td>...</td>\n",
              "      <td>94.940000</td>\n",
              "      <td>1587.300000</td>\n",
              "      <td>4.819031</td>\n",
              "      <td>201310</td>\n",
              "      <td>2.50</td>\n",
              "      <td>4</td>\n",
              "      <td>2013-10-22</td>\n",
              "      <td>150500.0</td>\n",
              "      <td>88164.414062</td>\n",
              "      <td>3.885725e+09</td>\n",
              "    </tr>\n",
              "    <tr>\n",
              "      <th>619598</th>\n",
              "      <td>826736</td>\n",
              "      <td>757</td>\n",
              "      <td>757</td>\n",
              "      <td>0</td>\n",
              "      <td>107.47</td>\n",
              "      <td>1</td>\n",
              "      <td>1973</td>\n",
              "      <td>서울특별시 서초구 반포동 757</td>\n",
              "      <td>126.989036</td>\n",
              "      <td>37.505354</td>\n",
              "      <td>...</td>\n",
              "      <td>295.753665</td>\n",
              "      <td>3116.907864</td>\n",
              "      <td>5.160202</td>\n",
              "      <td>201405</td>\n",
              "      <td>2.50</td>\n",
              "      <td>4</td>\n",
              "      <td>2014-05-22</td>\n",
              "      <td>120000.0</td>\n",
              "      <td>181089.218750</td>\n",
              "      <td>3.731893e+09</td>\n",
              "    </tr>\n",
              "    <tr>\n",
              "      <th>644300</th>\n",
              "      <td>856879</td>\n",
              "      <td>206</td>\n",
              "      <td>206</td>\n",
              "      <td>0</td>\n",
              "      <td>115.04</td>\n",
              "      <td>7</td>\n",
              "      <td>2010</td>\n",
              "      <td>서울특별시 중구 회현동1가 206</td>\n",
              "      <td>126.980637</td>\n",
              "      <td>37.559126</td>\n",
              "      <td>...</td>\n",
              "      <td>52.810000</td>\n",
              "      <td>970.680000</td>\n",
              "      <td>29.504687</td>\n",
              "      <td>201401</td>\n",
              "      <td>2.50</td>\n",
              "      <td>4</td>\n",
              "      <td>2014-01-23</td>\n",
              "      <td>37500.0</td>\n",
              "      <td>95000.773438</td>\n",
              "      <td>3.306339e+09</td>\n",
              "    </tr>\n",
              "    <tr>\n",
              "      <th>649469</th>\n",
              "      <td>863031</td>\n",
              "      <td>528</td>\n",
              "      <td>528</td>\n",
              "      <td>0</td>\n",
              "      <td>106.22</td>\n",
              "      <td>9</td>\n",
              "      <td>1981</td>\n",
              "      <td>서울특별시 강남구 압구정동 528</td>\n",
              "      <td>127.044063</td>\n",
              "      <td>37.529126</td>\n",
              "      <td>...</td>\n",
              "      <td>297.238369</td>\n",
              "      <td>3138.077428</td>\n",
              "      <td>12.631906</td>\n",
              "      <td>201304</td>\n",
              "      <td>2.75</td>\n",
              "      <td>4</td>\n",
              "      <td>2013-04-01</td>\n",
              "      <td>60771.0</td>\n",
              "      <td>116362.835938</td>\n",
              "      <td>3.090452e+09</td>\n",
              "    </tr>\n",
              "    <tr>\n",
              "      <th>649549</th>\n",
              "      <td>863181</td>\n",
              "      <td>481</td>\n",
              "      <td>481</td>\n",
              "      <td>0</td>\n",
              "      <td>111.50</td>\n",
              "      <td>9</td>\n",
              "      <td>1980</td>\n",
              "      <td>서울특별시 강남구 압구정동 481</td>\n",
              "      <td>127.035440</td>\n",
              "      <td>37.531214</td>\n",
              "      <td>...</td>\n",
              "      <td>299.934718</td>\n",
              "      <td>3177.075452</td>\n",
              "      <td>11.455064</td>\n",
              "      <td>201302</td>\n",
              "      <td>2.75</td>\n",
              "      <td>4</td>\n",
              "      <td>2013-02-28</td>\n",
              "      <td>160000.0</td>\n",
              "      <td>105394.289062</td>\n",
              "      <td>2.981784e+09</td>\n",
              "    </tr>\n",
              "  </tbody>\n",
              "</table>\n",
              "<p>5 rows × 29 columns</p>\n",
              "</div>"
            ],
            "text/plain": [
              "        Unnamed: 0   번지   본번 부번    전용면적  층  건축년도                  주소  \\\n",
              "640384      852135  395  395  0  114.96  5  1994   서울특별시 용산구 이촌동 395   \n",
              "619598      826736  757  757  0  107.47  1  1973   서울특별시 서초구 반포동 757   \n",
              "644300      856879  206  206  0  115.04  7  2010  서울특별시 중구 회현동1가 206   \n",
              "649469      863031  528  528  0  106.22  9  1981  서울특별시 강남구 압구정동 528   \n",
              "649549      863181  481  481  0  111.50  9  1980  서울특별시 강남구 압구정동 481   \n",
              "\n",
              "                 x          y  ...         건폐율          용적율       평균층수  \\\n",
              "640384  126.954929  37.525218  ...   94.940000  1587.300000   4.819031   \n",
              "619598  126.989036  37.505354  ...  295.753665  3116.907864   5.160202   \n",
              "644300  126.980637  37.559126  ...   52.810000   970.680000  29.504687   \n",
              "649469  127.044063  37.529126  ...  297.238369  3138.077428  12.631906   \n",
              "649549  127.035440  37.531214  ...  299.934718  3177.075452  11.455064   \n",
              "\n",
              "          계약년월  기준금리 면적분류        계약날짜    target           pred         error  \n",
              "640384  201310  2.50    4  2013-10-22  150500.0   88164.414062  3.885725e+09  \n",
              "619598  201405  2.50    4  2014-05-22  120000.0  181089.218750  3.731893e+09  \n",
              "644300  201401  2.50    4  2014-01-23   37500.0   95000.773438  3.306339e+09  \n",
              "649469  201304  2.75    4  2013-04-01   60771.0  116362.835938  3.090452e+09  \n",
              "649549  201302  2.75    4  2013-02-28  160000.0  105394.289062  2.981784e+09  \n",
              "\n",
              "[5 rows x 29 columns]"
            ]
          },
          "metadata": {},
          "output_type": "display_data"
        },
        {
          "data": {
            "text/html": [
              "<div>\n",
              "<style scoped>\n",
              "    .dataframe tbody tr th:only-of-type {\n",
              "        vertical-align: middle;\n",
              "    }\n",
              "\n",
              "    .dataframe tbody tr th {\n",
              "        vertical-align: top;\n",
              "    }\n",
              "\n",
              "    .dataframe thead th {\n",
              "        text-align: right;\n",
              "    }\n",
              "</style>\n",
              "<table border=\"1\" class=\"dataframe\">\n",
              "  <thead>\n",
              "    <tr style=\"text-align: right;\">\n",
              "      <th></th>\n",
              "      <th>Unnamed: 0</th>\n",
              "      <th>번지</th>\n",
              "      <th>본번</th>\n",
              "      <th>부번</th>\n",
              "      <th>전용면적</th>\n",
              "      <th>층</th>\n",
              "      <th>건축년도</th>\n",
              "      <th>주소</th>\n",
              "      <th>x</th>\n",
              "      <th>y</th>\n",
              "      <th>...</th>\n",
              "      <th>건폐율</th>\n",
              "      <th>용적율</th>\n",
              "      <th>평균층수</th>\n",
              "      <th>계약년월</th>\n",
              "      <th>기준금리</th>\n",
              "      <th>면적분류</th>\n",
              "      <th>계약날짜</th>\n",
              "      <th>target</th>\n",
              "      <th>pred</th>\n",
              "      <th>error</th>\n",
              "    </tr>\n",
              "  </thead>\n",
              "  <tbody>\n",
              "    <tr>\n",
              "      <th>687691</th>\n",
              "      <td>907532</td>\n",
              "      <td>119-27</td>\n",
              "      <td>119</td>\n",
              "      <td>27</td>\n",
              "      <td>52.090</td>\n",
              "      <td>10</td>\n",
              "      <td>2012</td>\n",
              "      <td>서울특별시 송파구 오금동 119-27</td>\n",
              "      <td>127.139334</td>\n",
              "      <td>37.503325</td>\n",
              "      <td>...</td>\n",
              "      <td>28.870000</td>\n",
              "      <td>199.580000</td>\n",
              "      <td>6.913789</td>\n",
              "      <td>201304</td>\n",
              "      <td>2.75</td>\n",
              "      <td>2</td>\n",
              "      <td>2013-04-16</td>\n",
              "      <td>34500.0</td>\n",
              "      <td>34502.367188</td>\n",
              "      <td>5.603577</td>\n",
              "    </tr>\n",
              "    <tr>\n",
              "      <th>582654</th>\n",
              "      <td>784725</td>\n",
              "      <td>1461</td>\n",
              "      <td>1461</td>\n",
              "      <td>0</td>\n",
              "      <td>49.560</td>\n",
              "      <td>10</td>\n",
              "      <td>1992</td>\n",
              "      <td>서울특별시 강서구 가양동 1461</td>\n",
              "      <td>126.847174</td>\n",
              "      <td>37.570495</td>\n",
              "      <td>...</td>\n",
              "      <td>238.400000</td>\n",
              "      <td>1991.520000</td>\n",
              "      <td>8.731474</td>\n",
              "      <td>201403</td>\n",
              "      <td>2.50</td>\n",
              "      <td>1</td>\n",
              "      <td>2014-03-20</td>\n",
              "      <td>24000.0</td>\n",
              "      <td>23997.666016</td>\n",
              "      <td>5.447483</td>\n",
              "    </tr>\n",
              "    <tr>\n",
              "      <th>665594</th>\n",
              "      <td>881769</td>\n",
              "      <td>941</td>\n",
              "      <td>941</td>\n",
              "      <td>0</td>\n",
              "      <td>84.917</td>\n",
              "      <td>7</td>\n",
              "      <td>2005</td>\n",
              "      <td>서울특별시 노원구 월계동 941</td>\n",
              "      <td>127.058919</td>\n",
              "      <td>37.623149</td>\n",
              "      <td>...</td>\n",
              "      <td>296.450284</td>\n",
              "      <td>3126.854555</td>\n",
              "      <td>10.611010</td>\n",
              "      <td>201304</td>\n",
              "      <td>2.75</td>\n",
              "      <td>3</td>\n",
              "      <td>2013-04-24</td>\n",
              "      <td>32000.0</td>\n",
              "      <td>32002.322266</td>\n",
              "      <td>5.392918</td>\n",
              "    </tr>\n",
              "    <tr>\n",
              "      <th>592282</th>\n",
              "      <td>795944</td>\n",
              "      <td>478</td>\n",
              "      <td>478</td>\n",
              "      <td>0</td>\n",
              "      <td>84.960</td>\n",
              "      <td>12</td>\n",
              "      <td>2000</td>\n",
              "      <td>서울특별시 구로구 개봉동 478</td>\n",
              "      <td>126.851940</td>\n",
              "      <td>37.484679</td>\n",
              "      <td>...</td>\n",
              "      <td>303.243645</td>\n",
              "      <td>3223.830461</td>\n",
              "      <td>14.299859</td>\n",
              "      <td>201409</td>\n",
              "      <td>2.50</td>\n",
              "      <td>3</td>\n",
              "      <td>2014-09-20</td>\n",
              "      <td>32000.0</td>\n",
              "      <td>31997.728516</td>\n",
              "      <td>5.159641</td>\n",
              "    </tr>\n",
              "    <tr>\n",
              "      <th>585182</th>\n",
              "      <td>787653</td>\n",
              "      <td>685</td>\n",
              "      <td>685</td>\n",
              "      <td>0</td>\n",
              "      <td>84.830</td>\n",
              "      <td>7</td>\n",
              "      <td>2004</td>\n",
              "      <td>서울특별시 강서구 내발산동 685</td>\n",
              "      <td>126.832029</td>\n",
              "      <td>37.553675</td>\n",
              "      <td>...</td>\n",
              "      <td>27.100000</td>\n",
              "      <td>249.750000</td>\n",
              "      <td>11.765541</td>\n",
              "      <td>201409</td>\n",
              "      <td>2.50</td>\n",
              "      <td>3</td>\n",
              "      <td>2014-09-17</td>\n",
              "      <td>35000.0</td>\n",
              "      <td>34997.792969</td>\n",
              "      <td>4.870987</td>\n",
              "    </tr>\n",
              "  </tbody>\n",
              "</table>\n",
              "<p>5 rows × 29 columns</p>\n",
              "</div>"
            ],
            "text/plain": [
              "        Unnamed: 0      번지    본번  부번    전용면적   층  건축년도                    주소  \\\n",
              "687691      907532  119-27   119  27  52.090  10  2012  서울특별시 송파구 오금동 119-27   \n",
              "582654      784725    1461  1461   0  49.560  10  1992    서울특별시 강서구 가양동 1461   \n",
              "665594      881769     941   941   0  84.917   7  2005     서울특별시 노원구 월계동 941   \n",
              "592282      795944     478   478   0  84.960  12  2000     서울특별시 구로구 개봉동 478   \n",
              "585182      787653     685   685   0  84.830   7  2004    서울특별시 강서구 내발산동 685   \n",
              "\n",
              "                 x          y  ...         건폐율          용적율       평균층수  \\\n",
              "687691  127.139334  37.503325  ...   28.870000   199.580000   6.913789   \n",
              "582654  126.847174  37.570495  ...  238.400000  1991.520000   8.731474   \n",
              "665594  127.058919  37.623149  ...  296.450284  3126.854555  10.611010   \n",
              "592282  126.851940  37.484679  ...  303.243645  3223.830461  14.299859   \n",
              "585182  126.832029  37.553675  ...   27.100000   249.750000  11.765541   \n",
              "\n",
              "          계약년월  기준금리 면적분류        계약날짜   target          pred     error  \n",
              "687691  201304  2.75    2  2013-04-16  34500.0  34502.367188  5.603577  \n",
              "582654  201403  2.50    1  2014-03-20  24000.0  23997.666016  5.447483  \n",
              "665594  201304  2.75    3  2013-04-24  32000.0  32002.322266  5.392918  \n",
              "592282  201409  2.50    3  2014-09-20  32000.0  31997.728516  5.159641  \n",
              "585182  201409  2.50    3  2014-09-17  35000.0  34997.792969  4.870987  \n",
              "\n",
              "[5 rows x 29 columns]"
            ]
          },
          "metadata": {},
          "output_type": "display_data"
        }
      ],
      "source": [
        "display(error_top100.head())\n",
        "display(best_top100.head())"
      ]
    },
    {
      "cell_type": "markdown",
      "metadata": {
        "id": "K6gnHzd55c6f"
      },
      "source": [
        "- 이제 분포를 비교해보도록 하겠습니다."
      ]
    },
    {
      "cell_type": "code",
      "execution_count": 40,
      "metadata": {
        "colab": {
          "base_uri": "https://localhost:8080/",
          "height": 925
        },
        "id": "SyJJoEiu4kes",
        "outputId": "afd5876f-264e-4ad1-d2bf-cb400819c794"
      },
      "outputs": [
        {
          "data": {
            "image/png": "[encoded data removed]",
            "text/plain": [
              "<Figure size 640x480 with 1 Axes>"
            ]
          },
          "metadata": {},
          "output_type": "display_data"
        },
        {
          "data": {
            "image/png": "[encoded data removed]",
            "text/plain": [
              "<Figure size 640x480 with 1 Axes>"
            ]
          },
          "metadata": {},
          "output_type": "display_data"
        }
      ],
      "source": [
        "sns.boxplot(data = error_top100, x='target')\n",
        "plt.title('The worst top100 prediction의 target 분포')\n",
        "plt.show()\n",
        "\n",
        "sns.boxplot(data = best_top100, x='target', color='orange')\n",
        "plt.title('The best top100 prediction의 target 분포')\n",
        "plt.show()"
      ]
    },
    {
      "cell_type": "markdown",
      "metadata": {
        "id": "gWnF219657Lc"
      },
      "source": [
        "- Taget 분포를 보니 좋은 예측을 보인 top 100개의 data보다 상대적으로 나쁜 예측을 보인 top 100 dataset들이 높은 가격을 보였음을 확인할 수 있습니다. 이에 대한 모델링 및 처리가 필요해보입니다."
      ]
    },
    {
      "cell_type": "code",
      "execution_count": 41,
      "metadata": {
        "colab": {
          "base_uri": "https://localhost:8080/",
          "height": 471
        },
        "id": "qOhsS3Cr6IuH",
        "outputId": "462592ff-31b6-4300-9edb-cbec64054deb"
      },
      "outputs": [
        {
          "data": {
            "image/png": "[encoded data removed]",
            "text/plain": [
              "<Figure size 640x480 with 1 Axes>"
            ]
          },
          "metadata": {},
          "output_type": "display_data"
        }
      ],
      "source": [
        "sns.histplot(data = error_top100, x='전용면적', alpha=0.5)\n",
        "sns.histplot(data = best_top100, x='전용면적', color='orange', alpha=0.5)\n",
        "plt.title('전용면적 분포 비교')\n",
        "plt.show()"
      ]
    },
    {
      "cell_type": "markdown",
      "metadata": {
        "id": "XsMOOYc16jU8"
      },
      "source": [
        "- 전용면적 또한 나쁜 예측을 보인 집들이 더 넓음을 확인할 수 있습니다."
      ]
    },
    {
      "cell_type": "markdown",
      "metadata": {
        "id": "F0Ga4ljBNYIy"
      },
      "source": [
        "## 6. Inference"
      ]
    },
    {
      "cell_type": "code",
      "execution_count": 80,
      "metadata": {
        "colab": {
          "base_uri": "https://localhost:8080/",
          "height": 158
        },
        "id": "7LC7NuRaD_Dd",
        "outputId": "c2827163-dbdd-4c8c-d35b-1c325b8d14c0"
      },
      "outputs": [
        {
          "data": {
            "text/html": [
              "<div>\n",
              "<style scoped>\n",
              "    .dataframe tbody tr th:only-of-type {\n",
              "        vertical-align: middle;\n",
              "    }\n",
              "\n",
              "    .dataframe tbody tr th {\n",
              "        vertical-align: top;\n",
              "    }\n",
              "\n",
              "    .dataframe thead th {\n",
              "        text-align: right;\n",
              "    }\n",
              "</style>\n",
              "<table border=\"1\" class=\"dataframe\">\n",
              "  <thead>\n",
              "    <tr style=\"text-align: right;\">\n",
              "      <th></th>\n",
              "      <th>번지</th>\n",
              "      <th>본번</th>\n",
              "      <th>부번</th>\n",
              "      <th>전용면적</th>\n",
              "      <th>계약일</th>\n",
              "      <th>층</th>\n",
              "      <th>건축년도</th>\n",
              "      <th>주소</th>\n",
              "      <th>x</th>\n",
              "      <th>y</th>\n",
              "      <th>...</th>\n",
              "      <th>건축면적</th>\n",
              "      <th>연면적</th>\n",
              "      <th>대지면적</th>\n",
              "      <th>건폐율</th>\n",
              "      <th>용적율</th>\n",
              "      <th>평균층수</th>\n",
              "      <th>target</th>\n",
              "      <th>계약년월</th>\n",
              "      <th>기준금리</th>\n",
              "      <th>면적분류</th>\n",
              "    </tr>\n",
              "  </thead>\n",
              "  <tbody>\n",
              "    <tr>\n",
              "      <th>1179487</th>\n",
              "      <td>4284</td>\n",
              "      <td>1115</td>\n",
              "      <td>2</td>\n",
              "      <td>79.9700</td>\n",
              "      <td>26</td>\n",
              "      <td>5</td>\n",
              "      <td>1987</td>\n",
              "      <td>32</td>\n",
              "      <td>127.056841</td>\n",
              "      <td>37.476283</td>\n",
              "      <td>...</td>\n",
              "      <td>4551.3300</td>\n",
              "      <td>22305.9300</td>\n",
              "      <td>171124.438613</td>\n",
              "      <td>297.162458</td>\n",
              "      <td>3139.237949</td>\n",
              "      <td>4.90097</td>\n",
              "      <td>0</td>\n",
              "      <td>198</td>\n",
              "      <td>3.5</td>\n",
              "      <td>3</td>\n",
              "    </tr>\n",
              "    <tr>\n",
              "      <th>1179488</th>\n",
              "      <td>4260</td>\n",
              "      <td>1108</td>\n",
              "      <td>2</td>\n",
              "      <td>108.2017</td>\n",
              "      <td>15</td>\n",
              "      <td>10</td>\n",
              "      <td>2021</td>\n",
              "      <td>25</td>\n",
              "      <td>127.057251</td>\n",
              "      <td>37.484828</td>\n",
              "      <td>...</td>\n",
              "      <td>2706.0317</td>\n",
              "      <td>31893.0189</td>\n",
              "      <td>164008.524870</td>\n",
              "      <td>297.009766</td>\n",
              "      <td>3135.924895</td>\n",
              "      <td>11.78590</td>\n",
              "      <td>0</td>\n",
              "      <td>199</td>\n",
              "      <td>3.5</td>\n",
              "      <td>4</td>\n",
              "    </tr>\n",
              "  </tbody>\n",
              "</table>\n",
              "<p>2 rows × 28 columns</p>\n",
              "</div>"
            ],
            "text/plain": [
              "           번지    본번  부번      전용면적  계약일   층  건축년도  주소           x          y  \\\n",
              "1179487  4284  1115   2   79.9700   26   5  1987  32  127.056841  37.476283   \n",
              "1179488  4260  1108   2  108.2017   15  10  2021  25  127.057251  37.484828   \n",
              "\n",
              "         ...       건축면적         연면적           대지면적         건폐율          용적율  \\\n",
              "1179487  ...  4551.3300  22305.9300  171124.438613  297.162458  3139.237949   \n",
              "1179488  ...  2706.0317  31893.0189  164008.524870  297.009766  3135.924895   \n",
              "\n",
              "             평균층수  target  계약년월  기준금리  면적분류  \n",
              "1179487   4.90097       0   198   3.5     3  \n",
              "1179488  11.78590       0   199   3.5     4  \n",
              "\n",
              "[2 rows x 28 columns]"
            ]
          },
          "execution_count": 80,
          "metadata": {},
          "output_type": "execute_result"
        }
      ],
      "source": [
        "dt_test.head(2)      # test dataset에 대한 inference를 진행해보겠습니다."
      ]
    },
    {
      "cell_type": "code",
      "execution_count": 56,
      "metadata": {},
      "outputs": [
        {
          "data": {
            "text/html": [
              "<div>\n",
              "<style scoped>\n",
              "    .dataframe tbody tr th:only-of-type {\n",
              "        vertical-align: middle;\n",
              "    }\n",
              "\n",
              "    .dataframe tbody tr th {\n",
              "        vertical-align: top;\n",
              "    }\n",
              "\n",
              "    .dataframe thead th {\n",
              "        text-align: right;\n",
              "    }\n",
              "</style>\n",
              "<table border=\"1\" class=\"dataframe\">\n",
              "  <thead>\n",
              "    <tr style=\"text-align: right;\">\n",
              "      <th></th>\n",
              "      <th>시군구</th>\n",
              "      <th>번지</th>\n",
              "      <th>본번</th>\n",
              "      <th>부번</th>\n",
              "      <th>아파트명</th>\n",
              "      <th>전용면적(㎡)</th>\n",
              "      <th>계약년월</th>\n",
              "      <th>계약일</th>\n",
              "      <th>층</th>\n",
              "      <th>건축년도</th>\n",
              "      <th>...</th>\n",
              "      <th>청소비관리형태</th>\n",
              "      <th>건축면적</th>\n",
              "      <th>주차대수</th>\n",
              "      <th>기타/의무/임대/임의=1/2/3/4</th>\n",
              "      <th>단지승인일</th>\n",
              "      <th>사용허가여부</th>\n",
              "      <th>관리비 업로드</th>\n",
              "      <th>좌표X</th>\n",
              "      <th>좌표Y</th>\n",
              "      <th>단지신청일</th>\n",
              "    </tr>\n",
              "  </thead>\n",
              "  <tbody>\n",
              "    <tr>\n",
              "      <th>0</th>\n",
              "      <td>서울특별시 강남구 개포동</td>\n",
              "      <td>658-1</td>\n",
              "      <td>658.0</td>\n",
              "      <td>1.0</td>\n",
              "      <td>개포6차우성</td>\n",
              "      <td>79.9700</td>\n",
              "      <td>202307</td>\n",
              "      <td>26</td>\n",
              "      <td>5</td>\n",
              "      <td>1987</td>\n",
              "      <td>...</td>\n",
              "      <td>직영</td>\n",
              "      <td>4858.00</td>\n",
              "      <td>262.0</td>\n",
              "      <td>임의</td>\n",
              "      <td>2022-11-17 13:00:29.0</td>\n",
              "      <td>Y</td>\n",
              "      <td>N</td>\n",
              "      <td>127.057210</td>\n",
              "      <td>37.476763</td>\n",
              "      <td>2022-11-17 10:19:06.0</td>\n",
              "    </tr>\n",
              "    <tr>\n",
              "      <th>1</th>\n",
              "      <td>서울특별시 강남구 개포동</td>\n",
              "      <td>651-1</td>\n",
              "      <td>651.0</td>\n",
              "      <td>1.0</td>\n",
              "      <td>개포더샵트리에</td>\n",
              "      <td>108.2017</td>\n",
              "      <td>202308</td>\n",
              "      <td>15</td>\n",
              "      <td>10</td>\n",
              "      <td>2021</td>\n",
              "      <td>...</td>\n",
              "      <td>위탁</td>\n",
              "      <td>2724.46</td>\n",
              "      <td>305.0</td>\n",
              "      <td>의무</td>\n",
              "      <td>2022-02-23 13:01:10.0</td>\n",
              "      <td>Y</td>\n",
              "      <td>N</td>\n",
              "      <td>127.056394</td>\n",
              "      <td>37.484892</td>\n",
              "      <td>2022-02-23 11:05:05.0</td>\n",
              "    </tr>\n",
              "  </tbody>\n",
              "</table>\n",
              "<p>2 rows × 51 columns</p>\n",
              "</div>"
            ],
            "text/plain": [
              "             시군구     번지     본번   부번     아파트명   전용면적(㎡)    계약년월  계약일   층  건축년도  \\\n",
              "0  서울특별시 강남구 개포동  658-1  658.0  1.0   개포6차우성   79.9700  202307   26   5  1987   \n",
              "1  서울특별시 강남구 개포동  651-1  651.0  1.0  개포더샵트리에  108.2017  202308   15  10  2021   \n",
              "\n",
              "   ... 청소비관리형태     건축면적   주차대수 기타/의무/임대/임의=1/2/3/4                  단지승인일  \\\n",
              "0  ...      직영  4858.00  262.0                  임의  2022-11-17 13:00:29.0   \n",
              "1  ...      위탁  2724.46  305.0                  의무  2022-02-23 13:01:10.0   \n",
              "\n",
              "  사용허가여부 관리비 업로드         좌표X        좌표Y                  단지신청일  \n",
              "0      Y       N  127.057210  37.476763  2022-11-17 10:19:06.0  \n",
              "1      Y       N  127.056394  37.484892  2022-02-23 11:05:05.0  \n",
              "\n",
              "[2 rows x 51 columns]"
            ]
          },
          "execution_count": 56,
          "metadata": {},
          "output_type": "execute_result"
        }
      ],
      "source": [
        "dt_test1.head(2)"
      ]
    },
    {
      "cell_type": "code",
      "execution_count": 43,
      "metadata": {
        "id": "0HXvn8ZSa1kt"
      },
      "outputs": [],
      "source": [
        "# 저장된 모델을 불러옵니다.\n",
        "with open('./temp/saved_model.pkl', 'rb') as f:\n",
        "    model = pickle.load(f)"
      ]
    },
    {
      "cell_type": "code",
      "execution_count": 97,
      "metadata": {},
      "outputs": [
        {
          "data": {
            "text/plain": [
              "xgboost.sklearn.XGBRegressor"
            ]
          },
          "execution_count": 97,
          "metadata": {},
          "output_type": "execute_result"
        }
      ],
      "source": [
        "type(model)"
      ]
    },
    {
      "cell_type": "code",
      "execution_count": 45,
      "metadata": {},
      "outputs": [
        {
          "name": "stdout",
          "output_type": "stream",
          "text": [
            "<class 'pandas.core.frame.DataFrame'>\n",
            "Int64Index: 9272 entries, 699179 to 708450\n",
            "Data columns (total 27 columns):\n",
            " #   Column      Non-Null Count  Dtype  \n",
            "---  ------      --------------  -----  \n",
            " 0   Unnamed: 0  9272 non-null   int64  \n",
            " 1   번지          9272 non-null   int64  \n",
            " 2   본번          9272 non-null   int64  \n",
            " 3   부번          9272 non-null   int64  \n",
            " 4   전용면적        9272 non-null   float64\n",
            " 5   층           9272 non-null   int64  \n",
            " 6   건축년도        9272 non-null   int64  \n",
            " 7   target      9272 non-null   int64  \n",
            " 8   주소          9272 non-null   int64  \n",
            " 9   x           9272 non-null   float64\n",
            " 10  y           9272 non-null   float64\n",
            " 11  거래취소여부      9272 non-null   int64  \n",
            " 12  거래일건물연식     9272 non-null   int64  \n",
            " 13  구           9272 non-null   int64  \n",
            " 14  동           9272 non-null   int64  \n",
            " 15  강남여부        9272 non-null   int64  \n",
            " 16  신축여부        9272 non-null   int64  \n",
            " 17  건축면적        9272 non-null   float64\n",
            " 18  연면적         9272 non-null   float64\n",
            " 19  대지면적        9272 non-null   float64\n",
            " 20  건폐율         9272 non-null   float64\n",
            " 21  용적율         9272 non-null   float64\n",
            " 22  평균층수        9272 non-null   float64\n",
            " 23  계약년월        9272 non-null   int64  \n",
            " 24  기준금리        9272 non-null   float64\n",
            " 25  면적분류        9272 non-null   int64  \n",
            " 26  계약날짜        9272 non-null   int64  \n",
            "dtypes: float64(10), int64(17)\n",
            "memory usage: 2.0 MB\n"
          ]
        }
      ],
      "source": [
        "dt_test.info()"
      ]
    },
    {
      "cell_type": "code",
      "execution_count": 44,
      "metadata": {},
      "outputs": [
        {
          "data": {
            "text/html": [
              "<div>\n",
              "<style scoped>\n",
              "    .dataframe tbody tr th:only-of-type {\n",
              "        vertical-align: middle;\n",
              "    }\n",
              "\n",
              "    .dataframe tbody tr th {\n",
              "        vertical-align: top;\n",
              "    }\n",
              "\n",
              "    .dataframe thead th {\n",
              "        text-align: right;\n",
              "    }\n",
              "</style>\n",
              "<table border=\"1\" class=\"dataframe\">\n",
              "  <thead>\n",
              "    <tr style=\"text-align: right;\">\n",
              "      <th></th>\n",
              "      <th>Unnamed: 0</th>\n",
              "      <th>번지</th>\n",
              "      <th>본번</th>\n",
              "      <th>부번</th>\n",
              "      <th>전용면적</th>\n",
              "      <th>층</th>\n",
              "      <th>건축년도</th>\n",
              "      <th>target</th>\n",
              "      <th>주소</th>\n",
              "      <th>x</th>\n",
              "      <th>...</th>\n",
              "      <th>건축면적</th>\n",
              "      <th>연면적</th>\n",
              "      <th>대지면적</th>\n",
              "      <th>건폐율</th>\n",
              "      <th>용적율</th>\n",
              "      <th>평균층수</th>\n",
              "      <th>계약년월</th>\n",
              "      <th>기준금리</th>\n",
              "      <th>면적분류</th>\n",
              "      <th>계약날짜</th>\n",
              "    </tr>\n",
              "  </thead>\n",
              "  <tbody>\n",
              "    <tr>\n",
              "      <th>699179</th>\n",
              "      <td>1165613</td>\n",
              "      <td>4245</td>\n",
              "      <td>1113</td>\n",
              "      <td>2</td>\n",
              "      <td>79.9700</td>\n",
              "      <td>5</td>\n",
              "      <td>1987</td>\n",
              "      <td>0</td>\n",
              "      <td>32</td>\n",
              "      <td>127.056841</td>\n",
              "      <td>...</td>\n",
              "      <td>4551.3300</td>\n",
              "      <td>22305.9300</td>\n",
              "      <td>171357.334166</td>\n",
              "      <td>297.555783</td>\n",
              "      <td>3143.834230</td>\n",
              "      <td>4.900970</td>\n",
              "      <td>138</td>\n",
              "      <td>3.5</td>\n",
              "      <td>3</td>\n",
              "      <td>4190</td>\n",
              "    </tr>\n",
              "    <tr>\n",
              "      <th>699180</th>\n",
              "      <td>1165614</td>\n",
              "      <td>4221</td>\n",
              "      <td>1106</td>\n",
              "      <td>2</td>\n",
              "      <td>108.2017</td>\n",
              "      <td>10</td>\n",
              "      <td>2021</td>\n",
              "      <td>0</td>\n",
              "      <td>25</td>\n",
              "      <td>127.057251</td>\n",
              "      <td>...</td>\n",
              "      <td>2706.0317</td>\n",
              "      <td>31893.0189</td>\n",
              "      <td>164240.992757</td>\n",
              "      <td>297.402886</td>\n",
              "      <td>3140.519263</td>\n",
              "      <td>11.785900</td>\n",
              "      <td>139</td>\n",
              "      <td>3.5</td>\n",
              "      <td>4</td>\n",
              "      <td>4210</td>\n",
              "    </tr>\n",
              "    <tr>\n",
              "      <th>699181</th>\n",
              "      <td>1165615</td>\n",
              "      <td>4222</td>\n",
              "      <td>1107</td>\n",
              "      <td>1</td>\n",
              "      <td>161.0000</td>\n",
              "      <td>15</td>\n",
              "      <td>1984</td>\n",
              "      <td>0</td>\n",
              "      <td>26</td>\n",
              "      <td>127.056014</td>\n",
              "      <td>...</td>\n",
              "      <td>4484.9400</td>\n",
              "      <td>61999.0800</td>\n",
              "      <td>183006.694768</td>\n",
              "      <td>299.033944</td>\n",
              "      <td>3163.697455</td>\n",
              "      <td>13.823837</td>\n",
              "      <td>138</td>\n",
              "      <td>3.5</td>\n",
              "      <td>4</td>\n",
              "      <td>4192</td>\n",
              "    </tr>\n",
              "    <tr>\n",
              "      <th>699182</th>\n",
              "      <td>1165616</td>\n",
              "      <td>4222</td>\n",
              "      <td>1107</td>\n",
              "      <td>1</td>\n",
              "      <td>133.4600</td>\n",
              "      <td>14</td>\n",
              "      <td>1984</td>\n",
              "      <td>0</td>\n",
              "      <td>26</td>\n",
              "      <td>127.056014</td>\n",
              "      <td>...</td>\n",
              "      <td>4484.9400</td>\n",
              "      <td>61999.0800</td>\n",
              "      <td>183006.694768</td>\n",
              "      <td>299.033944</td>\n",
              "      <td>3163.697455</td>\n",
              "      <td>13.823837</td>\n",
              "      <td>139</td>\n",
              "      <td>3.5</td>\n",
              "      <td>4</td>\n",
              "      <td>4205</td>\n",
              "    </tr>\n",
              "    <tr>\n",
              "      <th>699183</th>\n",
              "      <td>1165617</td>\n",
              "      <td>4222</td>\n",
              "      <td>1107</td>\n",
              "      <td>1</td>\n",
              "      <td>104.4300</td>\n",
              "      <td>6</td>\n",
              "      <td>1984</td>\n",
              "      <td>0</td>\n",
              "      <td>26</td>\n",
              "      <td>127.056014</td>\n",
              "      <td>...</td>\n",
              "      <td>4484.9400</td>\n",
              "      <td>61999.0800</td>\n",
              "      <td>183006.694768</td>\n",
              "      <td>299.033944</td>\n",
              "      <td>3163.697455</td>\n",
              "      <td>13.823837</td>\n",
              "      <td>139</td>\n",
              "      <td>3.5</td>\n",
              "      <td>4</td>\n",
              "      <td>4213</td>\n",
              "    </tr>\n",
              "  </tbody>\n",
              "</table>\n",
              "<p>5 rows × 27 columns</p>\n",
              "</div>"
            ],
            "text/plain": [
              "        Unnamed: 0    번지    본번  부번      전용면적   층  건축년도  target  주소  \\\n",
              "699179     1165613  4245  1113   2   79.9700   5  1987       0  32   \n",
              "699180     1165614  4221  1106   2  108.2017  10  2021       0  25   \n",
              "699181     1165615  4222  1107   1  161.0000  15  1984       0  26   \n",
              "699182     1165616  4222  1107   1  133.4600  14  1984       0  26   \n",
              "699183     1165617  4222  1107   1  104.4300   6  1984       0  26   \n",
              "\n",
              "                 x  ...       건축면적         연면적           대지면적         건폐율  \\\n",
              "699179  127.056841  ...  4551.3300  22305.9300  171357.334166  297.555783   \n",
              "699180  127.057251  ...  2706.0317  31893.0189  164240.992757  297.402886   \n",
              "699181  127.056014  ...  4484.9400  61999.0800  183006.694768  299.033944   \n",
              "699182  127.056014  ...  4484.9400  61999.0800  183006.694768  299.033944   \n",
              "699183  127.056014  ...  4484.9400  61999.0800  183006.694768  299.033944   \n",
              "\n",
              "                용적율       평균층수  계약년월  기준금리  면적분류  계약날짜  \n",
              "699179  3143.834230   4.900970   138   3.5     3  4190  \n",
              "699180  3140.519263  11.785900   139   3.5     4  4210  \n",
              "699181  3163.697455  13.823837   138   3.5     4  4192  \n",
              "699182  3163.697455  13.823837   139   3.5     4  4205  \n",
              "699183  3163.697455  13.823837   139   3.5     4  4213  \n",
              "\n",
              "[5 rows x 27 columns]"
            ]
          },
          "execution_count": 44,
          "metadata": {},
          "output_type": "execute_result"
        }
      ],
      "source": [
        "dt_test.head()"
      ]
    },
    {
      "cell_type": "code",
      "execution_count": 99,
      "metadata": {},
      "outputs": [
        {
          "name": "stdout",
          "output_type": "stream",
          "text": [
            "(9390,)\n",
            "(9390,)\n"
          ]
        }
      ],
      "source": [
        "print(real_test_pred.shape)\n",
        "print(dt_test['전용면적'].shape)"
      ]
    },
    {
      "cell_type": "code",
      "execution_count": 46,
      "metadata": {
        "colab": {
          "base_uri": "https://localhost:8080/"
        },
        "id": "qbZ2A49LP_T9",
        "outputId": "89676c9b-c0a2-4951-84f0-430c5648331c"
      },
      "outputs": [
        {
          "name": "stdout",
          "output_type": "stream",
          "text": [
            "CPU times: user 530 ms, sys: 83 µs, total: 530 ms\n",
            "Wall time: 65.3 ms\n"
          ]
        }
      ],
      "source": [
        "%%time\n",
        "X_test = dt_test.drop(['target'], axis=1)\n",
        "\n",
        "real_test_pred = model.predict(X_test)\n",
        "# real_test_pred = real_test_pred * dt_test['전용면적'].values"
      ]
    },
    {
      "cell_type": "code",
      "execution_count": 47,
      "metadata": {
        "colab": {
          "base_uri": "https://localhost:8080/"
        },
        "id": "4M1QkrH_31zK",
        "outputId": "6c6f4635-50bb-4a2d-8453-56f700ec6140"
      },
      "outputs": [
        {
          "data": {
            "text/plain": [
              "array([187669.66, 265536.3 , 235682.11, ...,  86014.62,  71421.03,\n",
              "        75809.2 ], dtype=float32)"
            ]
          },
          "execution_count": 47,
          "metadata": {},
          "output_type": "execute_result"
        }
      ],
      "source": [
        "real_test_pred          # 예측값들이 출력됨을 확인할 수 있습니다."
      ]
    },
    {
      "cell_type": "code",
      "execution_count": 48,
      "metadata": {},
      "outputs": [
        {
          "ename": "NameError",
          "evalue": "name 'dt' is not defined",
          "output_type": "error",
          "traceback": [
            "\u001b[0;31m---------------------------------------------------------------------------\u001b[0m",
            "\u001b[0;31mNameError\u001b[0m                                 Traceback (most recent call last)",
            "Cell \u001b[0;32mIn[48], line 1\u001b[0m\n\u001b[0;32m----> 1\u001b[0m plt\u001b[38;5;241m.\u001b[39mhist(\u001b[43mdt\u001b[49m[\u001b[38;5;124m'\u001b[39m\u001b[38;5;124m전용면적\u001b[39m\u001b[38;5;124m'\u001b[39m], bins\u001b[38;5;241m=\u001b[39m\u001b[38;5;241m50\u001b[39m, alpha\u001b[38;5;241m=\u001b[39m\u001b[38;5;241m0.5\u001b[39m, label\u001b[38;5;241m=\u001b[39m\u001b[38;5;124m'\u001b[39m\u001b[38;5;124mTrain\u001b[39m\u001b[38;5;124m'\u001b[39m)\n\u001b[1;32m      2\u001b[0m plt\u001b[38;5;241m.\u001b[39mhist(dt_test[\u001b[38;5;124m'\u001b[39m\u001b[38;5;124m전용면적\u001b[39m\u001b[38;5;124m'\u001b[39m], bins\u001b[38;5;241m=\u001b[39m\u001b[38;5;241m50\u001b[39m, alpha\u001b[38;5;241m=\u001b[39m\u001b[38;5;241m0.5\u001b[39m, label\u001b[38;5;241m=\u001b[39m\u001b[38;5;124m'\u001b[39m\u001b[38;5;124mTest\u001b[39m\u001b[38;5;124m'\u001b[39m)\n\u001b[1;32m      3\u001b[0m plt\u001b[38;5;241m.\u001b[39mlegend()\n",
            "\u001b[0;31mNameError\u001b[0m: name 'dt' is not defined"
          ]
        }
      ],
      "source": [
        "plt.hist(dt['전용면적'], bins=50, alpha=0.5, label='Train')\n",
        "plt.hist(dt_test['전용면적'], bins=50, alpha=0.5, label='Test')\n",
        "plt.legend()\n",
        "plt.show()"
      ]
    },
    {
      "cell_type": "markdown",
      "metadata": {
        "id": "KlxtDBDNNa6Y"
      },
      "source": [
        "## 7. Output File Save"
      ]
    },
    {
      "cell_type": "code",
      "execution_count": 49,
      "metadata": {
        "id": "Tn36fIuB42aM"
      },
      "outputs": [],
      "source": [
        "# 앞서 예측한 예측값들을 저장합니다.\n",
        "preds_df = pd.DataFrame(real_test_pred.astype(int), columns=[\"target\"])\n",
        "preds_df.to_csv('./temp/output.csv', index=False)"
      ]
    },
    {
      "cell_type": "code",
      "execution_count": null,
      "metadata": {},
      "outputs": [],
      "source": []
    }
  ],
  "metadata": {
    "colab": {
      "provenance": []
    },
    "kernelspec": {
      "display_name": "Python 3.10.13 ('base')",
      "language": "python",
      "name": "python3"
    },
    "language_info": {
      "codemirror_mode": {
        "name": "ipython",
        "version": 3
      },
      "file_extension": ".py",
      "mimetype": "text/x-python",
      "name": "python",
      "nbconvert_exporter": "python",
      "pygments_lexer": "ipython3",
      "version": "3.10.13"
    },
    "vscode": {
      "interpreter": {
        "hash": "d4d1e4263499bec80672ea0156c357c1ee493ec2b1c70f0acce89fc37c4a6abe"
      }
    }
  },
  "nbformat": 4,
  "nbformat_minor": 0
}
