{
  "cells": [
    {
      "cell_type": "markdown",
      "metadata": {
        "id": "92WHLz8346Yf"
      },
      "source": [
        "# **🏠 부동산 실거래가 Baseline code**\n",
        "> 부동산 실거래가 예측 대회에 오신 여러분 환영합니다! 🎉     \n",
        "> 아래 baseline에서는 RandomForest를 활용해 ML 방법론들을 실제 대회에 적용해보도록 하겠습니다.\n",
        "> 강의는 google colab으로 실행하였기에 아래의 베이스라인 코드와는 일부 차이가 있을 수 있습니다. \n",
        "\n",
        "## Contents\n",
        "- Library Import\n",
        "- Data Load\n",
        "- Data Preprocessing\n",
        "- Feature Engineering\n",
        "- Model Training\n",
        "- Inference\n",
        "- Output File Save\n"
      ]
    },
    {
      "cell_type": "markdown",
      "metadata": {
        "id": "2-DJzJjvO88V"
      },
      "source": [
        "## 1. Library Import\n",
        "- 필요한 라이브러리를 불러옵니다."
      ]
    },
    {
      "cell_type": "code",
      "execution_count": null,
      "metadata": {
        "colab": {
          "base_uri": "https://localhost:8080/"
        },
        "id": "PKs1Mj7OcWU0",
        "outputId": "d142df48-acc5-4bca-c9be-18575aa6a6dc"
      },
      "outputs": [],
      "source": [
        "!pip install eli5==0.13.0\n",
        "\n",
        "# 한글 폰트 사용을 위한 라이브러리입니다.\n",
        "!apt-get install -y fonts-nanum"
      ]
    },
    {
      "cell_type": "code",
      "execution_count": 18,
      "metadata": {
        "id": "d-NiCLGs4ZpM"
      },
      "outputs": [],
      "source": [
        "# visualization\n",
        "import matplotlib.pyplot as plt\n",
        "import matplotlib.font_manager as fm\n",
        "fe = fm.FontEntry(\n",
        "    fname=r'/usr/share/fonts/truetype/nanum/NanumGothic.ttf', # ttf 파일이 저장되어 있는 경로\n",
        "    name='NanumBarunGothic')                        # 이 폰트의 원하는 이름 설정\n",
        "fm.fontManager.ttflist.insert(0, fe)              # Matplotlib에 폰트 추가\n",
        "plt.rcParams.update({'font.size': 10, 'font.family': 'NanumBarunGothic'}) # 폰트 설정\n",
        "plt.rc('font', family='NanumBarunGothic')\n",
        "import seaborn as sns\n",
        "\n",
        "# utils\n",
        "import pandas as pd\n",
        "import numpy as np\n",
        "from tqdm import tqdm\n",
        "import pickle\n",
        "import warnings;warnings.filterwarnings('ignore')\n",
        "\n",
        "# Model\n",
        "from sklearn.preprocessing import LabelEncoder\n",
        "from sklearn.model_selection import train_test_split\n",
        "from sklearn.metrics import mean_squared_error\n",
        "from sklearn.ensemble import RandomForestRegressor\n",
        "from sklearn import metrics\n",
        "\n",
        "import eli5\n",
        "from eli5.sklearn import PermutationImportance\n",
        "\n",
        "pd.set_option('display.float_format', '{:.6f}'.format)"
      ]
    },
    {
      "cell_type": "markdown",
      "metadata": {
        "id": "OPJvYT0OPAWS"
      },
      "source": [
        "## 2. Data Load"
      ]
    },
    {
      "cell_type": "markdown",
      "metadata": {
        "id": "vvwnwnpNJeR1"
      },
      "source": [
        "#### 2.1. 데이터 로드"
      ]
    },
    {
      "cell_type": "code",
      "execution_count": null,
      "metadata": {},
      "outputs": [],
      "source": [
        "import os\n",
        "os.getcwd()"
      ]
    },
    {
      "cell_type": "markdown",
      "metadata": {},
      "source": [
        "### dataset_2 시작"
      ]
    },
    {
      "cell_type": "code",
      "execution_count": 189,
      "metadata": {},
      "outputs": [
        {
          "data": {
            "text/plain": [
              "(9272, 26)"
            ]
          },
          "execution_count": 189,
          "metadata": {},
          "output_type": "execute_result"
        }
      ],
      "source": [
        "concat = pd.read_csv('../data/base_dataset_3.csv')\n",
        "\n",
        "concat[concat['is_test'] == 1].shape"
      ]
    },
    {
      "cell_type": "code",
      "execution_count": 190,
      "metadata": {},
      "outputs": [
        {
          "data": {
            "text/plain": [
              "(1128094, 26)"
            ]
          },
          "execution_count": 190,
          "metadata": {},
          "output_type": "execute_result"
        }
      ],
      "source": [
        "concat.shape"
      ]
    },
    {
      "cell_type": "code",
      "execution_count": 158,
      "metadata": {},
      "outputs": [
        {
          "data": {
            "text/html": [
              "<div>\n",
              "<style scoped>\n",
              "    .dataframe tbody tr th:only-of-type {\n",
              "        vertical-align: middle;\n",
              "    }\n",
              "\n",
              "    .dataframe tbody tr th {\n",
              "        vertical-align: top;\n",
              "    }\n",
              "\n",
              "    .dataframe thead th {\n",
              "        text-align: right;\n",
              "    }\n",
              "</style>\n",
              "<table border=\"1\" class=\"dataframe\">\n",
              "  <thead>\n",
              "    <tr style=\"text-align: right;\">\n",
              "      <th></th>\n",
              "      <th>번지</th>\n",
              "      <th>본번</th>\n",
              "      <th>부번</th>\n",
              "      <th>전용면적</th>\n",
              "      <th>계약일</th>\n",
              "      <th>층</th>\n",
              "      <th>건축년도</th>\n",
              "      <th>target</th>\n",
              "      <th>is_test</th>\n",
              "      <th>주소</th>\n",
              "      <th>...</th>\n",
              "      <th>구</th>\n",
              "      <th>동</th>\n",
              "      <th>강남여부</th>\n",
              "      <th>신축여부</th>\n",
              "      <th>건축면적</th>\n",
              "      <th>연면적</th>\n",
              "      <th>대지면적</th>\n",
              "      <th>건폐율</th>\n",
              "      <th>용적율</th>\n",
              "      <th>평균층수</th>\n",
              "    </tr>\n",
              "  </thead>\n",
              "  <tbody>\n",
              "    <tr>\n",
              "      <th>1118822</th>\n",
              "      <td>658-1</td>\n",
              "      <td>658</td>\n",
              "      <td>1</td>\n",
              "      <td>79.970000</td>\n",
              "      <td>26</td>\n",
              "      <td>5</td>\n",
              "      <td>1987</td>\n",
              "      <td>NaN</td>\n",
              "      <td>1</td>\n",
              "      <td>서울특별시 강남구 개포동 658-1</td>\n",
              "      <td>...</td>\n",
              "      <td>강남구</td>\n",
              "      <td>개포동</td>\n",
              "      <td>1</td>\n",
              "      <td>0</td>\n",
              "      <td>4551.330000</td>\n",
              "      <td>22305.930000</td>\n",
              "      <td>171357.334166</td>\n",
              "      <td>297.555783</td>\n",
              "      <td>3143.834230</td>\n",
              "      <td>4.900970</td>\n",
              "    </tr>\n",
              "    <tr>\n",
              "      <th>1118823</th>\n",
              "      <td>651-1</td>\n",
              "      <td>651</td>\n",
              "      <td>1</td>\n",
              "      <td>108.201700</td>\n",
              "      <td>15</td>\n",
              "      <td>10</td>\n",
              "      <td>2021</td>\n",
              "      <td>NaN</td>\n",
              "      <td>1</td>\n",
              "      <td>서울특별시 강남구 개포동 651-1</td>\n",
              "      <td>...</td>\n",
              "      <td>강남구</td>\n",
              "      <td>개포동</td>\n",
              "      <td>1</td>\n",
              "      <td>1</td>\n",
              "      <td>2706.031700</td>\n",
              "      <td>31893.018900</td>\n",
              "      <td>164240.992757</td>\n",
              "      <td>297.402886</td>\n",
              "      <td>3140.519263</td>\n",
              "      <td>11.785900</td>\n",
              "    </tr>\n",
              "    <tr>\n",
              "      <th>1118824</th>\n",
              "      <td>652</td>\n",
              "      <td>652</td>\n",
              "      <td>0</td>\n",
              "      <td>161.000000</td>\n",
              "      <td>28</td>\n",
              "      <td>15</td>\n",
              "      <td>1984</td>\n",
              "      <td>NaN</td>\n",
              "      <td>1</td>\n",
              "      <td>서울특별시 강남구 개포동 652</td>\n",
              "      <td>...</td>\n",
              "      <td>강남구</td>\n",
              "      <td>개포동</td>\n",
              "      <td>1</td>\n",
              "      <td>0</td>\n",
              "      <td>4484.940000</td>\n",
              "      <td>61999.080000</td>\n",
              "      <td>183006.694768</td>\n",
              "      <td>299.033944</td>\n",
              "      <td>3163.697455</td>\n",
              "      <td>13.823837</td>\n",
              "    </tr>\n",
              "    <tr>\n",
              "      <th>1118825</th>\n",
              "      <td>652</td>\n",
              "      <td>652</td>\n",
              "      <td>0</td>\n",
              "      <td>133.460000</td>\n",
              "      <td>10</td>\n",
              "      <td>14</td>\n",
              "      <td>1984</td>\n",
              "      <td>NaN</td>\n",
              "      <td>1</td>\n",
              "      <td>서울특별시 강남구 개포동 652</td>\n",
              "      <td>...</td>\n",
              "      <td>강남구</td>\n",
              "      <td>개포동</td>\n",
              "      <td>1</td>\n",
              "      <td>0</td>\n",
              "      <td>4484.940000</td>\n",
              "      <td>61999.080000</td>\n",
              "      <td>183006.694768</td>\n",
              "      <td>299.033944</td>\n",
              "      <td>3163.697455</td>\n",
              "      <td>13.823837</td>\n",
              "    </tr>\n",
              "    <tr>\n",
              "      <th>1118826</th>\n",
              "      <td>652</td>\n",
              "      <td>652</td>\n",
              "      <td>0</td>\n",
              "      <td>104.430000</td>\n",
              "      <td>18</td>\n",
              "      <td>6</td>\n",
              "      <td>1984</td>\n",
              "      <td>NaN</td>\n",
              "      <td>1</td>\n",
              "      <td>서울특별시 강남구 개포동 652</td>\n",
              "      <td>...</td>\n",
              "      <td>강남구</td>\n",
              "      <td>개포동</td>\n",
              "      <td>1</td>\n",
              "      <td>0</td>\n",
              "      <td>4484.940000</td>\n",
              "      <td>61999.080000</td>\n",
              "      <td>183006.694768</td>\n",
              "      <td>299.033944</td>\n",
              "      <td>3163.697455</td>\n",
              "      <td>13.823837</td>\n",
              "    </tr>\n",
              "  </tbody>\n",
              "</table>\n",
              "<p>5 rows × 26 columns</p>\n",
              "</div>"
            ],
            "text/plain": [
              "            번지   본번  부번       전용면적  계약일   층  건축년도  target  is_test  \\\n",
              "1118822  658-1  658   1  79.970000   26   5  1987     NaN        1   \n",
              "1118823  651-1  651   1 108.201700   15  10  2021     NaN        1   \n",
              "1118824    652  652   0 161.000000   28  15  1984     NaN        1   \n",
              "1118825    652  652   0 133.460000   10  14  1984     NaN        1   \n",
              "1118826    652  652   0 104.430000   18   6  1984     NaN        1   \n",
              "\n",
              "                          주소  ...    구    동  강남여부  신축여부        건축면적  \\\n",
              "1118822  서울특별시 강남구 개포동 658-1  ...  강남구  개포동     1     0 4551.330000   \n",
              "1118823  서울특별시 강남구 개포동 651-1  ...  강남구  개포동     1     1 2706.031700   \n",
              "1118824    서울특별시 강남구 개포동 652  ...  강남구  개포동     1     0 4484.940000   \n",
              "1118825    서울특별시 강남구 개포동 652  ...  강남구  개포동     1     0 4484.940000   \n",
              "1118826    서울특별시 강남구 개포동 652  ...  강남구  개포동     1     0 4484.940000   \n",
              "\n",
              "                 연면적          대지면적        건폐율         용적율      평균층수  \n",
              "1118822 22305.930000 171357.334166 297.555783 3143.834230  4.900970  \n",
              "1118823 31893.018900 164240.992757 297.402886 3140.519263 11.785900  \n",
              "1118824 61999.080000 183006.694768 299.033944 3163.697455 13.823837  \n",
              "1118825 61999.080000 183006.694768 299.033944 3163.697455 13.823837  \n",
              "1118826 61999.080000 183006.694768 299.033944 3163.697455 13.823837  \n",
              "\n",
              "[5 rows x 26 columns]"
            ]
          },
          "execution_count": 158,
          "metadata": {},
          "output_type": "execute_result"
        }
      ],
      "source": [
        "concat[concat['is_test'] == 1].head()"
      ]
    },
    {
      "cell_type": "code",
      "execution_count": 23,
      "metadata": {},
      "outputs": [],
      "source": [
        "# gis = pd.read_csv('../data/gis건물정보_fixed.csv')"
      ]
    },
    {
      "cell_type": "code",
      "execution_count": 24,
      "metadata": {},
      "outputs": [],
      "source": [
        "# change_col = ['건축면적', '연면적', '대지면적', '건폐율', '용적율', '평균층수']\n",
        "\n",
        "# # concat.drop(columns='평균층수', inplace=True)\n",
        "\n",
        "# congis = concat.drop(columns=change_col)\n",
        "# congis.set_index('주소', inplace=True)\n",
        "\n",
        "# gis.set_index('ID', inplace=True)\n",
        "\n",
        "# for col in change_col:\n",
        "#     congis[col] = congis.index.map(gis[col])\n",
        "\n",
        "# congis.reset_index(inplace=True)\n",
        "\n",
        "# concat = congis"
      ]
    },
    {
      "cell_type": "code",
      "execution_count": null,
      "metadata": {},
      "outputs": [],
      "source": [
        "# congis.columns"
      ]
    },
    {
      "cell_type": "code",
      "execution_count": null,
      "metadata": {},
      "outputs": [],
      "source": [
        "# con_temp = concat[concat['is_test'] == 1]\n",
        "# con_temp.head(10)"
      ]
    },
    {
      "cell_type": "code",
      "execution_count": 25,
      "metadata": {},
      "outputs": [],
      "source": [
        "# # 주소정렬 후 결측치 채움\n",
        "\n",
        "# congis = concat.sort_values('주소')\n",
        "\n",
        "# col = ['건축면적', '연면적', '대지면적', '건폐율', '용적율', '평균층수']\n",
        "# congis[col] = congis[col].interpolate(method='linear', axis=0)\n",
        "\n",
        "# congis.sort_index(inplace=True)\n",
        "\n",
        "# # con_temp['건폐율'].describe()\n",
        "# concat = congis"
      ]
    },
    {
      "cell_type": "code",
      "execution_count": null,
      "metadata": {},
      "outputs": [],
      "source": [
        "# congis['연면적'].describe()"
      ]
    },
    {
      "cell_type": "code",
      "execution_count": null,
      "metadata": {},
      "outputs": [],
      "source": [
        "# con_temp = concat[concat['is_test'] == 1]\n",
        "# con_temp.head(10)"
      ]
    },
    {
      "cell_type": "code",
      "execution_count": 191,
      "metadata": {},
      "outputs": [],
      "source": [
        "concat['계약월'] = concat['계약월'].apply(lambda x: f'{x:02d}')"
      ]
    },
    {
      "cell_type": "code",
      "execution_count": 192,
      "metadata": {},
      "outputs": [
        {
          "data": {
            "text/plain": [
              "0    12\n",
              "1    12\n",
              "2    12\n",
              "3    01\n",
              "4    01\n",
              "Name: 계약월, dtype: object"
            ]
          },
          "execution_count": 192,
          "metadata": {},
          "output_type": "execute_result"
        }
      ],
      "source": [
        "concat['계약월'].head()"
      ]
    },
    {
      "cell_type": "code",
      "execution_count": 194,
      "metadata": {},
      "outputs": [],
      "source": [
        "concat['계약년월'] = concat['계약년'].astype(str) + '' + concat['계약월'].astype(str)\n",
        "\n",
        "interest = pd.read_csv('../data/한국기준금리07-23.csv')\n",
        "\n",
        "interest['날짜'] = interest['날짜'].astype(str)\n",
        "\n",
        "interest = interest.drop_duplicates(subset=['날짜'], keep='first')\n",
        "\n",
        "interest['계약년월'] = interest['날짜'].str[:6]\n",
        "interest.drop(columns = '날짜', inplace = True)"
      ]
    },
    {
      "cell_type": "code",
      "execution_count": 196,
      "metadata": {},
      "outputs": [],
      "source": [
        "concat['계약년월'] = concat['계약년월'].astype(str)\n",
        "\n",
        "concat_temp = pd.merge(concat, interest, on='계약년월', how='left', suffixes=('_A', '_B'))"
      ]
    },
    {
      "cell_type": "code",
      "execution_count": 195,
      "metadata": {},
      "outputs": [
        {
          "data": {
            "text/plain": [
              "0    201712\n",
              "1    201712\n",
              "2    201712\n",
              "3    201801\n",
              "4    201801\n",
              "Name: 계약년월, dtype: object"
            ]
          },
          "execution_count": 195,
          "metadata": {},
          "output_type": "execute_result"
        }
      ],
      "source": [
        "concat_temp"
      ]
    },
    {
      "cell_type": "code",
      "execution_count": 186,
      "metadata": {},
      "outputs": [],
      "source": [
        "# 금리데이터를 넣습니다\n",
        "\n",
        "\n",
        "\n",
        "concat['계약년월'] = concat['계약년'].astype(str) + '' + concat['계약월'].astype(str)\n",
        "\n",
        "interest = pd.read_csv('../data/한국기준금리07-23.csv')\n",
        "\n",
        "interest['날짜'] = interest['날짜'].astype(str)\n",
        "\n",
        "interest = interest.drop_duplicates(subset=['날짜'], keep='first')\n",
        "\n",
        "interest['계약년월'] = interest['날짜'].str[:6]\n",
        "interest.drop(columns = '날짜', inplace = True)\n",
        "# interest['계약년월'].fillna('-1')\n",
        "# interest['계약년월'] = interest['계약년월'].astype(str)\n",
        "concat['계약년월'] = concat['계약년월'].astype(str)\n",
        "\n",
        "concat_temp = pd.merge(concat, interest, on='계약년월', how='left', suffixes=('_A', '_B'))\n",
        "\n",
        "concat_temp.drop(columns='계약년월', inplace=True)\n",
        "# concat = concat_temp"
      ]
    },
    {
      "cell_type": "code",
      "execution_count": 160,
      "metadata": {},
      "outputs": [
        {
          "data": {
            "text/plain": [
              "(9272, 28)"
            ]
          },
          "execution_count": 160,
          "metadata": {},
          "output_type": "execute_result"
        }
      ],
      "source": [
        "concat[concat['is_test'] == 1].shape"
      ]
    },
    {
      "cell_type": "code",
      "execution_count": 188,
      "metadata": {},
      "outputs": [
        {
          "data": {
            "text/plain": [
              "(1174885, 27)"
            ]
          },
          "execution_count": 188,
          "metadata": {},
          "output_type": "execute_result"
        }
      ],
      "source": [
        "concat_temp.shape"
      ]
    },
    {
      "cell_type": "code",
      "execution_count": 162,
      "metadata": {},
      "outputs": [
        {
          "data": {
            "text/plain": [
              "Index(['번지', '본번', '부번', '전용면적', '계약일', '층', '건축년도', 'target', 'is_test', '주소',\n",
              "       'x', 'y', '계약년', '계약월', '거래취소여부', '거래일건물연식', '구', '동', '강남여부', '신축여부',\n",
              "       '건축면적', '연면적', '대지면적', '건폐율', '용적율', '평균층수', '계약년월', '기준금리'],\n",
              "      dtype='object')"
            ]
          },
          "execution_count": 162,
          "metadata": {},
          "output_type": "execute_result"
        }
      ],
      "source": [
        "concat"
      ]
    },
    {
      "cell_type": "code",
      "execution_count": 161,
      "metadata": {},
      "outputs": [
        {
          "data": {
            "text/html": [
              "<div>\n",
              "<style scoped>\n",
              "    .dataframe tbody tr th:only-of-type {\n",
              "        vertical-align: middle;\n",
              "    }\n",
              "\n",
              "    .dataframe tbody tr th {\n",
              "        vertical-align: top;\n",
              "    }\n",
              "\n",
              "    .dataframe thead th {\n",
              "        text-align: right;\n",
              "    }\n",
              "</style>\n",
              "<table border=\"1\" class=\"dataframe\">\n",
              "  <thead>\n",
              "    <tr style=\"text-align: right;\">\n",
              "      <th></th>\n",
              "      <th>번지</th>\n",
              "      <th>본번</th>\n",
              "      <th>부번</th>\n",
              "      <th>전용면적</th>\n",
              "      <th>계약일</th>\n",
              "      <th>층</th>\n",
              "      <th>건축년도</th>\n",
              "      <th>target</th>\n",
              "      <th>is_test</th>\n",
              "      <th>주소</th>\n",
              "      <th>...</th>\n",
              "      <th>강남여부</th>\n",
              "      <th>신축여부</th>\n",
              "      <th>건축면적</th>\n",
              "      <th>연면적</th>\n",
              "      <th>대지면적</th>\n",
              "      <th>건폐율</th>\n",
              "      <th>용적율</th>\n",
              "      <th>평균층수</th>\n",
              "      <th>계약년월</th>\n",
              "      <th>기준금리</th>\n",
              "    </tr>\n",
              "  </thead>\n",
              "  <tbody>\n",
              "    <tr>\n",
              "      <th>1129190</th>\n",
              "      <td>658-1</td>\n",
              "      <td>658</td>\n",
              "      <td>1</td>\n",
              "      <td>79.970000</td>\n",
              "      <td>26</td>\n",
              "      <td>5</td>\n",
              "      <td>1987</td>\n",
              "      <td>NaN</td>\n",
              "      <td>1</td>\n",
              "      <td>서울특별시 강남구 개포동 658-1</td>\n",
              "      <td>...</td>\n",
              "      <td>1</td>\n",
              "      <td>0</td>\n",
              "      <td>4551.330000</td>\n",
              "      <td>22305.930000</td>\n",
              "      <td>171357.334166</td>\n",
              "      <td>297.555783</td>\n",
              "      <td>3143.834230</td>\n",
              "      <td>4.900970</td>\n",
              "      <td>20237</td>\n",
              "      <td>NaN</td>\n",
              "    </tr>\n",
              "    <tr>\n",
              "      <th>1129191</th>\n",
              "      <td>651-1</td>\n",
              "      <td>651</td>\n",
              "      <td>1</td>\n",
              "      <td>108.201700</td>\n",
              "      <td>15</td>\n",
              "      <td>10</td>\n",
              "      <td>2021</td>\n",
              "      <td>NaN</td>\n",
              "      <td>1</td>\n",
              "      <td>서울특별시 강남구 개포동 651-1</td>\n",
              "      <td>...</td>\n",
              "      <td>1</td>\n",
              "      <td>1</td>\n",
              "      <td>2706.031700</td>\n",
              "      <td>31893.018900</td>\n",
              "      <td>164240.992757</td>\n",
              "      <td>297.402886</td>\n",
              "      <td>3140.519263</td>\n",
              "      <td>11.785900</td>\n",
              "      <td>20238</td>\n",
              "      <td>NaN</td>\n",
              "    </tr>\n",
              "    <tr>\n",
              "      <th>1129192</th>\n",
              "      <td>652</td>\n",
              "      <td>652</td>\n",
              "      <td>0</td>\n",
              "      <td>161.000000</td>\n",
              "      <td>28</td>\n",
              "      <td>15</td>\n",
              "      <td>1984</td>\n",
              "      <td>NaN</td>\n",
              "      <td>1</td>\n",
              "      <td>서울특별시 강남구 개포동 652</td>\n",
              "      <td>...</td>\n",
              "      <td>1</td>\n",
              "      <td>0</td>\n",
              "      <td>4484.940000</td>\n",
              "      <td>61999.080000</td>\n",
              "      <td>183006.694768</td>\n",
              "      <td>299.033944</td>\n",
              "      <td>3163.697455</td>\n",
              "      <td>13.823837</td>\n",
              "      <td>20237</td>\n",
              "      <td>NaN</td>\n",
              "    </tr>\n",
              "    <tr>\n",
              "      <th>1129193</th>\n",
              "      <td>652</td>\n",
              "      <td>652</td>\n",
              "      <td>0</td>\n",
              "      <td>133.460000</td>\n",
              "      <td>10</td>\n",
              "      <td>14</td>\n",
              "      <td>1984</td>\n",
              "      <td>NaN</td>\n",
              "      <td>1</td>\n",
              "      <td>서울특별시 강남구 개포동 652</td>\n",
              "      <td>...</td>\n",
              "      <td>1</td>\n",
              "      <td>0</td>\n",
              "      <td>4484.940000</td>\n",
              "      <td>61999.080000</td>\n",
              "      <td>183006.694768</td>\n",
              "      <td>299.033944</td>\n",
              "      <td>3163.697455</td>\n",
              "      <td>13.823837</td>\n",
              "      <td>20238</td>\n",
              "      <td>NaN</td>\n",
              "    </tr>\n",
              "    <tr>\n",
              "      <th>1129194</th>\n",
              "      <td>652</td>\n",
              "      <td>652</td>\n",
              "      <td>0</td>\n",
              "      <td>104.430000</td>\n",
              "      <td>18</td>\n",
              "      <td>6</td>\n",
              "      <td>1984</td>\n",
              "      <td>NaN</td>\n",
              "      <td>1</td>\n",
              "      <td>서울특별시 강남구 개포동 652</td>\n",
              "      <td>...</td>\n",
              "      <td>1</td>\n",
              "      <td>0</td>\n",
              "      <td>4484.940000</td>\n",
              "      <td>61999.080000</td>\n",
              "      <td>183006.694768</td>\n",
              "      <td>299.033944</td>\n",
              "      <td>3163.697455</td>\n",
              "      <td>13.823837</td>\n",
              "      <td>20238</td>\n",
              "      <td>NaN</td>\n",
              "    </tr>\n",
              "  </tbody>\n",
              "</table>\n",
              "<p>5 rows × 28 columns</p>\n",
              "</div>"
            ],
            "text/plain": [
              "            번지   본번  부번       전용면적  계약일   층  건축년도  target  is_test  \\\n",
              "1129190  658-1  658   1  79.970000   26   5  1987     NaN        1   \n",
              "1129191  651-1  651   1 108.201700   15  10  2021     NaN        1   \n",
              "1129192    652  652   0 161.000000   28  15  1984     NaN        1   \n",
              "1129193    652  652   0 133.460000   10  14  1984     NaN        1   \n",
              "1129194    652  652   0 104.430000   18   6  1984     NaN        1   \n",
              "\n",
              "                          주소  ...  강남여부  신축여부        건축면적          연면적  \\\n",
              "1129190  서울특별시 강남구 개포동 658-1  ...     1     0 4551.330000 22305.930000   \n",
              "1129191  서울특별시 강남구 개포동 651-1  ...     1     1 2706.031700 31893.018900   \n",
              "1129192    서울특별시 강남구 개포동 652  ...     1     0 4484.940000 61999.080000   \n",
              "1129193    서울특별시 강남구 개포동 652  ...     1     0 4484.940000 61999.080000   \n",
              "1129194    서울특별시 강남구 개포동 652  ...     1     0 4484.940000 61999.080000   \n",
              "\n",
              "                 대지면적        건폐율         용적율      평균층수   계약년월  기준금리  \n",
              "1129190 171357.334166 297.555783 3143.834230  4.900970  20237   NaN  \n",
              "1129191 164240.992757 297.402886 3140.519263 11.785900  20238   NaN  \n",
              "1129192 183006.694768 299.033944 3163.697455 13.823837  20237   NaN  \n",
              "1129193 183006.694768 299.033944 3163.697455 13.823837  20238   NaN  \n",
              "1129194 183006.694768 299.033944 3163.697455 13.823837  20238   NaN  \n",
              "\n",
              "[5 rows x 28 columns]"
            ]
          },
          "execution_count": 161,
          "metadata": {},
          "output_type": "execute_result"
        }
      ],
      "source": [
        "concat[concat['is_test'] == 1].head()"
      ]
    },
    {
      "cell_type": "code",
      "execution_count": null,
      "metadata": {},
      "outputs": [],
      "source": [
        "# concat_temp['연면적'].describe()"
      ]
    },
    {
      "cell_type": "code",
      "execution_count": 143,
      "metadata": {},
      "outputs": [],
      "source": [
        "# 평형별로 초소형, 소형, 중형, 대형으로 분류\n",
        "\n",
        "bins = [0, 26, 50, 60, 85, 135, float('inf')]\n",
        "labels = [0, 1, 2, 3, 4, 5]\n",
        "\n",
        "concat['면적분류'] = pd.cut(concat['전용면적'], bins=bins, labels=labels, right=False)"
      ]
    },
    {
      "cell_type": "code",
      "execution_count": 63,
      "metadata": {},
      "outputs": [],
      "source": [
        "# concat['original_index'] = concat.index\n",
        "\n",
        "concat['계약날짜'] = concat['계약년'].astype(str) + '-' + concat['계약월'].astype(str) + '-' + concat['계약일'].astype(str)\n",
        "\n",
        "concat['계약날짜'] = pd.to_datetime(concat['계약날짜'])\n",
        "concat.set_index('계약날짜', inplace=True)\n",
        "\n",
        "daily_trades = concat.groupby(concat.index).size()\n",
        "\n",
        "# 이동평균 만들기\n",
        "\n",
        "concat['3m이동평균'] = concat['target'].resample('D').mean().rolling(window=90).mean()\n",
        "concat['12m이동평균'] = concat['target'].resample('D').mean().rolling(window=360).mean()\n",
        "concat['48m이동평균'] = concat['target'].resample('D').mean().rolling(window=1440).mean()\n",
        "\n",
        "# 일별거래량 데이터 만들기\n",
        "\n",
        "day_t = pd.DataFrame(daily_trades, columns=['trades'])\n",
        "\n",
        "day_t['30d_trades'] = day_t['trades'].rolling(window=30).sum()\n",
        "\n",
        "concat['30d_trades'] = concat.index.map(day_t['30d_trades'])\n",
        "concat['day_trades'] = concat.index.map(day_t['trades'])\n",
        "\n",
        "# concat.head()\n",
        "concat.reset_index(inplace=True)\n",
        "concat.drop(columns='계약날짜', inplace=True)"
      ]
    },
    {
      "cell_type": "code",
      "execution_count": null,
      "metadata": {},
      "outputs": [],
      "source": [
        "# con_temp = concat[concat['is_test'] == 1]\n",
        "# con_temp.head(10)"
      ]
    },
    {
      "cell_type": "code",
      "execution_count": 74,
      "metadata": {},
      "outputs": [
        {
          "data": {
            "text/html": [
              "<div>\n",
              "<style scoped>\n",
              "    .dataframe tbody tr th:only-of-type {\n",
              "        vertical-align: middle;\n",
              "    }\n",
              "\n",
              "    .dataframe tbody tr th {\n",
              "        vertical-align: top;\n",
              "    }\n",
              "\n",
              "    .dataframe thead th {\n",
              "        text-align: right;\n",
              "    }\n",
              "</style>\n",
              "<table border=\"1\" class=\"dataframe\">\n",
              "  <thead>\n",
              "    <tr style=\"text-align: right;\">\n",
              "      <th></th>\n",
              "      <th>번지</th>\n",
              "      <th>본번</th>\n",
              "      <th>부번</th>\n",
              "      <th>전용면적</th>\n",
              "      <th>계약일</th>\n",
              "      <th>층</th>\n",
              "      <th>건축년도</th>\n",
              "      <th>target</th>\n",
              "      <th>is_test</th>\n",
              "      <th>주소</th>\n",
              "      <th>...</th>\n",
              "      <th>연면적</th>\n",
              "      <th>대지면적</th>\n",
              "      <th>건폐율</th>\n",
              "      <th>용적율</th>\n",
              "      <th>평균층수</th>\n",
              "      <th>계약년월</th>\n",
              "      <th>기준금리</th>\n",
              "      <th>면적분류</th>\n",
              "      <th>30d_trades</th>\n",
              "      <th>day_trades</th>\n",
              "    </tr>\n",
              "  </thead>\n",
              "  <tbody>\n",
              "    <tr>\n",
              "      <th>0</th>\n",
              "      <td>658-1</td>\n",
              "      <td>658</td>\n",
              "      <td>1</td>\n",
              "      <td>79.970000</td>\n",
              "      <td>8</td>\n",
              "      <td>3</td>\n",
              "      <td>1987</td>\n",
              "      <td>124000.000000</td>\n",
              "      <td>0</td>\n",
              "      <td>서울특별시 강남구 개포동 658-1</td>\n",
              "      <td>...</td>\n",
              "      <td>22305.930000</td>\n",
              "      <td>171357.334166</td>\n",
              "      <td>297.555783</td>\n",
              "      <td>3143.834230</td>\n",
              "      <td>4.900970</td>\n",
              "      <td>201712</td>\n",
              "      <td>1.500000</td>\n",
              "      <td>3</td>\n",
              "      <td>8123.000000</td>\n",
              "      <td>287</td>\n",
              "    </tr>\n",
              "    <tr>\n",
              "      <th>1</th>\n",
              "      <td>658-1</td>\n",
              "      <td>658</td>\n",
              "      <td>1</td>\n",
              "      <td>79.970000</td>\n",
              "      <td>22</td>\n",
              "      <td>4</td>\n",
              "      <td>1987</td>\n",
              "      <td>123500.000000</td>\n",
              "      <td>0</td>\n",
              "      <td>서울특별시 강남구 개포동 658-1</td>\n",
              "      <td>...</td>\n",
              "      <td>22305.930000</td>\n",
              "      <td>171357.334166</td>\n",
              "      <td>297.555783</td>\n",
              "      <td>3143.834230</td>\n",
              "      <td>4.900970</td>\n",
              "      <td>201712</td>\n",
              "      <td>1.500000</td>\n",
              "      <td>3</td>\n",
              "      <td>8100.000000</td>\n",
              "      <td>291</td>\n",
              "    </tr>\n",
              "    <tr>\n",
              "      <th>2</th>\n",
              "      <td>658-1</td>\n",
              "      <td>658</td>\n",
              "      <td>1</td>\n",
              "      <td>54.980000</td>\n",
              "      <td>28</td>\n",
              "      <td>5</td>\n",
              "      <td>1987</td>\n",
              "      <td>91500.000000</td>\n",
              "      <td>0</td>\n",
              "      <td>서울특별시 강남구 개포동 658-1</td>\n",
              "      <td>...</td>\n",
              "      <td>22305.930000</td>\n",
              "      <td>171357.334166</td>\n",
              "      <td>297.555783</td>\n",
              "      <td>3143.834230</td>\n",
              "      <td>4.900970</td>\n",
              "      <td>201712</td>\n",
              "      <td>1.500000</td>\n",
              "      <td>2</td>\n",
              "      <td>8225.000000</td>\n",
              "      <td>294</td>\n",
              "    </tr>\n",
              "    <tr>\n",
              "      <th>3</th>\n",
              "      <td>658-1</td>\n",
              "      <td>658</td>\n",
              "      <td>1</td>\n",
              "      <td>79.970000</td>\n",
              "      <td>3</td>\n",
              "      <td>4</td>\n",
              "      <td>1987</td>\n",
              "      <td>130000.000000</td>\n",
              "      <td>0</td>\n",
              "      <td>서울특별시 강남구 개포동 658-1</td>\n",
              "      <td>...</td>\n",
              "      <td>22305.930000</td>\n",
              "      <td>171357.334166</td>\n",
              "      <td>297.555783</td>\n",
              "      <td>3143.834230</td>\n",
              "      <td>4.900970</td>\n",
              "      <td>20181</td>\n",
              "      <td>NaN</td>\n",
              "      <td>3</td>\n",
              "      <td>8016.000000</td>\n",
              "      <td>298</td>\n",
              "    </tr>\n",
              "    <tr>\n",
              "      <th>4</th>\n",
              "      <td>658-1</td>\n",
              "      <td>658</td>\n",
              "      <td>1</td>\n",
              "      <td>79.970000</td>\n",
              "      <td>8</td>\n",
              "      <td>2</td>\n",
              "      <td>1987</td>\n",
              "      <td>117000.000000</td>\n",
              "      <td>0</td>\n",
              "      <td>서울특별시 강남구 개포동 658-1</td>\n",
              "      <td>...</td>\n",
              "      <td>22305.930000</td>\n",
              "      <td>171357.334166</td>\n",
              "      <td>297.555783</td>\n",
              "      <td>3143.834230</td>\n",
              "      <td>4.900970</td>\n",
              "      <td>20181</td>\n",
              "      <td>NaN</td>\n",
              "      <td>3</td>\n",
              "      <td>8423.000000</td>\n",
              "      <td>437</td>\n",
              "    </tr>\n",
              "  </tbody>\n",
              "</table>\n",
              "<p>5 rows × 31 columns</p>\n",
              "</div>"
            ],
            "text/plain": [
              "      번지   본번 부번      전용면적  계약일  층  건축년도        target  is_test  \\\n",
              "0  658-1  658  1 79.970000    8  3  1987 124000.000000        0   \n",
              "1  658-1  658  1 79.970000   22  4  1987 123500.000000        0   \n",
              "2  658-1  658  1 54.980000   28  5  1987  91500.000000        0   \n",
              "3  658-1  658  1 79.970000    3  4  1987 130000.000000        0   \n",
              "4  658-1  658  1 79.970000    8  2  1987 117000.000000        0   \n",
              "\n",
              "                    주소  ...          연면적          대지면적        건폐율         용적율  \\\n",
              "0  서울특별시 강남구 개포동 658-1  ... 22305.930000 171357.334166 297.555783 3143.834230   \n",
              "1  서울특별시 강남구 개포동 658-1  ... 22305.930000 171357.334166 297.555783 3143.834230   \n",
              "2  서울특별시 강남구 개포동 658-1  ... 22305.930000 171357.334166 297.555783 3143.834230   \n",
              "3  서울특별시 강남구 개포동 658-1  ... 22305.930000 171357.334166 297.555783 3143.834230   \n",
              "4  서울특별시 강남구 개포동 658-1  ... 22305.930000 171357.334166 297.555783 3143.834230   \n",
              "\n",
              "      평균층수    계약년월     기준금리 면적분류  30d_trades day_trades  \n",
              "0 4.900970  201712 1.500000    3 8123.000000        287  \n",
              "1 4.900970  201712 1.500000    3 8100.000000        291  \n",
              "2 4.900970  201712 1.500000    2 8225.000000        294  \n",
              "3 4.900970   20181      NaN    3 8016.000000        298  \n",
              "4 4.900970   20181      NaN    3 8423.000000        437  \n",
              "\n",
              "[5 rows x 31 columns]"
            ]
          },
          "execution_count": 74,
          "metadata": {},
          "output_type": "execute_result"
        }
      ],
      "source": [
        "concat.head()"
      ]
    },
    {
      "cell_type": "code",
      "execution_count": null,
      "metadata": {},
      "outputs": [],
      "source": [
        "# #1일 평균가격\n",
        "\n",
        "# daily_price = concat.groupby(concat.index)['target'].mean()\n",
        "\n",
        "# concat['day_price'] = concat.index.map(daily_price)\n",
        "\n",
        "# #월 평균가격\n",
        "# monthly_price = concat.groupby('계약년월')['target'].mean()\n",
        "\n",
        "# concat['month_price'] = concat['계약년월'].map(monthly_price)\n",
        "\n",
        "# concat.head()"
      ]
    },
    {
      "cell_type": "code",
      "execution_count": null,
      "metadata": {},
      "outputs": [],
      "source": [
        "# #작년 동월 기준 변화량\n",
        "\n",
        "# monthly_avg = concat.groupby('계약년월')['target'].mean()\n",
        "\n",
        "# monthly_per = (monthly_avg - monthly_avg.shift(12)) / monthly_avg.shift(12) * 100\n",
        "\n",
        "# concat['작년동월변화량'] = concat['계약년월'].map(monthly_per)\n",
        "\n",
        "# #지난달 기준 변화량\n",
        "\n",
        "# monthly_avg = concat.groupby('계약년월')['target'].mean()\n",
        "\n",
        "# month_diff = (monthly_avg - monthly_avg.shift(1)) / monthly_avg.shift(1) * 100\n",
        "\n",
        "# concat['지난달변화량'] = concat['계약년월'].map(month_diff)"
      ]
    },
    {
      "cell_type": "code",
      "execution_count": 144,
      "metadata": {},
      "outputs": [],
      "source": [
        "str_columns = ['주소', '본번', '부번', '거래취소여부', '구', '동', '강남여부', '신축여부']\n",
        "\n",
        "concat[str_columns] = concat[str_columns].astype(str)"
      ]
    },
    {
      "cell_type": "code",
      "execution_count": 145,
      "metadata": {
        "colab": {
          "base_uri": "https://localhost:8080/"
        },
        "id": "wVdU-Ge00OGM",
        "outputId": "6bd1a10a-689a-46ef-c0af-c879be59f715"
      },
      "outputs": [
        {
          "name": "stdout",
          "output_type": "stream",
          "text": [
            "연속형 변수: ['전용면적', '계약일', '층', '건축년도', 'target', 'is_test', 'x', 'y', '계약년', '계약월', '거래일건물연식', '건축면적', '연면적', '대지면적', '건폐율', '용적율', '평균층수']\n",
            "범주형 변수: ['번지', '본번', '부번', '주소', '거래취소여부', '구', '동', '강남여부', '신축여부', '면적분류']\n"
          ]
        }
      ],
      "source": [
        "# 먼저, 연속형 변수와 범주형 변수를 위 info에 따라 분리해주겠습니다.\n",
        "continuous_columns = []\n",
        "categorical_columns = []\n",
        "\n",
        "for column in concat.columns:\n",
        "    if pd.api.types.is_numeric_dtype(concat[column]):\n",
        "        continuous_columns.append(column)\n",
        "    else:\n",
        "        categorical_columns.append(column)\n",
        "\n",
        "print(\"연속형 변수:\", continuous_columns)\n",
        "print(\"범주형 변수:\", categorical_columns)\n",
        "\n"
      ]
    },
    {
      "cell_type": "markdown",
      "metadata": {
        "id": "pVtoElzZ5Y_z"
      },
      "source": [
        "- 연속형 변수와 범주형 변수가 알맞게 나누어졌는지 확인해보고, 이제 각각 보간을 진행합니다."
      ]
    },
    {
      "cell_type": "code",
      "execution_count": 7,
      "metadata": {
        "id": "193c8GTdzzOX"
      },
      "outputs": [],
      "source": [
        "# # 범주형 변수에 대한 보간\n",
        "# concat[categorical_columns] = concat[categorical_columns].fillna('NULL')\n",
        "\n",
        "# # 연속형 변수에 대한 보간 (선형 보간)\n",
        "# concat[continuous_columns] = concat[continuous_columns].interpolate(method='linear', axis=0)"
      ]
    },
    {
      "cell_type": "code",
      "execution_count": null,
      "metadata": {
        "colab": {
          "base_uri": "https://localhost:8080/"
        },
        "id": "tTJHspKl0mhM",
        "outputId": "d212330d-6c07-4b68-cc0f-d626eb733bc9"
      },
      "outputs": [],
      "source": [
        "concat.isnull().sum()         # 결측치가 보간된 모습을 확인해봅니다."
      ]
    },
    {
      "cell_type": "code",
      "execution_count": 10,
      "metadata": {},
      "outputs": [
        {
          "data": {
            "text/plain": [
              "Index(['번지', '본번', '부번', '전용면적', '계약일', '층', '건축년도', 'target', 'is_test', '주소',\n",
              "       'x', 'y', '계약년', '계약월', '거래취소여부', '거래일건물연식', '구', '동', '강남여부', '신축여부',\n",
              "       '건축면적', '연면적', '대지면적', '건폐율', '용적율', '평균층수', '계약년월', '기준금리', '면적분류'],\n",
              "      dtype='object')"
            ]
          },
          "execution_count": 10,
          "metadata": {},
          "output_type": "execute_result"
        }
      ],
      "source": [
        "concat.columns"
      ]
    },
    {
      "cell_type": "code",
      "execution_count": null,
      "metadata": {
        "colab": {
          "base_uri": "https://localhost:8080/"
        },
        "id": "t7omvXsd9GP1",
        "outputId": "83808c7b-df9a-46ee-d86a-966e7eff3248"
      },
      "outputs": [],
      "source": [
        "# 이상치 제거 이전의 shape은 아래와 같습니다.\n",
        "print(concat.shape)"
      ]
    },
    {
      "cell_type": "markdown",
      "metadata": {},
      "source": [
        "연속형 변수: ['전용면적', '계약일', '층', '건축년도', 'target', 'x', 'y', '계약년', '계약월', '거래일건물연식', '건축면적', '연면적', '대지면적', '건폐율', '용적율', '평균층수', '지하철최단거리', '버스최단거리']\n",
        "범주형 변수: ['번지', '본번', '부번', '주소', '거래취소여부', '구', '동', '강남여부', '신축여부']"
      ]
    },
    {
      "cell_type": "code",
      "execution_count": null,
      "metadata": {},
      "outputs": [],
      "source": [
        "# 대표적인 연속형 변수인 “전용 면적” 변수 관련한 분포를 먼저 살펴보도록 하겠습니다.\n",
        "fig = plt.figure(figsize=(7, 3))\n",
        "sns.boxplot(data = concat, x = '건폐율', color='lightgreen')\n",
        "plt.title('건폐율')\n",
        "plt.xlabel('Area')\n",
        "plt.show()\n",
        "\n",
        "print(concat['연면적'].describe())"
      ]
    },
    {
      "cell_type": "code",
      "execution_count": null,
      "metadata": {},
      "outputs": [],
      "source": [
        "# 대표적인 연속형 변수인 “전용 면적” 변수 관련한 분포를 먼저 살펴보도록 하겠습니다.\n",
        "fig = plt.figure(figsize=(7, 3))\n",
        "sns.boxplot(data = concat, x = '건축년도', color='lightgreen')\n",
        "plt.title('건축년도 분포')\n",
        "plt.xlabel('Area')\n",
        "plt.show()"
      ]
    },
    {
      "cell_type": "code",
      "execution_count": null,
      "metadata": {},
      "outputs": [],
      "source": [
        "# 대표적인 연속형 변수인 “전용 면적” 변수 관련한 분포를 먼저 살펴보도록 하겠습니다.\n",
        "fig = plt.figure(figsize=(7, 3))\n",
        "sns.boxplot(data = concat, x = '계약년', color='lightgreen')\n",
        "plt.title('전용면적 분포')\n",
        "plt.xlabel('Area')\n",
        "plt.show()"
      ]
    },
    {
      "cell_type": "code",
      "execution_count": null,
      "metadata": {
        "colab": {
          "base_uri": "https://localhost:8080/",
          "height": 332
        },
        "id": "MGxTxfr06n3F",
        "outputId": "6c5c8c01-20f8-4d61-dde7-87187dd2f5bd"
      },
      "outputs": [],
      "source": [
        "# 대표적인 연속형 변수인 “전용 면적” 변수 관련한 분포를 먼저 살펴보도록 하겠습니다.\n",
        "fig = plt.figure(figsize=(7, 3))\n",
        "sns.boxplot(data = concat, x = '전용면적', color='lightgreen')\n",
        "plt.title('전용면적 분포')\n",
        "plt.xlabel('Area')\n",
        "plt.show()"
      ]
    },
    {
      "cell_type": "code",
      "execution_count": null,
      "metadata": {},
      "outputs": [],
      "source": [
        "# concat.columns"
      ]
    },
    {
      "cell_type": "code",
      "execution_count": null,
      "metadata": {},
      "outputs": [],
      "source": [
        "# concat['층'].describe()"
      ]
    },
    {
      "cell_type": "code",
      "execution_count": 146,
      "metadata": {
        "id": "fOCSdvBd8GJq"
      },
      "outputs": [],
      "source": [
        "# 이상치 제거 방법에는 IQR을 이용하겠습니다.\n",
        "def remove_outliers_iqr(dt, column_name):\n",
        "    df = dt.query('is_test == 0')    # train data 내에 있는 이상치만 제거하도록 하겠습니다.\n",
        "    df_test = dt.query('is_test == 1')\n",
        "\n",
        "    Q1 = df[column_name].quantile(0.25)\n",
        "    Q3 = df[column_name].quantile(0.75)\n",
        "    IQR = Q3 - Q1\n",
        "\n",
        "    lower_bound = Q1 - 1.5 * IQR\n",
        "    upper_bound = Q3 + 1.5 * IQR\n",
        "\n",
        "    df = df[(df[column_name] >= lower_bound) & (df[column_name] <= upper_bound)]\n",
        "\n",
        "    result = pd.concat([df, df_test])   # test data와 다시 합쳐주겠습니다.\n",
        "    return result"
      ]
    },
    {
      "cell_type": "markdown",
      "metadata": {},
      "source": [
        "#### 결측치 처리"
      ]
    },
    {
      "cell_type": "code",
      "execution_count": 147,
      "metadata": {},
      "outputs": [],
      "source": [
        "# test와 train 분리\n",
        "df = concat.query('is_test == 0')  \n",
        "df_test = concat.query('is_test == 1')  \n",
        "\n",
        "# 전용면적 375 이상인 것들은 제거\n",
        "df= df[df['전용면적'] < 375]\n",
        "\n",
        "# 층 음수 처리\n",
        "df['층'] = df['층'].apply(lambda x: 1 if x < 0 else x)\n",
        "df_test['층'] = df_test['층'].apply(lambda x: 1 if x < 0 else x)\n",
        "\n",
        "# 건축년도 1975년도 이후에 지어진것만 처리\n",
        "df= df[df['건축년도'] > 1975]\n",
        "\n",
        "# 거래일 건물 연식 음수 처리\n",
        "df= df[df['거래일건물연식'] > 0]\n",
        "concat_select = pd.concat([df, df_test])"
      ]
    },
    {
      "cell_type": "code",
      "execution_count": 16,
      "metadata": {
        "id": "F_GJQBVX8AH9"
      },
      "outputs": [],
      "source": [
        "# 위 방법으로 전용 면적에 대한 이상치를 제거해보겠습니다.\n",
        "#concat_select = remove_outliers_iqr(concat, '전용면적')"
      ]
    },
    {
      "cell_type": "code",
      "execution_count": null,
      "metadata": {
        "colab": {
          "base_uri": "https://localhost:8080/"
        },
        "id": "RZitCX1tEvWX",
        "outputId": "c01ac230-4e49-4d8f-a0f0-8805de9499cc"
      },
      "outputs": [],
      "source": [
        "concat_select['is_test'].value_counts()     # 또한, train data만 제거되었습니다."
      ]
    },
    {
      "cell_type": "code",
      "execution_count": null,
      "metadata": {
        "colab": {
          "base_uri": "https://localhost:8080/",
          "height": 179
        },
        "id": "PWuNlTfN_FMs",
        "outputId": "971536d0-d21a-4c07-809a-27260680439e"
      },
      "outputs": [],
      "source": [
        "concat_select.info()       # 최종 데이터셋은 아래와 같습니다."
      ]
    },
    {
      "cell_type": "markdown",
      "metadata": {
        "id": "ytuwazY43gwQ"
      },
      "source": [
        "- 이제 위에서 만든 파생변수들과 정제한 데이터를 기반으로 본격적으로 부동산 실거래가를 예측하는 모델링을 진행하겠습니다.\n",
        "- 모델링에는 `sklearn`의 `RandomForest`를 이용하도록 하겠습니다.\n",
        "\n",
        "- 참고 ✅\n",
        "  - `RandomForest`는 배깅(Bagging)의 일종으로, 학습시키는 데이터 뿐 아니라 특성변수(X)들도 무작위로 선택해 트리를 생성하는 방법입니다.\n",
        "  - 모델 학습 과정에서 서로 다른 N개의 Tree 생성하고, N개의 Tree에서 발생한 Output을 Voting(범주형, 분류문제)하거나, Average(연속형, 회귀문제)해 최종 Output 생성합니다.\n",
        "  - 이는 High variance, Low bias 상황에서 분산(Variance) 감소에 도움을 줍니다."
      ]
    },
    {
      "cell_type": "markdown",
      "metadata": {},
      "source": [
        "### 대중교통 파생변수 생성\n",
        "\n"
      ]
    },
    {
      "cell_type": "code",
      "execution_count": 34,
      "metadata": {},
      "outputs": [
        {
          "name": "stderr",
          "output_type": "stream",
          "text": [
            "100%|██████████| 1096992/1096992 [01:13<00:00, 14944.88it/s]\n",
            "100%|██████████| 1096992/1096992 [11:01<00:00, 1657.54it/s]\n"
          ]
        }
      ],
      "source": [
        "from math import radians, sin, cos, sqrt, atan2\n",
        "\n",
        "# 하버사인 공식으로 두 지리적 좌표 간의 거리를 계산하는 함수\n",
        "def haversine_np(lon1, lat1, lon2, lat2):\n",
        "    R = 6371  # 지구 반경 (킬로미터)\n",
        "    lon1, lat1, lon2, lat2 = map(np.radians, [lon1, lat1, lon2, lat2])\n",
        "\n",
        "    dlon = lon2 - lon1\n",
        "    dlat = lat2 - lat1\n",
        "\n",
        "    a = np.sin(dlat / 2)**2 + np.cos(lat1) * np.cos(lat2) * np.sin(dlon / 2)**2\n",
        "    c = 2 * np.arctan2(np.sqrt(a), np.sqrt(1 - a))\n",
        "    distance = R * c\n",
        "    return distance\n",
        "subway_path = pd.read_csv('../data/subway_feature.csv')\n",
        "bus_path = pd.read_csv('../data/bus_feature.csv')\n",
        "# concat_select 좌표와 subway_path 좌표를 numpy 배열로 변환\n",
        "concat_coords = np.array([concat_select['x'], concat_select['y']]).T\n",
        "subway_coords = np.array([subway_path['경도'], subway_path['위도']]).T\n",
        "bus_coords = np.array([bus_path['X좌표'], bus_path['Y좌표']]).T\n",
        "# 빈 리스트를 만들어서 최단 거리를 저장할 것임\n",
        "shortest_distances_subway = []\n",
        "shortest_distances_bus = []\n",
        "# 벡터 연산을 사용하여 가장 가까운 지하철 거리 찾기\n",
        "for i, concat_coord in tqdm(enumerate(concat_coords), total=len(concat_coords)):\n",
        "    distances = haversine_np(concat_coord[0], concat_coord[1], subway_coords[:, 0], subway_coords[:, 1])\n",
        "    min_distance = np.min(distances)\n",
        "    shortest_distances_subway.append(min_distance)\n",
        "# 벡터 연산을 사용하여 가장 가까운 버스 거리 찾기\n",
        "for i, concat_coord in tqdm(enumerate(concat_coords), total=len(concat_coords)):\n",
        "    distances = haversine_np(concat_coord[0], concat_coord[1], bus_coords[:, 0], bus_coords[:, 1])\n",
        "    min_distance = np.min(distances)\n",
        "    shortest_distances_bus.append(min_distance)\n",
        "# concat_select에 최단 거리를 추가\n",
        "concat_select['지하철최단거리'] = shortest_distances_subway\n",
        "concat_select['버스최단거리'] = shortest_distances_bus\n",
        "concat_select['버스최단거리'].describe()\n",
        "\n",
        "#거리별 가중치 부여\n",
        "concat_select['지하철최단거리'] = concat_select['지하철최단거리'].apply(lambda x: 3 if 0 < x < 0.3 else (2 if 0.3 < x < 0.65 else(1 if 0.65<x<1.0 else 0) ))\n",
        "concat_select['버스최단거리'] = concat_select['버스최단거리'].apply(lambda x: 2 if 0 < x < 0.5 else (1 if 0.5 < x < 1 else 0))\n",
        "\n",
        "\n",
        "#10분 이내로 "
      ]
    },
    {
      "cell_type": "code",
      "execution_count": 148,
      "metadata": {},
      "outputs": [
        {
          "data": {
            "text/html": [
              "<div>\n",
              "<style scoped>\n",
              "    .dataframe tbody tr th:only-of-type {\n",
              "        vertical-align: middle;\n",
              "    }\n",
              "\n",
              "    .dataframe tbody tr th {\n",
              "        vertical-align: top;\n",
              "    }\n",
              "\n",
              "    .dataframe thead th {\n",
              "        text-align: right;\n",
              "    }\n",
              "</style>\n",
              "<table border=\"1\" class=\"dataframe\">\n",
              "  <thead>\n",
              "    <tr style=\"text-align: right;\">\n",
              "      <th></th>\n",
              "      <th>번지</th>\n",
              "      <th>본번</th>\n",
              "      <th>부번</th>\n",
              "      <th>전용면적</th>\n",
              "      <th>계약일</th>\n",
              "      <th>층</th>\n",
              "      <th>건축년도</th>\n",
              "      <th>target</th>\n",
              "      <th>is_test</th>\n",
              "      <th>주소</th>\n",
              "      <th>...</th>\n",
              "      <th>신축여부</th>\n",
              "      <th>건축면적</th>\n",
              "      <th>연면적</th>\n",
              "      <th>대지면적</th>\n",
              "      <th>건폐율</th>\n",
              "      <th>용적율</th>\n",
              "      <th>평균층수</th>\n",
              "      <th>면적분류</th>\n",
              "      <th>지하철최단거리</th>\n",
              "      <th>버스최단거리</th>\n",
              "    </tr>\n",
              "  </thead>\n",
              "  <tbody>\n",
              "    <tr>\n",
              "      <th>0</th>\n",
              "      <td>658-1</td>\n",
              "      <td>658</td>\n",
              "      <td>1</td>\n",
              "      <td>79.970000</td>\n",
              "      <td>8</td>\n",
              "      <td>3</td>\n",
              "      <td>1987</td>\n",
              "      <td>124000.000000</td>\n",
              "      <td>0</td>\n",
              "      <td>서울특별시 강남구 개포동 658-1</td>\n",
              "      <td>...</td>\n",
              "      <td>0</td>\n",
              "      <td>4551.330000</td>\n",
              "      <td>22305.930000</td>\n",
              "      <td>171357.334166</td>\n",
              "      <td>297.555783</td>\n",
              "      <td>3143.834230</td>\n",
              "      <td>4.900970</td>\n",
              "      <td>3</td>\n",
              "      <td>0</td>\n",
              "      <td>2</td>\n",
              "    </tr>\n",
              "    <tr>\n",
              "      <th>1</th>\n",
              "      <td>658-1</td>\n",
              "      <td>658</td>\n",
              "      <td>1</td>\n",
              "      <td>79.970000</td>\n",
              "      <td>22</td>\n",
              "      <td>4</td>\n",
              "      <td>1987</td>\n",
              "      <td>123500.000000</td>\n",
              "      <td>0</td>\n",
              "      <td>서울특별시 강남구 개포동 658-1</td>\n",
              "      <td>...</td>\n",
              "      <td>0</td>\n",
              "      <td>4551.330000</td>\n",
              "      <td>22305.930000</td>\n",
              "      <td>171357.334166</td>\n",
              "      <td>297.555783</td>\n",
              "      <td>3143.834230</td>\n",
              "      <td>4.900970</td>\n",
              "      <td>3</td>\n",
              "      <td>0</td>\n",
              "      <td>2</td>\n",
              "    </tr>\n",
              "    <tr>\n",
              "      <th>2</th>\n",
              "      <td>658-1</td>\n",
              "      <td>658</td>\n",
              "      <td>1</td>\n",
              "      <td>54.980000</td>\n",
              "      <td>28</td>\n",
              "      <td>5</td>\n",
              "      <td>1987</td>\n",
              "      <td>91500.000000</td>\n",
              "      <td>0</td>\n",
              "      <td>서울특별시 강남구 개포동 658-1</td>\n",
              "      <td>...</td>\n",
              "      <td>0</td>\n",
              "      <td>4551.330000</td>\n",
              "      <td>22305.930000</td>\n",
              "      <td>171357.334166</td>\n",
              "      <td>297.555783</td>\n",
              "      <td>3143.834230</td>\n",
              "      <td>4.900970</td>\n",
              "      <td>2</td>\n",
              "      <td>0</td>\n",
              "      <td>2</td>\n",
              "    </tr>\n",
              "    <tr>\n",
              "      <th>3</th>\n",
              "      <td>658-1</td>\n",
              "      <td>658</td>\n",
              "      <td>1</td>\n",
              "      <td>79.970000</td>\n",
              "      <td>3</td>\n",
              "      <td>4</td>\n",
              "      <td>1987</td>\n",
              "      <td>130000.000000</td>\n",
              "      <td>0</td>\n",
              "      <td>서울특별시 강남구 개포동 658-1</td>\n",
              "      <td>...</td>\n",
              "      <td>0</td>\n",
              "      <td>4551.330000</td>\n",
              "      <td>22305.930000</td>\n",
              "      <td>171357.334166</td>\n",
              "      <td>297.555783</td>\n",
              "      <td>3143.834230</td>\n",
              "      <td>4.900970</td>\n",
              "      <td>3</td>\n",
              "      <td>0</td>\n",
              "      <td>2</td>\n",
              "    </tr>\n",
              "    <tr>\n",
              "      <th>4</th>\n",
              "      <td>658-1</td>\n",
              "      <td>658</td>\n",
              "      <td>1</td>\n",
              "      <td>79.970000</td>\n",
              "      <td>8</td>\n",
              "      <td>2</td>\n",
              "      <td>1987</td>\n",
              "      <td>117000.000000</td>\n",
              "      <td>0</td>\n",
              "      <td>서울특별시 강남구 개포동 658-1</td>\n",
              "      <td>...</td>\n",
              "      <td>0</td>\n",
              "      <td>4551.330000</td>\n",
              "      <td>22305.930000</td>\n",
              "      <td>171357.334166</td>\n",
              "      <td>297.555783</td>\n",
              "      <td>3143.834230</td>\n",
              "      <td>4.900970</td>\n",
              "      <td>3</td>\n",
              "      <td>0</td>\n",
              "      <td>2</td>\n",
              "    </tr>\n",
              "  </tbody>\n",
              "</table>\n",
              "<p>5 rows × 29 columns</p>\n",
              "</div>"
            ],
            "text/plain": [
              "      번지   본번 부번      전용면적  계약일  층  건축년도        target  is_test  \\\n",
              "0  658-1  658  1 79.970000    8  3  1987 124000.000000        0   \n",
              "1  658-1  658  1 79.970000   22  4  1987 123500.000000        0   \n",
              "2  658-1  658  1 54.980000   28  5  1987  91500.000000        0   \n",
              "3  658-1  658  1 79.970000    3  4  1987 130000.000000        0   \n",
              "4  658-1  658  1 79.970000    8  2  1987 117000.000000        0   \n",
              "\n",
              "                    주소  ...  신축여부        건축면적          연면적          대지면적  \\\n",
              "0  서울특별시 강남구 개포동 658-1  ...     0 4551.330000 22305.930000 171357.334166   \n",
              "1  서울특별시 강남구 개포동 658-1  ...     0 4551.330000 22305.930000 171357.334166   \n",
              "2  서울특별시 강남구 개포동 658-1  ...     0 4551.330000 22305.930000 171357.334166   \n",
              "3  서울특별시 강남구 개포동 658-1  ...     0 4551.330000 22305.930000 171357.334166   \n",
              "4  서울특별시 강남구 개포동 658-1  ...     0 4551.330000 22305.930000 171357.334166   \n",
              "\n",
              "         건폐율         용적율     평균층수 면적분류 지하철최단거리 버스최단거리  \n",
              "0 297.555783 3143.834230 4.900970    3       0      2  \n",
              "1 297.555783 3143.834230 4.900970    3       0      2  \n",
              "2 297.555783 3143.834230 4.900970    2       0      2  \n",
              "3 297.555783 3143.834230 4.900970    3       0      2  \n",
              "4 297.555783 3143.834230 4.900970    3       0      2  \n",
              "\n",
              "[5 rows x 29 columns]"
            ]
          },
          "execution_count": 148,
          "metadata": {},
          "output_type": "execute_result"
        }
      ],
      "source": [
        "# cong = concat_select\n",
        "concat_select['지하철최단거리'] = cong['지하철최단거리']\n",
        "concat_select['버스최단거리'] = cong['버스최단거리']\n",
        "concat_select.head()"
      ]
    },
    {
      "cell_type": "code",
      "execution_count": 149,
      "metadata": {},
      "outputs": [
        {
          "name": "stderr",
          "output_type": "stream",
          "text": [
            "100%|██████████| 1096992/1096992 [02:34<00:00, 7085.36it/s]\n",
            "100%|██████████| 1096992/1096992 [03:19<00:00, 5502.39it/s]\n",
            "100%|██████████| 1096992/1096992 [05:50<00:00, 3126.76it/s]\n"
          ]
        },
        {
          "data": {
            "text/html": [
              "<div>\n",
              "<style scoped>\n",
              "    .dataframe tbody tr th:only-of-type {\n",
              "        vertical-align: middle;\n",
              "    }\n",
              "\n",
              "    .dataframe tbody tr th {\n",
              "        vertical-align: top;\n",
              "    }\n",
              "\n",
              "    .dataframe thead th {\n",
              "        text-align: right;\n",
              "    }\n",
              "</style>\n",
              "<table border=\"1\" class=\"dataframe\">\n",
              "  <thead>\n",
              "    <tr style=\"text-align: right;\">\n",
              "      <th></th>\n",
              "      <th>번지</th>\n",
              "      <th>본번</th>\n",
              "      <th>부번</th>\n",
              "      <th>전용면적</th>\n",
              "      <th>계약일</th>\n",
              "      <th>층</th>\n",
              "      <th>건축년도</th>\n",
              "      <th>target</th>\n",
              "      <th>is_test</th>\n",
              "      <th>주소</th>\n",
              "      <th>...</th>\n",
              "      <th>대지면적</th>\n",
              "      <th>건폐율</th>\n",
              "      <th>용적율</th>\n",
              "      <th>평균층수</th>\n",
              "      <th>면적분류</th>\n",
              "      <th>지하철최단거리</th>\n",
              "      <th>버스최단거리</th>\n",
              "      <th>고등학교최단거리</th>\n",
              "      <th>중등학교최단거리</th>\n",
              "      <th>초등학교최단거리</th>\n",
              "    </tr>\n",
              "  </thead>\n",
              "  <tbody>\n",
              "    <tr>\n",
              "      <th>0</th>\n",
              "      <td>658-1</td>\n",
              "      <td>658</td>\n",
              "      <td>1</td>\n",
              "      <td>79.970000</td>\n",
              "      <td>8</td>\n",
              "      <td>3</td>\n",
              "      <td>1987</td>\n",
              "      <td>124000.000000</td>\n",
              "      <td>0</td>\n",
              "      <td>서울특별시 강남구 개포동 658-1</td>\n",
              "      <td>...</td>\n",
              "      <td>171357.334166</td>\n",
              "      <td>297.555783</td>\n",
              "      <td>3143.834230</td>\n",
              "      <td>4.900970</td>\n",
              "      <td>3</td>\n",
              "      <td>0</td>\n",
              "      <td>2</td>\n",
              "      <td>3</td>\n",
              "      <td>1</td>\n",
              "      <td>3</td>\n",
              "    </tr>\n",
              "    <tr>\n",
              "      <th>1</th>\n",
              "      <td>658-1</td>\n",
              "      <td>658</td>\n",
              "      <td>1</td>\n",
              "      <td>79.970000</td>\n",
              "      <td>22</td>\n",
              "      <td>4</td>\n",
              "      <td>1987</td>\n",
              "      <td>123500.000000</td>\n",
              "      <td>0</td>\n",
              "      <td>서울특별시 강남구 개포동 658-1</td>\n",
              "      <td>...</td>\n",
              "      <td>171357.334166</td>\n",
              "      <td>297.555783</td>\n",
              "      <td>3143.834230</td>\n",
              "      <td>4.900970</td>\n",
              "      <td>3</td>\n",
              "      <td>0</td>\n",
              "      <td>2</td>\n",
              "      <td>3</td>\n",
              "      <td>1</td>\n",
              "      <td>3</td>\n",
              "    </tr>\n",
              "    <tr>\n",
              "      <th>2</th>\n",
              "      <td>658-1</td>\n",
              "      <td>658</td>\n",
              "      <td>1</td>\n",
              "      <td>54.980000</td>\n",
              "      <td>28</td>\n",
              "      <td>5</td>\n",
              "      <td>1987</td>\n",
              "      <td>91500.000000</td>\n",
              "      <td>0</td>\n",
              "      <td>서울특별시 강남구 개포동 658-1</td>\n",
              "      <td>...</td>\n",
              "      <td>171357.334166</td>\n",
              "      <td>297.555783</td>\n",
              "      <td>3143.834230</td>\n",
              "      <td>4.900970</td>\n",
              "      <td>2</td>\n",
              "      <td>0</td>\n",
              "      <td>2</td>\n",
              "      <td>3</td>\n",
              "      <td>1</td>\n",
              "      <td>3</td>\n",
              "    </tr>\n",
              "    <tr>\n",
              "      <th>3</th>\n",
              "      <td>658-1</td>\n",
              "      <td>658</td>\n",
              "      <td>1</td>\n",
              "      <td>79.970000</td>\n",
              "      <td>3</td>\n",
              "      <td>4</td>\n",
              "      <td>1987</td>\n",
              "      <td>130000.000000</td>\n",
              "      <td>0</td>\n",
              "      <td>서울특별시 강남구 개포동 658-1</td>\n",
              "      <td>...</td>\n",
              "      <td>171357.334166</td>\n",
              "      <td>297.555783</td>\n",
              "      <td>3143.834230</td>\n",
              "      <td>4.900970</td>\n",
              "      <td>3</td>\n",
              "      <td>0</td>\n",
              "      <td>2</td>\n",
              "      <td>3</td>\n",
              "      <td>1</td>\n",
              "      <td>3</td>\n",
              "    </tr>\n",
              "    <tr>\n",
              "      <th>4</th>\n",
              "      <td>658-1</td>\n",
              "      <td>658</td>\n",
              "      <td>1</td>\n",
              "      <td>79.970000</td>\n",
              "      <td>8</td>\n",
              "      <td>2</td>\n",
              "      <td>1987</td>\n",
              "      <td>117000.000000</td>\n",
              "      <td>0</td>\n",
              "      <td>서울특별시 강남구 개포동 658-1</td>\n",
              "      <td>...</td>\n",
              "      <td>171357.334166</td>\n",
              "      <td>297.555783</td>\n",
              "      <td>3143.834230</td>\n",
              "      <td>4.900970</td>\n",
              "      <td>3</td>\n",
              "      <td>0</td>\n",
              "      <td>2</td>\n",
              "      <td>3</td>\n",
              "      <td>1</td>\n",
              "      <td>3</td>\n",
              "    </tr>\n",
              "  </tbody>\n",
              "</table>\n",
              "<p>5 rows × 32 columns</p>\n",
              "</div>"
            ],
            "text/plain": [
              "      번지   본번 부번      전용면적  계약일  층  건축년도        target  is_test  \\\n",
              "0  658-1  658  1 79.970000    8  3  1987 124000.000000        0   \n",
              "1  658-1  658  1 79.970000   22  4  1987 123500.000000        0   \n",
              "2  658-1  658  1 54.980000   28  5  1987  91500.000000        0   \n",
              "3  658-1  658  1 79.970000    3  4  1987 130000.000000        0   \n",
              "4  658-1  658  1 79.970000    8  2  1987 117000.000000        0   \n",
              "\n",
              "                    주소  ...          대지면적        건폐율         용적율     평균층수  \\\n",
              "0  서울특별시 강남구 개포동 658-1  ... 171357.334166 297.555783 3143.834230 4.900970   \n",
              "1  서울특별시 강남구 개포동 658-1  ... 171357.334166 297.555783 3143.834230 4.900970   \n",
              "2  서울특별시 강남구 개포동 658-1  ... 171357.334166 297.555783 3143.834230 4.900970   \n",
              "3  서울특별시 강남구 개포동 658-1  ... 171357.334166 297.555783 3143.834230 4.900970   \n",
              "4  서울특별시 강남구 개포동 658-1  ... 171357.334166 297.555783 3143.834230 4.900970   \n",
              "\n",
              "  면적분류  지하철최단거리 버스최단거리 고등학교최단거리 중등학교최단거리 초등학교최단거리  \n",
              "0    3        0      2        3        1        3  \n",
              "1    3        0      2        3        1        3  \n",
              "2    2        0      2        3        1        3  \n",
              "3    3        0      2        3        1        3  \n",
              "4    3        0      2        3        1        3  \n",
              "\n",
              "[5 rows x 32 columns]"
            ]
          },
          "execution_count": 149,
          "metadata": {},
          "output_type": "execute_result"
        }
      ],
      "source": [
        "# 학교와 거리 구하기\n",
        "school_path = pd.read_csv('./data/청주대학교_지방교육재정연구원_초중등학교위치_20240322.csv', encoding='EUC-KR')\n",
        "\n",
        "h_school = school_path[school_path['학교급구분'] == '고등학교']\n",
        "m_school = school_path[school_path['학교급구분'] == '중학교']\n",
        "p_school = school_path[school_path['학교급구분'] == '초등학교']\n",
        "\n",
        "h_school_coords = np.array([h_school['경도'], h_school['위도']]).T\n",
        "m_school_coords = np.array([m_school['경도'], m_school['위도']]).T\n",
        "p_school_coords = np.array([p_school['경도'], p_school['위도']]).T\n",
        "\n",
        "# 빈 리스트를 만들어서 최단 거리를 저장할 것임\n",
        "shortest_distances_h_school = []\n",
        "shortest_distances_m_school = []\n",
        "shortest_distances_p_school = []\n",
        "\n",
        "for i, concat_coord in tqdm(enumerate(concat_coords), total=len(concat_coords)):\n",
        "    distances = haversine_np(concat_coord[0], concat_coord[1], h_school_coords[:, 0], h_school_coords[:, 1])\n",
        "    min_distance1 = np.min(distances)\n",
        "    shortest_distances_h_school.append(min_distance1)\n",
        "\n",
        "for i, concat_coord in tqdm(enumerate(concat_coords), total=len(concat_coords)):\n",
        "    distances = haversine_np(concat_coord[0], concat_coord[1], m_school_coords[:, 0], m_school_coords[:, 1])\n",
        "    min_distance2 = np.min(distances)\n",
        "    shortest_distances_m_school.append(min_distance2)\n",
        "\n",
        "for i, concat_coord in tqdm(enumerate(concat_coords), total=len(concat_coords)):\n",
        "    distances = haversine_np(concat_coord[0], concat_coord[1], p_school_coords[:, 0], p_school_coords[:, 1])\n",
        "    min_distance3 = np.min(distances)\n",
        "    shortest_distances_p_school.append(min_distance3)\n",
        "\n",
        "concat_select['고등학교최단거리'] = shortest_distances_h_school\n",
        "concat_select['중등학교최단거리'] = shortest_distances_m_school\n",
        "concat_select['초등학교최단거리'] = shortest_distances_p_school\n",
        "\n",
        "concat_select['초등학교최단거리'] = concat_select['초등학교최단거리'].apply(lambda x: 3 if 0 < x < 0.5 else (2 if 0.5 < x < 1.0 else(1 if 1.0<x<1.5 else 0) ))\n",
        "concat_select['중등학교최단거리'] = concat_select['중등학교최단거리'].apply(lambda x: 3 if 0 < x < 0.5 else (2 if 0.5 < x < 1.0 else(1 if 1.0<x<1.5 else 0) ))\n",
        "concat_select['고등학교최단거리'] = concat_select['고등학교최단거리'].apply(lambda x: 3 if 0 < x < 0.5 else (2 if 0.5 < x < 1.0 else(1 if 1.0<x<1.5 else 0) ))\n",
        "\n",
        "concat_select.head()"
      ]
    },
    {
      "cell_type": "code",
      "execution_count": 150,
      "metadata": {},
      "outputs": [],
      "source": [
        "aa11 = concat_select"
      ]
    },
    {
      "cell_type": "code",
      "execution_count": null,
      "metadata": {},
      "outputs": [],
      "source": [
        "[aa11['초등학교최단거리']]"
      ]
    },
    {
      "cell_type": "code",
      "execution_count": 129,
      "metadata": {},
      "outputs": [
        {
          "data": {
            "text/plain": [
              "count   1096992.000000\n",
              "mean          2.854883\n",
              "std           0.357368\n",
              "min           0.000000\n",
              "25%           3.000000\n",
              "50%           3.000000\n",
              "75%           3.000000\n",
              "max           3.000000\n",
              "Name: 초등학교최단거리, dtype: float64"
            ]
          },
          "execution_count": 129,
          "metadata": {},
          "output_type": "execute_result"
        }
      ],
      "source": [
        "concat_select['초등학교최단거리'].describe()"
      ]
    },
    {
      "cell_type": "code",
      "execution_count": 130,
      "metadata": {},
      "outputs": [],
      "source": [
        "# cons = concat_select\n",
        "\n",
        "# concat_select['고등학교최단거리'] = cons['고등학교최단거리']\n",
        "# concat_select['중등학교최단거리'] = cons['중등학교최단거리']\n",
        "# concat_select['초등학교최단거리'] = cons['초등학교최단거리']\n",
        "\n",
        "\n",
        "\n",
        "concat_select['초등학교최단거리'] = concat_select['초등학교최단거리'].apply(lambda x: 3 if 0 < x < 0.5 else (2 if 0.5 < x < 1.0 else 0))\n",
        "concat_select['중등학교최단거리'] = concat_select['중등학교최단거리'].apply(lambda x: 3 if 0 < x < 0.5 else (2 if 0.5 < x < 1.0 else(1 if 1.0<x<1.5 else 0) ))\n",
        "concat_select['고등학교최단거리'] = concat_select['고등학교최단거리'].apply(lambda x: 3 if 0 < x < 0.5 else (2 if 0.5 < x < 1.0 else(1 if 1.0<x<1.5 else 0) ))"
      ]
    },
    {
      "cell_type": "code",
      "execution_count": 131,
      "metadata": {},
      "outputs": [
        {
          "data": {
            "text/plain": [
              "번지             0\n",
              "본번             0\n",
              "부번             0\n",
              "전용면적           0\n",
              "계약일            0\n",
              "층              0\n",
              "건축년도           0\n",
              "target      9272\n",
              "is_test        0\n",
              "주소             0\n",
              "x              0\n",
              "y              0\n",
              "계약년            0\n",
              "계약월            0\n",
              "거래취소여부         0\n",
              "거래일건물연식        0\n",
              "구              0\n",
              "동              0\n",
              "강남여부           0\n",
              "신축여부           0\n",
              "건축면적           0\n",
              "연면적            0\n",
              "대지면적           0\n",
              "건폐율            0\n",
              "용적율            0\n",
              "평균층수           0\n",
              "지하철최단거리        0\n",
              "버스최단거리         0\n",
              "고등학교최단거리       0\n",
              "중등학교최단거리       0\n",
              "초등학교최단거리       0\n",
              "dtype: int64"
            ]
          },
          "execution_count": 131,
          "metadata": {},
          "output_type": "execute_result"
        }
      ],
      "source": [
        "concat_select.isnull().sum()"
      ]
    },
    {
      "cell_type": "markdown",
      "metadata": {},
      "source": []
    },
    {
      "cell_type": "code",
      "execution_count": 175,
      "metadata": {},
      "outputs": [],
      "source": [
        "str_col = ['지하철최단거리', '버스최단거리', '고등학교최단거리', '중등학교최단거리', '초등학교최단거리']\n",
        "\n",
        "concat_select[str_col] = concat_select[str_col].astype(str)"
      ]
    },
    {
      "cell_type": "code",
      "execution_count": 176,
      "metadata": {
        "colab": {
          "base_uri": "https://localhost:8080/"
        },
        "id": "9E__0jEyyXIA",
        "outputId": "ffb3cc6e-d337-4ed6-96d1-ddf96dc97449"
      },
      "outputs": [
        {
          "name": "stdout",
          "output_type": "stream",
          "text": [
            "(1087720, 31) (9272, 31)\n"
          ]
        }
      ],
      "source": [
        "# 이제 다시 train과 test dataset을 분할해줍니다. 위에서 제작해 놓았던 is_test 칼럼을 이용합니다.\n",
        "dt_train = concat_select.query('is_test==0')\n",
        "dt_test = concat_select.query('is_test==1')\n",
        "\n",
        "# 이제 is_test 칼럼은 drop해줍니다.\n",
        "dt_train.drop(['is_test'], axis = 1, inplace=True)\n",
        "dt_test.drop(['is_test'], axis = 1, inplace=True)\n",
        "print(dt_train.shape, dt_test.shape)\n",
        "\n",
        "# dt_test의 target은 일단 0으로 임의로 채워주도록 하겠습니다.\n",
        "dt_test['target'] = 0"
      ]
    },
    {
      "cell_type": "markdown",
      "metadata": {
        "id": "wdHNkPO_3tSb"
      },
      "source": [
        "### 5.1. 범주형 변수 Encoding\n",
        "- 범주형 변수는 그대로 모델에 투입하면, 모델이 제대로 작동할 수 없습니다.\n",
        "- 따라서 **레이블 인코딩 과정**을 통해 범주형 변수들을 numeric하게 바꾸는 인코딩 과정을 진행해주도록 하겠습니다."
      ]
    },
    {
      "cell_type": "code",
      "execution_count": 152,
      "metadata": {
        "colab": {
          "base_uri": "https://localhost:8080/"
        },
        "id": "yCW2dTz12VMZ",
        "outputId": "5c81b9e1-0462-421e-cb77-6b056532e5cd"
      },
      "outputs": [
        {
          "name": "stdout",
          "output_type": "stream",
          "text": [
            "연속형 변수: ['전용면적', '계약일', '층', '건축년도', 'target', 'x', 'y', '계약년', '계약월', '거래일건물연식', '건축면적', '연면적', '대지면적', '건폐율', '용적율', '평균층수', '지하철최단거리', '버스최단거리', '고등학교최단거리', '중등학교최단거리', '초등학교최단거리']\n",
            "범주형 변수: ['번지', '본번', '부번', '주소', '거래취소여부', '구', '동', '강남여부', '신축여부', '면적분류']\n"
          ]
        },
        {
          "name": "stderr",
          "output_type": "stream",
          "text": [
            "100%|██████████| 10/10 [00:02<00:00,  3.44it/s]\n"
          ]
        }
      ],
      "source": [
        "# 파생변수 제작으로 추가된 변수들이 존재하기에, 다시한번 연속형과 범주형 칼럼을 분리해주겠습니다.\n",
        "continuous_columns_v2 = []\n",
        "categorical_columns_v2 = []\n",
        "\n",
        "for column in dt_train.columns:\n",
        "    if pd.api.types.is_numeric_dtype(dt_train[column]):\n",
        "        continuous_columns_v2.append(column)\n",
        "    else:\n",
        "        categorical_columns_v2.append(column)\n",
        "\n",
        "print(\"연속형 변수:\", continuous_columns_v2)\n",
        "print(\"범주형 변수:\", categorical_columns_v2)\n",
        "\n",
        "# 아래에서 범주형 변수들을 대상으로 레이블인코딩을 진행해 주겠습니다.\n",
        "\n",
        "# 각 변수에 대한 LabelEncoder를 저장할 딕셔너리\n",
        "label_encoders = {}\n",
        "\n",
        "# Implement Label Encoding\n",
        "for col in tqdm( categorical_columns ):\n",
        "    lbl = LabelEncoder()\n",
        "\n",
        "    # Label-Encoding을 fit\n",
        "    lbl.fit( dt_train[col].astype(str) )\n",
        "    dt_train[col] = lbl.transform(dt_train[col].astype(str))\n",
        "    label_encoders[col] = lbl           # 나중에 후처리를 위해 레이블인코더를 저장해주겠습니다.\n",
        "\n",
        "    # Test 데이터에만 존재하는 새로 출현한 데이터를 신규 클래스로 추가해줍니다.\n",
        "    for label in np.unique(dt_test[col]):\n",
        "      if label not in lbl.classes_: # unseen label 데이터인 경우\n",
        "        lbl.classes_ = np.append(lbl.classes_, label) # 미처리 시 ValueError발생하니 주의하세요!\n",
        "\n",
        "    dt_test[col] = lbl.transform(dt_test[col].astype(str))"
      ]
    },
    {
      "cell_type": "code",
      "execution_count": 153,
      "metadata": {},
      "outputs": [],
      "source": [
        "dt_train = pd.get_dummies(dt_train, columns=['구'])\n",
        "dt_test = pd.get_dummies(dt_test, columns=['구'])"
      ]
    },
    {
      "cell_type": "markdown",
      "metadata": {},
      "source": [
        "#### 필요없는 데이터 삭제"
      ]
    },
    {
      "cell_type": "code",
      "execution_count": 154,
      "metadata": {},
      "outputs": [],
      "source": [
        "columns_to_delete = ['번지', '부번', '본번']\n",
        "\n",
        "# # 열 삭제\n",
        "dt_train = dt_train.drop(columns=columns_to_delete)\n",
        "dt_test = dt_test.drop(columns=columns_to_delete)"
      ]
    },
    {
      "cell_type": "markdown",
      "metadata": {},
      "source": [
        "### 금리데이터 넣기"
      ]
    },
    {
      "cell_type": "markdown",
      "metadata": {},
      "source": [
        "## 데이터 나눠서 머신러닝 돌리기"
      ]
    },
    {
      "cell_type": "code",
      "execution_count": 155,
      "metadata": {
        "id": "7S-ow8vVP_YZ"
      },
      "outputs": [],
      "source": [
        "assert dt_train.shape[1] == dt_test.shape[1]          # train/test dataset의 shape이 같은지 확인해주겠습니다.\n",
        "\n",
        "# Target과 독립변수들을 분리해줍니다.\n",
        "y_train = dt_train['target']\n",
        "X_train = dt_train.drop(['target'], axis=1)\n",
        "\n",
        "# Hold out split을 사용해 학습 데이터와 검증 데이터를 8:2 비율로 나누겠습니다.\n",
        "X_train, X_val, y_train, y_val = train_test_split(X_train, y_train, test_size=0.2, random_state=2023)"
      ]
    },
    {
      "cell_type": "code",
      "execution_count": 25,
      "metadata": {
        "colab": {
          "base_uri": "https://localhost:8080/"
        },
        "id": "fGNHMAD2aBGI",
        "outputId": "5471313e-6838-44d3-8567-940c7456ef9e"
      },
      "outputs": [],
      "source": [
        "# RandomForestRegressor를 이용해 회귀 모델을 적합시키겠습니다.\n",
        "#model = RandomForestRegressor(n_estimators=5, criterion='squared_error', random_state=1, n_jobs=-1)\n",
        "#model.fit(X_train, y_train)\n",
        "#pred = model.predict(X_val)"
      ]
    },
    {
      "cell_type": "code",
      "execution_count": 26,
      "metadata": {},
      "outputs": [],
      "source": [
        "#y_val = y_val * X_val['전용면적']\n",
        "#pred = pred * X_val['전용면적']"
      ]
    },
    {
      "cell_type": "code",
      "execution_count": 27,
      "metadata": {
        "colab": {
          "base_uri": "https://localhost:8080/"
        },
        "id": "39uvsgeXey3R",
        "outputId": "139e341d-2abd-4923-ed05-a28a70a4caef"
      },
      "outputs": [],
      "source": [
        "# 회귀 관련 metric을 통해 train/valid의 모델 적합 결과를 관찰합니다.\n",
        "#print(f'RMSE test: {np.sqrt(metrics.mean_squared_error(y_val, pred))}')"
      ]
    },
    {
      "cell_type": "code",
      "execution_count": 42,
      "metadata": {},
      "outputs": [],
      "source": [
        "#  XGBoost 사용\n",
        "\n",
        "import xgboost as xgb"
      ]
    },
    {
      "cell_type": "code",
      "execution_count": 156,
      "metadata": {},
      "outputs": [
        {
          "name": "stdout",
          "output_type": "stream",
          "text": [
            "RMSE test: 5911.546710411913\n"
          ]
        }
      ],
      "source": [
        "model = xgb.XGBRegressor(objective='reg:squarederror', \n",
        "                         n_estimators=2000,  \n",
        "                         learning_rate=0.1,  \n",
        "                         max_depth=10,\n",
        "                         random_state=1)\n",
        "\n",
        "\n",
        "model.fit(X_train, y_train)\n",
        "\n",
        "pred_2 = model.predict(X_val)\n",
        "\n",
        "# 회귀 관련 metric을 통해 train/valid의 모델 적합 결과를 관찰합니다.\n",
        "print(f'RMSE test: {np.sqrt(metrics.mean_squared_error(y_val, pred_2))}')"
      ]
    },
    {
      "cell_type": "markdown",
      "metadata": {
        "id": "4jhh_fZ0DHOd"
      },
      "source": [
        "- 변수 중요도도 확인해보도록 하겠습니다."
      ]
    },
    {
      "cell_type": "code",
      "execution_count": null,
      "metadata": {},
      "outputs": [],
      "source": [
        "xgb.plot_importance(model)\n",
        "plt.figure(figsize=(10, 100))\n",
        "plt.show()"
      ]
    },
    {
      "cell_type": "code",
      "execution_count": null,
      "metadata": {
        "colab": {
          "base_uri": "https://localhost:8080/",
          "height": 698
        },
        "id": "VbgCRxFgdFQb",
        "outputId": "f9114f72-78e1-471c-fc0b-ba5b8b6b6d2f"
      },
      "outputs": [],
      "source": [
        "xgb.plot_importance(model, importance_type='total_gain')\n",
        "plt.show()"
      ]
    },
    {
      "cell_type": "code",
      "execution_count": null,
      "metadata": {},
      "outputs": [],
      "source": [
        "# 위 feature importance를 시각화해봅니다.\n",
        "importances = pd.Series(model.feature_importances_, index=list(X_train.columns))\n",
        "importances = importances.sort_values(ascending=False)\n",
        "\n",
        "plt.figure(figsize=(10,8))\n",
        "plt.title(\"Feature Importances\")\n",
        "sns.barplot(x=importances, y=importances.index)\n",
        "plt.show()"
      ]
    },
    {
      "cell_type": "code",
      "execution_count": null,
      "metadata": {},
      "outputs": [],
      "source": [
        "# Permutation importance 방법을 변수 선택에 이용해보겠습니다.\n",
        "perm = PermutationImportance(model,        # 위에서 학습된 모델을 이용하겠습니다.\n",
        "                             scoring = \"neg_mean_squared_error\",        # 평가 지표로는 회귀문제이기에 negative rmse를 사용합니다. (neg_mean_squared_error : 음의 평균 제곱 오차)\n",
        "                             random_state = 42,\n",
        "                             n_iter=3).fit(X_val, y_val)\n",
        "eli5.show_weights(perm, feature_names = X_val.columns.tolist())    # valid data에 대해 적합시킵니다."
      ]
    },
    {
      "cell_type": "code",
      "execution_count": null,
      "metadata": {},
      "outputs": [],
      "source": [
        "eli5.show_weights(perm, feature_names=X_val.columns.tolist(), top=X_val.shape[1])"
      ]
    },
    {
      "cell_type": "code",
      "execution_count": 42,
      "metadata": {
        "id": "vycdrTEAa2va"
      },
      "outputs": [],
      "source": [
        "# 학습된 모델을 저장합니다. Pickle 라이브러리를 이용하겠습니다.\n",
        "with open('saved_model.pkl', 'wb') as f:\n",
        "    pickle.dump(model, f)"
      ]
    },
    {
      "cell_type": "markdown",
      "metadata": {
        "id": "YncDzsK1zl2w"
      },
      "source": [
        "### 5.4. Valid prediction 분석"
      ]
    },
    {
      "cell_type": "markdown",
      "metadata": {
        "id": "iQS1Fno2C-1R"
      },
      "source": [
        "- 예측값을 분석해보기 위해 valid prediction을 확인해보겠습니다."
      ]
    },
    {
      "cell_type": "markdown",
      "metadata": {
        "id": "Mms3pe564O6v"
      },
      "source": [
        "- 예측을 잘 하지 못한 top 100개의 데이터와 예측을 잘한 top 100개의 데이터를 비교해보겠습니다."
      ]
    },
    {
      "cell_type": "markdown",
      "metadata": {
        "id": "K6gnHzd55c6f"
      },
      "source": [
        "- 이제 분포를 비교해보도록 하겠습니다."
      ]
    },
    {
      "cell_type": "code",
      "execution_count": 34,
      "metadata": {},
      "outputs": [],
      "source": [
        "\n",
        "# Validation dataset에 target과 pred 값을 채워주도록 하겠습니다.\n",
        "X_val['target'] = y_val\n",
        "X_val['pred'] = pred_2\n",
        "\n",
        "# Squared_error를 계산하는 함수를 정의하겠습니다.\n",
        "def calculate_se(target, pred):\n",
        "    squared_errors = (target - pred) ** 2\n",
        "    return squared_errors\n",
        "\n",
        "# RMSE 계산\n",
        "squared_errors = calculate_se(X_val['target'], X_val['pred'])\n",
        "X_val['error'] = squared_errors\n",
        "\n",
        "X_val_sort_top100 = X_val.sort_values(by='error', ascending=False).head(100)        # 예측을 잘 하지못한 top 100개의 data\n",
        "X_val_sort_tail100 = X_val.sort_values(by='error', ascending=False).tail(100)       # 예측을 잘한 top 100개의 data"
      ]
    },
    {
      "cell_type": "code",
      "execution_count": null,
      "metadata": {},
      "outputs": [],
      "source": [
        "# 해석을 위해 레이블인코딩 된 변수를 복원해줍니다.\n",
        "error_top100 = X_val_sort_top100.copy()\n",
        "for column in categorical_columns_v2 :     # 앞서 레이블 인코딩에서 정의했던 categorical_columns_v2 범주형 변수 리스트를 사용합니다.\n",
        "    error_top100[column] = label_encoders[column].inverse_transform(X_val_sort_top100[column])\n",
        "\n",
        "best_top100 = X_val_sort_tail100.copy()\n",
        "for column in categorical_columns_v2 :     # 앞서 레이블 인코딩에서 정의했던 categorical_columns_v2 범주형 변수 리스트를 사용합니다.\n",
        "    best_top100[column] = label_encoders[column].inverse_transform(X_val_sort_tail100[column])"
      ]
    },
    {
      "cell_type": "code",
      "execution_count": 37,
      "metadata": {},
      "outputs": [],
      "source": [
        "best_top100 = X_val_sort_tail100.copy()\n",
        "error_top100 = X_val_sort_top100.copy()"
      ]
    },
    {
      "cell_type": "code",
      "execution_count": null,
      "metadata": {
        "colab": {
          "base_uri": "https://localhost:8080/",
          "height": 925
        },
        "id": "SyJJoEiu4kes",
        "outputId": "afd5876f-264e-4ad1-d2bf-cb400819c794"
      },
      "outputs": [],
      "source": [
        "sns.boxplot(data = X_val_sort_top100, x='target')\n",
        "plt.title('The worst top100 prediction의 target 분포')\n",
        "plt.show()\n",
        "\n",
        "sns.boxplot(data = X_val_sort_tail100, x='target', color='orange')\n",
        "plt.title('The best top100 prediction의 target 분포')\n",
        "plt.show()"
      ]
    },
    {
      "cell_type": "markdown",
      "metadata": {
        "id": "gWnF219657Lc"
      },
      "source": [
        "- Taget 분포를 보니 좋은 예측을 보인 top 100개의 data보다 상대적으로 나쁜 예측을 보인 top 100 dataset들이 높은 가격을 보였음을 확인할 수 있습니다. 이에 대한 모델링 및 처리가 필요해보입니다."
      ]
    },
    {
      "cell_type": "code",
      "execution_count": null,
      "metadata": {
        "colab": {
          "base_uri": "https://localhost:8080/",
          "height": 471
        },
        "id": "qOhsS3Cr6IuH",
        "outputId": "462592ff-31b6-4300-9edb-cbec64054deb"
      },
      "outputs": [],
      "source": [
        "sns.histplot(data = error_top100, x='전용면적', alpha=0.5)\n",
        "sns.histplot(data = best_top100, x='전용면적', color='orange', alpha=0.5)\n",
        "plt.title('전용면적 분포 비교')\n",
        "plt.show()"
      ]
    },
    {
      "cell_type": "markdown",
      "metadata": {
        "id": "XsMOOYc16jU8"
      },
      "source": [
        "- 전용면적 또한 나쁜 예측을 보인 집들이 더 넓음을 확인할 수 있습니다."
      ]
    },
    {
      "cell_type": "markdown",
      "metadata": {
        "id": "F0Ga4ljBNYIy"
      },
      "source": [
        "## 6. Inference"
      ]
    },
    {
      "cell_type": "code",
      "execution_count": null,
      "metadata": {
        "colab": {
          "base_uri": "https://localhost:8080/",
          "height": 158
        },
        "id": "7LC7NuRaD_Dd",
        "outputId": "c2827163-dbdd-4c8c-d35b-1c325b8d14c0"
      },
      "outputs": [],
      "source": [
        "dt_test.head(2)      # test dataset에 대한 inference를 진행해보겠습니다."
      ]
    },
    {
      "cell_type": "code",
      "execution_count": null,
      "metadata": {
        "id": "0HXvn8ZSa1kt"
      },
      "outputs": [],
      "source": [
        "# 저장된 모델을 불러옵니다.\n",
        "with open('saved_model.pkl', 'rb') as f:\n",
        "    model = pickle.load(f)"
      ]
    },
    {
      "cell_type": "code",
      "execution_count": null,
      "metadata": {
        "colab": {
          "base_uri": "https://localhost:8080/"
        },
        "id": "qbZ2A49LP_T9",
        "outputId": "89676c9b-c0a2-4951-84f0-430c5648331c"
      },
      "outputs": [],
      "source": [
        "%%time\n",
        "X_test = dt_test.drop(['target'], axis=1)\n",
        "\n",
        "# Test dataset에 대한 inference를 진행합니다.\n",
        "\n",
        "real_test_pred = model.predict(X_test)\n",
        "\n",
        "#real_test_pred = real_test_pred * dt_test['전용면적'].values"
      ]
    },
    {
      "cell_type": "code",
      "execution_count": null,
      "metadata": {
        "colab": {
          "base_uri": "https://localhost:8080/"
        },
        "id": "4M1QkrH_31zK",
        "outputId": "6c6f4635-50bb-4a2d-8453-56f700ec6140"
      },
      "outputs": [],
      "source": [
        "real_test_pred          # 예측값들이 출력됨을 확인할 수 있습니다."
      ]
    },
    {
      "cell_type": "markdown",
      "metadata": {
        "id": "KlxtDBDNNa6Y"
      },
      "source": [
        "## 7. Output File Save"
      ]
    },
    {
      "cell_type": "code",
      "execution_count": 19,
      "metadata": {
        "id": "Tn36fIuB42aM"
      },
      "outputs": [],
      "source": [
        "# 앞서 예측한 예측값들을 저장합니다.\n",
        "preds_df = pd.DataFrame(real_test_pred.astype(int), columns=[\"target\"])\n",
        "preds_df.to_csv('output_nokumli.csv', index=False)"
      ]
    },
    {
      "cell_type": "code",
      "execution_count": null,
      "metadata": {},
      "outputs": [],
      "source": []
    }
  ],
  "metadata": {
    "colab": {
      "provenance": []
    },
    "kernelspec": {
      "display_name": "Python 3.10.13 ('base')",
      "language": "python",
      "name": "python3"
    },
    "language_info": {
      "codemirror_mode": {
        "name": "ipython",
        "version": 3
      },
      "file_extension": ".py",
      "mimetype": "text/x-python",
      "name": "python",
      "nbconvert_exporter": "python",
      "pygments_lexer": "ipython3",
      "version": "3.10.13"
    },
    "vscode": {
      "interpreter": {
        "hash": "d4d1e4263499bec80672ea0156c357c1ee493ec2b1c70f0acce89fc37c4a6abe"
      }
    }
  },
  "nbformat": 4,
  "nbformat_minor": 0
}
