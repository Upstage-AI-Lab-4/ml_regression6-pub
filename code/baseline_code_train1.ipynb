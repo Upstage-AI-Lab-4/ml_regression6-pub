{
  "cells": [
    {
      "cell_type": "markdown",
      "metadata": {
        "id": "92WHLz8346Yf"
      },
      "source": [
        "# **🏠 부동산 실거래가 Baseline code**\n",
        "> 부동산 실거래가 예측 대회에 오신 여러분 환영합니다! 🎉     \n",
        "> 아래 baseline에서는 RandomForest를 활용해 ML 방법론들을 실제 대회에 적용해보도록 하겠습니다.\n",
        "> 강의는 google colab으로 실행하였기에 아래의 베이스라인 코드와는 일부 차이가 있을 수 있습니다. \n",
        "\n",
        "## Contents\n",
        "- Library Import\n",
        "- Data Load\n",
        "- Data Preprocessing\n",
        "- Feature Engineering\n",
        "- Model Training\n",
        "- Inference\n",
        "- Output File Save\n"
      ]
    },
    {
      "cell_type": "markdown",
      "metadata": {
        "id": "2-DJzJjvO88V"
      },
      "source": [
        "## 1. Library Import\n",
        "- 필요한 라이브러리를 불러옵니다."
      ]
    },
    {
      "cell_type": "code",
      "execution_count": 1,
      "metadata": {
        "colab": {
          "base_uri": "https://localhost:8080/"
        },
        "id": "PKs1Mj7OcWU0",
        "outputId": "d142df48-acc5-4bca-c9be-18575aa6a6dc"
      },
      "outputs": [
        {
          "name": "stdout",
          "output_type": "stream",
          "text": [
            "Requirement already satisfied: eli5==0.13.0 in /opt/anaconda3/lib/python3.10/site-packages (0.13.0)\n",
            "Requirement already satisfied: attrs>17.1.0 in /opt/anaconda3/lib/python3.10/site-packages (from eli5==0.13.0) (24.2.0)\n",
            "Requirement already satisfied: jinja2>=3.0.0 in /opt/anaconda3/lib/python3.10/site-packages (from eli5==0.13.0) (3.1.4)\n",
            "Requirement already satisfied: numpy>=1.9.0 in /opt/anaconda3/lib/python3.10/site-packages (from eli5==0.13.0) (1.23.5)\n",
            "Requirement already satisfied: scipy in /opt/anaconda3/lib/python3.10/site-packages (from eli5==0.13.0) (1.11.3)\n",
            "Requirement already satisfied: six in /opt/anaconda3/lib/python3.10/site-packages (from eli5==0.13.0) (1.16.0)\n",
            "Requirement already satisfied: scikit-learn>=0.20 in /opt/anaconda3/lib/python3.10/site-packages (from eli5==0.13.0) (1.2.2)\n",
            "Requirement already satisfied: graphviz in /opt/anaconda3/lib/python3.10/site-packages (from eli5==0.13.0) (0.20.3)\n",
            "Requirement already satisfied: tabulate>=0.7.7 in /opt/anaconda3/lib/python3.10/site-packages (from eli5==0.13.0) (0.9.0)\n",
            "Requirement already satisfied: MarkupSafe>=2.0 in /opt/anaconda3/lib/python3.10/site-packages (from jinja2>=3.0.0->eli5==0.13.0) (2.1.3)\n",
            "Requirement already satisfied: joblib>=1.1.1 in /opt/anaconda3/lib/python3.10/site-packages (from scikit-learn>=0.20->eli5==0.13.0) (1.4.2)\n",
            "Requirement already satisfied: threadpoolctl>=2.0.0 in /opt/anaconda3/lib/python3.10/site-packages (from scikit-learn>=0.20->eli5==0.13.0) (3.5.0)\n",
            "zsh:1: command not found: apt-get\n"
          ]
        }
      ],
      "source": [
        "!pip install eli5==0.13.0\n",
        "\n",
        "# 한글 폰트 사용을 위한 라이브러리입니다.\n",
        "!apt-get install -y fonts-nanum"
      ]
    },
    {
      "cell_type": "markdown",
      "metadata": {
        "id": "OPJvYT0OPAWS"
      },
      "source": [
        "## 2. Data Load"
      ]
    },
    {
      "cell_type": "markdown",
      "metadata": {
        "id": "vvwnwnpNJeR1"
      },
      "source": [
        "#### 2.1. 데이터 로드"
      ]
    },
    {
      "cell_type": "code",
      "execution_count": 31,
      "metadata": {},
      "outputs": [
        {
          "data": {
            "text/plain": [
              "'/data/ephemeral/home/code'"
            ]
          },
          "execution_count": 31,
          "metadata": {},
          "output_type": "execute_result"
        }
      ],
      "source": [
        "import os\n",
        "os.getcwd()"
      ]
    },
    {
      "cell_type": "code",
      "execution_count": 2,
      "metadata": {},
      "outputs": [],
      "source": [
        "# visualization\n",
        "import matplotlib.pyplot as plt\n",
        "import matplotlib.font_manager as fm\n",
        "fe = fm.FontEntry(\n",
        "    fname=r'/usr/share/fonts/truetype/nanum/NanumGothic.ttf', # ttf 파일이 저장되어 있는 경로\n",
        "    name='NanumBarunGothic')                        # 이 폰트의 원하는 이름 설정\n",
        "fm.fontManager.ttflist.insert(0, fe)              # Matplotlib에 폰트 추가\n",
        "plt.rcParams.update({'font.size': 10, 'font.family': 'NanumBarunGothic'}) # 폰트 설정\n",
        "plt.rc('font', family='NanumBarunGothic')\n",
        "import seaborn as sns\n",
        "\n",
        "# utils\n",
        "import pandas as pd\n",
        "import numpy as np\n",
        "from tqdm import tqdm\n",
        "import pickle\n",
        "import warnings;warnings.filterwarnings('ignore')\n",
        "\n",
        "# Model\n",
        "from sklearn.preprocessing import LabelEncoder\n",
        "from sklearn.model_selection import train_test_split\n",
        "from sklearn.metrics import mean_squared_error\n",
        "from sklearn.ensemble import RandomForestRegressor\n",
        "from sklearn import metrics\n",
        "\n",
        "# import eli5\n",
        "# from eli5.sklearn import PermutationImportance"
      ]
    },
    {
      "cell_type": "code",
      "execution_count": 3,
      "metadata": {
        "id": "hx6nk3N_4_Tk"
      },
      "outputs": [],
      "source": [
        "# 필요한 데이터를 load 하겠습니다. 경로는 환경에 맞게 지정해주면 됩니다.\n",
        "train_path = '../data/train.csv'\n",
        "test_path  = '../data/test.csv'\n",
        "dt = pd.read_csv(train_path)\n",
        "dt_test = pd.read_csv(test_path)"
      ]
    },
    {
      "cell_type": "code",
      "execution_count": 4,
      "metadata": {},
      "outputs": [
        {
          "data": {
            "text/plain": [
              "Index(['시군구', '번지', '본번', '부번', '아파트명', '전용면적(㎡)', '계약년월', '계약일', '층', '건축년도',\n",
              "       '도로명', '해제사유발생일', '등기신청일자', '거래유형', '중개사소재지', 'k-단지분류(아파트,주상복합등등)',\n",
              "       'k-전화번호', 'k-팩스번호', '단지소개기존clob', 'k-세대타입(분양형태)', 'k-관리방식', 'k-복도유형',\n",
              "       'k-난방방식', 'k-전체동수', 'k-전체세대수', 'k-건설사(시공사)', 'k-시행사', 'k-사용검사일-사용승인일',\n",
              "       'k-연면적', 'k-주거전용면적', 'k-관리비부과면적', 'k-전용면적별세대현황(60㎡이하)',\n",
              "       'k-전용면적별세대현황(60㎡~85㎡이하)', 'k-85㎡~135㎡이하', 'k-135㎡초과', 'k-홈페이지',\n",
              "       'k-등록일자', 'k-수정일자', '고용보험관리번호', '경비비관리형태', '세대전기계약방법', '청소비관리형태',\n",
              "       '건축면적', '주차대수', '기타/의무/임대/임의=1/2/3/4', '단지승인일', '사용허가여부', '관리비업로드',\n",
              "       '좌표X', '좌표Y', '단지신청일'],\n",
              "      dtype='object')"
            ]
          },
          "execution_count": 4,
          "metadata": {},
          "output_type": "execute_result"
        }
      ],
      "source": [
        "dt_test.columns = dt_test.columns.str.replace(' ', '')\n",
        "\n",
        "dt_test.columns"
      ]
    },
    {
      "cell_type": "code",
      "execution_count": 16,
      "metadata": {},
      "outputs": [
        {
          "data": {
            "text/plain": [
              "Index(['시군구', '번지', '본번', '부번', '아파트명', '전용면적(㎡)', '계약년월', '계약일', '층', '건축년도',\n",
              "       '도로명', '해제사유발생일', '등기신청일자', '거래유형', '중개사소재지', 'k-단지분류(아파트,주상복합등등)',\n",
              "       'k-전화번호', 'k-팩스번호', '단지소개기존clob', 'k-세대타입(분양형태)', 'k-관리방식', 'k-복도유형',\n",
              "       'k-난방방식', 'k-전체동수', 'k-전체세대수', 'k-건설사(시공사)', 'k-시행사', 'k-사용검사일-사용승인일',\n",
              "       'k-연면적', 'k-주거전용면적', 'k-관리비부과면적', 'k-전용면적별세대현황(60㎡이하)',\n",
              "       'k-전용면적별세대현황(60㎡~85㎡이하)', 'k-85㎡~135㎡이하', 'k-135㎡초과', 'k-홈페이지',\n",
              "       'k-등록일자', 'k-수정일자', '고용보험관리번호', '경비비관리형태', '세대전기계약방법', '청소비관리형태',\n",
              "       '건축면적', '주차대수', '기타/의무/임대/임의=1/2/3/4', '단지승인일', '사용허가여부', '관리비 업로드',\n",
              "       '좌표X', '좌표Y', '단지신청일', 'target'],\n",
              "      dtype='object')"
            ]
          },
          "execution_count": 16,
          "metadata": {},
          "output_type": "execute_result"
        }
      ],
      "source": [
        "dt.columns"
      ]
    },
    {
      "cell_type": "code",
      "execution_count": 5,
      "metadata": {},
      "outputs": [
        {
          "data": {
            "text/plain": [
              " 6     599\n",
              " 4     588\n",
              " 8     577\n",
              " 5     560\n",
              " 7     554\n",
              " 2     538\n",
              " 9     536\n",
              " 3     528\n",
              " 10    521\n",
              " 11    501\n",
              " 12    447\n",
              " 14    439\n",
              " 13    435\n",
              " 15    424\n",
              " 1     417\n",
              " 17    238\n",
              " 16    230\n",
              " 18    221\n",
              " 19    176\n",
              " 20    122\n",
              " 21     96\n",
              " 22     93\n",
              " 23     75\n",
              " 24     69\n",
              " 25     57\n",
              " 26     40\n",
              " 27     35\n",
              " 28     32\n",
              " 29     18\n",
              " 34     12\n",
              " 33     11\n",
              " 32     11\n",
              " 30     10\n",
              " 35      9\n",
              " 31      8\n",
              " 37      5\n",
              " 39      5\n",
              " 38      4\n",
              " 36      4\n",
              " 41      3\n",
              " 45      3\n",
              " 43      3\n",
              " 42      3\n",
              " 40      3\n",
              "-1       2\n",
              " 46      2\n",
              " 44      1\n",
              " 65      1\n",
              " 58      1\n",
              " 62      1\n",
              " 53      1\n",
              " 50      1\n",
              " 55      1\n",
              "-3       1\n",
              "Name: 층, dtype: int64"
            ]
          },
          "execution_count": 5,
          "metadata": {},
          "output_type": "execute_result"
        }
      ],
      "source": [
        "dt_test['층'].value_counts()"
      ]
    },
    {
      "cell_type": "code",
      "execution_count": 6,
      "metadata": {
        "id": "vltXVoeRhZiI"
      },
      "outputs": [],
      "source": [
        "# train/test 구분을 위한 칼럼을 하나 만들어 줍니다.\n",
        "dt['is_test'] = 0\n",
        "dt_test['is_test'] = 1\n",
        "\n",
        "concat = pd.concat([dt, dt_test])     # 하나의 데이터로 만들어줍니다."
      ]
    },
    {
      "cell_type": "code",
      "execution_count": 7,
      "metadata": {},
      "outputs": [
        {
          "data": {
            "text/plain": [
              " 6     599\n",
              " 4     588\n",
              " 8     577\n",
              " 5     560\n",
              " 7     554\n",
              " 2     538\n",
              " 9     536\n",
              " 3     528\n",
              " 10    521\n",
              " 11    501\n",
              " 12    447\n",
              " 14    439\n",
              " 13    435\n",
              " 15    424\n",
              " 1     417\n",
              " 17    238\n",
              " 16    230\n",
              " 18    221\n",
              " 19    176\n",
              " 20    122\n",
              " 21     96\n",
              " 22     93\n",
              " 23     75\n",
              " 24     69\n",
              " 25     57\n",
              " 26     40\n",
              " 27     35\n",
              " 28     32\n",
              " 29     18\n",
              " 34     12\n",
              " 33     11\n",
              " 32     11\n",
              " 30     10\n",
              " 35      9\n",
              " 31      8\n",
              " 37      5\n",
              " 39      5\n",
              " 38      4\n",
              " 36      4\n",
              " 41      3\n",
              " 45      3\n",
              " 43      3\n",
              " 42      3\n",
              " 40      3\n",
              "-1       2\n",
              " 46      2\n",
              " 44      1\n",
              " 65      1\n",
              " 58      1\n",
              " 62      1\n",
              " 53      1\n",
              " 50      1\n",
              " 55      1\n",
              "-3       1\n",
              "Name: 층, dtype: int64"
            ]
          },
          "execution_count": 7,
          "metadata": {},
          "output_type": "execute_result"
        }
      ],
      "source": [
        "# concat['층'].value_counts()\n",
        "concat[concat['is_test'] == 1]['층'].value_counts()"
      ]
    },
    {
      "cell_type": "code",
      "execution_count": 8,
      "metadata": {},
      "outputs": [],
      "source": [
        "# 칼럼 이름을 쉽게 바꿔주겠습니다. 다른 칼럼도 사용에 따라 바꿔주셔도 됩니다!\n",
        "concat = concat.rename(columns={'전용면적(㎡)':'전용면적'})"
      ]
    },
    {
      "cell_type": "code",
      "execution_count": 9,
      "metadata": {},
      "outputs": [],
      "source": [
        "# 주소로 unique id를 만들어봅니다\n",
        "\n",
        "concat['본번'] = concat['본번'].fillna(-1)\n",
        "concat['부번'] = concat['부번'].fillna(-1)\n",
        "\n",
        "concat['본번'] = concat['본번'].astype(int).astype(str).replace({-1: np.nan})\n",
        "concat['부번'] = concat['부번'].astype(int).astype(str).replace({-1: np.nan})\n",
        "\n",
        "concat['지번_temp'] = concat['본번'] + '-' + concat['부번']\n",
        "\n",
        "concat['번지'] = concat['번지'].fillna(concat['지번_temp'])\n",
        "concat['번지'].isnull().sum()\n",
        "\n",
        "concat = concat.drop('지번_temp', axis=1)"
      ]
    },
    {
      "cell_type": "code",
      "execution_count": 10,
      "metadata": {},
      "outputs": [],
      "source": [
        "# 본번, 부번의 경우 float로 되어있지만 범주형 변수의 의미를 가지므로 object(string) 형태로 바꾸어주고 아래 작업을 진행하겠습니다.\n",
        "concat['본번'] = concat['본번'].astype('str')\n",
        "concat['부번'] = concat['부번'].astype('str')\n",
        "\n",
        "\n",
        "# '시군구'와 '번지'를 이용해 unique id를 만들어준다\n",
        "concat['주소'] = concat['시군구'] + ' ' + concat['번지']"
      ]
    },
    {
      "cell_type": "code",
      "execution_count": 11,
      "metadata": {},
      "outputs": [
        {
          "data": {
            "text/plain": [
              " 6     599\n",
              " 4     588\n",
              " 8     577\n",
              " 5     560\n",
              " 7     554\n",
              " 2     538\n",
              " 9     536\n",
              " 3     528\n",
              " 10    521\n",
              " 11    501\n",
              " 12    447\n",
              " 14    439\n",
              " 13    435\n",
              " 15    424\n",
              " 1     417\n",
              " 17    238\n",
              " 16    230\n",
              " 18    221\n",
              " 19    176\n",
              " 20    122\n",
              " 21     96\n",
              " 22     93\n",
              " 23     75\n",
              " 24     69\n",
              " 25     57\n",
              " 26     40\n",
              " 27     35\n",
              " 28     32\n",
              " 29     18\n",
              " 34     12\n",
              " 33     11\n",
              " 32     11\n",
              " 30     10\n",
              " 35      9\n",
              " 31      8\n",
              " 37      5\n",
              " 39      5\n",
              " 38      4\n",
              " 36      4\n",
              " 41      3\n",
              " 45      3\n",
              " 43      3\n",
              " 42      3\n",
              " 40      3\n",
              "-1       2\n",
              " 46      2\n",
              " 44      1\n",
              " 65      1\n",
              " 58      1\n",
              " 62      1\n",
              " 53      1\n",
              " 50      1\n",
              " 55      1\n",
              "-3       1\n",
              "Name: 층, dtype: int64"
            ]
          },
          "execution_count": 11,
          "metadata": {},
          "output_type": "execute_result"
        }
      ],
      "source": [
        "concat[concat['is_test'] == 1]['층'].value_counts()"
      ]
    },
    {
      "cell_type": "markdown",
      "metadata": {},
      "source": [
        "### xy좌표 결측치를 제거해봅니다"
      ]
    },
    {
      "cell_type": "code",
      "execution_count": 12,
      "metadata": {},
      "outputs": [
        {
          "data": {
            "text/plain": [
              "0    1118822\n",
              "1       9272\n",
              "Name: is_test, dtype: int64"
            ]
          },
          "execution_count": 12,
          "metadata": {},
          "output_type": "execute_result"
        }
      ],
      "source": [
        "concat['is_test'].value_counts()"
      ]
    },
    {
      "cell_type": "code",
      "execution_count": 190,
      "metadata": {},
      "outputs": [],
      "source": [
        "concat_temp = concat"
      ]
    },
    {
      "cell_type": "code",
      "execution_count": 13,
      "metadata": {},
      "outputs": [],
      "source": [
        "# xy좌표를 불러오고 unique id를 맞춰준다\n",
        "\n",
        "coordinates = pd.read_csv('../data/xy좌표.csv', encoding='cp949')\n",
        "\n",
        "coordinates['주소'] = coordinates['시군구'] + ' ' + coordinates['번지']"
      ]
    },
    {
      "cell_type": "code",
      "execution_count": 14,
      "metadata": {},
      "outputs": [
        {
          "data": {
            "text/plain": [
              "0    1118822\n",
              "1       9272\n",
              "Name: is_test, dtype: int64"
            ]
          },
          "execution_count": 14,
          "metadata": {},
          "output_type": "execute_result"
        }
      ],
      "source": [
        "concat['is_test'].value_counts()"
      ]
    },
    {
      "cell_type": "code",
      "execution_count": 207,
      "metadata": {},
      "outputs": [
        {
          "data": {
            "text/plain": [
              "0    서울특별시 금천구 독산동 1022-124\n",
              "1    서울특별시 금천구 독산동 1022-120\n",
              "2      서울특별시 종로구 창신동 595-99\n",
              "3     서울특별시 종로구 창신동 595-247\n",
              "4     서울특별시 금천구 독산동 1037-23\n",
              "Name: 주소, dtype: object"
            ]
          },
          "execution_count": 207,
          "metadata": {},
          "output_type": "execute_result"
        }
      ],
      "source": [
        "coordinates['주소'].head()"
      ]
    },
    {
      "cell_type": "code",
      "execution_count": null,
      "metadata": {},
      "outputs": [],
      "source": [
        "import pandasql as psql\n",
        "\n",
        "# SQL 쿼리로 병합\n",
        "query = \"\"\"\n",
        "SELECT concat.*, coordinates.x, coordinates.y\n",
        "FROM concat\n",
        "LEFT JOIN coordinates\n",
        "ON concat.주소 = coordinates.주소\n",
        "\"\"\"\n",
        "result = psql.sqldf(query, locals())\n",
        "\n",
        "print(result)"
      ]
    },
    {
      "cell_type": "code",
      "execution_count": 15,
      "metadata": {},
      "outputs": [
        {
          "data": {
            "text/plain": [
              "0    1131730\n",
              "1       9272\n",
              "Name: is_test, dtype: int64"
            ]
          },
          "execution_count": 15,
          "metadata": {},
          "output_type": "execute_result"
        }
      ],
      "source": [
        "concat_temp = pd.merge(concat, coordinates, left_on='주소', right_on='주소', how='left', suffixes=('_A', '_B'))\n",
        "\n",
        "concat = concat_temp\n",
        "\n",
        "concat = concat.drop(columns=['시군구_B', '번지_B'])\n",
        "\n",
        "concat = concat.rename(columns={'시군구_A':'시군구'})\n",
        "concat = concat.rename(columns={'번지_A':'번지'})\n",
        "\n",
        "concat['is_test'].value_counts()"
      ]
    },
    {
      "cell_type": "markdown",
      "metadata": {},
      "source": [
        "### xy좌표 결측치 채우기(주소로 정렬한 후 선형보간으로 채우기)"
      ]
    },
    {
      "cell_type": "code",
      "execution_count": 36,
      "metadata": {},
      "outputs": [],
      "source": [
        "# xy좌표 결측치 채우기(주소로 정렬한 후 선형보간으로 채우기)\n",
        "\n",
        "concat_sorted = concat.sort_values(by='주소')\n",
        "\n",
        "# 연속형 변수에 대한 보간 (선형 보간)\n",
        "col = ['x', 'y']\n",
        "concat_sorted[col] = concat_sorted[col].interpolate(method='linear', axis=0)\n",
        "\n",
        "concat = concat_sorted.sort_index()"
      ]
    },
    {
      "cell_type": "code",
      "execution_count": 37,
      "metadata": {},
      "outputs": [],
      "source": [
        "concat['계약년월'] = concat['계약년월'].astype(str)\n",
        "\n",
        "concat['계약년'] = concat['계약년월'].str[:4]\n",
        "concat['계약월'] = concat['계약년월'].str[4:]\n",
        "\n",
        "concat['계약년'] = concat['계약년'].astype(int)\n",
        "concat['계약월'] = concat['계약월'].astype(int)"
      ]
    },
    {
      "cell_type": "code",
      "execution_count": 38,
      "metadata": {},
      "outputs": [],
      "source": [
        "# 해제사유발생 = 1, 미발생 = 0 으로 바꾸기\n",
        "\n",
        "concat['거래취소여부'] = concat['해제사유발생일'].notnull().astype(int)\n",
        "\n",
        "concat['거래취소여부'].value_counts()\n",
        "\n",
        "concat = concat.drop(columns = '해제사유발생일',  errors='ignore')"
      ]
    },
    {
      "cell_type": "code",
      "execution_count": 39,
      "metadata": {},
      "outputs": [],
      "source": [
        "# 불필요한 컬럼 제거\n",
        "\n",
        "drop_columns = ['아파트명', '도로명', '등기신청일자', '거래유형', '중개사소재지', '좌표X', '좌표Y','계약년월'\n",
        "                'k-전화번호', 'k-팩스번호', '단지소개기존clob', 'k-관리방식', 'k-난방방식', 'k-시행사', 'k-사용검사일-사용승인일', 'k-연면적', 'k-주거전용면적', 'k-관리비부과면적', 'k-전용면적별세대현황(60㎡이하)',\n",
        "                'k-전용면적별세대현황(60㎡~85㎡이하)', 'k-85㎡~135㎡이하', 'k-135㎡초과', 'k-홈페이지', '단지승인일',\n",
        "                'k-등록일자', 'k-수정일자', '고용보험관리번호', '경비비관리형태', '세대전기계약방법', '청소비관리형태', '기타/의무/임대/임의=1/2/3/4', '기타/의무/임대/임의=1/2/3/4', '사용허가여부', '관리비 업로드', '단지신청일'\n",
        "                ]\n",
        "\n",
        "concat = concat.drop(columns = drop_columns,  errors='ignore')"
      ]
    },
    {
      "cell_type": "code",
      "execution_count": 40,
      "metadata": {},
      "outputs": [],
      "source": [
        "# 거래일 건물연식\n",
        "\n",
        "concat['거래일건물연식'] = concat['계약년'] - concat['건축년도']"
      ]
    },
    {
      "cell_type": "code",
      "execution_count": 41,
      "metadata": {},
      "outputs": [],
      "source": [
        "# 시군구, 년월 등 분할할 수 있는 변수들은 세부사항 고려를 용이하게 하기 위해 모두 분할해 주겠습니다.\n",
        "concat['구'] = concat['시군구'].map(lambda x : x.split()[1])\n",
        "concat['동'] = concat['시군구'].map(lambda x : x.split()[2])\n",
        "del concat['시군구']\n",
        "\n",
        "# concat_select['계약년'] = concat_select['계약년월'].astype('str').map(lambda x : x[:4])\n",
        "# concat_select['계약월'] = concat_select['계약년월'].astype('str').map(lambda x : x[4:])\n",
        "del concat['계약년월']"
      ]
    },
    {
      "cell_type": "code",
      "execution_count": 42,
      "metadata": {},
      "outputs": [],
      "source": [
        "all = list(concat['구'].unique())\n",
        "gangnam = ['강서구', '영등포구', '동작구', '서초구', '강남구', '송파구', '강동구']\n",
        "gangbuk = [x for x in all if x not in gangnam]\n",
        "\n",
        "assert len(all) == len(gangnam) + len(gangbuk)       # 알맞게 분리되었는지 체크합니다.\n",
        "\n",
        "# 강남의 여부를 체크합니다.\n",
        "is_gangnam = []\n",
        "for x in concat['구'].tolist() :\n",
        "  if x in gangnam :\n",
        "    is_gangnam.append(1)\n",
        "  else :\n",
        "    is_gangnam.append(0)\n",
        "\n",
        "# 파생변수를 하나 만릅니다.\n",
        "concat['강남여부'] = is_gangnam"
      ]
    },
    {
      "cell_type": "code",
      "execution_count": null,
      "metadata": {},
      "outputs": [],
      "source": [
        "concat[concat['is_test'] == 1]['층'].value_counts()"
      ]
    },
    {
      "cell_type": "code",
      "execution_count": 44,
      "metadata": {},
      "outputs": [],
      "source": [
        "# 따라서 2009년 이후에 지어졌으면 비교적 신축이라고 판단하고, 신축 여부 변수를 제작해보도록 하겠습니다.\n",
        "# 노후건축물 기준에 맞추어 거래일 기준 20년 미만일 시 신축으로 분류\n",
        "concat['신축여부'] = concat['거래일건물연식'].apply(lambda x: 1 if x < 20 else 0)"
      ]
    },
    {
      "cell_type": "code",
      "execution_count": 45,
      "metadata": {
        "colab": {
          "base_uri": "https://localhost:8080/"
        },
        "id": "msOiDlOPQ8hS",
        "outputId": "4ab60461-ef7e-4037-e6f4-5de494eed5bd"
      },
      "outputs": [
        {
          "data": {
            "text/plain": [
              "번지                          0\n",
              "본번                          0\n",
              "부번                          0\n",
              "전용면적                        0\n",
              "계약일                         0\n",
              "층                           0\n",
              "건축년도                        0\n",
              "k-단지분류(아파트,주상복합등등)     883139\n",
              "k-전화번호                 882722\n",
              "k-세대타입(분양형태)           882011\n",
              "k-복도유형                 882338\n",
              "k-전체동수                 883078\n",
              "k-전체세대수                882011\n",
              "k-건설사(시공사)             883506\n",
              "건축면적                   882162\n",
              "주차대수                   882162\n",
              "target                   9272\n",
              "is_test                     0\n",
              "관리비업로드                1131730\n",
              "주소                          0\n",
              "x                          91\n",
              "y                          91\n",
              "계약년                         0\n",
              "계약월                         0\n",
              "거래취소여부                      0\n",
              "거래일건물연식                     0\n",
              "구                           0\n",
              "동                           0\n",
              "강남여부                        0\n",
              "신축여부                        0\n",
              "dtype: int64"
            ]
          },
          "execution_count": 45,
          "metadata": {},
          "output_type": "execute_result"
        }
      ],
      "source": [
        "# EDA에 앞서 결측치를 확인해보겠습니다.\n",
        "concat.isnull().sum()\n",
        "\n",
        "# concat.columns"
      ]
    },
    {
      "cell_type": "code",
      "execution_count": 194,
      "metadata": {},
      "outputs": [],
      "source": [
        "concat.to_csv('../data/base_dataset.csv', index=False)"
      ]
    },
    {
      "cell_type": "markdown",
      "metadata": {},
      "source": [
        "### 기본 데이터셋 정의"
      ]
    },
    {
      "cell_type": "code",
      "execution_count": 46,
      "metadata": {},
      "outputs": [],
      "source": [
        "# 위 코드까지 실행할 결과를 새로운 기본 데이터셋으로 삼음\n",
        "# concat = pd.read_csv('../data/base_dataset.csv')\n",
        "\n",
        "drop_col = ['k-단지분류(아파트,주상복합등등)', 'k-세대타입(분양형태)', 'k-복도유형', 'k-전체동수', 'k-전체세대수', 'k-건설사(시공사)', '건축면적', '주차대수']\n",
        "\n",
        "concat = concat.drop(columns = drop_col, errors = 'ignore')"
      ]
    },
    {
      "cell_type": "markdown",
      "metadata": {},
      "source": [
        "### 빈 데이터를 채움"
      ]
    },
    {
      "cell_type": "code",
      "execution_count": 47,
      "metadata": {},
      "outputs": [
        {
          "data": {
            "text/html": [
              "<div>\n",
              "<style scoped>\n",
              "    .dataframe tbody tr th:only-of-type {\n",
              "        vertical-align: middle;\n",
              "    }\n",
              "\n",
              "    .dataframe tbody tr th {\n",
              "        vertical-align: top;\n",
              "    }\n",
              "\n",
              "    .dataframe thead th {\n",
              "        text-align: right;\n",
              "    }\n",
              "</style>\n",
              "<table border=\"1\" class=\"dataframe\">\n",
              "  <thead>\n",
              "    <tr style=\"text-align: right;\">\n",
              "      <th></th>\n",
              "      <th>주소</th>\n",
              "      <th>건축면적</th>\n",
              "      <th>연면적</th>\n",
              "      <th>대지면적</th>\n",
              "      <th>건폐율</th>\n",
              "      <th>용적율</th>\n",
              "    </tr>\n",
              "  </thead>\n",
              "  <tbody>\n",
              "    <tr>\n",
              "      <th>0</th>\n",
              "      <td>서울특별시 강남구 개포동 1055</td>\n",
              "      <td>507.18</td>\n",
              "      <td>11729.79</td>\n",
              "      <td>3017.0</td>\n",
              "      <td>16.81</td>\n",
              "      <td>51.99</td>\n",
              "    </tr>\n",
              "    <tr>\n",
              "      <th>1</th>\n",
              "      <td>서울특별시 강남구 개포동 1057-9</td>\n",
              "      <td>608.80</td>\n",
              "      <td>1359.20</td>\n",
              "      <td>3062.0</td>\n",
              "      <td>19.88</td>\n",
              "      <td>39.76</td>\n",
              "    </tr>\n",
              "    <tr>\n",
              "      <th>2</th>\n",
              "      <td>서울특별시 강남구 개포동 108</td>\n",
              "      <td>0.00</td>\n",
              "      <td>0.00</td>\n",
              "      <td>0.0</td>\n",
              "      <td>0.00</td>\n",
              "      <td>0.00</td>\n",
              "    </tr>\n",
              "    <tr>\n",
              "      <th>3</th>\n",
              "      <td>서울특별시 강남구 개포동 109</td>\n",
              "      <td>0.00</td>\n",
              "      <td>0.00</td>\n",
              "      <td>0.0</td>\n",
              "      <td>0.00</td>\n",
              "      <td>0.00</td>\n",
              "    </tr>\n",
              "    <tr>\n",
              "      <th>4</th>\n",
              "      <td>서울특별시 강남구 개포동 112-1</td>\n",
              "      <td>0.00</td>\n",
              "      <td>0.00</td>\n",
              "      <td>0.0</td>\n",
              "      <td>0.00</td>\n",
              "      <td>0.00</td>\n",
              "    </tr>\n",
              "  </tbody>\n",
              "</table>\n",
              "</div>"
            ],
            "text/plain": [
              "                     주소    건축면적       연면적    대지면적    건폐율    용적율\n",
              "0    서울특별시 강남구 개포동 1055  507.18  11729.79  3017.0  16.81  51.99\n",
              "1  서울특별시 강남구 개포동 1057-9  608.80   1359.20  3062.0  19.88  39.76\n",
              "2     서울특별시 강남구 개포동 108    0.00      0.00     0.0   0.00   0.00\n",
              "3     서울특별시 강남구 개포동 109    0.00      0.00     0.0   0.00   0.00\n",
              "4   서울특별시 강남구 개포동 112-1    0.00      0.00     0.0   0.00   0.00"
            ]
          },
          "execution_count": 47,
          "metadata": {},
          "output_type": "execute_result"
        }
      ],
      "source": [
        "# 지번별 건물정보가 담긴 gis건물통합정보 파일을 불러와 데이터 병합하기\n",
        "\n",
        "gis = pd.read_csv('../data/gis건물통합정보.csv')\n",
        "\n",
        "drop_col = ['Unnamed: 0', '법정동명', '번지', '사용승인일자']\n",
        "gis = gis.drop(columns = drop_col)\n",
        "\n",
        "gis = gis.rename(columns={'ID':'주소'})\n",
        "\n",
        "gis= gis.groupby('주소', as_index=False).agg({'건축면적': 'sum', '연면적': 'sum', '대지면적': 'sum', '건폐율': 'sum', '용적율': 'sum'})\n",
        "\n",
        "gis.head()"
      ]
    },
    {
      "cell_type": "code",
      "execution_count": 58,
      "metadata": {},
      "outputs": [],
      "source": [
        "concat_temp = pd.merge(concat, gis, on='주소', how='left', suffixes=('_A', '_B'))"
      ]
    },
    {
      "cell_type": "code",
      "execution_count": 59,
      "metadata": {},
      "outputs": [
        {
          "data": {
            "text/plain": [
              "count    1063533.000000\n",
              "mean      113817.892817\n",
              "std       277271.897936\n",
              "min            0.000000\n",
              "25%        25492.580000\n",
              "50%        60923.610000\n",
              "75%       136350.850000\n",
              "max     15297327.000000\n",
              "Name: 연면적, dtype: float64"
            ]
          },
          "execution_count": 59,
          "metadata": {},
          "output_type": "execute_result"
        }
      ],
      "source": [
        "concat_t = concat_temp[concat_temp['is_test'] == 0]\n",
        "\n",
        "concat_t['연면적'].describe()"
      ]
    },
    {
      "cell_type": "code",
      "execution_count": 71,
      "metadata": {},
      "outputs": [],
      "source": [
        "from sklearn.experimental import enable_iterative_imputer\n",
        "from sklearn.impute import IterativeImputer\n",
        "\n",
        "# IterativeImputer 사용 보간\n",
        "concat_temp = pd.merge(concat, gis, on='주소', how='left', suffixes=('_A', '_B'))\n",
        "concat_temp.sort_values('주소')\n",
        "\n",
        "col = ['건축면적', '연면적', '대지면적', '건폐율', '용적율']\n",
        "concat_temp[col] = concat_temp[col].replace(0, np.nan)\n",
        "\n",
        "imputer = IterativeImputer(max_iter=10, random_state=0)\n",
        "concat_temp[col] = pd.DataFrame(imputer.fit_transform(concat_temp[col]), columns=[col])\n",
        "\n",
        "\n",
        "concat_temp.sort_index()\n",
        "\n",
        "concat = concat_temp"
      ]
    },
    {
      "cell_type": "code",
      "execution_count": 73,
      "metadata": {},
      "outputs": [
        {
          "data": {
            "text/plain": [
              "0          1\n",
              "1          1\n",
              "2          1\n",
              "3          1\n",
              "4          1\n",
              "          ..\n",
              "1141115    0\n",
              "1141116    0\n",
              "1141117    0\n",
              "1141118    0\n",
              "1141119    0\n",
              "Name: 부번, Length: 1141120, dtype: object"
            ]
          },
          "execution_count": 73,
          "metadata": {},
          "output_type": "execute_result"
        }
      ],
      "source": [
        "concat['거래취소여부'].astype(str)\n",
        "concat['강남여부'].astype(str)\n",
        "concat['층'].astype(str)\n",
        "concat['본번'].astype(str)\n",
        "concat['부번'].astype(str)"
      ]
    },
    {
      "cell_type": "code",
      "execution_count": 74,
      "metadata": {},
      "outputs": [],
      "source": [
        "# concat.to_csv('../data/base_dataset_1.csv', index=False)"
      ]
    },
    {
      "cell_type": "markdown",
      "metadata": {},
      "source": [
        "### target값을 제곱미터당 가격으로 변경"
      ]
    },
    {
      "cell_type": "code",
      "execution_count": 112,
      "metadata": {},
      "outputs": [],
      "source": [
        "concat = pd.read_csv('../data/base_dataset_1.csv')"
      ]
    },
    {
      "cell_type": "code",
      "execution_count": 113,
      "metadata": {},
      "outputs": [],
      "source": [
        "# 평균층수 파생변수 추가\n",
        "concat['평균층수'] = concat['연면적'] / concat['건축면적']"
      ]
    },
    {
      "cell_type": "code",
      "execution_count": 114,
      "metadata": {},
      "outputs": [],
      "source": [
        "# target값을 평당 가격으로 바꿈 -> 최종 결과때 다시 new_target을 전용면적으로 곱하여 rmes구해야함\n",
        "\n",
        "concat.rename(columns={'target': 'target_original'}, inplace=True)\n",
        "\n",
        "concat['target'] = concat['target_original'] / concat['전용면적']\n",
        "\n",
        "# concat.info()"
      ]
    },
    {
      "cell_type": "code",
      "execution_count": 115,
      "metadata": {},
      "outputs": [],
      "source": [
        "concat = concat.drop(columns = 'target_original')"
      ]
    },
    {
      "cell_type": "code",
      "execution_count": 116,
      "metadata": {},
      "outputs": [],
      "source": [
        "str_columns = ['본번', '부번', '거래취소여부', '구', '동', '강남여부', '신축여부']\n",
        "\n",
        "concat[str_columns] = concat[str_columns].astype(str)\n",
        "\n",
        "# concat.info()"
      ]
    },
    {
      "cell_type": "code",
      "execution_count": null,
      "metadata": {},
      "outputs": [],
      "source": []
    },
    {
      "cell_type": "code",
      "execution_count": null,
      "metadata": {},
      "outputs": [],
      "source": []
    },
    {
      "cell_type": "code",
      "execution_count": 117,
      "metadata": {},
      "outputs": [],
      "source": [
        "# concat.to_csv('../data/base_dataset_2.csv', index=False)"
      ]
    },
    {
      "cell_type": "code",
      "execution_count": 46,
      "metadata": {},
      "outputs": [],
      "source": [
        "# # 인구증감율 or 인구수\n",
        "# from sklearn.experimental import enable_iterative_imputer\n",
        "# from sklearn.impute import IterativeImputer\n",
        "\n",
        "# population = pd.read_csv('../data/population.csv')\n",
        "\n",
        "# population['20대'] = population['20 - 24세'] + population['25 - 29세']\n",
        "# population['30대'] = population['30 - 34세'] + population['35 - 39세']\n",
        "# population['40대'] = population['40 - 44세'] + population['45 - 49세']\n",
        "\n",
        "# pop = population[['index', '20대', '30대', '40대']]\n",
        "# pop = pop.rename(columns = {'index': '계약년월'})\n",
        "# pop['계약년월'] = pop['계약년월'].astype(str)\n",
        "\n",
        "# pop['20대'] = pop['20대'].diff()\n",
        "# pop['30대'] = pop['30대'].diff()\n",
        "# pop['40대'] = pop['40대'].diff()\n",
        "\n",
        "# concat_temp = pd.merge(concat, pop, on='계약년월', how='left', suffixes=('_A', '_B'))\n",
        "\n",
        "\n",
        "# col = ['20대', '30대', '40대']\n",
        "\n",
        "# imputer = IterativeImputer(max_iter=10, random_state=0)\n",
        "# concat_temp[col] = pd.DataFrame(imputer.fit_transform(concat_temp[col]), columns=[col])\n",
        "\n",
        "# concat_temp.head()\n",
        "# concat = concat_temp"
      ]
    },
    {
      "cell_type": "code",
      "execution_count": 95,
      "metadata": {},
      "outputs": [],
      "source": [
        "# # 혼인율\n",
        "# marriage = pd.read_csv('../data/혼인율.csv')\n",
        "\n",
        "# marriage = marriage.T\n",
        "\n",
        "# marriage.columns = marriage.iloc[0]\n",
        "# marriage = marriage.drop(index='시군구별')\n",
        "\n",
        "# marriage = marriage.reset_index()\n",
        "# marriage = marriage[['index', '서울특별시']]\n",
        "\n",
        "# marriage['index'] = marriage['index'].str.replace('.', '')\n",
        "# marriage = marriage.rename(columns = {'index' : '계약년월', '서울특별시' : '혼인건수'})\n",
        "\n",
        "# marriage.head()\n",
        "\n",
        "# concat = pd.merge(concat, marriage, on='계약년월', how='left', suffixes=('_A', '_B'))\n",
        "\n",
        "# concat['혼인건수'] = concat['혼인건수'].astype(int)\n"
      ]
    },
    {
      "cell_type": "code",
      "execution_count": 2,
      "metadata": {
        "id": "d-NiCLGs4ZpM"
      },
      "outputs": [],
      "source": [
        "# visualization\n",
        "import matplotlib.pyplot as plt\n",
        "import matplotlib.font_manager as fm\n",
        "fe = fm.FontEntry(\n",
        "    fname=r'/usr/share/fonts/truetype/nanum/NanumGothic.ttf', # ttf 파일이 저장되어 있는 경로\n",
        "    name='NanumBarunGothic')                        # 이 폰트의 원하는 이름 설정\n",
        "fm.fontManager.ttflist.insert(0, fe)              # Matplotlib에 폰트 추가\n",
        "plt.rcParams.update({'font.size': 10, 'font.family': 'NanumBarunGothic'}) # 폰트 설정\n",
        "plt.rc('font', family='NanumBarunGothic')\n",
        "import seaborn as sns\n",
        "\n",
        "# utils\n",
        "import pandas as pd\n",
        "import numpy as np\n",
        "from tqdm import tqdm\n",
        "import pickle\n",
        "import warnings;warnings.filterwarnings('ignore')\n",
        "\n",
        "# Model\n",
        "from sklearn.preprocessing import LabelEncoder\n",
        "from sklearn.model_selection import train_test_split\n",
        "from sklearn.metrics import mean_squared_error\n",
        "from sklearn.ensemble import RandomForestRegressor\n",
        "from sklearn import metrics\n",
        "\n",
        "# import eli5\n",
        "# from eli5.sklearn import PermutationImportance"
      ]
    },
    {
      "cell_type": "markdown",
      "metadata": {},
      "source": [
        "### dataset_2 시작"
      ]
    },
    {
      "cell_type": "code",
      "execution_count": 153,
      "metadata": {},
      "outputs": [],
      "source": [
        "# concat = pd.read_csv('../data/base_dataset_2.csv')"
      ]
    },
    {
      "cell_type": "code",
      "execution_count": 3,
      "metadata": {},
      "outputs": [],
      "source": [
        "concat3 = pd.read_csv('../data/base_dataset_3.csv')"
      ]
    },
    {
      "cell_type": "code",
      "execution_count": 63,
      "metadata": {},
      "outputs": [
        {
          "data": {
            "text/plain": [
              " 6     599\n",
              " 4     588\n",
              " 8     577\n",
              " 5     560\n",
              " 7     554\n",
              " 2     538\n",
              " 9     536\n",
              " 3     528\n",
              " 10    521\n",
              " 11    501\n",
              " 12    447\n",
              " 14    439\n",
              " 13    435\n",
              " 15    424\n",
              " 1     417\n",
              " 17    238\n",
              " 16    230\n",
              " 18    221\n",
              " 19    176\n",
              " 20    122\n",
              " 21     96\n",
              " 22     93\n",
              " 23     75\n",
              " 24     69\n",
              " 25     57\n",
              " 26     40\n",
              " 27     35\n",
              " 28     32\n",
              " 29     18\n",
              " 34     12\n",
              " 33     11\n",
              " 32     11\n",
              " 30     10\n",
              " 35      9\n",
              " 31      8\n",
              " 37      5\n",
              " 39      5\n",
              " 38      4\n",
              " 36      4\n",
              " 41      3\n",
              " 45      3\n",
              " 43      3\n",
              " 42      3\n",
              " 40      3\n",
              "-1       2\n",
              " 46      2\n",
              " 44      1\n",
              " 65      1\n",
              " 58      1\n",
              " 62      1\n",
              " 53      1\n",
              " 50      1\n",
              " 55      1\n",
              "-3       1\n",
              "Name: 층, dtype: int64"
            ]
          },
          "execution_count": 63,
          "metadata": {},
          "output_type": "execute_result"
        }
      ],
      "source": [
        "concat[concat['is_test'] == 1]['층'].value_counts()"
      ]
    },
    {
      "cell_type": "code",
      "execution_count": 64,
      "metadata": {},
      "outputs": [
        {
          "data": {
            "text/plain": [
              " 5     82748\n",
              " 4     82633\n",
              " 3     81089\n",
              " 2     77575\n",
              " 6     74215\n",
              "       ...  \n",
              " 68        6\n",
              " 65        6\n",
              " 67        6\n",
              "-4         4\n",
              " 69        2\n",
              "Name: 층, Length: 73, dtype: int64"
            ]
          },
          "execution_count": 64,
          "metadata": {},
          "output_type": "execute_result"
        }
      ],
      "source": [
        "concat['층'].value_counts()"
      ]
    },
    {
      "cell_type": "code",
      "execution_count": 25,
      "metadata": {},
      "outputs": [],
      "source": [
        "concat['계약월'] = concat['계약월'].astype(str).str.zfill(2)"
      ]
    },
    {
      "cell_type": "code",
      "execution_count": 26,
      "metadata": {},
      "outputs": [],
      "source": [
        "# 금리데이터를 넣습니다\n",
        "\n",
        "concat['계약년월'] = concat['계약년'].astype(str) + '' + concat['계약월'].astype(str)\n",
        "\n",
        "interest = pd.read_csv('../data/한국기준금리07-23.csv')\n",
        "\n",
        "interest['날짜'] = interest['날짜'].astype(str)\n",
        "interest['계약년월'] = interest['날짜'].str[:6]\n",
        "interest.drop(columns = '날짜', inplace = True)"
      ]
    },
    {
      "cell_type": "code",
      "execution_count": 27,
      "metadata": {},
      "outputs": [],
      "source": [
        "# interest['계약년월'].fillna('-1')\n",
        "# interest['계약년월'] = interest['계약년월'].astype(str)\n",
        "concat['계약년월'] = concat['계약년월'].astype(str)\n",
        "\n",
        "concat_temp = pd.merge(concat, interest, on='계약년월', how='left', suffixes=('_A', '_B'))\n",
        "\n",
        "# concat_temp.drop(columns='계약년월', inplace=True)\n",
        "concat = concat_temp"
      ]
    },
    {
      "cell_type": "code",
      "execution_count": 28,
      "metadata": {},
      "outputs": [],
      "source": [
        "# 평형별로 초소형, 소형, 중형, 대형으로 분류\n",
        "\n",
        "bins = [0, 26, 50, 60, 85, 135, float('inf')]\n",
        "labels = [0, 1, 2, 3, 4, 5]\n",
        "\n",
        "concat['면적분류'] = pd.cut(concat['전용면적'], bins=bins, labels=labels, right=False)"
      ]
    },
    {
      "cell_type": "code",
      "execution_count": 29,
      "metadata": {},
      "outputs": [],
      "source": [
        "# 층 이상치 제거\n",
        "\n",
        "train1 = concat.query('is_test == 0')       # train data 내에 있는 이상치만 제거하도록 하겠습니다.\n",
        "test1 = concat.query('is_test == 1')\n",
        "\n",
        "# train1 = train1[train1['층'] >= 1]\n",
        "\n",
        "# 거래일 건물연식 이상치 제거\n",
        "train1 = train1[train1['거래일건물연식'] >= 0]\n",
        "\n",
        "# 옛날 계약 데이터 삭제 - 12년도 이전 삭제해봄\n",
        "# train1 = train1[train1['계약년'] >= 2012]\n",
        "\n",
        "concat = pd.concat([train1, test1])\n"
      ]
    },
    {
      "cell_type": "code",
      "execution_count": 30,
      "metadata": {},
      "outputs": [
        {
          "data": {
            "text/plain": [
              "0    1165286\n",
              "1       9272\n",
              "Name: is_test, dtype: int64"
            ]
          },
          "execution_count": 30,
          "metadata": {},
          "output_type": "execute_result"
        }
      ],
      "source": [
        "concat['is_test'].value_counts()"
      ]
    },
    {
      "cell_type": "code",
      "execution_count": 31,
      "metadata": {},
      "outputs": [],
      "source": [
        "concat.loc[(concat['층'] < 1), '층'] = 1"
      ]
    },
    {
      "cell_type": "code",
      "execution_count": 32,
      "metadata": {},
      "outputs": [
        {
          "data": {
            "text/plain": [
              "5     86427\n",
              "4     86219\n",
              "3     84736\n",
              "2     80981\n",
              "6     77350\n",
              "      ...  \n",
              "61        8\n",
              "68        6\n",
              "65        6\n",
              "67        6\n",
              "69        2\n",
              "Name: 층, Length: 69, dtype: int64"
            ]
          },
          "execution_count": 32,
          "metadata": {},
          "output_type": "execute_result"
        }
      ],
      "source": [
        "concat['층'].value_counts()"
      ]
    },
    {
      "cell_type": "code",
      "execution_count": 35,
      "metadata": {},
      "outputs": [],
      "source": [
        "#IQR 이상치 제거\n",
        "\n",
        "\n",
        "# train1 = concat.query('is_test == 0')       # train data 내에 있는 이상치만 제거하도록 하겠습니다.\n",
        "# test1 = concat.query('is_test == 1')\n",
        "def iqr_both(df, column_name):\n",
        "\n",
        "    Q1 = df[column_name].quantile(0.25)\n",
        "    Q3 = df[column_name].quantile(0.75)\n",
        "    IQR = Q3 - Q1\n",
        "\n",
        "    lower_bound = Q1 - 1.5 * IQR\n",
        "    upper_bound = Q3 + 1.5 * IQR\n",
        "\n",
        "    df = df[(df[column_name] >= lower_bound) & (df[column_name] <= upper_bound)]\n",
        "\n",
        "    return df\n",
        "\n",
        "def iqr_upper(df, column_name):\n",
        "\n",
        "    Q1 = df[column_name].quantile(0.25)\n",
        "    Q3 = df[column_name].quantile(0.75)\n",
        "    IQR = Q3 - Q1\n",
        "    upper_bound = Q3 + 1.5 * IQR\n",
        "\n",
        "    df = df[(df[column_name] <= upper_bound)]\n",
        "\n",
        "    return df\n",
        "\n",
        "def iqr_lower(df, column_name):\n",
        "    Q1 = df[column_name].quantile(0.25)\n",
        "    Q3 = df[column_name].quantile(0.75)\n",
        "    IQR = Q3 - Q1\n",
        "    lower_bound = Q1 - 1.5 * IQR\n",
        "\n",
        "    df = df[(df[column_name] >= lower_bound)]\n",
        "\n",
        "    return df\n",
        "\n",
        "\n",
        "train1 = iqr_upper(train1, '연면적')\n",
        "# train1 = iqr_lower(train1, '계약년')\n",
        "# train1 = iqr_both(train1, 'target')\n",
        "\n",
        "# concat = pd.concat([train1, test1])\n",
        "# train1['계약년'].describe()\n",
        "\n",
        "concat = pd.concat([train1, test1])"
      ]
    },
    {
      "cell_type": "code",
      "execution_count": 33,
      "metadata": {},
      "outputs": [
        {
          "data": {
            "text/plain": [
              "5     86427\n",
              "4     86219\n",
              "3     84736\n",
              "2     80981\n",
              "6     77350\n",
              "      ...  \n",
              "61        8\n",
              "68        6\n",
              "65        6\n",
              "67        6\n",
              "69        2\n",
              "Name: 층, Length: 69, dtype: int64"
            ]
          },
          "execution_count": 33,
          "metadata": {},
          "output_type": "execute_result"
        }
      ],
      "source": [
        "pd.set_option('display.float_format', '{:.6f}'.format)\n",
        "\n",
        "concat['층'].value_counts()"
      ]
    },
    {
      "cell_type": "code",
      "execution_count": 36,
      "metadata": {},
      "outputs": [
        {
          "name": "stderr",
          "output_type": "stream",
          "text": [
            "findfont: Font family 'NanumBarunGothic' not found.\n",
            "findfont: Font family 'NanumBarunGothic' not found.\n",
            "findfont: Font family 'NanumBarunGothic' not found.\n",
            "findfont: Font family 'NanumBarunGothic' not found.\n",
            "findfont: Font family 'NanumBarunGothic' not found.\n"
          ]
        },
        {
          "data": {
            "image/png": "[encoded data removed]",
            "text/plain": [
              "<Figure size 700x300 with 1 Axes>"
            ]
          },
          "metadata": {},
          "output_type": "display_data"
        }
      ],
      "source": [
        "# 기타 이상치를 확인해봄\n",
        "\n",
        "pd.set_option('display.float_format', '{:.6f}'.format)\n",
        "\n",
        "concat['층'].describe()\n",
        "\n",
        "fig = plt.figure(figsize=(7, 3))\n",
        "sns.boxplot(data = train1, x = '연면적', color='lightgreen')\n",
        "plt.title('건축년도 분포')\n",
        "plt.xlabel('Area')\n",
        "plt.show()"
      ]
    },
    {
      "cell_type": "code",
      "execution_count": null,
      "metadata": {},
      "outputs": [],
      "source": [
        "# sns.histplot(concat['연면적'], kde=True)\n",
        "# plt.title('연면적')\n",
        "# plt.xlabel('건축년도')\n",
        "# plt.ylabel('year')\n",
        "# plt.show()"
      ]
    },
    {
      "cell_type": "code",
      "execution_count": 58,
      "metadata": {},
      "outputs": [
        {
          "data": {
            "text/plain": [
              "Index(['번지', '본번', '부번', '전용면적', '계약일', '층', '건축년도', 'target', 'is_test', '주소',\n",
              "       'x', 'y', '계약년', '계약월', '거래취소여부', '거래일건물연식', '구', '동', '강남여부', '신축여부',\n",
              "       '건축면적', '연면적', '대지면적', '건폐율', '용적율', '평균층수', '계약년월', '기준금리', '면적분류'],\n",
              "      dtype='object')"
            ]
          },
          "execution_count": 58,
          "metadata": {},
          "output_type": "execute_result"
        }
      ],
      "source": [
        "concat.columns"
      ]
    },
    {
      "cell_type": "code",
      "execution_count": 37,
      "metadata": {},
      "outputs": [],
      "source": [
        "# 타임스플릿 전에 날짜별로 sorting해봄\n",
        "\n",
        "concat.rename(columns={'계약년': 'year', '계약월': 'month', '계약일': 'day'}, inplace=True)\n",
        "concat['계약날짜'] = pd.to_datetime(concat[['year', 'month', 'day']])\n",
        "\n",
        "concat = concat.drop(['year', 'month', 'day'], axis=1)\n",
        "\n",
        "concat = concat.sort_values(by='계약날짜').reset_index(drop=True)"
      ]
    },
    {
      "cell_type": "code",
      "execution_count": 38,
      "metadata": {},
      "outputs": [],
      "source": [
        "str_columns = ['본번', '부번', '거래취소여부', '구', '동', '강남여부', '신축여부', '계약년월', '면적분류']\n",
        "\n",
        "concat[str_columns] = concat[str_columns].astype(str)\n",
        "concat['면적분류'] = concat['면적분류'].astype(int)\n",
        "# concat['계약월'] = concat['계약월'].astype(int)\n",
        "# concat['계약날짜'] = concat['계약날짜'].astype(str)"
      ]
    },
    {
      "cell_type": "code",
      "execution_count": 39,
      "metadata": {
        "colab": {
          "base_uri": "https://localhost:8080/"
        },
        "id": "wVdU-Ge00OGM",
        "outputId": "6bd1a10a-689a-46ef-c0af-c879be59f715"
      },
      "outputs": [
        {
          "name": "stdout",
          "output_type": "stream",
          "text": [
            "연속형 변수: ['전용면적', '층', '건축년도', 'target', 'is_test', 'x', 'y', '거래일건물연식', '건축면적', '연면적', '대지면적', '건폐율', '용적율', '평균층수', '기준금리', '면적분류']\n",
            "범주형 변수: ['번지', '본번', '부번', '주소', '거래취소여부', '구', '동', '강남여부', '신축여부', '계약년월', '계약날짜']\n"
          ]
        }
      ],
      "source": [
        "# 먼저, 연속형 변수와 범주형 변수를 위 info에 따라 분리해주겠습니다.\n",
        "continuous_columns = []\n",
        "categorical_columns = []\n",
        "\n",
        "for column in concat.columns:\n",
        "    if pd.api.types.is_numeric_dtype(concat[column]):\n",
        "        continuous_columns.append(column)\n",
        "    else:\n",
        "        categorical_columns.append(column)\n",
        "\n",
        "print(\"연속형 변수:\", continuous_columns)\n",
        "print(\"범주형 변수:\", categorical_columns)"
      ]
    },
    {
      "cell_type": "code",
      "execution_count": 41,
      "metadata": {
        "id": "fOCSdvBd8GJq"
      },
      "outputs": [],
      "source": [
        "# 이상치 제거 방법에는 IQR을 이용하겠습니다.\n",
        "def remove_outliers_iqr(dt, column_name):\n",
        "    df = dt.query('is_test == 0')       # train data 내에 있는 이상치만 제거하도록 하겠습니다.\n",
        "    df_test = dt.query('is_test == 1')\n",
        "\n",
        "    Q1 = df[column_name].quantile(0.25)\n",
        "    Q3 = df[column_name].quantile(0.75)\n",
        "    IQR = Q3 - Q1\n",
        "\n",
        "    lower_bound = Q1 - 1.5 * IQR\n",
        "    upper_bound = Q3 + 1.5 * IQR\n",
        "\n",
        "    df = df[(df[column_name] >= lower_bound) & (df[column_name] <= upper_bound)]\n",
        "\n",
        "    result = pd.concat([df, df_test])   # test data와 다시 합쳐주겠습니다.\n",
        "    return result"
      ]
    },
    {
      "cell_type": "code",
      "execution_count": 42,
      "metadata": {
        "id": "F_GJQBVX8AH9"
      },
      "outputs": [],
      "source": [
        "# 위 방법으로 전용 면적에 대한 이상치를 제거해보겠습니다.\n",
        "concat_select = remove_outliers_iqr(concat, '전용면적')"
      ]
    },
    {
      "cell_type": "code",
      "execution_count": 43,
      "metadata": {},
      "outputs": [],
      "source": [
        "concat_select.to_csv('./data/dataset_5.csv')"
      ]
    },
    {
      "cell_type": "code",
      "execution_count": 20,
      "metadata": {},
      "outputs": [
        {
          "data": {
            "text/plain": [
              "'/Users/kwonsejin/Desktop/APT_Predict_ML/code'"
            ]
          },
          "execution_count": 20,
          "metadata": {},
          "output_type": "execute_result"
        }
      ],
      "source": [
        "import os\n",
        "os.getcwd()"
      ]
    },
    {
      "cell_type": "code",
      "execution_count": 6,
      "metadata": {},
      "outputs": [],
      "source": [
        "concat = pd.read_csv('./data/dataset_6.csv')"
      ]
    },
    {
      "cell_type": "code",
      "execution_count": 5,
      "metadata": {},
      "outputs": [
        {
          "data": {
            "text/plain": [
              "(1002718, 28)"
            ]
          },
          "execution_count": 5,
          "metadata": {},
          "output_type": "execute_result"
        }
      ],
      "source": [
        "concat.head()"
      ]
    },
    {
      "cell_type": "code",
      "execution_count": 10,
      "metadata": {},
      "outputs": [],
      "source": [
        "\n",
        "concat.rename(columns={'Unnamed: 0' : 'original_index'}, inplace=True)\n",
        "\n",
        "# concat.head()"
      ]
    },
    {
      "cell_type": "code",
      "execution_count": 11,
      "metadata": {},
      "outputs": [],
      "source": [
        "# concat['original_index'] = concat.index\n",
        "\n",
        "concat['계약날짜'] = pd.to_datetime(concat['계약날짜'])\n",
        "concat.set_index('계약날짜', inplace=True)\n",
        "\n",
        "daily_trades = concat.groupby(concat.index).size()\n",
        "\n",
        "# 이동평균 만들기\n",
        "concat['3m이동평균'] = concat['target'].resample('D').mean().rolling(window=90).mean()\n",
        "concat['12m이동평균'] = concat['target'].resample('D').mean().rolling(window=360).mean()\n",
        "concat['48m이동평균'] = concat['target'].resample('D').mean().rolling(window=1440).mean()\n",
        "\n",
        "# 거래량 데이터 만들기\n",
        "\n",
        "day_t = pd.DataFrame(daily_trades, columns=['trades'])\n",
        "\n",
        "day_t['30d_trades'] = day_t['trades'].rolling(window=30).sum()\n",
        "\n",
        "concat['30d_trades'] = concat.index.map(day_t['30d_trades'])\n",
        "concat['day_trades'] = concat.index.map(day_t['trades'])\n",
        "\n",
        "# concat.head()"
      ]
    },
    {
      "cell_type": "code",
      "execution_count": 12,
      "metadata": {},
      "outputs": [],
      "source": [
        "\n",
        "concat['계약년월'] = pd.to_datetime(concat['계약년월'].astype(str), format='%Y%m')"
      ]
    },
    {
      "cell_type": "code",
      "execution_count": 13,
      "metadata": {},
      "outputs": [],
      "source": [
        "# #1일 평균가격\n",
        "\n",
        "# daily_price = concat.groupby(concat.index)['target'].mean()\n",
        "\n",
        "# concat['day_price'] = concat.index.map(daily_price)\n",
        "\n",
        "# #월 평균가격\n",
        "# monthly_price = concat.groupby('계약년월')['target'].mean()\n",
        "\n",
        "# concat['month_price'] = concat['계약년월'].map(monthly_price)\n",
        "\n",
        "# concat.head()"
      ]
    },
    {
      "cell_type": "code",
      "execution_count": 14,
      "metadata": {},
      "outputs": [],
      "source": [
        "# #작년 동월 기준 변화량\n",
        "\n",
        "# monthly_avg = concat.groupby('계약년월')['target'].mean()\n",
        "\n",
        "# monthly_per = (monthly_avg - monthly_avg.shift(12)) / monthly_avg.shift(12) * 100\n",
        "\n",
        "# concat['작년동월변화량'] = concat['계약년월'].map(monthly_per)\n",
        "\n",
        "# #지난달 기준 변화량\n",
        "\n",
        "# monthly_avg = concat.groupby('계약년월')['target'].mean()\n",
        "\n",
        "# month_diff = (monthly_avg - monthly_avg.shift(1)) / monthly_avg.shift(1) * 100\n",
        "\n",
        "# concat['지난달변화량'] = concat['계약년월'].map(month_diff)"
      ]
    },
    {
      "cell_type": "code",
      "execution_count": 15,
      "metadata": {},
      "outputs": [
        {
          "data": {
            "text/plain": [
              "Index(['original_index', '번지', '본번', '부번', '전용면적', '층', '건축년도', 'target',\n",
              "       'is_test', '주소', 'x', 'y', '거래취소여부', '거래일건물연식', '구', '동', '강남여부',\n",
              "       '신축여부', '건축면적', '연면적', '대지면적', '건폐율', '용적율', '평균층수', '계약년월', '기준금리',\n",
              "       '면적분류', '1m이동평균', '3m이동평균', '6m이동평균', '30d_trades', 'day_trades',\n",
              "       'day_price', 'month_price', '작년동월변화량', '지난달변화량'],\n",
              "      dtype='object')"
            ]
          },
          "execution_count": 15,
          "metadata": {},
          "output_type": "execute_result"
        }
      ],
      "source": [
        "concat.columns"
      ]
    },
    {
      "cell_type": "code",
      "execution_count": 16,
      "metadata": {},
      "outputs": [],
      "source": [
        "# #거래량 파생변수\n",
        "\n",
        "# daily_trades = concat.groupby(concat.index).size()\n",
        "\n",
        "# daily_trades['30d_trades'] = daily_trades.rolling(window=30).sum()\n",
        "\n",
        "# monthly_volume = daily_trades.resample('M').sum()\n",
        "\n",
        "# monthly_volume_last = monthly_volume.shift(1)\n",
        "\n",
        "# concat['월별 거래량'] = concat.index.map(monthly_volume)\n",
        "# # concat['지난달 거래량'] = concat.index.map(monthly_volume_last)\n",
        "\n",
        "# # concat.head()"
      ]
    },
    {
      "cell_type": "code",
      "execution_count": null,
      "metadata": {},
      "outputs": [],
      "source": [
        "# fig = plt.figure(figsize=(10,6))\n",
        "# fig.set_facecolor('white')\n",
        "# # plt.plot(concat.index, concat['target'], color='k', label='price')\n",
        "# plt.plot(concat.index, concat['지난달변화량'], color='red', label='1m')\n",
        "# # plt.plot(concat.index, concat['3m이동평균'], color='blue', label='1m')\n",
        "# # plt.plot(concat.index, concat['6m이동평균'], color='green', label='1m')\n",
        "# plt.legend()\n",
        "# plt.title('apartment price',fontsize=15)\n",
        "# plt.show()"
      ]
    },
    {
      "cell_type": "code",
      "execution_count": null,
      "metadata": {},
      "outputs": [],
      "source": [
        "# # 지난달 거래량 지표\n",
        "# monthly_trade = concat.resample('M').sum()\n",
        "\n",
        "# concat['지난달 거래량'] = monthly_trade['target'].shift(1)"
      ]
    },
    {
      "cell_type": "code",
      "execution_count": 138,
      "metadata": {},
      "outputs": [
        {
          "data": {
            "text/plain": [
              "Index(['original_index', '번지', '본번', '부번', '전용면적', '층', '건축년도', 'target',\n",
              "       'is_test', '주소', 'x', 'y', '거래취소여부', '거래일건물연식', '구', '동', '강남여부',\n",
              "       '신축여부', '건축면적', '연면적', '대지면적', '건폐율', '용적율', '평균층수', '계약년월', '기준금리',\n",
              "       '면적분류', '1m이동평균', '3m이동평균', '6m이동평균', '30d_trades', 'trades',\n",
              "       'day_price', 'month_price', '작년동월변화량', '지난달변화량'],\n",
              "      dtype='object')"
            ]
          },
          "execution_count": 138,
          "metadata": {},
          "output_type": "execute_result"
        }
      ],
      "source": [
        "concat.columns"
      ]
    },
    {
      "cell_type": "code",
      "execution_count": 17,
      "metadata": {},
      "outputs": [],
      "source": [
        "concat['계약년월'] = concat['계약년월'].astype(str)"
      ]
    },
    {
      "cell_type": "code",
      "execution_count": 19,
      "metadata": {},
      "outputs": [],
      "source": [
        "# concat.to_csv('./data/dataset_6.csv', index=False)"
      ]
    },
    {
      "cell_type": "code",
      "execution_count": 7,
      "metadata": {},
      "outputs": [],
      "source": [
        "# visualization\n",
        "import matplotlib.pyplot as plt\n",
        "import matplotlib.font_manager as fm\n",
        "fe = fm.FontEntry(\n",
        "    fname=r'/usr/share/fonts/truetype/nanum/NanumGothic.ttf', # ttf 파일이 저장되어 있는 경로\n",
        "    name='NanumBarunGothic')                        # 이 폰트의 원하는 이름 설정\n",
        "fm.fontManager.ttflist.insert(0, fe)              # Matplotlib에 폰트 추가\n",
        "plt.rcParams.update({'font.size': 10, 'font.family': 'NanumBarunGothic'}) # 폰트 설정\n",
        "plt.rc('font', family='NanumBarunGothic')\n",
        "import seaborn as sns\n",
        "\n",
        "# utils\n",
        "import pandas as pd\n",
        "import numpy as np\n",
        "from tqdm import tqdm\n",
        "import pickle\n",
        "import warnings;warnings.filterwarnings('ignore')\n",
        "\n",
        "# Model\n",
        "from sklearn.preprocessing import LabelEncoder\n",
        "from sklearn.model_selection import train_test_split\n",
        "from sklearn.metrics import mean_squared_error\n",
        "from sklearn.ensemble import RandomForestRegressor\n",
        "from sklearn import metrics\n",
        "\n",
        "import eli5\n",
        "from eli5.sklearn import PermutationImportance"
      ]
    },
    {
      "cell_type": "code",
      "execution_count": 62,
      "metadata": {},
      "outputs": [],
      "source": [
        "concat = pd.read_csv('./data/dataset_6_index.csv')"
      ]
    },
    {
      "cell_type": "code",
      "execution_count": 9,
      "metadata": {},
      "outputs": [
        {
          "data": {
            "text/plain": [
              "Index(['번지', '본번', '부번', '전용면적', '층', '건축년도', 'target', 'is_test', '주소', 'x',\n",
              "       'y', '거래취소여부', '거래일건물연식', '구', '동', '강남여부', '신축여부', '건축면적', '연면적',\n",
              "       '대지면적', '건폐율', '용적율', '평균층수', 'index', '계약년월', '기준금리', '면적분류', '1m이동평균',\n",
              "       '3m이동평균', '6m이동평균', '30d_trades', 'day_trades'],\n",
              "      dtype='object')"
            ]
          },
          "execution_count": 9,
          "metadata": {},
          "output_type": "execute_result"
        }
      ],
      "source": [
        "concat.columns"
      ]
    },
    {
      "cell_type": "code",
      "execution_count": 42,
      "metadata": {},
      "outputs": [
        {
          "data": {
            "text/html": [
              "<div>\n",
              "<style scoped>\n",
              "    .dataframe tbody tr th:only-of-type {\n",
              "        vertical-align: middle;\n",
              "    }\n",
              "\n",
              "    .dataframe tbody tr th {\n",
              "        vertical-align: top;\n",
              "    }\n",
              "\n",
              "    .dataframe thead th {\n",
              "        text-align: right;\n",
              "    }\n",
              "</style>\n",
              "<table border=\"1\" class=\"dataframe\">\n",
              "  <thead>\n",
              "    <tr style=\"text-align: right;\">\n",
              "      <th></th>\n",
              "      <th>전용면적</th>\n",
              "      <th>층</th>\n",
              "      <th>건축년도</th>\n",
              "      <th>target</th>\n",
              "      <th>is_test</th>\n",
              "      <th>주소</th>\n",
              "      <th>x</th>\n",
              "      <th>y</th>\n",
              "      <th>거래취소여부</th>\n",
              "      <th>거래일건물연식</th>\n",
              "      <th>...</th>\n",
              "      <th>평균층수</th>\n",
              "      <th>index</th>\n",
              "      <th>계약년월</th>\n",
              "      <th>기준금리</th>\n",
              "      <th>면적분류</th>\n",
              "      <th>1m이동평균</th>\n",
              "      <th>3m이동평균</th>\n",
              "      <th>6m이동평균</th>\n",
              "      <th>30d_trades</th>\n",
              "      <th>day_trades</th>\n",
              "    </tr>\n",
              "  </thead>\n",
              "  <tbody>\n",
              "    <tr>\n",
              "      <th>0</th>\n",
              "      <td>59.980</td>\n",
              "      <td>15</td>\n",
              "      <td>1999</td>\n",
              "      <td>500.166722</td>\n",
              "      <td>0</td>\n",
              "      <td>서울특별시 강서구 마곡동 429</td>\n",
              "      <td>126.837836</td>\n",
              "      <td>37.575733</td>\n",
              "      <td>0</td>\n",
              "      <td>8</td>\n",
              "      <td>...</td>\n",
              "      <td>11.640644</td>\n",
              "      <td>1082777</td>\n",
              "      <td>2007-01-01</td>\n",
              "      <td>4.5</td>\n",
              "      <td>2</td>\n",
              "      <td>NaN</td>\n",
              "      <td>NaN</td>\n",
              "      <td>NaN</td>\n",
              "      <td>NaN</td>\n",
              "      <td>14</td>\n",
              "    </tr>\n",
              "    <tr>\n",
              "      <th>1</th>\n",
              "      <td>45.440</td>\n",
              "      <td>5</td>\n",
              "      <td>1987</td>\n",
              "      <td>253.080986</td>\n",
              "      <td>0</td>\n",
              "      <td>서울특별시 중랑구 면목동 193-1</td>\n",
              "      <td>127.075465</td>\n",
              "      <td>37.587504</td>\n",
              "      <td>0</td>\n",
              "      <td>20</td>\n",
              "      <td>...</td>\n",
              "      <td>13.342047</td>\n",
              "      <td>1116446</td>\n",
              "      <td>2007-01-01</td>\n",
              "      <td>4.5</td>\n",
              "      <td>1</td>\n",
              "      <td>NaN</td>\n",
              "      <td>NaN</td>\n",
              "      <td>NaN</td>\n",
              "      <td>NaN</td>\n",
              "      <td>14</td>\n",
              "    </tr>\n",
              "    <tr>\n",
              "      <th>2</th>\n",
              "      <td>59.340</td>\n",
              "      <td>8</td>\n",
              "      <td>1996</td>\n",
              "      <td>370.744860</td>\n",
              "      <td>0</td>\n",
              "      <td>서울특별시 노원구 중계동 445</td>\n",
              "      <td>127.072945</td>\n",
              "      <td>37.656181</td>\n",
              "      <td>0</td>\n",
              "      <td>11</td>\n",
              "      <td>...</td>\n",
              "      <td>15.772714</td>\n",
              "      <td>1094076</td>\n",
              "      <td>2007-01-01</td>\n",
              "      <td>4.5</td>\n",
              "      <td>2</td>\n",
              "      <td>NaN</td>\n",
              "      <td>NaN</td>\n",
              "      <td>NaN</td>\n",
              "      <td>NaN</td>\n",
              "      <td>14</td>\n",
              "    </tr>\n",
              "    <tr>\n",
              "      <th>3</th>\n",
              "      <td>164.760</td>\n",
              "      <td>15</td>\n",
              "      <td>1997</td>\n",
              "      <td>467.346443</td>\n",
              "      <td>0</td>\n",
              "      <td>서울특별시 동작구 신대방동 395-62</td>\n",
              "      <td>126.923632</td>\n",
              "      <td>37.492589</td>\n",
              "      <td>0</td>\n",
              "      <td>10</td>\n",
              "      <td>...</td>\n",
              "      <td>25.926023</td>\n",
              "      <td>1101807</td>\n",
              "      <td>2007-01-01</td>\n",
              "      <td>4.5</td>\n",
              "      <td>4</td>\n",
              "      <td>NaN</td>\n",
              "      <td>NaN</td>\n",
              "      <td>NaN</td>\n",
              "      <td>NaN</td>\n",
              "      <td>14</td>\n",
              "    </tr>\n",
              "    <tr>\n",
              "      <th>4</th>\n",
              "      <td>84.354</td>\n",
              "      <td>1</td>\n",
              "      <td>2002</td>\n",
              "      <td>278.587856</td>\n",
              "      <td>0</td>\n",
              "      <td>서울특별시 도봉구 도봉동 647</td>\n",
              "      <td>127.050721</td>\n",
              "      <td>37.684371</td>\n",
              "      <td>0</td>\n",
              "      <td>5</td>\n",
              "      <td>...</td>\n",
              "      <td>12.884379</td>\n",
              "      <td>1096033</td>\n",
              "      <td>2007-01-01</td>\n",
              "      <td>4.5</td>\n",
              "      <td>3</td>\n",
              "      <td>NaN</td>\n",
              "      <td>NaN</td>\n",
              "      <td>NaN</td>\n",
              "      <td>NaN</td>\n",
              "      <td>14</td>\n",
              "    </tr>\n",
              "  </tbody>\n",
              "</table>\n",
              "<p>5 rows × 29 columns</p>\n",
              "</div>"
            ],
            "text/plain": [
              "      전용면적   층  건축년도      target  is_test                     주소           x  \\\n",
              "0   59.980  15  1999  500.166722        0      서울특별시 강서구 마곡동 429  126.837836   \n",
              "1   45.440   5  1987  253.080986        0    서울특별시 중랑구 면목동 193-1  127.075465   \n",
              "2   59.340   8  1996  370.744860        0      서울특별시 노원구 중계동 445  127.072945   \n",
              "3  164.760  15  1997  467.346443        0  서울특별시 동작구 신대방동 395-62  126.923632   \n",
              "4   84.354   1  2002  278.587856        0      서울특별시 도봉구 도봉동 647  127.050721   \n",
              "\n",
              "           y  거래취소여부  거래일건물연식  ...       평균층수    index        계약년월  기준금리  \\\n",
              "0  37.575733       0        8  ...  11.640644  1082777  2007-01-01   4.5   \n",
              "1  37.587504       0       20  ...  13.342047  1116446  2007-01-01   4.5   \n",
              "2  37.656181       0       11  ...  15.772714  1094076  2007-01-01   4.5   \n",
              "3  37.492589       0       10  ...  25.926023  1101807  2007-01-01   4.5   \n",
              "4  37.684371       0        5  ...  12.884379  1096033  2007-01-01   4.5   \n",
              "\n",
              "   면적분류  1m이동평균  3m이동평균  6m이동평균  30d_trades  day_trades  \n",
              "0     2     NaN     NaN     NaN         NaN          14  \n",
              "1     1     NaN     NaN     NaN         NaN          14  \n",
              "2     2     NaN     NaN     NaN         NaN          14  \n",
              "3     4     NaN     NaN     NaN         NaN          14  \n",
              "4     3     NaN     NaN     NaN         NaN          14  \n",
              "\n",
              "[5 rows x 29 columns]"
            ]
          },
          "execution_count": 42,
          "metadata": {},
          "output_type": "execute_result"
        }
      ],
      "source": [
        "concat.head()"
      ]
    },
    {
      "cell_type": "code",
      "execution_count": 51,
      "metadata": {},
      "outputs": [],
      "source": [
        "concat.drop(columns = 'Unnamed: 0', inplace = True, errors = 'ignore')"
      ]
    },
    {
      "cell_type": "code",
      "execution_count": 50,
      "metadata": {},
      "outputs": [],
      "source": [
        "# 레이블링을 위해 추가\n",
        "drop_col = ['original_index', '본번', '부번', '번지']\n",
        "concat.drop(columns = drop_col, inplace = True, errors = 'ignore')"
      ]
    },
    {
      "cell_type": "code",
      "execution_count": 51,
      "metadata": {},
      "outputs": [],
      "source": [
        "concat['target'] = concat['target'] / concat['전용면적']"
      ]
    },
    {
      "cell_type": "code",
      "execution_count": 52,
      "metadata": {},
      "outputs": [],
      "source": [
        "concat['계약년월'] = concat['계약년월'].astype(str)"
      ]
    },
    {
      "cell_type": "code",
      "execution_count": 15,
      "metadata": {},
      "outputs": [
        {
          "data": {
            "text/plain": [
              "전용면적               0\n",
              "층                  0\n",
              "건축년도               0\n",
              "target          9272\n",
              "is_test            0\n",
              "주소                 0\n",
              "x                  0\n",
              "y                  0\n",
              "거래취소여부             0\n",
              "거래일건물연식            0\n",
              "구                  0\n",
              "동                  0\n",
              "강남여부               0\n",
              "신축여부               0\n",
              "건축면적               0\n",
              "연면적                0\n",
              "대지면적               0\n",
              "건폐율                0\n",
              "용적율                0\n",
              "평균층수               0\n",
              "index              0\n",
              "계약년월               0\n",
              "기준금리           41901\n",
              "면적분류               0\n",
              "1m이동평균         34580\n",
              "3m이동평균         76547\n",
              "6m이동평균        149990\n",
              "30d_trades      3931\n",
              "day_trades         0\n",
              "dtype: int64"
            ]
          },
          "execution_count": 15,
          "metadata": {},
          "output_type": "execute_result"
        }
      ],
      "source": [
        "concat.isnull().sum()"
      ]
    },
    {
      "cell_type": "code",
      "execution_count": 53,
      "metadata": {},
      "outputs": [
        {
          "data": {
            "text/plain": [
              "0          500.166722\n",
              "1          253.080986\n",
              "2          370.744860\n",
              "3          467.346443\n",
              "4          278.587856\n",
              "              ...    \n",
              "1083588           NaN\n",
              "1083589           NaN\n",
              "1083590           NaN\n",
              "1083591           NaN\n",
              "1083592           NaN\n",
              "Name: target, Length: 1083593, dtype: float64"
            ]
          },
          "execution_count": 53,
          "metadata": {},
          "output_type": "execute_result"
        }
      ],
      "source": [
        "from sklearn.experimental import enable_iterative_imputer\n",
        "from sklearn.impute import IterativeImputer\n",
        "\n",
        "# IterativeImputer 사용 보간\n",
        "\n",
        "concat_temp = concat\n",
        "\n",
        "col = ['건축면적', '연면적', '대지면적', '건폐율', '용적율', '기준금리', '1m이동평균', '3m이동평균', '6m이동평균', '30d_trades']\n",
        "concat_temp[col] = concat_temp[col].replace(0, np.nan)\n",
        "\n",
        "imputer = IterativeImputer(max_iter=10, random_state=0)\n",
        "concat_temp[col] = pd.DataFrame(imputer.fit_transform(concat_temp[col]), columns=[col])\n",
        "\n",
        "\n",
        "concat_temp.isnull().sum()\n",
        "\n",
        "concat = concat_temp\n",
        "\n",
        "concat['target']"
      ]
    },
    {
      "cell_type": "code",
      "execution_count": 54,
      "metadata": {},
      "outputs": [
        {
          "name": "stdout",
          "output_type": "stream",
          "text": [
            "(1074321, 28) (9272, 28)\n"
          ]
        }
      ],
      "source": [
        "# 이제 다시 train과 test dataset을 분할해줍니다. 위에서 제작해 놓았던 is_test 칼럼을 이용합니다.\n",
        "dt_train = concat.query('is_test==0')\n",
        "dt_test = concat.query('is_test==1')\n",
        "\n",
        "# 이제 is_test 칼럼은 drop해줍니다.\n",
        "dt_train.drop(['is_test'], axis = 1, inplace=True)\n",
        "dt_test.drop(['is_test'], axis = 1, inplace=True)\n",
        "print(dt_train.shape, dt_test.shape)\n",
        "\n",
        "# dt_test의 target은 일단 0으로 임의로 채워주도록 하겠습니다.\n",
        "dt_test['target'] = 0"
      ]
    },
    {
      "cell_type": "code",
      "execution_count": 57,
      "metadata": {},
      "outputs": [
        {
          "name": "stdout",
          "output_type": "stream",
          "text": [
            "연속형 변수: ['전용면적', '층', '건축년도', 'target', 'x', 'y', '거래취소여부', '거래일건물연식', '강남여부', '신축여부', '건축면적', '연면적', '대지면적', '건폐율', '용적율', '평균층수', 'index', '기준금리', '면적분류', '1m이동평균', '3m이동평균', '6m이동평균', '30d_trades', 'day_trades']\n",
            "범주형 변수: ['주소', '구', '동', '계약년월']\n"
          ]
        },
        {
          "name": "stderr",
          "output_type": "stream",
          "text": [
            "100%|██████████| 4/4 [00:01<00:00,  3.50it/s]\n"
          ]
        }
      ],
      "source": [
        "# 파생변수 제작으로 추가된 변수들이 존재하기에, 다시한번 연속형과 범주형 칼럼을 분리해주겠습니다.\n",
        "continuous_columns_v2 = []\n",
        "categorical_columns_v2 = []\n",
        "\n",
        "for column in dt_train.columns:\n",
        "    if pd.api.types.is_numeric_dtype(dt_train[column]):\n",
        "        continuous_columns_v2.append(column)\n",
        "    else:\n",
        "        categorical_columns_v2.append(column)\n",
        "\n",
        "print(\"연속형 변수:\", continuous_columns_v2)\n",
        "print(\"범주형 변수:\", categorical_columns_v2)\n",
        "\n",
        "# 아래에서 범주형 변수들을 대상으로 레이블인코딩을 진행해 주겠습니다.\n",
        "\n",
        "# 각 변수에 대한 LabelEncoder를 저장할 딕셔너리\n",
        "label_encoders = {}\n",
        "\n",
        "# Implement Label Encoding\n",
        "for col in tqdm( categorical_columns ):\n",
        "    lbl = LabelEncoder()\n",
        "\n",
        "    # Label-Encoding을 fit\n",
        "    lbl.fit( dt_train[col].astype(str) )\n",
        "    dt_train[col] = lbl.transform(dt_train[col].astype(str))\n",
        "    label_encoders[col] = lbl           # 나중에 후처리를 위해 레이블인코더를 저장해주겠습니다.\n",
        "\n",
        "    # Test 데이터에만 존재하는 새로 출현한 데이터를 신규 클래스로 추가해줍니다.\n",
        "    for label in np.unique(dt_test[col]):\n",
        "      if label not in lbl.classes_: # unseen label 데이터인 경우\n",
        "        lbl.classes_ = np.append(lbl.classes_, label) # 미처리 시 ValueError발생하니 주의하세요!\n",
        "\n",
        "    dt_test[col] = lbl.transform(dt_test[col].astype(str))"
      ]
    },
    {
      "cell_type": "code",
      "execution_count": 59,
      "metadata": {},
      "outputs": [],
      "source": [
        "from sklearn.model_selection import TimeSeriesSplit\n",
        "from tensorflow.keras.models import Sequential\n",
        "from tensorflow.keras.layers import LSTM, Dense, Dropout\n",
        "from sklearn.preprocessing import RobustScaler\n",
        "\n",
        "features = dt_train.drop('target', axis=1).values\n",
        "target = dt_train['target'].values\n",
        "\n",
        "# Robust Scaler 사용\n",
        "scaler = RobustScaler()\n",
        "features_scaled = scaler.fit_transform(features)\n",
        "\n",
        "# 시계열 데이터로 변환 (samples, time_steps, features)\n",
        "time_steps = 30  # 예를 들어 30일간의 데이터를 한 샘플로 사용\n",
        "x, y = [], []\n",
        "\n",
        "for i in range(time_steps, len(features_scaled)):\n",
        "    x.append(features_scaled[i-time_steps:i, :])  # 30일간의 데이터를 하나의 시퀀스로\n",
        "    y.append(target[i])  # 해당 시점의 가격을 타겟으로\n",
        "\n",
        "x, y = np.array(x), np.array(y)\n",
        "\n",
        "# TimeSeriesSplit 정의 (분할 개수를 설정)\n",
        "tscv = TimeSeriesSplit(n_splits=5)\n",
        "\n"
      ]
    },
    {
      "cell_type": "code",
      "execution_count": null,
      "metadata": {},
      "outputs": [],
      "source": [
        "# 각 분할에 대해 LSTM 모델 학습 및 평가\n",
        "for train_index, test_index in tscv.split(x):\n",
        "    X_train, X_test = x[train_index], x[test_index]\n",
        "    y_train, y_test = y[train_index], y[test_index]\n",
        "    \n",
        "    # LSTM 모델 구성\n",
        "    model = Sequential()\n",
        "    \n",
        "    # 첫 번째 LSTM 레이어\n",
        "    model.add(LSTM(units=50, activation='relu', return_sequences=True, input_shape=(X_train.shape[1], X_train.shape[2])))\n",
        "    model.add(Dropout(0.2))\n",
        "    \n",
        "    # 두 번째 LSTM 레이어\n",
        "    model.add(LSTM(units=50, activation='relu', return_sequences=False))\n",
        "    model.add(Dropout(0.2))\n",
        "    \n",
        "    # 출력층\n",
        "    model.add(Dense(units=1))\n",
        "    \n",
        "    # 모델 컴파일\n",
        "    model.compile(optimizer='adam', loss='mean_squared_error')\n",
        "    \n",
        "    # 모델 학습\n",
        "    model.fit(X_train, y_train, epochs=5, batch_size=32, verbose=1)\n",
        "    \n",
        "    # 모델 예측\n",
        "    predicted_price = model.predict(X_test)"
      ]
    },
    {
      "cell_type": "code",
      "execution_count": 65,
      "metadata": {},
      "outputs": [],
      "source": [
        "model.save('./data/lstm_model.keras')"
      ]
    },
    {
      "cell_type": "code",
      "execution_count": 71,
      "metadata": {},
      "outputs": [
        {
          "ename": "ValueError",
          "evalue": "non-broadcastable output operand with shape (179048,1) doesn't match the broadcast shape (179048,27)",
          "output_type": "error",
          "traceback": [
            "\u001b[0;31m---------------------------------------------------------------------------\u001b[0m",
            "\u001b[0;31mValueError\u001b[0m                                Traceback (most recent call last)",
            "Cell \u001b[0;32mIn[71], line 1\u001b[0m\n\u001b[0;32m----> 1\u001b[0m predicted_price_original \u001b[38;5;241m=\u001b[39m \u001b[43mscaler\u001b[49m\u001b[38;5;241;43m.\u001b[39;49m\u001b[43minverse_transform\u001b[49m\u001b[43m(\u001b[49m\u001b[43mpredicted_price\u001b[49m\u001b[43m)\u001b[49m\n\u001b[1;32m      2\u001b[0m y_test_original \u001b[38;5;241m=\u001b[39m scaler\u001b[38;5;241m.\u001b[39minverse_transform(y_test\u001b[38;5;241m.\u001b[39mreshape(\u001b[38;5;241m-\u001b[39m\u001b[38;5;241m1\u001b[39m, \u001b[38;5;241m1\u001b[39m))\n",
            "File \u001b[0;32m/opt/conda/lib/python3.10/site-packages/sklearn/preprocessing/_data.py:1623\u001b[0m, in \u001b[0;36mRobustScaler.inverse_transform\u001b[0;34m(self, X)\u001b[0m\n\u001b[1;32m   1621\u001b[0m \u001b[38;5;28;01melse\u001b[39;00m:\n\u001b[1;32m   1622\u001b[0m     \u001b[38;5;28;01mif\u001b[39;00m \u001b[38;5;28mself\u001b[39m\u001b[38;5;241m.\u001b[39mwith_scaling:\n\u001b[0;32m-> 1623\u001b[0m         X \u001b[38;5;241m*\u001b[39m\u001b[38;5;241m=\u001b[39m \u001b[38;5;28mself\u001b[39m\u001b[38;5;241m.\u001b[39mscale_\n\u001b[1;32m   1624\u001b[0m     \u001b[38;5;28;01mif\u001b[39;00m \u001b[38;5;28mself\u001b[39m\u001b[38;5;241m.\u001b[39mwith_centering:\n\u001b[1;32m   1625\u001b[0m         X \u001b[38;5;241m+\u001b[39m\u001b[38;5;241m=\u001b[39m \u001b[38;5;28mself\u001b[39m\u001b[38;5;241m.\u001b[39mcenter_\n",
            "\u001b[0;31mValueError\u001b[0m: non-broadcastable output operand with shape (179048,1) doesn't match the broadcast shape (179048,27)"
          ]
        }
      ],
      "source": [
        "predicted_price_original = scaler.inverse_transform(predicted_price)\n",
        "y_test_original = scaler.inverse_transform(y_test.reshape(-1, 1))"
      ]
    },
    {
      "cell_type": "code",
      "execution_count": 67,
      "metadata": {},
      "outputs": [
        {
          "name": "stdout",
          "output_type": "stream",
          "text": [
            "Fold RMSE: 1231.3648901572346\n"
          ]
        }
      ],
      "source": [
        "rmse = np.sqrt(mean_squared_error(y_test_original, predicted_price_original))\n",
        "print(f\"Fold RMSE: {rmse}\")"
      ]
    },
    {
      "cell_type": "code",
      "execution_count": null,
      "metadata": {},
      "outputs": [],
      "source": [
        "from tensorflow.python.client import device_lib\n",
        "print(device_lib.list_local_devices())"
      ]
    },
    {
      "cell_type": "code",
      "execution_count": 66,
      "metadata": {},
      "outputs": [
        {
          "data": {
            "text/html": [
              "<pre style=\"white-space:pre;overflow-x:auto;line-height:normal;font-family:Menlo,'DejaVu Sans Mono',consolas,'Courier New',monospace\"><span style=\"font-weight: bold\">Model: \"sequential_8\"</span>\n",
              "</pre>\n"
            ],
            "text/plain": [
              "\u001b[1mModel: \"sequential_8\"\u001b[0m\n"
            ]
          },
          "metadata": {},
          "output_type": "display_data"
        },
        {
          "data": {
            "text/html": [
              "<pre style=\"white-space:pre;overflow-x:auto;line-height:normal;font-family:Menlo,'DejaVu Sans Mono',consolas,'Courier New',monospace\">┏━━━━━━━━━━━━━━━━━━━━━━━━━━━━━━━━━┳━━━━━━━━━━━━━━━━━━━━━━━━┳━━━━━━━━━━━━━━━┓\n",
              "┃<span style=\"font-weight: bold\"> Layer (type)                    </span>┃<span style=\"font-weight: bold\"> Output Shape           </span>┃<span style=\"font-weight: bold\">       Param # </span>┃\n",
              "┡━━━━━━━━━━━━━━━━━━━━━━━━━━━━━━━━━╇━━━━━━━━━━━━━━━━━━━━━━━━╇━━━━━━━━━━━━━━━┩\n",
              "│ lstm_14 (<span style=\"color: #0087ff; text-decoration-color: #0087ff\">LSTM</span>)                  │ (<span style=\"color: #00d7ff; text-decoration-color: #00d7ff\">None</span>, <span style=\"color: #00af00; text-decoration-color: #00af00\">30</span>, <span style=\"color: #00af00; text-decoration-color: #00af00\">50</span>)         │        <span style=\"color: #00af00; text-decoration-color: #00af00\">15,600</span> │\n",
              "├─────────────────────────────────┼────────────────────────┼───────────────┤\n",
              "│ dropout_14 (<span style=\"color: #0087ff; text-decoration-color: #0087ff\">Dropout</span>)            │ (<span style=\"color: #00d7ff; text-decoration-color: #00d7ff\">None</span>, <span style=\"color: #00af00; text-decoration-color: #00af00\">30</span>, <span style=\"color: #00af00; text-decoration-color: #00af00\">50</span>)         │             <span style=\"color: #00af00; text-decoration-color: #00af00\">0</span> │\n",
              "├─────────────────────────────────┼────────────────────────┼───────────────┤\n",
              "│ lstm_15 (<span style=\"color: #0087ff; text-decoration-color: #0087ff\">LSTM</span>)                  │ (<span style=\"color: #00d7ff; text-decoration-color: #00d7ff\">None</span>, <span style=\"color: #00af00; text-decoration-color: #00af00\">50</span>)             │        <span style=\"color: #00af00; text-decoration-color: #00af00\">20,200</span> │\n",
              "├─────────────────────────────────┼────────────────────────┼───────────────┤\n",
              "│ dropout_15 (<span style=\"color: #0087ff; text-decoration-color: #0087ff\">Dropout</span>)            │ (<span style=\"color: #00d7ff; text-decoration-color: #00d7ff\">None</span>, <span style=\"color: #00af00; text-decoration-color: #00af00\">50</span>)             │             <span style=\"color: #00af00; text-decoration-color: #00af00\">0</span> │\n",
              "├─────────────────────────────────┼────────────────────────┼───────────────┤\n",
              "│ dense_7 (<span style=\"color: #0087ff; text-decoration-color: #0087ff\">Dense</span>)                 │ (<span style=\"color: #00d7ff; text-decoration-color: #00d7ff\">None</span>, <span style=\"color: #00af00; text-decoration-color: #00af00\">1</span>)              │            <span style=\"color: #00af00; text-decoration-color: #00af00\">51</span> │\n",
              "└─────────────────────────────────┴────────────────────────┴───────────────┘\n",
              "</pre>\n"
            ],
            "text/plain": [
              "┏━━━━━━━━━━━━━━━━━━━━━━━━━━━━━━━━━┳━━━━━━━━━━━━━━━━━━━━━━━━┳━━━━━━━━━━━━━━━┓\n",
              "┃\u001b[1m \u001b[0m\u001b[1mLayer (type)                   \u001b[0m\u001b[1m \u001b[0m┃\u001b[1m \u001b[0m\u001b[1mOutput Shape          \u001b[0m\u001b[1m \u001b[0m┃\u001b[1m \u001b[0m\u001b[1m      Param #\u001b[0m\u001b[1m \u001b[0m┃\n",
              "┡━━━━━━━━━━━━━━━━━━━━━━━━━━━━━━━━━╇━━━━━━━━━━━━━━━━━━━━━━━━╇━━━━━━━━━━━━━━━┩\n",
              "│ lstm_14 (\u001b[38;5;33mLSTM\u001b[0m)                  │ (\u001b[38;5;45mNone\u001b[0m, \u001b[38;5;34m30\u001b[0m, \u001b[38;5;34m50\u001b[0m)         │        \u001b[38;5;34m15,600\u001b[0m │\n",
              "├─────────────────────────────────┼────────────────────────┼───────────────┤\n",
              "│ dropout_14 (\u001b[38;5;33mDropout\u001b[0m)            │ (\u001b[38;5;45mNone\u001b[0m, \u001b[38;5;34m30\u001b[0m, \u001b[38;5;34m50\u001b[0m)         │             \u001b[38;5;34m0\u001b[0m │\n",
              "├─────────────────────────────────┼────────────────────────┼───────────────┤\n",
              "│ lstm_15 (\u001b[38;5;33mLSTM\u001b[0m)                  │ (\u001b[38;5;45mNone\u001b[0m, \u001b[38;5;34m50\u001b[0m)             │        \u001b[38;5;34m20,200\u001b[0m │\n",
              "├─────────────────────────────────┼────────────────────────┼───────────────┤\n",
              "│ dropout_15 (\u001b[38;5;33mDropout\u001b[0m)            │ (\u001b[38;5;45mNone\u001b[0m, \u001b[38;5;34m50\u001b[0m)             │             \u001b[38;5;34m0\u001b[0m │\n",
              "├─────────────────────────────────┼────────────────────────┼───────────────┤\n",
              "│ dense_7 (\u001b[38;5;33mDense\u001b[0m)                 │ (\u001b[38;5;45mNone\u001b[0m, \u001b[38;5;34m1\u001b[0m)              │            \u001b[38;5;34m51\u001b[0m │\n",
              "└─────────────────────────────────┴────────────────────────┴───────────────┘\n"
            ]
          },
          "metadata": {},
          "output_type": "display_data"
        },
        {
          "data": {
            "text/html": [
              "<pre style=\"white-space:pre;overflow-x:auto;line-height:normal;font-family:Menlo,'DejaVu Sans Mono',consolas,'Courier New',monospace\"><span style=\"font-weight: bold\"> Total params: </span><span style=\"color: #00af00; text-decoration-color: #00af00\">107,555</span> (420.14 KB)\n",
              "</pre>\n"
            ],
            "text/plain": [
              "\u001b[1m Total params: \u001b[0m\u001b[38;5;34m107,555\u001b[0m (420.14 KB)\n"
            ]
          },
          "metadata": {},
          "output_type": "display_data"
        },
        {
          "data": {
            "text/html": [
              "<pre style=\"white-space:pre;overflow-x:auto;line-height:normal;font-family:Menlo,'DejaVu Sans Mono',consolas,'Courier New',monospace\"><span style=\"font-weight: bold\"> Trainable params: </span><span style=\"color: #00af00; text-decoration-color: #00af00\">35,851</span> (140.04 KB)\n",
              "</pre>\n"
            ],
            "text/plain": [
              "\u001b[1m Trainable params: \u001b[0m\u001b[38;5;34m35,851\u001b[0m (140.04 KB)\n"
            ]
          },
          "metadata": {},
          "output_type": "display_data"
        },
        {
          "data": {
            "text/html": [
              "<pre style=\"white-space:pre;overflow-x:auto;line-height:normal;font-family:Menlo,'DejaVu Sans Mono',consolas,'Courier New',monospace\"><span style=\"font-weight: bold\"> Non-trainable params: </span><span style=\"color: #00af00; text-decoration-color: #00af00\">0</span> (0.00 B)\n",
              "</pre>\n"
            ],
            "text/plain": [
              "\u001b[1m Non-trainable params: \u001b[0m\u001b[38;5;34m0\u001b[0m (0.00 B)\n"
            ]
          },
          "metadata": {},
          "output_type": "display_data"
        },
        {
          "data": {
            "text/html": [
              "<pre style=\"white-space:pre;overflow-x:auto;line-height:normal;font-family:Menlo,'DejaVu Sans Mono',consolas,'Courier New',monospace\"><span style=\"font-weight: bold\"> Optimizer params: </span><span style=\"color: #00af00; text-decoration-color: #00af00\">71,704</span> (280.10 KB)\n",
              "</pre>\n"
            ],
            "text/plain": [
              "\u001b[1m Optimizer params: \u001b[0m\u001b[38;5;34m71,704\u001b[0m (280.10 KB)\n"
            ]
          },
          "metadata": {},
          "output_type": "display_data"
        }
      ],
      "source": [
        "# model = load_model(model_path)\n",
        "\n",
        "model.summary()"
      ]
    },
    {
      "cell_type": "code",
      "execution_count": 56,
      "metadata": {},
      "outputs": [
        {
          "name": "stdout",
          "output_type": "stream",
          "text": [
            "연속형 변수: ['전용면적', '층', '건축년도', 'target', 'is_test', 'x', 'y', '거래취소여부', '거래일건물연식', '강남여부', '신축여부', '건축면적', '연면적', '대지면적', '건폐율', '용적율', '평균층수', 'index', '기준금리', '면적분류', '1m이동평균', '3m이동평균', '6m이동평균', '30d_trades', 'day_trades']\n",
            "범주형 변수: ['주소', '구', '동', '계약년월']\n"
          ]
        }
      ],
      "source": [
        "# 먼저, 연속형 변수와 범주형 변수를 위 info에 따라 분리해주겠습니다.\n",
        "continuous_columns = []\n",
        "categorical_columns = []\n",
        "\n",
        "for column in concat.columns:\n",
        "    if pd.api.types.is_numeric_dtype(concat[column]):\n",
        "        continuous_columns.append(column)\n",
        "    else:\n",
        "        categorical_columns.append(column)\n",
        "\n",
        "print(\"연속형 변수:\", continuous_columns)\n",
        "print(\"범주형 변수:\", categorical_columns)\n",
        "\n",
        "concat_select = concat"
      ]
    },
    {
      "cell_type": "code",
      "execution_count": 17,
      "metadata": {
        "colab": {
          "base_uri": "https://localhost:8080/"
        },
        "id": "9E__0jEyyXIA",
        "outputId": "ffb3cc6e-d337-4ed6-96d1-ddf96dc97449"
      },
      "outputs": [
        {
          "name": "stdout",
          "output_type": "stream",
          "text": [
            "(1074321, 28) (9272, 28)\n"
          ]
        }
      ],
      "source": [
        "# 이제 다시 train과 test dataset을 분할해줍니다. 위에서 제작해 놓았던 is_test 칼럼을 이용합니다.\n",
        "dt_train = concat_select.query('is_test==0')\n",
        "dt_test = concat_select.query('is_test==1')\n",
        "\n",
        "# 이제 is_test 칼럼은 drop해줍니다.\n",
        "dt_train.drop(['is_test'], axis = 1, inplace=True)\n",
        "dt_test.drop(['is_test'], axis = 1, inplace=True)\n",
        "print(dt_train.shape, dt_test.shape)\n",
        "\n",
        "# dt_test의 target은 일단 0으로 임의로 채워주도록 하겠습니다.\n",
        "dt_test['target'] = 0"
      ]
    },
    {
      "cell_type": "code",
      "execution_count": 19,
      "metadata": {},
      "outputs": [],
      "source": [
        "dt_test1 = dt_test\n",
        "dt_train1 = dt_train"
      ]
    },
    {
      "cell_type": "code",
      "execution_count": 55,
      "metadata": {},
      "outputs": [
        {
          "name": "stdout",
          "output_type": "stream",
          "text": [
            "(8838, 26) (984608, 26)\n"
          ]
        }
      ],
      "source": [
        "# rmse를 구해 정확한 성능평가를 위해 dt_train의 최근3개월을 나누어 dt_test1을 만들고 dt_train1은 나머지값으로 두고 이를 이용해 학습시킴\n",
        "dt_train['계약년월'] = pd.to_datetime(dt_train['계약년월'], format='%Y%m')\n",
        "\n",
        "three_months_ago = dt_train['계약년월'].max() - pd.DateOffset(months=3)\n",
        "dt_test1 = dt_train[dt_train['계약년월'] > three_months_ago]\n",
        "dt_train1 = dt_train[dt_train['계약년월'] <= three_months_ago]\n",
        "\n",
        "dt_train1['계약년월'] = dt_train1['계약년월'].astype(str)\n",
        "dt_test1['계약년월'] = dt_test1['계약년월'].astype(str)\n",
        "\n",
        "print(dt_test1.shape, dt_train1.shape)\n",
        "\n",
        "dt_test1_val = dt_test1['target']"
      ]
    },
    {
      "cell_type": "code",
      "execution_count": 20,
      "metadata": {
        "colab": {
          "base_uri": "https://localhost:8080/"
        },
        "id": "yCW2dTz12VMZ",
        "outputId": "5c81b9e1-0462-421e-cb77-6b056532e5cd"
      },
      "outputs": [
        {
          "name": "stdout",
          "output_type": "stream",
          "text": [
            "연속형 변수: ['전용면적', '층', '건축년도', 'target', 'x', 'y', '거래취소여부', '거래일건물연식', '강남여부', '신축여부', '건축면적', '연면적', '대지면적', '건폐율', '용적율', '평균층수', 'index', '기준금리', '면적분류', '1m이동평균', '3m이동평균', '6m이동평균', '30d_trades', 'day_trades']\n",
            "범주형 변수: ['주소', '구', '동', '계약년월']\n"
          ]
        },
        {
          "name": "stderr",
          "output_type": "stream",
          "text": [
            "100%|██████████| 4/4 [00:01<00:00,  3.52it/s]\n"
          ]
        }
      ],
      "source": [
        "# 파생변수 제작으로 추가된 변수들이 존재하기에, 다시한번 연속형과 범주형 칼럼을 분리해주겠습니다.\n",
        "continuous_columns_v2 = []\n",
        "categorical_columns_v2 = []\n",
        "\n",
        "for column in dt_train1.columns:\n",
        "    if pd.api.types.is_numeric_dtype(dt_train1[column]):\n",
        "        continuous_columns_v2.append(column)\n",
        "    else:\n",
        "        categorical_columns_v2.append(column)\n",
        "\n",
        "print(\"연속형 변수:\", continuous_columns_v2)\n",
        "print(\"범주형 변수:\", categorical_columns_v2)\n",
        "\n",
        "# 아래에서 범주형 변수들을 대상으로 레이블인코딩을 진행해 주겠습니다.\n",
        "\n",
        "# 각 변수에 대한 LabelEncoder를 저장할 딕셔너리\n",
        "label_encoders = {}\n",
        "\n",
        "# Implement Label Encoding\n",
        "for col in tqdm( categorical_columns ):\n",
        "    lbl = LabelEncoder()\n",
        "\n",
        "    # Label-Encoding을 fit\n",
        "    lbl.fit( dt_train1[col].astype(str) )\n",
        "    dt_train1[col] = lbl.transform(dt_train1[col].astype(str))\n",
        "    label_encoders[col] = lbl           # 나중에 후처리를 위해 레이블인코더를 저장해주겠습니다.\n",
        "\n",
        "    # Test 데이터에만 존재하는 새로 출현한 데이터를 신규 클래스로 추가해줍니다.\n",
        "    for label in np.unique(dt_test1[col]):\n",
        "      if label not in lbl.classes_: # unseen label 데이터인 경우\n",
        "        lbl.classes_ = np.append(lbl.classes_, label) # 미처리 시 ValueError발생하니 주의하세요!\n",
        "\n",
        "    dt_test1[col] = lbl.transform(dt_test1[col].astype(str))"
      ]
    },
    {
      "cell_type": "code",
      "execution_count": 21,
      "metadata": {},
      "outputs": [],
      "source": [
        "from sklearn.model_selection import TimeSeriesSplit"
      ]
    },
    {
      "cell_type": "code",
      "execution_count": 22,
      "metadata": {},
      "outputs": [],
      "source": [
        "assert dt_train1.shape[1] == dt_test1.shape[1] \n",
        "\n",
        "# Target과 독립변수들을 분리합니다.\n",
        "y_train = dt_train1['target']\n",
        "X_train = dt_train1.drop(['target'], axis=1)\n",
        "\n",
        "# TimeSeriesSplit\n",
        "tscv = TimeSeriesSplit(n_splits=5)\n",
        "\n",
        "# TimeSeriesSplit을 통해 학습/검증 데이터로 나눔\n",
        "for train_index, val_index in tscv.split(X_train):\n",
        "    X_train_1, X_val_1 = X_train.iloc[train_index], X_train.iloc[val_index]\n",
        "    y_train_1, y_val_1 = y_train.iloc[train_index], y_train.iloc[val_index]"
      ]
    },
    {
      "cell_type": "code",
      "execution_count": 23,
      "metadata": {},
      "outputs": [],
      "source": [
        "#  XGBoost 사용\n",
        "\n",
        "import xgboost as xgb"
      ]
    },
    {
      "cell_type": "code",
      "execution_count": 24,
      "metadata": {},
      "outputs": [],
      "source": [
        "model = xgb.XGBRegressor(objective='reg:squarederror', \n",
        "                         n_estimators=1000,  \n",
        "                         learning_rate=0.1,  \n",
        "                         max_depth=10,\n",
        "                         random_state=1)\n",
        "\n",
        "model.fit(X_train_1, y_train_1)\n",
        "\n",
        "pred = model.predict(X_val_1)\n",
        "\n"
      ]
    },
    {
      "cell_type": "code",
      "execution_count": 25,
      "metadata": {},
      "outputs": [],
      "source": [
        "y_val_2 = y_val_1 * X_val_1['전용면적']\n",
        "pred_2 = pred * X_val_1['전용면적']"
      ]
    },
    {
      "cell_type": "code",
      "execution_count": 27,
      "metadata": {},
      "outputs": [
        {
          "name": "stdout",
          "output_type": "stream",
          "text": [
            "RMSE test: 27069.816263767923\n"
          ]
        }
      ],
      "source": [
        "# 회귀 관련 metric을 통해 train/valid의 모델 적합 결과를 관찰합니다.\n",
        "print(f'RMSE test: {np.sqrt(metrics.mean_squared_error(y_val_2, pred_2))}')"
      ]
    },
    {
      "cell_type": "markdown",
      "metadata": {
        "id": "4jhh_fZ0DHOd"
      },
      "source": [
        "- 변수 중요도도 확인해보도록 하겠습니다."
      ]
    },
    {
      "cell_type": "code",
      "execution_count": null,
      "metadata": {},
      "outputs": [],
      "source": [
        "xgb.plot_importance(model)\n",
        "plt.show()"
      ]
    },
    {
      "cell_type": "code",
      "execution_count": 26,
      "metadata": {},
      "outputs": [
        {
          "data": {
            "image/png": "[encoded data removed]",
            "text/plain": [
              "<Figure size 640x480 with 1 Axes>"
            ]
          },
          "metadata": {},
          "output_type": "display_data"
        }
      ],
      "source": [
        "xgb.plot_importance(model, importance_type='gain')\n",
        "plt.show()"
      ]
    },
    {
      "cell_type": "code",
      "execution_count": null,
      "metadata": {},
      "outputs": [],
      "source": [
        "xgb.plot_importance(model, importance_type='total_cover')\n",
        "plt.show()\n"
      ]
    },
    {
      "cell_type": "code",
      "execution_count": null,
      "metadata": {
        "colab": {
          "base_uri": "https://localhost:8080/",
          "height": 698
        },
        "id": "VbgCRxFgdFQb",
        "outputId": "f9114f72-78e1-471c-fc0b-ba5b8b6b6d2f"
      },
      "outputs": [],
      "source": [
        "# 위 feature importance를 시각화해봅니다.\n",
        "importances = pd.Series(model.feature_importances_, index=list(X_train.columns))\n",
        "importances = importances.sort_values(ascending=False)\n",
        "\n",
        "plt.figure(figsize=(10,8))\n",
        "plt.title(\"Feature Importances\")\n",
        "sns.barplot(x=importances, y=importances.index)\n",
        "plt.show()"
      ]
    },
    {
      "cell_type": "code",
      "execution_count": 28,
      "metadata": {
        "id": "vycdrTEAa2va"
      },
      "outputs": [],
      "source": [
        "# 학습된 모델을 저장합니다. Pickle 라이브러리를 이용하겠습니다.\n",
        "with open('./temp/saved_model.pkl', 'wb') as f:\n",
        "    pickle.dump(model, f)"
      ]
    },
    {
      "cell_type": "markdown",
      "metadata": {
        "id": "jOVbJ3KWgBTC"
      },
      "source": [
        "### 5.3. Feature selection"
      ]
    },
    {
      "cell_type": "markdown",
      "metadata": {
        "id": "0Qp7gLG3CfgJ"
      },
      "source": [
        "- 어떤 변수가 유용한 변수인지 확인해보기 위해 permutation selection을 이용해보겠습니다."
      ]
    },
    {
      "cell_type": "code",
      "execution_count": 18,
      "metadata": {
        "colab": {
          "base_uri": "https://localhost:8080/",
          "height": 399
        },
        "id": "bWucmvKrf-tq",
        "outputId": "016c2fae-320b-4778-efb9-799b5cf695b0"
      },
      "outputs": [
        {
          "data": {
            "text/html": [
              "\n",
              "    <style>\n",
              "    table.eli5-weights tr:hover {\n",
              "        filter: brightness(85%);\n",
              "    }\n",
              "</style>\n",
              "\n",
              "\n",
              "\n",
              "    \n",
              "\n",
              "    \n",
              "\n",
              "    \n",
              "\n",
              "    \n",
              "\n",
              "    \n",
              "\n",
              "    \n",
              "\n",
              "\n",
              "    \n",
              "\n",
              "    \n",
              "\n",
              "    \n",
              "\n",
              "    \n",
              "\n",
              "    \n",
              "\n",
              "    \n",
              "\n",
              "\n",
              "    \n",
              "\n",
              "    \n",
              "\n",
              "    \n",
              "\n",
              "    \n",
              "\n",
              "    \n",
              "        <table class=\"eli5-weights eli5-feature-importances\" style=\"border-collapse: collapse; border: none; margin-top: 0em; table-layout: auto;\">\n",
              "    <thead>\n",
              "    <tr style=\"border: none;\">\n",
              "        <th style=\"padding: 0 1em 0 0.5em; text-align: right; border: none;\">Weight</th>\n",
              "        <th style=\"padding: 0 0.5em 0 0.5em; text-align: left; border: none;\">Feature</th>\n",
              "    </tr>\n",
              "    </thead>\n",
              "    <tbody>\n",
              "    \n",
              "        <tr style=\"background-color: hsl(120, 100.00%, 80.00%); border: none;\">\n",
              "            <td style=\"padding: 0 1em 0 0.5em; text-align: right; border: none;\">\n",
              "                152457.7358\n",
              "                \n",
              "                    &plusmn; 1336.7895\n",
              "                \n",
              "            </td>\n",
              "            <td style=\"padding: 0 0.5em 0 0.5em; text-align: left; border: none;\">\n",
              "                y\n",
              "            </td>\n",
              "        </tr>\n",
              "    \n",
              "        <tr style=\"background-color: hsl(120, 100.00%, 85.68%); border: none;\">\n",
              "            <td style=\"padding: 0 1em 0 0.5em; text-align: right; border: none;\">\n",
              "                94632.0826\n",
              "                \n",
              "                    &plusmn; 1179.6853\n",
              "                \n",
              "            </td>\n",
              "            <td style=\"padding: 0 0.5em 0 0.5em; text-align: left; border: none;\">\n",
              "                구\n",
              "            </td>\n",
              "        </tr>\n",
              "    \n",
              "        <tr style=\"background-color: hsl(120, 100.00%, 88.27%); border: none;\">\n",
              "            <td style=\"padding: 0 1em 0 0.5em; text-align: right; border: none;\">\n",
              "                71107.7857\n",
              "                \n",
              "                    &plusmn; 1803.3000\n",
              "                \n",
              "            </td>\n",
              "            <td style=\"padding: 0 0.5em 0 0.5em; text-align: left; border: none;\">\n",
              "                x\n",
              "            </td>\n",
              "        </tr>\n",
              "    \n",
              "        <tr style=\"background-color: hsl(120, 100.00%, 89.91%); border: none;\">\n",
              "            <td style=\"padding: 0 1em 0 0.5em; text-align: right; border: none;\">\n",
              "                57362.0586\n",
              "                \n",
              "                    &plusmn; 428.2713\n",
              "                \n",
              "            </td>\n",
              "            <td style=\"padding: 0 0.5em 0 0.5em; text-align: left; border: none;\">\n",
              "                건축년도\n",
              "            </td>\n",
              "        </tr>\n",
              "    \n",
              "        <tr style=\"background-color: hsl(120, 100.00%, 92.56%); border: none;\">\n",
              "            <td style=\"padding: 0 1em 0 0.5em; text-align: right; border: none;\">\n",
              "                37153.7734\n",
              "                \n",
              "                    &plusmn; 364.4511\n",
              "                \n",
              "            </td>\n",
              "            <td style=\"padding: 0 0.5em 0 0.5em; text-align: left; border: none;\">\n",
              "                주소\n",
              "            </td>\n",
              "        </tr>\n",
              "    \n",
              "        <tr style=\"background-color: hsl(120, 100.00%, 94.48%); border: none;\">\n",
              "            <td style=\"padding: 0 1em 0 0.5em; text-align: right; border: none;\">\n",
              "                24220.0074\n",
              "                \n",
              "                    &plusmn; 412.5895\n",
              "                \n",
              "            </td>\n",
              "            <td style=\"padding: 0 0.5em 0 0.5em; text-align: left; border: none;\">\n",
              "                전용면적\n",
              "            </td>\n",
              "        </tr>\n",
              "    \n",
              "        <tr style=\"background-color: hsl(120, 100.00%, 95.61%); border: none;\">\n",
              "            <td style=\"padding: 0 1em 0 0.5em; text-align: right; border: none;\">\n",
              "                17481.7956\n",
              "                \n",
              "                    &plusmn; 94.6453\n",
              "                \n",
              "            </td>\n",
              "            <td style=\"padding: 0 0.5em 0 0.5em; text-align: left; border: none;\">\n",
              "                거래일건물연식\n",
              "            </td>\n",
              "        </tr>\n",
              "    \n",
              "        <tr style=\"background-color: hsl(120, 100.00%, 96.26%); border: none;\">\n",
              "            <td style=\"padding: 0 1em 0 0.5em; text-align: right; border: none;\">\n",
              "                13875.7795\n",
              "                \n",
              "                    &plusmn; 126.0001\n",
              "                \n",
              "            </td>\n",
              "            <td style=\"padding: 0 0.5em 0 0.5em; text-align: left; border: none;\">\n",
              "                연면적\n",
              "            </td>\n",
              "        </tr>\n",
              "    \n",
              "        <tr style=\"background-color: hsl(120, 100.00%, 97.59%); border: none;\">\n",
              "            <td style=\"padding: 0 1em 0 0.5em; text-align: right; border: none;\">\n",
              "                7418.0388\n",
              "                \n",
              "                    &plusmn; 190.7227\n",
              "                \n",
              "            </td>\n",
              "            <td style=\"padding: 0 0.5em 0 0.5em; text-align: left; border: none;\">\n",
              "                대지면적\n",
              "            </td>\n",
              "        </tr>\n",
              "    \n",
              "        <tr style=\"background-color: hsl(120, 100.00%, 98.02%); border: none;\">\n",
              "            <td style=\"padding: 0 1em 0 0.5em; text-align: right; border: none;\">\n",
              "                5594.7302\n",
              "                \n",
              "                    &plusmn; 179.9437\n",
              "                \n",
              "            </td>\n",
              "            <td style=\"padding: 0 0.5em 0 0.5em; text-align: left; border: none;\">\n",
              "                동\n",
              "            </td>\n",
              "        </tr>\n",
              "    \n",
              "        <tr style=\"background-color: hsl(120, 100.00%, 98.25%); border: none;\">\n",
              "            <td style=\"padding: 0 1em 0 0.5em; text-align: right; border: none;\">\n",
              "                4703.6982\n",
              "                \n",
              "                    &plusmn; 52.7592\n",
              "                \n",
              "            </td>\n",
              "            <td style=\"padding: 0 0.5em 0 0.5em; text-align: left; border: none;\">\n",
              "                평균층수\n",
              "            </td>\n",
              "        </tr>\n",
              "    \n",
              "        <tr style=\"background-color: hsl(120, 100.00%, 98.32%); border: none;\">\n",
              "            <td style=\"padding: 0 1em 0 0.5em; text-align: right; border: none;\">\n",
              "                4433.6742\n",
              "                \n",
              "                    &plusmn; 68.2604\n",
              "                \n",
              "            </td>\n",
              "            <td style=\"padding: 0 0.5em 0 0.5em; text-align: left; border: none;\">\n",
              "                건축면적\n",
              "            </td>\n",
              "        </tr>\n",
              "    \n",
              "        <tr style=\"background-color: hsl(120, 100.00%, 98.53%); border: none;\">\n",
              "            <td style=\"padding: 0 1em 0 0.5em; text-align: right; border: none;\">\n",
              "                3662.9008\n",
              "                \n",
              "                    &plusmn; 84.1732\n",
              "                \n",
              "            </td>\n",
              "            <td style=\"padding: 0 0.5em 0 0.5em; text-align: left; border: none;\">\n",
              "                층\n",
              "            </td>\n",
              "        </tr>\n",
              "    \n",
              "        <tr style=\"background-color: hsl(120, 100.00%, 98.87%); border: none;\">\n",
              "            <td style=\"padding: 0 1em 0 0.5em; text-align: right; border: none;\">\n",
              "                2502.7399\n",
              "                \n",
              "                    &plusmn; 84.0382\n",
              "                \n",
              "            </td>\n",
              "            <td style=\"padding: 0 0.5em 0 0.5em; text-align: left; border: none;\">\n",
              "                건폐율\n",
              "            </td>\n",
              "        </tr>\n",
              "    \n",
              "        <tr style=\"background-color: hsl(120, 100.00%, 99.00%); border: none;\">\n",
              "            <td style=\"padding: 0 1em 0 0.5em; text-align: right; border: none;\">\n",
              "                2111.3333\n",
              "                \n",
              "                    &plusmn; 85.2393\n",
              "                \n",
              "            </td>\n",
              "            <td style=\"padding: 0 0.5em 0 0.5em; text-align: left; border: none;\">\n",
              "                용적율\n",
              "            </td>\n",
              "        </tr>\n",
              "    \n",
              "        <tr style=\"background-color: hsl(120, 100.00%, 99.66%); border: none;\">\n",
              "            <td style=\"padding: 0 1em 0 0.5em; text-align: right; border: none;\">\n",
              "                447.6473\n",
              "                \n",
              "                    &plusmn; 19.3678\n",
              "                \n",
              "            </td>\n",
              "            <td style=\"padding: 0 0.5em 0 0.5em; text-align: left; border: none;\">\n",
              "                면적분류\n",
              "            </td>\n",
              "        </tr>\n",
              "    \n",
              "        <tr style=\"background-color: hsl(120, 100.00%, 99.81%); border: none;\">\n",
              "            <td style=\"padding: 0 1em 0 0.5em; text-align: right; border: none;\">\n",
              "                198.1838\n",
              "                \n",
              "                    &plusmn; 12.7479\n",
              "                \n",
              "            </td>\n",
              "            <td style=\"padding: 0 0.5em 0 0.5em; text-align: left; border: none;\">\n",
              "                1m이동평균\n",
              "            </td>\n",
              "        </tr>\n",
              "    \n",
              "        <tr style=\"background-color: hsl(120, 100.00%, 99.82%); border: none;\">\n",
              "            <td style=\"padding: 0 1em 0 0.5em; text-align: right; border: none;\">\n",
              "                188.8700\n",
              "                \n",
              "                    &plusmn; 78.6883\n",
              "                \n",
              "            </td>\n",
              "            <td style=\"padding: 0 0.5em 0 0.5em; text-align: left; border: none;\">\n",
              "                강남여부\n",
              "            </td>\n",
              "        </tr>\n",
              "    \n",
              "        <tr style=\"background-color: hsl(120, 100.00%, 99.87%); border: none;\">\n",
              "            <td style=\"padding: 0 1em 0 0.5em; text-align: right; border: none;\">\n",
              "                118.4097\n",
              "                \n",
              "                    &plusmn; 25.3398\n",
              "                \n",
              "            </td>\n",
              "            <td style=\"padding: 0 0.5em 0 0.5em; text-align: left; border: none;\">\n",
              "                day_price\n",
              "            </td>\n",
              "        </tr>\n",
              "    \n",
              "        <tr style=\"background-color: hsl(120, 100.00%, 99.94%); border: none;\">\n",
              "            <td style=\"padding: 0 1em 0 0.5em; text-align: right; border: none;\">\n",
              "                34.3117\n",
              "                \n",
              "                    &plusmn; 8.2712\n",
              "                \n",
              "            </td>\n",
              "            <td style=\"padding: 0 0.5em 0 0.5em; text-align: left; border: none;\">\n",
              "                month_price\n",
              "            </td>\n",
              "        </tr>\n",
              "    \n",
              "    \n",
              "        \n",
              "            <tr style=\"background-color: hsl(120, 100.00%, 99.94%); border: none;\">\n",
              "                <td colspan=\"2\" style=\"padding: 0 0.5em 0 0.5em; text-align: center; border: none; white-space: nowrap;\">\n",
              "                    <i>&hellip; 10 more &hellip;</i>\n",
              "                </td>\n",
              "            </tr>\n",
              "        \n",
              "    \n",
              "    </tbody>\n",
              "</table>\n",
              "    \n",
              "\n",
              "    \n",
              "\n",
              "\n",
              "    \n",
              "\n",
              "    \n",
              "\n",
              "    \n",
              "\n",
              "    \n",
              "\n",
              "    \n",
              "\n",
              "    \n",
              "\n",
              "\n",
              "\n"
            ],
            "text/plain": [
              "<IPython.core.display.HTML object>"
            ]
          },
          "execution_count": 18,
          "metadata": {},
          "output_type": "execute_result"
        }
      ],
      "source": [
        "# Permutation importance 방법을 변수 선택에 이용해보겠습니다.\n",
        "perm = PermutationImportance(model,        # 위에서 학습된 모델을 이용하겠습니다.\n",
        "                             scoring = \"neg_mean_squared_error\",        # 평가 지표로는 회귀문제이기에 negative rmse를 사용합니다. (neg_mean_squared_error : 음의 평균 제곱 오차)\n",
        "                             random_state = 42,\n",
        "                             n_iter=3).fit(X_val_1, y_val_1)\n",
        "eli5.show_weights(perm, feature_names = X_val_1.columns.tolist())    # valid data에 대해 적합시킵니다."
      ]
    },
    {
      "cell_type": "markdown",
      "metadata": {
        "id": "8GbMRUxyCmWC"
      },
      "source": [
        "- 분석 결과 \"계약년\", \"전용면적\" 변수가 유의한 변수로 보입니다. 따라서 이 변수로 또 다른 파생변수를 더 생성해보거나, 중요도가 낮아보이는 변수를 제거해 차원의 저주를 막아볼 수도 있습니다."
      ]
    },
    {
      "cell_type": "markdown",
      "metadata": {
        "id": "YncDzsK1zl2w"
      },
      "source": [
        "### 5.4. Valid prediction 분석"
      ]
    },
    {
      "cell_type": "markdown",
      "metadata": {
        "id": "iQS1Fno2C-1R"
      },
      "source": [
        "- 예측값을 분석해보기 위해 valid prediction을 확인해보겠습니다."
      ]
    },
    {
      "cell_type": "code",
      "execution_count": null,
      "metadata": {
        "id": "_xViv0o6DXQ-"
      },
      "outputs": [],
      "source": [
        "# Validation dataset에 target과 pred 값을 채워주도록 하겠습니다.\n",
        "X_val['target'] = y_val\n",
        "X_val['pred'] = pred"
      ]
    },
    {
      "cell_type": "code",
      "execution_count": null,
      "metadata": {
        "id": "-D8NCLkWC-g6"
      },
      "outputs": [],
      "source": [
        "# Squared_error를 계산하는 함수를 정의하겠습니다.\n",
        "def calculate_se(target, pred):\n",
        "    squared_errors = (target - pred) ** 2\n",
        "    return squared_errors\n",
        "\n",
        "# RMSE 계산\n",
        "squared_errors = calculate_se(X_val['target'], X_val['pred'])\n",
        "X_val['error'] = squared_errors"
      ]
    },
    {
      "cell_type": "code",
      "execution_count": null,
      "metadata": {
        "id": "fXbdC7b9HDDQ"
      },
      "outputs": [],
      "source": [
        "# Error가 큰 순서대로 sorting 해 보겠습니다.\n",
        "X_val_sort = X_val.sort_values(by='error', ascending=False)       # 내림차순 sorting"
      ]
    },
    {
      "cell_type": "code",
      "execution_count": null,
      "metadata": {
        "colab": {
          "base_uri": "https://localhost:8080/",
          "height": 287
        },
        "id": "gOc8HmvDHhz8",
        "outputId": "17e408cb-9533-4d3b-baf6-245de0ae1a43"
      },
      "outputs": [],
      "source": [
        "X_val_sort.head()"
      ]
    },
    {
      "cell_type": "markdown",
      "metadata": {
        "id": "Mms3pe564O6v"
      },
      "source": [
        "- 예측을 잘 하지 못한 top 100개의 데이터와 예측을 잘한 top 100개의 데이터를 비교해보겠습니다."
      ]
    },
    {
      "cell_type": "code",
      "execution_count": null,
      "metadata": {
        "id": "xxEferiRIM8A"
      },
      "outputs": [],
      "source": [
        "X_val_sort_top100 = X_val.sort_values(by='error', ascending=False).head(100)        # 예측을 잘 하지못한 top 100개의 data\n",
        "X_val_sort_tail100 = X_val.sort_values(by='error', ascending=False).tail(100)       # 예측을 잘한 top 100개의 data"
      ]
    },
    {
      "cell_type": "code",
      "execution_count": null,
      "metadata": {
        "id": "JPt_LNqW3TZ2"
      },
      "outputs": [],
      "source": [
        "# 해석을 위해 레이블인코딩 된 변수를 복원해줍니다.\n",
        "error_top100 = X_val_sort_top100.copy()\n",
        "for column in categorical_columns_v2 :     # 앞서 레이블 인코딩에서 정의했던 categorical_columns_v2 범주형 변수 리스트를 사용합니다.\n",
        "    error_top100[column] = label_encoders[column].inverse_transform(X_val_sort_top100[column])\n",
        "\n",
        "best_top100 = X_val_sort_tail100.copy()\n",
        "for column in categorical_columns_v2 :     # 앞서 레이블 인코딩에서 정의했던 categorical_columns_v2 범주형 변수 리스트를 사용합니다.\n",
        "    best_top100[column] = label_encoders[column].inverse_transform(X_val_sort_tail100[column])"
      ]
    },
    {
      "cell_type": "code",
      "execution_count": null,
      "metadata": {
        "colab": {
          "base_uri": "https://localhost:8080/",
          "height": 358
        },
        "id": "Rlo-K31L3PEQ",
        "outputId": "f009d0e0-0224-46eb-de2d-3eff99a2dbd0"
      },
      "outputs": [],
      "source": [
        "display(error_top100.head(1))\n",
        "display(best_top100.head(1))"
      ]
    },
    {
      "cell_type": "markdown",
      "metadata": {
        "id": "K6gnHzd55c6f"
      },
      "source": [
        "- 이제 분포를 비교해보도록 하겠습니다."
      ]
    },
    {
      "cell_type": "code",
      "execution_count": null,
      "metadata": {
        "colab": {
          "base_uri": "https://localhost:8080/",
          "height": 925
        },
        "id": "SyJJoEiu4kes",
        "outputId": "afd5876f-264e-4ad1-d2bf-cb400819c794"
      },
      "outputs": [],
      "source": [
        "sns.boxplot(data = error_top100, x='target')\n",
        "plt.title('The worst top100 prediction의 target 분포')\n",
        "plt.show()\n",
        "\n",
        "sns.boxplot(data = best_top100, x='target', color='orange')\n",
        "plt.title('The best top100 prediction의 target 분포')\n",
        "plt.show()"
      ]
    },
    {
      "cell_type": "markdown",
      "metadata": {
        "id": "gWnF219657Lc"
      },
      "source": [
        "- Taget 분포를 보니 좋은 예측을 보인 top 100개의 data보다 상대적으로 나쁜 예측을 보인 top 100 dataset들이 높은 가격을 보였음을 확인할 수 있습니다. 이에 대한 모델링 및 처리가 필요해보입니다."
      ]
    },
    {
      "cell_type": "code",
      "execution_count": null,
      "metadata": {
        "colab": {
          "base_uri": "https://localhost:8080/",
          "height": 471
        },
        "id": "qOhsS3Cr6IuH",
        "outputId": "462592ff-31b6-4300-9edb-cbec64054deb"
      },
      "outputs": [],
      "source": [
        "sns.histplot(data = error_top100, x='전용면적', alpha=0.5)\n",
        "sns.histplot(data = best_top100, x='전용면적', color='orange', alpha=0.5)\n",
        "plt.title('전용면적 분포 비교')\n",
        "plt.show()"
      ]
    },
    {
      "cell_type": "markdown",
      "metadata": {
        "id": "XsMOOYc16jU8"
      },
      "source": [
        "- 전용면적 또한 나쁜 예측을 보인 집들이 더 넓음을 확인할 수 있습니다."
      ]
    },
    {
      "cell_type": "markdown",
      "metadata": {
        "id": "F0Ga4ljBNYIy"
      },
      "source": [
        "## 6. Inference"
      ]
    },
    {
      "cell_type": "code",
      "execution_count": 80,
      "metadata": {
        "colab": {
          "base_uri": "https://localhost:8080/",
          "height": 158
        },
        "id": "7LC7NuRaD_Dd",
        "outputId": "c2827163-dbdd-4c8c-d35b-1c325b8d14c0"
      },
      "outputs": [
        {
          "data": {
            "text/html": [
              "<div>\n",
              "<style scoped>\n",
              "    .dataframe tbody tr th:only-of-type {\n",
              "        vertical-align: middle;\n",
              "    }\n",
              "\n",
              "    .dataframe tbody tr th {\n",
              "        vertical-align: top;\n",
              "    }\n",
              "\n",
              "    .dataframe thead th {\n",
              "        text-align: right;\n",
              "    }\n",
              "</style>\n",
              "<table border=\"1\" class=\"dataframe\">\n",
              "  <thead>\n",
              "    <tr style=\"text-align: right;\">\n",
              "      <th></th>\n",
              "      <th>번지</th>\n",
              "      <th>본번</th>\n",
              "      <th>부번</th>\n",
              "      <th>전용면적</th>\n",
              "      <th>계약일</th>\n",
              "      <th>층</th>\n",
              "      <th>건축년도</th>\n",
              "      <th>주소</th>\n",
              "      <th>x</th>\n",
              "      <th>y</th>\n",
              "      <th>...</th>\n",
              "      <th>건축면적</th>\n",
              "      <th>연면적</th>\n",
              "      <th>대지면적</th>\n",
              "      <th>건폐율</th>\n",
              "      <th>용적율</th>\n",
              "      <th>평균층수</th>\n",
              "      <th>target</th>\n",
              "      <th>계약년월</th>\n",
              "      <th>기준금리</th>\n",
              "      <th>면적분류</th>\n",
              "    </tr>\n",
              "  </thead>\n",
              "  <tbody>\n",
              "    <tr>\n",
              "      <th>1179487</th>\n",
              "      <td>4284</td>\n",
              "      <td>1115</td>\n",
              "      <td>2</td>\n",
              "      <td>79.9700</td>\n",
              "      <td>26</td>\n",
              "      <td>5</td>\n",
              "      <td>1987</td>\n",
              "      <td>32</td>\n",
              "      <td>127.056841</td>\n",
              "      <td>37.476283</td>\n",
              "      <td>...</td>\n",
              "      <td>4551.3300</td>\n",
              "      <td>22305.9300</td>\n",
              "      <td>171124.438613</td>\n",
              "      <td>297.162458</td>\n",
              "      <td>3139.237949</td>\n",
              "      <td>4.90097</td>\n",
              "      <td>0</td>\n",
              "      <td>198</td>\n",
              "      <td>3.5</td>\n",
              "      <td>3</td>\n",
              "    </tr>\n",
              "    <tr>\n",
              "      <th>1179488</th>\n",
              "      <td>4260</td>\n",
              "      <td>1108</td>\n",
              "      <td>2</td>\n",
              "      <td>108.2017</td>\n",
              "      <td>15</td>\n",
              "      <td>10</td>\n",
              "      <td>2021</td>\n",
              "      <td>25</td>\n",
              "      <td>127.057251</td>\n",
              "      <td>37.484828</td>\n",
              "      <td>...</td>\n",
              "      <td>2706.0317</td>\n",
              "      <td>31893.0189</td>\n",
              "      <td>164008.524870</td>\n",
              "      <td>297.009766</td>\n",
              "      <td>3135.924895</td>\n",
              "      <td>11.78590</td>\n",
              "      <td>0</td>\n",
              "      <td>199</td>\n",
              "      <td>3.5</td>\n",
              "      <td>4</td>\n",
              "    </tr>\n",
              "  </tbody>\n",
              "</table>\n",
              "<p>2 rows × 28 columns</p>\n",
              "</div>"
            ],
            "text/plain": [
              "           번지    본번  부번      전용면적  계약일   층  건축년도  주소           x          y  \\\n",
              "1179487  4284  1115   2   79.9700   26   5  1987  32  127.056841  37.476283   \n",
              "1179488  4260  1108   2  108.2017   15  10  2021  25  127.057251  37.484828   \n",
              "\n",
              "         ...       건축면적         연면적           대지면적         건폐율          용적율  \\\n",
              "1179487  ...  4551.3300  22305.9300  171124.438613  297.162458  3139.237949   \n",
              "1179488  ...  2706.0317  31893.0189  164008.524870  297.009766  3135.924895   \n",
              "\n",
              "             평균층수  target  계약년월  기준금리  면적분류  \n",
              "1179487   4.90097       0   198   3.5     3  \n",
              "1179488  11.78590       0   199   3.5     4  \n",
              "\n",
              "[2 rows x 28 columns]"
            ]
          },
          "execution_count": 80,
          "metadata": {},
          "output_type": "execute_result"
        }
      ],
      "source": [
        "dt_test.head(2)      # test dataset에 대한 inference를 진행해보겠습니다."
      ]
    },
    {
      "cell_type": "code",
      "execution_count": 56,
      "metadata": {},
      "outputs": [
        {
          "data": {
            "text/html": [
              "<div>\n",
              "<style scoped>\n",
              "    .dataframe tbody tr th:only-of-type {\n",
              "        vertical-align: middle;\n",
              "    }\n",
              "\n",
              "    .dataframe tbody tr th {\n",
              "        vertical-align: top;\n",
              "    }\n",
              "\n",
              "    .dataframe thead th {\n",
              "        text-align: right;\n",
              "    }\n",
              "</style>\n",
              "<table border=\"1\" class=\"dataframe\">\n",
              "  <thead>\n",
              "    <tr style=\"text-align: right;\">\n",
              "      <th></th>\n",
              "      <th>시군구</th>\n",
              "      <th>번지</th>\n",
              "      <th>본번</th>\n",
              "      <th>부번</th>\n",
              "      <th>아파트명</th>\n",
              "      <th>전용면적(㎡)</th>\n",
              "      <th>계약년월</th>\n",
              "      <th>계약일</th>\n",
              "      <th>층</th>\n",
              "      <th>건축년도</th>\n",
              "      <th>...</th>\n",
              "      <th>청소비관리형태</th>\n",
              "      <th>건축면적</th>\n",
              "      <th>주차대수</th>\n",
              "      <th>기타/의무/임대/임의=1/2/3/4</th>\n",
              "      <th>단지승인일</th>\n",
              "      <th>사용허가여부</th>\n",
              "      <th>관리비 업로드</th>\n",
              "      <th>좌표X</th>\n",
              "      <th>좌표Y</th>\n",
              "      <th>단지신청일</th>\n",
              "    </tr>\n",
              "  </thead>\n",
              "  <tbody>\n",
              "    <tr>\n",
              "      <th>0</th>\n",
              "      <td>서울특별시 강남구 개포동</td>\n",
              "      <td>658-1</td>\n",
              "      <td>658.0</td>\n",
              "      <td>1.0</td>\n",
              "      <td>개포6차우성</td>\n",
              "      <td>79.9700</td>\n",
              "      <td>202307</td>\n",
              "      <td>26</td>\n",
              "      <td>5</td>\n",
              "      <td>1987</td>\n",
              "      <td>...</td>\n",
              "      <td>직영</td>\n",
              "      <td>4858.00</td>\n",
              "      <td>262.0</td>\n",
              "      <td>임의</td>\n",
              "      <td>2022-11-17 13:00:29.0</td>\n",
              "      <td>Y</td>\n",
              "      <td>N</td>\n",
              "      <td>127.057210</td>\n",
              "      <td>37.476763</td>\n",
              "      <td>2022-11-17 10:19:06.0</td>\n",
              "    </tr>\n",
              "    <tr>\n",
              "      <th>1</th>\n",
              "      <td>서울특별시 강남구 개포동</td>\n",
              "      <td>651-1</td>\n",
              "      <td>651.0</td>\n",
              "      <td>1.0</td>\n",
              "      <td>개포더샵트리에</td>\n",
              "      <td>108.2017</td>\n",
              "      <td>202308</td>\n",
              "      <td>15</td>\n",
              "      <td>10</td>\n",
              "      <td>2021</td>\n",
              "      <td>...</td>\n",
              "      <td>위탁</td>\n",
              "      <td>2724.46</td>\n",
              "      <td>305.0</td>\n",
              "      <td>의무</td>\n",
              "      <td>2022-02-23 13:01:10.0</td>\n",
              "      <td>Y</td>\n",
              "      <td>N</td>\n",
              "      <td>127.056394</td>\n",
              "      <td>37.484892</td>\n",
              "      <td>2022-02-23 11:05:05.0</td>\n",
              "    </tr>\n",
              "  </tbody>\n",
              "</table>\n",
              "<p>2 rows × 51 columns</p>\n",
              "</div>"
            ],
            "text/plain": [
              "             시군구     번지     본번   부번     아파트명   전용면적(㎡)    계약년월  계약일   층  건축년도  \\\n",
              "0  서울특별시 강남구 개포동  658-1  658.0  1.0   개포6차우성   79.9700  202307   26   5  1987   \n",
              "1  서울특별시 강남구 개포동  651-1  651.0  1.0  개포더샵트리에  108.2017  202308   15  10  2021   \n",
              "\n",
              "   ... 청소비관리형태     건축면적   주차대수 기타/의무/임대/임의=1/2/3/4                  단지승인일  \\\n",
              "0  ...      직영  4858.00  262.0                  임의  2022-11-17 13:00:29.0   \n",
              "1  ...      위탁  2724.46  305.0                  의무  2022-02-23 13:01:10.0   \n",
              "\n",
              "  사용허가여부 관리비 업로드         좌표X        좌표Y                  단지신청일  \n",
              "0      Y       N  127.057210  37.476763  2022-11-17 10:19:06.0  \n",
              "1      Y       N  127.056394  37.484892  2022-02-23 11:05:05.0  \n",
              "\n",
              "[2 rows x 51 columns]"
            ]
          },
          "execution_count": 56,
          "metadata": {},
          "output_type": "execute_result"
        }
      ],
      "source": [
        "dt_test1.head(2)"
      ]
    },
    {
      "cell_type": "code",
      "execution_count": 96,
      "metadata": {
        "id": "0HXvn8ZSa1kt"
      },
      "outputs": [],
      "source": [
        "# 저장된 모델을 불러옵니다.\n",
        "with open('./temp/saved_model.pkl', 'rb') as f:\n",
        "    model = pickle.load(f)"
      ]
    },
    {
      "cell_type": "code",
      "execution_count": 97,
      "metadata": {},
      "outputs": [
        {
          "data": {
            "text/plain": [
              "xgboost.sklearn.XGBRegressor"
            ]
          },
          "execution_count": 97,
          "metadata": {},
          "output_type": "execute_result"
        }
      ],
      "source": [
        "type(model)"
      ]
    },
    {
      "cell_type": "code",
      "execution_count": 101,
      "metadata": {},
      "outputs": [
        {
          "data": {
            "text/html": [
              "<div>\n",
              "<style scoped>\n",
              "    .dataframe tbody tr th:only-of-type {\n",
              "        vertical-align: middle;\n",
              "    }\n",
              "\n",
              "    .dataframe tbody tr th {\n",
              "        vertical-align: top;\n",
              "    }\n",
              "\n",
              "    .dataframe thead th {\n",
              "        text-align: right;\n",
              "    }\n",
              "</style>\n",
              "<table border=\"1\" class=\"dataframe\">\n",
              "  <thead>\n",
              "    <tr style=\"text-align: right;\">\n",
              "      <th></th>\n",
              "      <th>번지</th>\n",
              "      <th>본번</th>\n",
              "      <th>부번</th>\n",
              "      <th>전용면적</th>\n",
              "      <th>계약일</th>\n",
              "      <th>층</th>\n",
              "      <th>건축년도</th>\n",
              "      <th>주소</th>\n",
              "      <th>x</th>\n",
              "      <th>y</th>\n",
              "      <th>...</th>\n",
              "      <th>건축면적</th>\n",
              "      <th>연면적</th>\n",
              "      <th>대지면적</th>\n",
              "      <th>건폐율</th>\n",
              "      <th>용적율</th>\n",
              "      <th>평균층수</th>\n",
              "      <th>target</th>\n",
              "      <th>계약년월</th>\n",
              "      <th>기준금리</th>\n",
              "      <th>면적분류</th>\n",
              "    </tr>\n",
              "  </thead>\n",
              "  <tbody>\n",
              "    <tr>\n",
              "      <th>1179487</th>\n",
              "      <td>4284</td>\n",
              "      <td>1115</td>\n",
              "      <td>2</td>\n",
              "      <td>79.9700</td>\n",
              "      <td>26</td>\n",
              "      <td>5</td>\n",
              "      <td>1987</td>\n",
              "      <td>32</td>\n",
              "      <td>127.056841</td>\n",
              "      <td>37.476283</td>\n",
              "      <td>...</td>\n",
              "      <td>4551.3300</td>\n",
              "      <td>22305.9300</td>\n",
              "      <td>171124.438613</td>\n",
              "      <td>297.162458</td>\n",
              "      <td>3139.237949</td>\n",
              "      <td>4.900970</td>\n",
              "      <td>0</td>\n",
              "      <td>198</td>\n",
              "      <td>3.5</td>\n",
              "      <td>3</td>\n",
              "    </tr>\n",
              "    <tr>\n",
              "      <th>1179488</th>\n",
              "      <td>4260</td>\n",
              "      <td>1108</td>\n",
              "      <td>2</td>\n",
              "      <td>108.2017</td>\n",
              "      <td>15</td>\n",
              "      <td>10</td>\n",
              "      <td>2021</td>\n",
              "      <td>25</td>\n",
              "      <td>127.057251</td>\n",
              "      <td>37.484828</td>\n",
              "      <td>...</td>\n",
              "      <td>2706.0317</td>\n",
              "      <td>31893.0189</td>\n",
              "      <td>164008.524870</td>\n",
              "      <td>297.009766</td>\n",
              "      <td>3135.924895</td>\n",
              "      <td>11.785900</td>\n",
              "      <td>0</td>\n",
              "      <td>199</td>\n",
              "      <td>3.5</td>\n",
              "      <td>4</td>\n",
              "    </tr>\n",
              "    <tr>\n",
              "      <th>1179489</th>\n",
              "      <td>4261</td>\n",
              "      <td>1109</td>\n",
              "      <td>1</td>\n",
              "      <td>161.0000</td>\n",
              "      <td>28</td>\n",
              "      <td>15</td>\n",
              "      <td>1984</td>\n",
              "      <td>26</td>\n",
              "      <td>127.056014</td>\n",
              "      <td>37.483973</td>\n",
              "      <td>...</td>\n",
              "      <td>4484.9400</td>\n",
              "      <td>61999.0800</td>\n",
              "      <td>182777.081525</td>\n",
              "      <td>298.642771</td>\n",
              "      <td>3159.119616</td>\n",
              "      <td>13.823837</td>\n",
              "      <td>0</td>\n",
              "      <td>198</td>\n",
              "      <td>3.5</td>\n",
              "      <td>4</td>\n",
              "    </tr>\n",
              "    <tr>\n",
              "      <th>1179490</th>\n",
              "      <td>4261</td>\n",
              "      <td>1109</td>\n",
              "      <td>1</td>\n",
              "      <td>133.4600</td>\n",
              "      <td>10</td>\n",
              "      <td>14</td>\n",
              "      <td>1984</td>\n",
              "      <td>26</td>\n",
              "      <td>127.056014</td>\n",
              "      <td>37.483973</td>\n",
              "      <td>...</td>\n",
              "      <td>4484.9400</td>\n",
              "      <td>61999.0800</td>\n",
              "      <td>182777.081525</td>\n",
              "      <td>298.642771</td>\n",
              "      <td>3159.119616</td>\n",
              "      <td>13.823837</td>\n",
              "      <td>0</td>\n",
              "      <td>199</td>\n",
              "      <td>3.5</td>\n",
              "      <td>4</td>\n",
              "    </tr>\n",
              "    <tr>\n",
              "      <th>1179491</th>\n",
              "      <td>4261</td>\n",
              "      <td>1109</td>\n",
              "      <td>1</td>\n",
              "      <td>104.4300</td>\n",
              "      <td>18</td>\n",
              "      <td>6</td>\n",
              "      <td>1984</td>\n",
              "      <td>26</td>\n",
              "      <td>127.056014</td>\n",
              "      <td>37.483973</td>\n",
              "      <td>...</td>\n",
              "      <td>4484.9400</td>\n",
              "      <td>61999.0800</td>\n",
              "      <td>182777.081525</td>\n",
              "      <td>298.642771</td>\n",
              "      <td>3159.119616</td>\n",
              "      <td>13.823837</td>\n",
              "      <td>0</td>\n",
              "      <td>199</td>\n",
              "      <td>3.5</td>\n",
              "      <td>4</td>\n",
              "    </tr>\n",
              "  </tbody>\n",
              "</table>\n",
              "<p>5 rows × 28 columns</p>\n",
              "</div>"
            ],
            "text/plain": [
              "           번지    본번  부번      전용면적  계약일   층  건축년도  주소           x          y  \\\n",
              "1179487  4284  1115   2   79.9700   26   5  1987  32  127.056841  37.476283   \n",
              "1179488  4260  1108   2  108.2017   15  10  2021  25  127.057251  37.484828   \n",
              "1179489  4261  1109   1  161.0000   28  15  1984  26  127.056014  37.483973   \n",
              "1179490  4261  1109   1  133.4600   10  14  1984  26  127.056014  37.483973   \n",
              "1179491  4261  1109   1  104.4300   18   6  1984  26  127.056014  37.483973   \n",
              "\n",
              "         ...       건축면적         연면적           대지면적         건폐율          용적율  \\\n",
              "1179487  ...  4551.3300  22305.9300  171124.438613  297.162458  3139.237949   \n",
              "1179488  ...  2706.0317  31893.0189  164008.524870  297.009766  3135.924895   \n",
              "1179489  ...  4484.9400  61999.0800  182777.081525  298.642771  3159.119616   \n",
              "1179490  ...  4484.9400  61999.0800  182777.081525  298.642771  3159.119616   \n",
              "1179491  ...  4484.9400  61999.0800  182777.081525  298.642771  3159.119616   \n",
              "\n",
              "              평균층수  target  계약년월  기준금리  면적분류  \n",
              "1179487   4.900970       0   198   3.5     3  \n",
              "1179488  11.785900       0   199   3.5     4  \n",
              "1179489  13.823837       0   198   3.5     4  \n",
              "1179490  13.823837       0   199   3.5     4  \n",
              "1179491  13.823837       0   199   3.5     4  \n",
              "\n",
              "[5 rows x 28 columns]"
            ]
          },
          "execution_count": 101,
          "metadata": {},
          "output_type": "execute_result"
        }
      ],
      "source": [
        "dt_test.head()"
      ]
    },
    {
      "cell_type": "code",
      "execution_count": 99,
      "metadata": {},
      "outputs": [
        {
          "name": "stdout",
          "output_type": "stream",
          "text": [
            "(9390,)\n",
            "(9390,)\n"
          ]
        }
      ],
      "source": [
        "print(real_test_pred.shape)\n",
        "print(dt_test['전용면적'].shape)"
      ]
    },
    {
      "cell_type": "code",
      "execution_count": 61,
      "metadata": {},
      "outputs": [
        {
          "data": {
            "text/plain": [
              "Index(['번지', '본번', '부번', '전용면적', '층', '건축년도', 'target', '주소', 'x', 'y',\n",
              "       '거래취소여부', '거래일건물연식', '구', '동', '강남여부', '신축여부', '건축면적', '연면적', '대지면적',\n",
              "       '건폐율', '용적율', '평균층수', '계약년월', '기준금리', '면적분류', '계약날짜'],\n",
              "      dtype='object')"
            ]
          },
          "execution_count": 61,
          "metadata": {},
          "output_type": "execute_result"
        }
      ],
      "source": [
        "dt_test1.columns"
      ]
    },
    {
      "cell_type": "code",
      "execution_count": 62,
      "metadata": {},
      "outputs": [],
      "source": [
        "zero_col = ['target']\n",
        "dt_test1[zero_col] = 0\n",
        "\n",
        "nan_col = ['day_price', 'month_price', '작년동월변화량', '지난달변화량']\n",
        "dt_test1[nan_col] = np.nan"
      ]
    },
    {
      "cell_type": "code",
      "execution_count": 29,
      "metadata": {},
      "outputs": [
        {
          "data": {
            "text/html": [
              "<div>\n",
              "<style scoped>\n",
              "    .dataframe tbody tr th:only-of-type {\n",
              "        vertical-align: middle;\n",
              "    }\n",
              "\n",
              "    .dataframe tbody tr th {\n",
              "        vertical-align: top;\n",
              "    }\n",
              "\n",
              "    .dataframe thead th {\n",
              "        text-align: right;\n",
              "    }\n",
              "</style>\n",
              "<table border=\"1\" class=\"dataframe\">\n",
              "  <thead>\n",
              "    <tr style=\"text-align: right;\">\n",
              "      <th></th>\n",
              "      <th>전용면적</th>\n",
              "      <th>층</th>\n",
              "      <th>건축년도</th>\n",
              "      <th>target</th>\n",
              "      <th>주소</th>\n",
              "      <th>x</th>\n",
              "      <th>y</th>\n",
              "      <th>거래취소여부</th>\n",
              "      <th>거래일건물연식</th>\n",
              "      <th>구</th>\n",
              "      <th>...</th>\n",
              "      <th>평균층수</th>\n",
              "      <th>index</th>\n",
              "      <th>계약년월</th>\n",
              "      <th>기준금리</th>\n",
              "      <th>면적분류</th>\n",
              "      <th>1m이동평균</th>\n",
              "      <th>3m이동평균</th>\n",
              "      <th>6m이동평균</th>\n",
              "      <th>30d_trades</th>\n",
              "      <th>day_trades</th>\n",
              "    </tr>\n",
              "  </thead>\n",
              "  <tbody>\n",
              "    <tr>\n",
              "      <th>1074321</th>\n",
              "      <td>59.9825</td>\n",
              "      <td>13</td>\n",
              "      <td>2017</td>\n",
              "      <td>0</td>\n",
              "      <td>1544</td>\n",
              "      <td>126.818376</td>\n",
              "      <td>37.557768</td>\n",
              "      <td>0</td>\n",
              "      <td>6</td>\n",
              "      <td>3</td>\n",
              "      <td>...</td>\n",
              "      <td>7.215934</td>\n",
              "      <td>1120329</td>\n",
              "      <td>198</td>\n",
              "      <td>3.5</td>\n",
              "      <td>2</td>\n",
              "      <td>NaN</td>\n",
              "      <td>NaN</td>\n",
              "      <td>NaN</td>\n",
              "      <td>3629.0</td>\n",
              "      <td>199</td>\n",
              "    </tr>\n",
              "    <tr>\n",
              "      <th>1074322</th>\n",
              "      <td>59.4000</td>\n",
              "      <td>9</td>\n",
              "      <td>1999</td>\n",
              "      <td>0</td>\n",
              "      <td>4835</td>\n",
              "      <td>126.920126</td>\n",
              "      <td>37.574992</td>\n",
              "      <td>0</td>\n",
              "      <td>24</td>\n",
              "      <td>13</td>\n",
              "      <td>...</td>\n",
              "      <td>14.062040</td>\n",
              "      <td>1124096</td>\n",
              "      <td>198</td>\n",
              "      <td>3.5</td>\n",
              "      <td>2</td>\n",
              "      <td>NaN</td>\n",
              "      <td>NaN</td>\n",
              "      <td>NaN</td>\n",
              "      <td>3629.0</td>\n",
              "      <td>199</td>\n",
              "    </tr>\n",
              "    <tr>\n",
              "      <th>1074323</th>\n",
              "      <td>59.9600</td>\n",
              "      <td>17</td>\n",
              "      <td>2016</td>\n",
              "      <td>0</td>\n",
              "      <td>4827</td>\n",
              "      <td>126.935551</td>\n",
              "      <td>37.543211</td>\n",
              "      <td>0</td>\n",
              "      <td>7</td>\n",
              "      <td>12</td>\n",
              "      <td>...</td>\n",
              "      <td>7.215934</td>\n",
              "      <td>1124048</td>\n",
              "      <td>198</td>\n",
              "      <td>3.5</td>\n",
              "      <td>2</td>\n",
              "      <td>NaN</td>\n",
              "      <td>NaN</td>\n",
              "      <td>NaN</td>\n",
              "      <td>3629.0</td>\n",
              "      <td>199</td>\n",
              "    </tr>\n",
              "    <tr>\n",
              "      <th>1074324</th>\n",
              "      <td>84.9300</td>\n",
              "      <td>6</td>\n",
              "      <td>2019</td>\n",
              "      <td>0</td>\n",
              "      <td>2130</td>\n",
              "      <td>126.943320</td>\n",
              "      <td>37.478120</td>\n",
              "      <td>0</td>\n",
              "      <td>4</td>\n",
              "      <td>4</td>\n",
              "      <td>...</td>\n",
              "      <td>7.215934</td>\n",
              "      <td>1120400</td>\n",
              "      <td>198</td>\n",
              "      <td>3.5</td>\n",
              "      <td>3</td>\n",
              "      <td>NaN</td>\n",
              "      <td>NaN</td>\n",
              "      <td>NaN</td>\n",
              "      <td>3629.0</td>\n",
              "      <td>199</td>\n",
              "    </tr>\n",
              "    <tr>\n",
              "      <th>1074325</th>\n",
              "      <td>164.9500</td>\n",
              "      <td>19</td>\n",
              "      <td>2002</td>\n",
              "      <td>0</td>\n",
              "      <td>8900</td>\n",
              "      <td>127.054439</td>\n",
              "      <td>37.488223</td>\n",
              "      <td>0</td>\n",
              "      <td>21</td>\n",
              "      <td>0</td>\n",
              "      <td>...</td>\n",
              "      <td>38.775494</td>\n",
              "      <td>1119074</td>\n",
              "      <td>198</td>\n",
              "      <td>3.5</td>\n",
              "      <td>4</td>\n",
              "      <td>NaN</td>\n",
              "      <td>NaN</td>\n",
              "      <td>NaN</td>\n",
              "      <td>3629.0</td>\n",
              "      <td>199</td>\n",
              "    </tr>\n",
              "    <tr>\n",
              "      <th>1074326</th>\n",
              "      <td>59.5800</td>\n",
              "      <td>5</td>\n",
              "      <td>2004</td>\n",
              "      <td>0</td>\n",
              "      <td>2116</td>\n",
              "      <td>126.960865</td>\n",
              "      <td>37.487311</td>\n",
              "      <td>0</td>\n",
              "      <td>19</td>\n",
              "      <td>4</td>\n",
              "      <td>...</td>\n",
              "      <td>18.461847</td>\n",
              "      <td>1120417</td>\n",
              "      <td>198</td>\n",
              "      <td>3.5</td>\n",
              "      <td>2</td>\n",
              "      <td>NaN</td>\n",
              "      <td>NaN</td>\n",
              "      <td>NaN</td>\n",
              "      <td>3629.0</td>\n",
              "      <td>199</td>\n",
              "    </tr>\n",
              "    <tr>\n",
              "      <th>1074327</th>\n",
              "      <td>32.7600</td>\n",
              "      <td>3</td>\n",
              "      <td>2001</td>\n",
              "      <td>0</td>\n",
              "      <td>5127</td>\n",
              "      <td>126.951298</td>\n",
              "      <td>37.578353</td>\n",
              "      <td>0</td>\n",
              "      <td>22</td>\n",
              "      <td>13</td>\n",
              "      <td>...</td>\n",
              "      <td>12.076126</td>\n",
              "      <td>1123894</td>\n",
              "      <td>198</td>\n",
              "      <td>3.5</td>\n",
              "      <td>1</td>\n",
              "      <td>NaN</td>\n",
              "      <td>NaN</td>\n",
              "      <td>NaN</td>\n",
              "      <td>3629.0</td>\n",
              "      <td>199</td>\n",
              "    </tr>\n",
              "    <tr>\n",
              "      <th>1074328</th>\n",
              "      <td>121.0751</td>\n",
              "      <td>2</td>\n",
              "      <td>2006</td>\n",
              "      <td>0</td>\n",
              "      <td>5383</td>\n",
              "      <td>126.987614</td>\n",
              "      <td>37.493612</td>\n",
              "      <td>0</td>\n",
              "      <td>17</td>\n",
              "      <td>14</td>\n",
              "      <td>...</td>\n",
              "      <td>12.982759</td>\n",
              "      <td>1123874</td>\n",
              "      <td>198</td>\n",
              "      <td>3.5</td>\n",
              "      <td>4</td>\n",
              "      <td>NaN</td>\n",
              "      <td>NaN</td>\n",
              "      <td>NaN</td>\n",
              "      <td>3629.0</td>\n",
              "      <td>199</td>\n",
              "    </tr>\n",
              "    <tr>\n",
              "      <th>1074329</th>\n",
              "      <td>117.1900</td>\n",
              "      <td>7</td>\n",
              "      <td>1991</td>\n",
              "      <td>0</td>\n",
              "      <td>5319</td>\n",
              "      <td>126.982577</td>\n",
              "      <td>37.474408</td>\n",
              "      <td>0</td>\n",
              "      <td>32</td>\n",
              "      <td>14</td>\n",
              "      <td>...</td>\n",
              "      <td>11.658905</td>\n",
              "      <td>1123867</td>\n",
              "      <td>198</td>\n",
              "      <td>3.5</td>\n",
              "      <td>4</td>\n",
              "      <td>NaN</td>\n",
              "      <td>NaN</td>\n",
              "      <td>NaN</td>\n",
              "      <td>3629.0</td>\n",
              "      <td>199</td>\n",
              "    </tr>\n",
              "    <tr>\n",
              "      <th>1074330</th>\n",
              "      <td>114.9800</td>\n",
              "      <td>13</td>\n",
              "      <td>1999</td>\n",
              "      <td>0</td>\n",
              "      <td>2063</td>\n",
              "      <td>126.952078</td>\n",
              "      <td>37.476152</td>\n",
              "      <td>0</td>\n",
              "      <td>24</td>\n",
              "      <td>4</td>\n",
              "      <td>...</td>\n",
              "      <td>13.903968</td>\n",
              "      <td>1120445</td>\n",
              "      <td>198</td>\n",
              "      <td>3.5</td>\n",
              "      <td>4</td>\n",
              "      <td>NaN</td>\n",
              "      <td>NaN</td>\n",
              "      <td>NaN</td>\n",
              "      <td>3629.0</td>\n",
              "      <td>199</td>\n",
              "    </tr>\n",
              "  </tbody>\n",
              "</table>\n",
              "<p>10 rows × 28 columns</p>\n",
              "</div>"
            ],
            "text/plain": [
              "             전용면적   층  건축년도  target    주소           x          y  거래취소여부  \\\n",
              "1074321   59.9825  13  2017       0  1544  126.818376  37.557768       0   \n",
              "1074322   59.4000   9  1999       0  4835  126.920126  37.574992       0   \n",
              "1074323   59.9600  17  2016       0  4827  126.935551  37.543211       0   \n",
              "1074324   84.9300   6  2019       0  2130  126.943320  37.478120       0   \n",
              "1074325  164.9500  19  2002       0  8900  127.054439  37.488223       0   \n",
              "1074326   59.5800   5  2004       0  2116  126.960865  37.487311       0   \n",
              "1074327   32.7600   3  2001       0  5127  126.951298  37.578353       0   \n",
              "1074328  121.0751   2  2006       0  5383  126.987614  37.493612       0   \n",
              "1074329  117.1900   7  1991       0  5319  126.982577  37.474408       0   \n",
              "1074330  114.9800  13  1999       0  2063  126.952078  37.476152       0   \n",
              "\n",
              "         거래일건물연식   구  ...       평균층수    index  계약년월  기준금리  면적분류  1m이동평균  \\\n",
              "1074321        6   3  ...   7.215934  1120329   198   3.5     2     NaN   \n",
              "1074322       24  13  ...  14.062040  1124096   198   3.5     2     NaN   \n",
              "1074323        7  12  ...   7.215934  1124048   198   3.5     2     NaN   \n",
              "1074324        4   4  ...   7.215934  1120400   198   3.5     3     NaN   \n",
              "1074325       21   0  ...  38.775494  1119074   198   3.5     4     NaN   \n",
              "1074326       19   4  ...  18.461847  1120417   198   3.5     2     NaN   \n",
              "1074327       22  13  ...  12.076126  1123894   198   3.5     1     NaN   \n",
              "1074328       17  14  ...  12.982759  1123874   198   3.5     4     NaN   \n",
              "1074329       32  14  ...  11.658905  1123867   198   3.5     4     NaN   \n",
              "1074330       24   4  ...  13.903968  1120445   198   3.5     4     NaN   \n",
              "\n",
              "         3m이동평균  6m이동평균  30d_trades  day_trades  \n",
              "1074321     NaN     NaN      3629.0         199  \n",
              "1074322     NaN     NaN      3629.0         199  \n",
              "1074323     NaN     NaN      3629.0         199  \n",
              "1074324     NaN     NaN      3629.0         199  \n",
              "1074325     NaN     NaN      3629.0         199  \n",
              "1074326     NaN     NaN      3629.0         199  \n",
              "1074327     NaN     NaN      3629.0         199  \n",
              "1074328     NaN     NaN      3629.0         199  \n",
              "1074329     NaN     NaN      3629.0         199  \n",
              "1074330     NaN     NaN      3629.0         199  \n",
              "\n",
              "[10 rows x 28 columns]"
            ]
          },
          "execution_count": 29,
          "metadata": {},
          "output_type": "execute_result"
        }
      ],
      "source": [
        "dt_test1.head(10)"
      ]
    },
    {
      "cell_type": "code",
      "execution_count": 30,
      "metadata": {
        "colab": {
          "base_uri": "https://localhost:8080/"
        },
        "id": "qbZ2A49LP_T9",
        "outputId": "89676c9b-c0a2-4951-84f0-430c5648331c"
      },
      "outputs": [],
      "source": [
        "# %%time\n",
        "X_test = dt_test1.drop(['target'], axis=1)\n",
        "\n",
        "test_pred = model.predict(X_test)\n",
        "test_pred = test_pred * dt_test1['전용면적'].values"
      ]
    },
    {
      "cell_type": "code",
      "execution_count": 36,
      "metadata": {},
      "outputs": [],
      "source": [
        "dt_test1 = dt_test1.reset_index(drop=True) "
      ]
    },
    {
      "cell_type": "code",
      "execution_count": 39,
      "metadata": {},
      "outputs": [],
      "source": [
        "test_sort = pd.DataFrame(test_pred, columns=['pred'])\n",
        "test_sort['index'] = dt_test1['index']\n",
        "\n",
        "test_sort = test_sort.sort_values(by='index')\n",
        "\n",
        "# test_sort\n",
        "real_test_pred = test_sort['pred'].to_numpy()"
      ]
    },
    {
      "cell_type": "code",
      "execution_count": 40,
      "metadata": {
        "colab": {
          "base_uri": "https://localhost:8080/"
        },
        "id": "4M1QkrH_31zK",
        "outputId": "6c6f4635-50bb-4a2d-8453-56f700ec6140"
      },
      "outputs": [
        {
          "data": {
            "text/plain": [
              "array([131201.75744629, 153216.75075525, 176045.10803223, ...,\n",
              "        61074.9792511 ,  53466.837146  ,  53330.80715637])"
            ]
          },
          "execution_count": 40,
          "metadata": {},
          "output_type": "execute_result"
        }
      ],
      "source": [
        "real_test_pred          # 예측값들이 출력됨을 확인할 수 있습니다."
      ]
    },
    {
      "cell_type": "code",
      "execution_count": 28,
      "metadata": {},
      "outputs": [
        {
          "data": {
            "text/plain": [
              "984608    0\n",
              "984609    0\n",
              "984610    0\n",
              "984611    0\n",
              "984612    0\n",
              "         ..\n",
              "993441    0\n",
              "993442    0\n",
              "993443    0\n",
              "993444    0\n",
              "993445    0\n",
              "Name: target, Length: 8838, dtype: int64"
            ]
          },
          "execution_count": 28,
          "metadata": {},
          "output_type": "execute_result"
        }
      ],
      "source": [
        "dt_test1['target']"
      ]
    },
    {
      "cell_type": "code",
      "execution_count": 24,
      "metadata": {},
      "outputs": [
        {
          "data": {
            "text/plain": [
              "984608     66610.055508\n",
              "984609     83625.753814\n",
              "984610     49876.575773\n",
              "984611     56268.912423\n",
              "984612     36016.353195\n",
              "              ...      \n",
              "993441     60044.637107\n",
              "993442     44151.529419\n",
              "993443    140809.916250\n",
              "993444     64209.203937\n",
              "993445    144860.863367\n",
              "Name: 전용면적, Length: 8838, dtype: float64"
            ]
          },
          "execution_count": 24,
          "metadata": {},
          "output_type": "execute_result"
        }
      ],
      "source": [
        "real_test_pred"
      ]
    },
    {
      "cell_type": "code",
      "execution_count": 22,
      "metadata": {},
      "outputs": [],
      "source": [
        "# dt_test1_val = dt_test1_val * dt_test1['전용면적']\n",
        "# real_test_pred = real_test_pred *dt_test1['전용면적']"
      ]
    },
    {
      "cell_type": "code",
      "execution_count": 65,
      "metadata": {},
      "outputs": [
        {
          "name": "stdout",
          "output_type": "stream",
          "text": [
            "RMSE: 30350.033176903933\n"
          ]
        }
      ],
      "source": [
        "rmse = np.sqrt(mean_squared_error(dt_test1_val, real_test_pred))\n",
        "print(f\"RMSE: {rmse}\")"
      ]
    },
    {
      "cell_type": "markdown",
      "metadata": {
        "id": "KlxtDBDNNa6Y"
      },
      "source": [
        "## 7. Output File Save"
      ]
    },
    {
      "cell_type": "code",
      "execution_count": 41,
      "metadata": {
        "id": "Tn36fIuB42aM"
      },
      "outputs": [],
      "source": [
        "# 앞서 예측한 예측값들을 저장합니다.\n",
        "preds_df = pd.DataFrame(real_test_pred.astype(int), columns=[\"target\"])\n",
        "preds_df.to_csv('./temp/output.csv', index=False)"
      ]
    },
    {
      "cell_type": "code",
      "execution_count": null,
      "metadata": {},
      "outputs": [],
      "source": []
    }
  ],
  "metadata": {
    "colab": {
      "provenance": []
    },
    "kernelspec": {
      "display_name": "Python 3.10.13 ('base')",
      "language": "python",
      "name": "python3"
    },
    "language_info": {
      "codemirror_mode": {
        "name": "ipython",
        "version": 3
      },
      "file_extension": ".py",
      "mimetype": "text/x-python",
      "name": "python",
      "nbconvert_exporter": "python",
      "pygments_lexer": "ipython3",
      "version": "3.10.13"
    },
    "vscode": {
      "interpreter": {
        "hash": "d4d1e4263499bec80672ea0156c357c1ee493ec2b1c70f0acce89fc37c4a6abe"
      }
    }
  },
  "nbformat": 4,
  "nbformat_minor": 0
}
