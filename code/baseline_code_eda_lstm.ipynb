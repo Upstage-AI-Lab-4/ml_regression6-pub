{
  "cells": [
    {
      "cell_type": "markdown",
      "metadata": {
        "id": "92WHLz8346Yf"
      },
      "source": [
        "# **🏠 부동산 실거래가 Baseline code**\n",
        "> 부동산 실거래가 예측 대회에 오신 여러분 환영합니다! 🎉     \n",
        "> 아래 baseline에서는 RandomForest를 활용해 ML 방법론들을 실제 대회에 적용해보도록 하겠습니다.\n",
        "> 강의는 google colab으로 실행하였기에 아래의 베이스라인 코드와는 일부 차이가 있을 수 있습니다. \n",
        "\n",
        "## Contents\n",
        "- Library Import\n",
        "- Data Load\n",
        "- Data Preprocessing\n",
        "- Feature Engineering\n",
        "- Model Training\n",
        "- Inference\n",
        "- Output File Save\n"
      ]
    },
    {
      "cell_type": "markdown",
      "metadata": {
        "id": "2-DJzJjvO88V"
      },
      "source": [
        "## 1. Library Import\n",
        "- 필요한 라이브러리를 불러옵니다."
      ]
    },
    {
      "cell_type": "code",
      "execution_count": 89,
      "metadata": {
        "colab": {
          "base_uri": "https://localhost:8080/"
        },
        "id": "PKs1Mj7OcWU0",
        "outputId": "d142df48-acc5-4bca-c9be-18575aa6a6dc"
      },
      "outputs": [],
      "source": [
        "# !pip install eli5==0.13.0\n",
        "\n",
        "# # 한글 폰트 사용을 위한 라이브러리입니다.\n",
        "# !apt-get install -y fonts-nanum"
      ]
    },
    {
      "cell_type": "code",
      "execution_count": 90,
      "metadata": {
        "id": "d-NiCLGs4ZpM"
      },
      "outputs": [],
      "source": [
        "# # visualization\n",
        "# import matplotlib.pyplot as plt\n",
        "# import matplotlib.font_manager as fm\n",
        "# fe = fm.FontEntry(\n",
        "#     fname=r'/usr/share/fonts/truetype/nanum/NanumGothic.ttf', # ttf 파일이 저장되어 있는 경로\n",
        "#     name='NanumBarunGothic')                        # 이 폰트의 원하는 이름 설정\n",
        "# fm.fontManager.ttflist.insert(0, fe)              # Matplotlib에 폰트 추가\n",
        "# plt.rcParams.update({'font.size': 10, 'font.family': 'NanumBarunGothic'}) # 폰트 설정\n",
        "# plt.rc('font', family='NanumBarunGothic')\n",
        "# import seaborn as sns\n",
        "\n",
        "# # utils\n",
        "# import pandas as pd\n",
        "# import numpy as np\n",
        "# from tqdm import tqdm\n",
        "# import pickle\n",
        "# import warnings;warnings.filterwarnings('ignore')\n",
        "\n",
        "# # Model\n",
        "# from sklearn.preprocessing import LabelEncoder\n",
        "# from sklearn.model_selection import train_test_split\n",
        "# from sklearn.metrics import mean_squared_error\n",
        "# from sklearn.ensemble import RandomForestRegressor\n",
        "# from sklearn import metrics\n",
        "\n",
        "# import eli5\n",
        "# from eli5.sklearn import PermutationImportance"
      ]
    },
    {
      "cell_type": "markdown",
      "metadata": {
        "id": "OPJvYT0OPAWS"
      },
      "source": [
        "## 2. Data Load"
      ]
    },
    {
      "cell_type": "markdown",
      "metadata": {
        "id": "vvwnwnpNJeR1"
      },
      "source": [
        "#### 2.1. 데이터 로드"
      ]
    },
    {
      "cell_type": "code",
      "execution_count": 91,
      "metadata": {},
      "outputs": [],
      "source": [
        "# import os\n",
        "# os.getcwd()"
      ]
    },
    {
      "cell_type": "code",
      "execution_count": 92,
      "metadata": {
        "id": "hx6nk3N_4_Tk"
      },
      "outputs": [],
      "source": [
        "# # 필요한 데이터를 load 하겠습니다. 경로는 환경에 맞게 지정해주면 됩니다.\n",
        "# train_path = '../data/train.csv'\n",
        "# test_path  = '../data/test.csv'\n",
        "# dt = pd.read_csv(train_path)\n",
        "# dt_test = pd.read_csv(test_path)"
      ]
    },
    {
      "cell_type": "code",
      "execution_count": 93,
      "metadata": {
        "id": "vltXVoeRhZiI"
      },
      "outputs": [],
      "source": [
        "# # train/test 구분을 위한 칼럼을 하나 만들어 줍니다.\n",
        "# dt['is_test'] = 0\n",
        "# dt_test['is_test'] = 1\n",
        "# concat = pd.concat([dt, dt_test])     # 하나의 데이터로 만들어줍니다."
      ]
    },
    {
      "cell_type": "code",
      "execution_count": 94,
      "metadata": {},
      "outputs": [],
      "source": [
        "# # 칼럼 이름을 쉽게 바꿔주겠습니다. 다른 칼럼도 사용에 따라 바꿔주셔도 됩니다!\n",
        "# concat = concat.rename(columns={'전용면적(㎡)':'전용면적'})"
      ]
    },
    {
      "cell_type": "code",
      "execution_count": 95,
      "metadata": {},
      "outputs": [],
      "source": [
        "# # 주소로 unique id를 만들어봅니다\n",
        "\n",
        "# concat['본번'] = concat['본번'].fillna(-1)\n",
        "# concat['부번'] = concat['부번'].fillna(-1)\n",
        "\n",
        "# concat['본번'] = concat['본번'].astype(int).astype(str).replace({-1: np.nan})\n",
        "# concat['부번'] = concat['부번'].astype(int).astype(str).replace({-1: np.nan})\n",
        "\n",
        "# concat['지번_temp'] = concat['본번'] + '-' + concat['부번']\n",
        "\n",
        "# concat['번지'] = concat['번지'].fillna(concat['지번_temp'])\n",
        "# concat['번지'].isnull().sum()\n",
        "\n",
        "# concat = concat.drop('지번_temp', axis=1)"
      ]
    },
    {
      "cell_type": "code",
      "execution_count": 96,
      "metadata": {},
      "outputs": [],
      "source": [
        "# # 본번, 부번의 경우 float로 되어있지만 범주형 변수의 의미를 가지므로 object(string) 형태로 바꾸어주고 아래 작업을 진행하겠습니다.\n",
        "# concat['본번'] = concat['본번'].astype('str')\n",
        "# concat['부번'] = concat['부번'].astype('str')\n",
        "\n",
        "\n",
        "# # '시군구'와 '번지'를 이용해 unique id를 만들어준다\n",
        "# concat['주소'] = concat['시군구'] + ' ' + concat['번지']"
      ]
    },
    {
      "cell_type": "markdown",
      "metadata": {},
      "source": [
        "### xy좌표 결측치를 제거해봅니다"
      ]
    },
    {
      "cell_type": "code",
      "execution_count": 97,
      "metadata": {},
      "outputs": [],
      "source": [
        "# # xy좌표를 불러오고 unique id를 맞춰준다\n",
        "\n",
        "# coordinates = pd.read_csv('../data/xy좌표.csv', encoding='cp949')\n",
        "\n",
        "# coordinates['주소'] = coordinates['시군구'] + ' ' + coordinates['번지']"
      ]
    },
    {
      "cell_type": "code",
      "execution_count": 98,
      "metadata": {},
      "outputs": [],
      "source": [
        "# concat_temp = pd.merge(concat, coordinates, on='주소', how='left', suffixes=('_A', '_B'))\n",
        "\n",
        "# concat = concat_temp\n",
        "\n",
        "# concat = concat.drop(columns=['시군구_B', '번지_B'])\n",
        "\n",
        "# concat = concat.rename(columns={'시군구_A':'시군구'})\n",
        "# concat = concat.rename(columns={'번지_A':'번지'})"
      ]
    },
    {
      "cell_type": "markdown",
      "metadata": {},
      "source": [
        "### xy좌표 결측치 채우기(주소로 정렬한 후 선형보간으로 채우기)"
      ]
    },
    {
      "cell_type": "code",
      "execution_count": 99,
      "metadata": {},
      "outputs": [],
      "source": [
        "# # xy좌표 결측치 채우기(주소로 정렬한 후 선형보간으로 채우기)\n",
        "\n",
        "# concat_sorted = concat.sort_values(by='주소')\n",
        "\n",
        "# # 연속형 변수에 대한 보간 (선형 보간)\n",
        "# col = ['x', 'y']\n",
        "# concat_sorted[col] = concat_sorted[col].interpolate(method='linear', axis=0)\n",
        "\n",
        "# concat = concat_sorted.sort_index()"
      ]
    },
    {
      "cell_type": "code",
      "execution_count": 100,
      "metadata": {},
      "outputs": [],
      "source": [
        "# concat['계약년월'] = concat['계약년월'].astype(str)\n",
        "\n",
        "# concat['계약년'] = concat['계약년월'].str[:4]\n",
        "# concat['계약월'] = concat['계약년월'].str[4:]\n",
        "\n",
        "# concat['계약년'] = concat['계약년'].astype(int)\n",
        "# concat['계약월'] = concat['계약월'].astype(int)"
      ]
    },
    {
      "cell_type": "code",
      "execution_count": 101,
      "metadata": {},
      "outputs": [],
      "source": [
        "# # 해제사유발생 = 1, 미발생 = 0 으로 바꾸기\n",
        "\n",
        "# concat['거래취소여부'] = concat['해제사유발생일'].notnull().astype(int)\n",
        "\n",
        "# concat['거래취소여부'].value_counts()\n",
        "\n",
        "# concat = concat.drop(columns = '해제사유발생일',  errors='ignore')"
      ]
    },
    {
      "cell_type": "code",
      "execution_count": 102,
      "metadata": {},
      "outputs": [],
      "source": [
        "# # 불필요한 컬럼 제거\n",
        "\n",
        "# drop_columns = ['아파트명', '도로명', '등기신청일자', '거래유형', '중개사소재지', '좌표X', '좌표Y','계약년월'\n",
        "#                 'k-전화번호', 'k-팩스번호', '단지소개기존clob', 'k-관리방식', 'k-난방방식', 'k-시행사', 'k-사용검사일-사용승인일', 'k-연면적', 'k-주거전용면적', 'k-관리비부과면적', 'k-전용면적별세대현황(60㎡이하)',\n",
        "#                 'k-전용면적별세대현황(60㎡~85㎡이하)', 'k-85㎡~135㎡이하', 'k-135㎡초과', 'k-홈페이지', '단지승인일',\n",
        "#                 'k-등록일자', 'k-수정일자', '고용보험관리번호', '경비비관리형태', '세대전기계약방법', '청소비관리형태', '기타/의무/임대/임의=1/2/3/4', '기타/의무/임대/임의=1/2/3/4', '사용허가여부', '관리비 업로드', '단지신청일'\n",
        "#                 ]\n",
        "\n",
        "# concat = concat.drop(columns = drop_columns,  errors='ignore')"
      ]
    },
    {
      "cell_type": "code",
      "execution_count": 103,
      "metadata": {},
      "outputs": [],
      "source": [
        "# concat.columns"
      ]
    },
    {
      "cell_type": "code",
      "execution_count": 104,
      "metadata": {},
      "outputs": [],
      "source": [
        "# # 거래일 건물연식\n",
        "\n",
        "# concat['거래일건물연식'] = concat['계약년'] - concat['건축년도']"
      ]
    },
    {
      "cell_type": "code",
      "execution_count": 105,
      "metadata": {},
      "outputs": [],
      "source": [
        "# # 시군구, 년월 등 분할할 수 있는 변수들은 세부사항 고려를 용이하게 하기 위해 모두 분할해 주겠습니다.\n",
        "# concat['구'] = concat['시군구'].map(lambda x : x.split()[1])\n",
        "# concat['동'] = concat['시군구'].map(lambda x : x.split()[2])\n",
        "# del concat['시군구']\n",
        "\n",
        "# # concat_select['계약년'] = concat_select['계약년월'].astype('str').map(lambda x : x[:4])\n",
        "# # concat_select['계약월'] = concat_select['계약년월'].astype('str').map(lambda x : x[4:])\n",
        "# del concat['계약년월']"
      ]
    },
    {
      "cell_type": "code",
      "execution_count": 106,
      "metadata": {},
      "outputs": [],
      "source": [
        "# all = list(concat['구'].unique())\n",
        "# gangnam = ['강서구', '영등포구', '동작구', '서초구', '강남구', '송파구', '강동구']\n",
        "# gangbuk = [x for x in all if x not in gangnam]\n",
        "\n",
        "# assert len(all) == len(gangnam) + len(gangbuk)       # 알맞게 분리되었는지 체크합니다.\n",
        "\n",
        "# # 강남의 여부를 체크합니다.\n",
        "# is_gangnam = []\n",
        "# for x in concat['구'].tolist() :\n",
        "#   if x in gangnam :\n",
        "#     is_gangnam.append(1)\n",
        "#   else :\n",
        "#     is_gangnam.append(0)\n",
        "\n",
        "# # 파생변수를 하나 만릅니다.\n",
        "# concat['강남여부'] = is_gangnam"
      ]
    },
    {
      "cell_type": "code",
      "execution_count": 107,
      "metadata": {},
      "outputs": [],
      "source": [
        "# # 따라서 2009년 이후에 지어졌으면 비교적 신축이라고 판단하고, 신축 여부 변수를 제작해보도록 하겠습니다.\n",
        "# # 노후건축물 기준에 맞추어 거래일 기준 20년 미만일 시 신축으로 분류\n",
        "# concat['신축여부'] = concat['거래일건물연식'].apply(lambda x: 1 if x < 20 else 0)"
      ]
    },
    {
      "cell_type": "code",
      "execution_count": 108,
      "metadata": {
        "colab": {
          "base_uri": "https://localhost:8080/"
        },
        "id": "msOiDlOPQ8hS",
        "outputId": "4ab60461-ef7e-4037-e6f4-5de494eed5bd"
      },
      "outputs": [],
      "source": [
        "# # EDA에 앞서 결측치를 확인해보겠습니다.\n",
        "# concat.isnull().sum()\n",
        "\n",
        "# # concat.columns"
      ]
    },
    {
      "cell_type": "code",
      "execution_count": 109,
      "metadata": {},
      "outputs": [],
      "source": [
        "# concat.to_csv('../data/base_dataset.csv', index=False)"
      ]
    },
    {
      "cell_type": "markdown",
      "metadata": {},
      "source": [
        "### 기본 데이터셋 정의"
      ]
    },
    {
      "cell_type": "code",
      "execution_count": 110,
      "metadata": {},
      "outputs": [],
      "source": [
        "# # 위 코드까지 실행할 결과를 새로운 기본 데이터셋으로 삼음\n",
        "# concat = pd.read_csv('../data/base_dataset.csv')\n",
        "\n",
        "# drop_col = ['k-단지분류(아파트,주상복합등등)', 'k-세대타입(분양형태)', 'k-복도유형', 'k-전체동수', 'k-전체세대수', 'k-건설사(시공사)', '건축면적', '주차대수']\n",
        "\n",
        "# concat = concat.drop(columns = drop_col, errors = 'ignore')"
      ]
    },
    {
      "cell_type": "markdown",
      "metadata": {},
      "source": [
        "### 빈 데이터를 채움"
      ]
    },
    {
      "cell_type": "code",
      "execution_count": 111,
      "metadata": {},
      "outputs": [],
      "source": [
        "# # 지번별 건물정보가 담긴 gis건물통합정보 파일을 불러와 데이터 병합하기\n",
        "\n",
        "# gis = pd.read_csv('../data/gis건물통합정보.csv')\n",
        "\n",
        "# drop_col = ['Unnamed: 0', '법정동명', '번지', '사용승인일자']\n",
        "# gis = gis.drop(columns = drop_col)\n",
        "\n",
        "# gis = gis.rename(columns={'ID':'주소'})\n",
        "\n",
        "# gis= gis.groupby('주소', as_index=False).agg({'건축면적': 'sum', '연면적': 'sum', '대지면적': 'sum', '건폐율': 'sum', '용적율': 'sum'})\n",
        "\n",
        "# gis.head()"
      ]
    },
    {
      "cell_type": "code",
      "execution_count": 112,
      "metadata": {},
      "outputs": [],
      "source": [
        "# from sklearn.experimental import enable_iterative_imputer\n",
        "# from sklearn.impute import IterativeImputer\n",
        "\n",
        "# # IterativeImputer 사용 보간\n",
        "# concat_temp = pd.merge(concat, gis, on='주소', how='left', suffixes=('_A', '_B'))\n",
        "# concat_temp.sort_values('주소')\n",
        "\n",
        "# col = ['건축면적', '연면적', '대지면적', '건폐율', '용적율']\n",
        "# concat_temp[col] = concat_temp[col].replace(0, np.nan)\n",
        "\n",
        "# imputer = IterativeImputer(max_iter=10, random_state=0)\n",
        "# concat_temp[col] = pd.DataFrame(imputer.fit_transform(concat_temp[col]), columns=[col])\n",
        "\n",
        "\n",
        "# concat_temp.sort_index()\n",
        "\n",
        "# concat = concat_temp"
      ]
    },
    {
      "cell_type": "code",
      "execution_count": 113,
      "metadata": {},
      "outputs": [],
      "source": [
        "# concat['거래취소여부'].astype(str)\n",
        "# concat['강남여부'].astype(str)\n",
        "# concat['층'].astype(str)\n",
        "# concat['본번'].astype(str)\n",
        "# concat['부번'].astype(str)"
      ]
    },
    {
      "cell_type": "code",
      "execution_count": 114,
      "metadata": {},
      "outputs": [],
      "source": [
        "# concat.to_csv('../data/base_dataset_2.csv', index=False)"
      ]
    },
    {
      "cell_type": "markdown",
      "metadata": {},
      "source": [
        "### target값을 제곱미터당 가격으로 변경"
      ]
    },
    {
      "cell_type": "code",
      "execution_count": 115,
      "metadata": {},
      "outputs": [],
      "source": [
        "# concat = pd.read_csv('../data/base_dataset_2.csv')"
      ]
    },
    {
      "cell_type": "code",
      "execution_count": 116,
      "metadata": {},
      "outputs": [],
      "source": [
        "# # 평균층수 파생변수 추가\n",
        "# concat['평균층수'] = concat['연면적'] / concat['건축면적']"
      ]
    },
    {
      "cell_type": "code",
      "execution_count": 117,
      "metadata": {},
      "outputs": [],
      "source": [
        "# # target값을 평당 가격으로 바꿈 -> 최종 결과때 다시 new_target을 전용면적으로 곱하여 rmes구해야함\n",
        "\n",
        "# concat.rename(columns={'target': 'target_original'}, inplace=True)\n",
        "\n",
        "# concat['target'] = concat['target_original'] / concat['전용면적']\n",
        "\n",
        "# # concat.info()"
      ]
    },
    {
      "cell_type": "code",
      "execution_count": 118,
      "metadata": {},
      "outputs": [],
      "source": [
        "# concat = concat.drop(columns = 'target_original')"
      ]
    },
    {
      "cell_type": "code",
      "execution_count": 119,
      "metadata": {},
      "outputs": [],
      "source": [
        "# str_columns = ['본번', '부번', '거래취소여부', '구', '동', '강남여부', '신축여부']\n",
        "\n",
        "# concat[str_columns] = concat[str_columns].astype(str)\n",
        "\n",
        "# # concat.info()"
      ]
    },
    {
      "cell_type": "code",
      "execution_count": null,
      "metadata": {},
      "outputs": [],
      "source": []
    },
    {
      "cell_type": "code",
      "execution_count": null,
      "metadata": {},
      "outputs": [],
      "source": []
    },
    {
      "cell_type": "code",
      "execution_count": 120,
      "metadata": {},
      "outputs": [],
      "source": [
        "# concat.to_csv('../data/base_dataset_2.csv', index=False)"
      ]
    },
    {
      "cell_type": "markdown",
      "metadata": {},
      "source": [
        "### dataset_2 시작"
      ]
    },
    {
      "cell_type": "code",
      "execution_count": 209,
      "metadata": {},
      "outputs": [],
      "source": [
        "# visualization\n",
        "import matplotlib.pyplot as plt\n",
        "import matplotlib.font_manager as fm\n",
        "fe = fm.FontEntry(\n",
        "    fname=r'/usr/share/fonts/truetype/nanum/NanumGothic.ttf', # ttf 파일이 저장되어 있는 경로\n",
        "    name='NanumBarunGothic')                        # 이 폰트의 원하는 이름 설정\n",
        "fm.fontManager.ttflist.insert(0, fe)              # Matplotlib에 폰트 추가\n",
        "plt.rcParams.update({'font.size': 10, 'font.family': 'NanumBarunGothic'}) # 폰트 설정\n",
        "plt.rc('font', family='NanumBarunGothic')\n",
        "import seaborn as sns\n",
        "\n",
        "# utils\n",
        "import pandas as pd\n",
        "import numpy as np\n",
        "from tqdm import tqdm\n",
        "import pickle\n",
        "import warnings;warnings.filterwarnings('ignore')\n",
        "\n",
        "# Model\n",
        "from sklearn.preprocessing import LabelEncoder\n",
        "from sklearn.model_selection import train_test_split\n",
        "from sklearn.metrics import mean_squared_error\n",
        "from sklearn.ensemble import RandomForestRegressor\n",
        "from sklearn import metrics\n",
        "\n",
        "import eli5\n",
        "from eli5.sklearn import PermutationImportance"
      ]
    },
    {
      "cell_type": "code",
      "execution_count": 210,
      "metadata": {},
      "outputs": [
        {
          "data": {
            "text/plain": [
              "Index(['번지', '본번', '부번', '전용면적', '계약일', '층', '건축년도', 'is_test', '주소', 'x', 'y',\n",
              "       '계약년', '계약월', '거래취소여부', '거래일건물연식', '구', '동', '강남여부', '신축여부', '건축면적',\n",
              "       '연면적', '대지면적', '건폐율', '용적율', '평균층수', 'target'],\n",
              "      dtype='object')"
            ]
          },
          "execution_count": 210,
          "metadata": {},
          "output_type": "execute_result"
        }
      ],
      "source": [
        "concat = pd.read_csv('../data/base_dataset_2.csv')\n",
        "\n",
        "concat.columns"
      ]
    },
    {
      "cell_type": "code",
      "execution_count": 211,
      "metadata": {},
      "outputs": [],
      "source": [
        "str_columns = ['본번', '부번', '거래취소여부', '구', '동', '강남여부', '신축여부']\n",
        "\n",
        "concat[str_columns] = concat[str_columns].astype(str)"
      ]
    },
    {
      "cell_type": "code",
      "execution_count": 212,
      "metadata": {
        "colab": {
          "base_uri": "https://localhost:8080/"
        },
        "id": "wVdU-Ge00OGM",
        "outputId": "6bd1a10a-689a-46ef-c0af-c879be59f715"
      },
      "outputs": [
        {
          "name": "stdout",
          "output_type": "stream",
          "text": [
            "연속형 변수: ['전용면적', '계약일', '층', '건축년도', 'is_test', 'x', 'y', '계약년', '계약월', '거래일건물연식', '건축면적', '연면적', '대지면적', '건폐율', '용적율', '평균층수', 'target']\n",
            "범주형 변수: ['번지', '본번', '부번', '주소', '거래취소여부', '구', '동', '강남여부', '신축여부']\n"
          ]
        }
      ],
      "source": [
        "# 먼저, 연속형 변수와 범주형 변수를 위 info에 따라 분리해주겠습니다.\n",
        "continuous_columns = []\n",
        "categorical_columns = []\n",
        "\n",
        "for column in concat.columns:\n",
        "    if pd.api.types.is_numeric_dtype(concat[column]):\n",
        "        continuous_columns.append(column)\n",
        "    else:\n",
        "        categorical_columns.append(column)\n",
        "\n",
        "print(\"연속형 변수:\", continuous_columns)\n",
        "print(\"범주형 변수:\", categorical_columns)"
      ]
    },
    {
      "cell_type": "markdown",
      "metadata": {
        "id": "pVtoElzZ5Y_z"
      },
      "source": [
        "- 연속형 변수와 범주형 변수가 알맞게 나누어졌는지 확인해보고, 이제 각각 보간을 진행합니다."
      ]
    },
    {
      "cell_type": "code",
      "execution_count": 213,
      "metadata": {
        "id": "193c8GTdzzOX"
      },
      "outputs": [],
      "source": [
        "# 범주형 변수에 대한 보간\n",
        "concat[categorical_columns] = concat[categorical_columns].fillna('NULL')\n",
        "\n",
        "# 연속형 변수에 대한 보간 (선형 보간)\n",
        "concat[continuous_columns] = concat[continuous_columns].interpolate(method='linear', axis=0)"
      ]
    },
    {
      "cell_type": "code",
      "execution_count": 214,
      "metadata": {
        "colab": {
          "base_uri": "https://localhost:8080/"
        },
        "id": "tTJHspKl0mhM",
        "outputId": "d212330d-6c07-4b68-cc0f-d626eb733bc9"
      },
      "outputs": [
        {
          "data": {
            "text/plain": [
              "번지         0\n",
              "본번         0\n",
              "부번         0\n",
              "전용면적       0\n",
              "계약일        0\n",
              "층          0\n",
              "건축년도       0\n",
              "is_test    0\n",
              "주소         0\n",
              "x          0\n",
              "y          0\n",
              "계약년        0\n",
              "계약월        0\n",
              "거래취소여부     0\n",
              "거래일건물연식    0\n",
              "구          0\n",
              "동          0\n",
              "강남여부       0\n",
              "신축여부       0\n",
              "건축면적       0\n",
              "연면적        0\n",
              "대지면적       0\n",
              "건폐율        0\n",
              "용적율        0\n",
              "평균층수       0\n",
              "target     0\n",
              "dtype: int64"
            ]
          },
          "execution_count": 214,
          "metadata": {},
          "output_type": "execute_result"
        }
      ],
      "source": [
        "concat.isnull().sum()         # 결측치가 보간된 모습을 확인해봅니다."
      ]
    },
    {
      "cell_type": "code",
      "execution_count": 215,
      "metadata": {
        "colab": {
          "base_uri": "https://localhost:8080/"
        },
        "id": "t7omvXsd9GP1",
        "outputId": "83808c7b-df9a-46ee-d86a-966e7eff3248"
      },
      "outputs": [
        {
          "name": "stdout",
          "output_type": "stream",
          "text": [
            "(1141120, 26)\n"
          ]
        }
      ],
      "source": [
        "# 이상치 제거 이전의 shape은 아래와 같습니다.\n",
        "print(concat.shape)"
      ]
    },
    {
      "cell_type": "code",
      "execution_count": 216,
      "metadata": {
        "colab": {
          "base_uri": "https://localhost:8080/",
          "height": 332
        },
        "id": "MGxTxfr06n3F",
        "outputId": "6c5c8c01-20f8-4d61-dde7-87187dd2f5bd"
      },
      "outputs": [
        {
          "data": {
            "image/png": "[encoded data removed]",
            "text/plain": [
              "<Figure size 700x300 with 1 Axes>"
            ]
          },
          "metadata": {},
          "output_type": "display_data"
        }
      ],
      "source": [
        "# 대표적인 연속형 변수인 “전용 면적” 변수 관련한 분포를 먼저 살펴보도록 하겠습니다.\n",
        "fig = plt.figure(figsize=(7, 3))\n",
        "sns.boxplot(data = concat, x = '전용면적', color='lightgreen')\n",
        "plt.title('전용면적 분포')\n",
        "plt.xlabel('Area')\n",
        "plt.show()"
      ]
    },
    {
      "cell_type": "code",
      "execution_count": 217,
      "metadata": {},
      "outputs": [],
      "source": [
        "# 계약년, 계약월, 계약일을 기준으로 시간 순서대로 정렬\n",
        "concat = concat.sort_values(by=['계약년', '계약월', '계약일']).reset_index(drop=True)"
      ]
    },
    {
      "cell_type": "code",
      "execution_count": 218,
      "metadata": {},
      "outputs": [
        {
          "name": "stdout",
          "output_type": "stream",
          "text": [
            "        계약년  계약월  계약일\n",
            "0      2007    1    1\n",
            "1      2007    1    1\n",
            "2      2007    1    1\n",
            "3      2007    1    1\n",
            "4      2007    1    1\n",
            "...     ...  ...  ...\n",
            "99995  2008    6    5\n",
            "99996  2008    6    5\n",
            "99997  2008    6    5\n",
            "99998  2008    6    5\n",
            "99999  2008    6    5\n",
            "\n",
            "[100000 rows x 3 columns]\n"
          ]
        }
      ],
      "source": [
        "# 상위 1000개 데이터 중에서 '계약년', '계약월', '계약일' 열만 선택\n",
        "result = concat[['계약년', '계약월', '계약일']].head(100000)\n",
        "\n",
        "# 결과 출력\n",
        "print(result)"
      ]
    },
    {
      "cell_type": "code",
      "execution_count": 219,
      "metadata": {
        "id": "fOCSdvBd8GJq"
      },
      "outputs": [],
      "source": [
        "# 이상치 제거 방법에는 IQR을 이용하겠습니다.\n",
        "def remove_outliers_iqr(dt, column_name):\n",
        "    df = dt.query('is_test == 0')       # train data 내에 있는 이상치만 제거하도록 하겠습니다.\n",
        "    df_test = dt.query('is_test == 1')\n",
        "\n",
        "    Q1 = df[column_name].quantile(0.25)\n",
        "    Q3 = df[column_name].quantile(0.75)\n",
        "    IQR = Q3 - Q1\n",
        "\n",
        "    lower_bound = Q1 - 1.5 * IQR\n",
        "    upper_bound = Q3 + 1.5 * IQR\n",
        "\n",
        "    df = df[(df[column_name] >= lower_bound) & (df[column_name] <= upper_bound)]\n",
        "\n",
        "    result = pd.concat([df, df_test])   # test data와 다시 합쳐주겠습니다.\n",
        "    return result"
      ]
    },
    {
      "cell_type": "code",
      "execution_count": 220,
      "metadata": {
        "id": "F_GJQBVX8AH9"
      },
      "outputs": [],
      "source": [
        "# 위 방법으로 전용 면적에 대한 이상치를 제거해보겠습니다.\n",
        "concat_select = remove_outliers_iqr(concat, '전용면적')"
      ]
    },
    {
      "cell_type": "code",
      "execution_count": 221,
      "metadata": {
        "colab": {
          "base_uri": "https://localhost:8080/"
        },
        "id": "RZitCX1tEvWX",
        "outputId": "c01ac230-4e49-4d8f-a0f0-8805de9499cc"
      },
      "outputs": [
        {
          "data": {
            "text/plain": [
              "0    1041193\n",
              "1       9390\n",
              "Name: is_test, dtype: int64"
            ]
          },
          "execution_count": 221,
          "metadata": {},
          "output_type": "execute_result"
        }
      ],
      "source": [
        "concat_select['is_test'].value_counts()     # 또한, train data만 제거되었습니다."
      ]
    },
    {
      "cell_type": "code",
      "execution_count": 222,
      "metadata": {
        "colab": {
          "base_uri": "https://localhost:8080/",
          "height": 179
        },
        "id": "PWuNlTfN_FMs",
        "outputId": "971536d0-d21a-4c07-809a-27260680439e"
      },
      "outputs": [
        {
          "name": "stdout",
          "output_type": "stream",
          "text": [
            "<class 'pandas.core.frame.DataFrame'>\n",
            "Int64Index: 1050583 entries, 0 to 1141119\n",
            "Data columns (total 26 columns):\n",
            " #   Column   Non-Null Count    Dtype  \n",
            "---  ------   --------------    -----  \n",
            " 0   번지       1050583 non-null  object \n",
            " 1   본번       1050583 non-null  object \n",
            " 2   부번       1050583 non-null  object \n",
            " 3   전용면적     1050583 non-null  float64\n",
            " 4   계약일      1050583 non-null  int64  \n",
            " 5   층        1050583 non-null  int64  \n",
            " 6   건축년도     1050583 non-null  int64  \n",
            " 7   is_test  1050583 non-null  int64  \n",
            " 8   주소       1050583 non-null  object \n",
            " 9   x        1050583 non-null  float64\n",
            " 10  y        1050583 non-null  float64\n",
            " 11  계약년      1050583 non-null  int64  \n",
            " 12  계약월      1050583 non-null  int64  \n",
            " 13  거래취소여부   1050583 non-null  object \n",
            " 14  거래일건물연식  1050583 non-null  int64  \n",
            " 15  구        1050583 non-null  object \n",
            " 16  동        1050583 non-null  object \n",
            " 17  강남여부     1050583 non-null  object \n",
            " 18  신축여부     1050583 non-null  object \n",
            " 19  건축면적     1050583 non-null  float64\n",
            " 20  연면적      1050583 non-null  float64\n",
            " 21  대지면적     1050583 non-null  float64\n",
            " 22  건폐율      1050583 non-null  float64\n",
            " 23  용적율      1050583 non-null  float64\n",
            " 24  평균층수     1050583 non-null  float64\n",
            " 25  target   1050583 non-null  float64\n",
            "dtypes: float64(10), int64(7), object(9)\n",
            "memory usage: 216.4+ MB\n"
          ]
        }
      ],
      "source": [
        "concat_select.info()       # 최종 데이터셋은 아래와 같습니다."
      ]
    },
    {
      "cell_type": "markdown",
      "metadata": {
        "id": "ytuwazY43gwQ"
      },
      "source": [
        "- 이제 위에서 만든 파생변수들과 정제한 데이터를 기반으로 본격적으로 부동산 실거래가를 예측하는 모델링을 진행하겠습니다.\n",
        "- 모델링에는 `sklearn`의 `RandomForest`를 이용하도록 하겠습니다.\n",
        "\n",
        "- 참고 ✅\n",
        "  - `RandomForest`는 배깅(Bagging)의 일종으로, 학습시키는 데이터 뿐 아니라 특성변수(X)들도 무작위로 선택해 트리를 생성하는 방법입니다.\n",
        "  - 모델 학습 과정에서 서로 다른 N개의 Tree 생성하고, N개의 Tree에서 발생한 Output을 Voting(범주형, 분류문제)하거나, Average(연속형, 회귀문제)해 최종 Output 생성합니다.\n",
        "  - 이는 High variance, Low bias 상황에서 분산(Variance) 감소에 도움을 줍니다."
      ]
    },
    {
      "cell_type": "code",
      "execution_count": 223,
      "metadata": {
        "colab": {
          "base_uri": "https://localhost:8080/"
        },
        "id": "9E__0jEyyXIA",
        "outputId": "ffb3cc6e-d337-4ed6-96d1-ddf96dc97449"
      },
      "outputs": [
        {
          "name": "stdout",
          "output_type": "stream",
          "text": [
            "(1041193, 25) (9390, 25)\n"
          ]
        }
      ],
      "source": [
        "# 이제 다시 train과 test dataset을 분할해줍니다. 위에서 제작해 놓았던 is_test 칼럼을 이용합니다.\n",
        "dt_train = concat_select.query('is_test==0')\n",
        "dt_test = concat_select.query('is_test==1')\n",
        "\n",
        "# 이제 is_test 칼럼은 drop해줍니다.\n",
        "dt_train.drop(['is_test'], axis = 1, inplace=True)\n",
        "dt_test.drop(['is_test'], axis = 1, inplace=True)\n",
        "print(dt_train.shape, dt_test.shape)\n",
        "\n",
        "# dt_test의 target은 일단 0으로 임의로 채워주도록 하겠습니다.\n",
        "dt_test['target'] = 0"
      ]
    },
    {
      "cell_type": "markdown",
      "metadata": {
        "id": "wdHNkPO_3tSb"
      },
      "source": [
        "### 5.1. 범주형 변수 Encoding\n",
        "- 범주형 변수는 그대로 모델에 투입하면, 모델이 제대로 작동할 수 없습니다.\n",
        "- 따라서 **레이블 인코딩 과정**을 통해 범주형 변수들을 numeric하게 바꾸는 인코딩 과정을 진행해주도록 하겠습니다."
      ]
    },
    {
      "cell_type": "code",
      "execution_count": 224,
      "metadata": {
        "colab": {
          "base_uri": "https://localhost:8080/"
        },
        "id": "yCW2dTz12VMZ",
        "notebookRunGroups": {
          "groupValue": "1"
        },
        "outputId": "5c81b9e1-0462-421e-cb77-6b056532e5cd"
      },
      "outputs": [
        {
          "name": "stdout",
          "output_type": "stream",
          "text": [
            "연속형 변수: ['전용면적', '계약일', '층', '건축년도', 'x', 'y', '계약년', '계약월', '거래일건물연식', '건축면적', '연면적', '대지면적', '건폐율', '용적율', '평균층수', 'target']\n",
            "범주형 변수: ['번지', '본번', '부번', '주소', '거래취소여부', '구', '동', '강남여부', '신축여부']\n"
          ]
        },
        {
          "name": "stderr",
          "output_type": "stream",
          "text": [
            "100%|██████████| 9/9 [00:04<00:00,  2.23it/s]\n"
          ]
        }
      ],
      "source": [
        "# 파생변수 제작으로 추가된 변수들이 존재하기에, 다시한번 연속형과 범주형 칼럼을 분리해주겠습니다.\n",
        "continuous_columns_v2 = []\n",
        "categorical_columns_v2 = []\n",
        "\n",
        "for column in dt_train.columns:\n",
        "    if pd.api.types.is_numeric_dtype(dt_train[column]):\n",
        "        continuous_columns_v2.append(column)\n",
        "    else:\n",
        "        categorical_columns_v2.append(column)\n",
        "\n",
        "print(\"연속형 변수:\", continuous_columns_v2)\n",
        "print(\"범주형 변수:\", categorical_columns_v2)\n",
        "\n",
        "\n",
        "# 아래에서 범주형 변수들을 대상으로 레이블인코딩을 진행해 주겠습니다.\n",
        "\n",
        "# 각 변수에 대한 LabelEncoder를 저장할 딕셔너리\n",
        "label_encoders = {}\n",
        "\n",
        "# Implement Label Encoding\n",
        "for col in tqdm( categorical_columns ):\n",
        "    lbl = LabelEncoder()\n",
        "\n",
        "    # Label-Encoding을 fit\n",
        "    lbl.fit( dt_train[col].astype(str) )\n",
        "    dt_train[col] = lbl.transform(dt_train[col].astype(str))\n",
        "    label_encoders[col] = lbl           # 나중에 후처리를 위해 레이블인코더를 저장해주겠습니다.\n",
        "\n",
        "    # Test 데이터에만 존재하는 새로 출현한 데이터를 신규 클래스로 추가해줍니다.\n",
        "    for label in np.unique(dt_test[col]):\n",
        "      if label not in lbl.classes_: # unseen label 데이터인 경우\n",
        "        lbl.classes_ = np.append(lbl.classes_, label) # 미처리 시 ValueError발생하니 주의하세요!\n",
        "\n",
        "    dt_test[col] = lbl.transform(dt_test[col].astype(str))\n"
      ]
    },
    {
      "cell_type": "code",
      "execution_count": 225,
      "metadata": {},
      "outputs": [
        {
          "name": "stdout",
          "output_type": "stream",
          "text": [
            "계약년 최소값: 2007\n",
            "계약년 최대값: 2023\n",
            "계약년 평균값: 2014.6170479440411\n"
          ]
        }
      ],
      "source": [
        "# 계약년의 최소, 최대, 평균값 출력\n",
        "contract_year_train = dt_train['계약년']\n",
        "print(f\"계약년 최소값: {contract_year_train.min()}\")\n",
        "print(f\"계약년 최대값: {contract_year_train.max()}\")\n",
        "print(f\"계약년 평균값: {contract_year_train.mean()}\")"
      ]
    },
    {
      "cell_type": "code",
      "execution_count": 226,
      "metadata": {},
      "outputs": [
        {
          "name": "stdout",
          "output_type": "stream",
          "text": [
            "계약년 결측값 개수: 0\n",
            "계약월 결측값 개수: 0\n",
            "계약년 결측값 개수: 0\n",
            "계약월 결측값 개수: 0\n"
          ]
        }
      ],
      "source": [
        "# 계약년, 계약월에 결측값이 있는지 확인\n",
        "missing_contract_year = dt_train['계약년'].isnull().sum()\n",
        "missing_contract_month = dt_train['계약월'].isnull().sum()\n",
        "\n",
        "print(f\"계약년 결측값 개수: {missing_contract_year}\")\n",
        "print(f\"계약월 결측값 개수: {missing_contract_month}\")\n",
        "\n",
        "# 계약년, 계약월에 결측값이 있는지 확인\n",
        "missing_contract_year_test = dt_test['계약년'].isnull().sum()\n",
        "missing_contract_month_test = dt_test['계약월'].isnull().sum()\n",
        "\n",
        "print(f\"계약년 결측값 개수: {missing_contract_year_test}\")\n",
        "print(f\"계약월 결측값 개수: {missing_contract_month_test}\")"
      ]
    },
    {
      "cell_type": "code",
      "execution_count": 227,
      "metadata": {},
      "outputs": [
        {
          "name": "stdout",
          "output_type": "stream",
          "text": [
            "LSTM 모델을 위한 연속형 변수들: ['전용면적', '계약일', '층', '건축년도', 'x', 'y', '계약년', '계약월', '거래일건물연식', '건축면적', '연면적', '대지면적', '건폐율', '용적율', '평균층수', 'target']\n",
            "최종 LSTM 모델을 위한 연속형 변수들: ['전용면적', '층', '건축년도', 'x', 'y', '계약년', '거래일건물연식', '건축면적', '연면적', '대지면적', '건폐율', '용적율', '평균층수', 'target', '계약월_sin', '계약월_cos', '계약일_sin', '계약일_cos', '계약년']\n"
          ]
        }
      ],
      "source": [
        "from sklearn.preprocessing import MinMaxScaler\n",
        "\n",
        "# LSTM 모델을 위한 연속형 변수들만 따로 관리\n",
        "lstm_continuous_columns = continuous_columns_v2.copy()\n",
        "print(\"LSTM 모델을 위한 연속형 변수들:\", lstm_continuous_columns)\n",
        "\n",
        "# 계약년, 계약월, 계약일을 주기성을 유지하면서 스케일링 처리\n",
        "# 계약년을 따로 저장해두고 이후 스케일링할 예정\n",
        "contract_year_train = dt_train['계약년'].copy()\n",
        "contract_year_test = dt_test['계약년'].copy()\n",
        "\n",
        "# 계약월, 계약일은 나중에 cyclic_transform으로 변환할 것이므로 제거\n",
        "lstm_continuous_columns.remove('계약월')\n",
        "lstm_continuous_columns.remove('계약일')\n",
        "\n",
        "# 계약월, 계약일은 주기성을 고려해 sin/cos 변환\n",
        "def cyclic_transform(df, column, max_val):\n",
        "    df[f'{column}_sin'] = np.sin(2 * np.pi * df[column] / max_val)\n",
        "    df[f'{column}_cos'] = np.cos(2 * np.pi * df[column] / max_val)\n",
        "    df.drop(column, axis=1, inplace=True)\n",
        "\n",
        "cyclic_transform(dt_train, '계약월', 12)\n",
        "cyclic_transform(dt_test, '계약월', 12)\n",
        "cyclic_transform(dt_train, '계약일', 31)\n",
        "cyclic_transform(dt_test, '계약일', 31)\n",
        "\n",
        "# 새로 추가된 sin, cos 변환 컬럼을 lstm_continuous_columns에 추가\n",
        "lstm_continuous_columns.extend(['계약월_sin', '계약월_cos', '계약일_sin', '계약일_cos'])\n",
        "\n",
        "# 계약년을 스케일링 (Min-Max Scaling, 2025년 기준)\n",
        "def scale_contract_year(train_years, test_years):\n",
        "    max_year = 2025\n",
        "    min_year = train_years.min()  # 훈련 데이터 기준으로 최소 계약년\n",
        "    train_scaled = (train_years - min_year) / (max_year - min_year)\n",
        "    test_scaled = (test_years - min_year) / (max_year - min_year)\n",
        "    return train_scaled, test_scaled\n",
        "\n",
        "contract_year_train_scaled, contract_year_test_scaled = scale_contract_year(contract_year_train, contract_year_test)\n",
        "\n",
        "# 스케일링된 계약년을 다시 데이터프레임에 추가\n",
        "dt_train['계약년'] = contract_year_train_scaled\n",
        "dt_test['계약년'] = contract_year_test_scaled \n",
        "\n",
        "# 계약년을 다시 lstm_continuous_columns에 추가\n",
        "lstm_continuous_columns.append('계약년')\n",
        "\n",
        "# 스케일링된 데이터를 새로운 변수에 저장\n",
        "scaled_train_lstm = dt_train[lstm_continuous_columns].copy()\n",
        "scaled_test_lstm = dt_test[lstm_continuous_columns].copy()\n",
        "\n",
        "# 나머지 연속형 변수들에 대해 스케일링 (Min-Max Scaling)\n",
        "scaler = MinMaxScaler()\n",
        "scaled_train_lstm = scaler.fit_transform(scaled_train_lstm)\n",
        "scaled_test_lstm = scaler.transform(scaled_test_lstm)\n",
        "\n",
        "print(\"최종 LSTM 모델을 위한 연속형 변수들:\", lstm_continuous_columns)"
      ]
    },
    {
      "cell_type": "code",
      "execution_count": 228,
      "metadata": {},
      "outputs": [
        {
          "name": "stdout",
          "output_type": "stream",
          "text": [
            "스케일링된 훈련 데이터 일부: [[6.21159735e-01 1.44927536e-01 6.77419355e-01 9.13925834e-01\n",
            "  4.25897652e-01 0.00000000e+00 2.08333333e-01 6.19809433e-03\n",
            "  6.71013585e-04 2.58788143e-04 4.21648793e-04 5.39839926e-04\n",
            "  4.35959258e-03 3.70154911e-02 7.50000000e-01 9.33012702e-01\n",
            "  6.00778609e-01 9.89738647e-01 0.00000000e+00]\n",
            " [3.78148770e-01 1.59420290e-01 7.25806452e-01 8.83990247e-01\n",
            "  3.99480128e-01 0.00000000e+00 1.66666667e-01 6.30670387e-03\n",
            "  9.50241567e-04 1.46374968e-04 8.82582552e-04 8.67948541e-04\n",
            "  4.51392683e-03 3.93723735e-02 7.50000000e-01 9.33012702e-01\n",
            "  6.00778609e-01 9.89738647e-01 0.00000000e+00]\n",
            " [3.78247555e-01 2.60869565e-01 6.12903226e-01 8.47051115e-02\n",
            "  5.58059524e-01 0.00000000e+00 2.63888889e-01 8.06509013e-03\n",
            "  2.68358432e-03 1.27812658e-02 4.34489568e-03 3.76412633e-03\n",
            "  4.31852658e-03 5.62149242e-02 7.50000000e-01 9.33012702e-01\n",
            "  6.00778609e-01 9.89738647e-01 0.00000000e+00]\n",
            " [3.77852415e-01 1.73913043e-01 5.48387097e-01 6.84389087e-01\n",
            "  7.70073573e-01 0.00000000e+00 3.19444444e-01 8.40407764e-03\n",
            "  3.14405712e-03 1.57959497e-02 4.39765784e-03 3.82569999e-03\n",
            "  4.34058743e-03 2.93518736e-02 7.50000000e-01 9.33012702e-01\n",
            "  6.00778609e-01 9.89738647e-01 0.00000000e+00]\n",
            " [3.71925319e-01 1.59420290e-01 5.64516129e-01 7.12231109e-01\n",
            "  8.75782665e-01 0.00000000e+00 3.05555556e-01 9.28677912e-03\n",
            "  5.45129383e-03 1.73743255e-02 4.42258000e-03 3.85267639e-03\n",
            "  4.58800252e-03 4.15187705e-02 7.50000000e-01 9.33012702e-01\n",
            "  6.00778609e-01 9.89738647e-01 0.00000000e+00]]\n",
            "스케일링된 테스트 데이터 일부: [[ 3.77259706e-01  1.15942029e-01  6.29032258e-01  6.73413256e-01\n",
            "   2.44683344e-01  1.00000000e+00  4.72222222e-01  1.17076426e-02\n",
            "   9.39961990e-03  2.07144238e-02  4.47063191e-03  3.90549665e-03\n",
            "   4.62799932e-03 -5.80171509e-04  2.50000000e-01  6.69872981e-02\n",
            "   6.00778609e-01  9.89738647e-01  1.00000000e+00]\n",
            " [ 5.44305048e-01  2.46376812e-01  2.90322581e-01  6.91897969e-01\n",
            "   2.48755258e-01  1.00000000e+00  7.63888889e-01  3.25402275e-02\n",
            "   3.22913496e-02  4.48512390e-02  4.78957118e-03  4.26143704e-03\n",
            "   4.38982838e-03 -5.80171509e-04  2.50000000e-01  6.69872981e-02\n",
            "   6.00778609e-01  9.89738647e-01  1.00000000e+00]\n",
            " [ 6.24617208e-01  1.30434783e-01  3.87096774e-01  6.15157256e-01\n",
            "   3.35390395e-01  1.00000000e+00  6.80555556e-01  9.36150587e-03\n",
            "   4.39817673e-03  1.69891931e-02  4.41403945e-03  3.84385561e-03\n",
            "   4.37273717e-03 -5.80171509e-04  2.50000000e-01  6.69872981e-02\n",
            "   6.00778609e-01  9.89738647e-01  1.00000000e+00]\n",
            " [ 1.03368567e+00  2.46376812e-01  3.87096774e-01  6.97297305e-01\n",
            "   2.32859463e-01  1.00000000e+00  6.80555556e-01  2.59197443e-02\n",
            "   2.44832273e-02  3.69591112e-02  4.68366484e-03  4.14357796e-03\n",
            "   4.39434840e-03 -5.80171509e-04  2.50000000e-01  6.69872981e-02\n",
            "   6.00778609e-01  9.89738647e-01  1.00000000e+00]\n",
            " [ 6.25012348e-01  1.15942029e-01  3.87096774e-01  6.97297305e-01\n",
            "   2.32859463e-01  1.00000000e+00  6.80555556e-01  2.59197443e-02\n",
            "   2.44832273e-02  3.69591112e-02  4.68366484e-03  4.14357796e-03\n",
            "   4.39434840e-03 -5.80171509e-04  2.50000000e-01  6.69872981e-02\n",
            "   6.00778609e-01  9.89738647e-01  1.00000000e+00]]\n"
          ]
        }
      ],
      "source": [
        "print(\"스케일링된 훈련 데이터 일부:\", scaled_train_lstm[:5])\n",
        "print(\"스케일링된 테스트 데이터 일부:\", scaled_test_lstm[:5])"
      ]
    },
    {
      "cell_type": "code",
      "execution_count": 229,
      "metadata": {},
      "outputs": [
        {
          "data": {
            "text/plain": [
              "array([[0.62115974, 0.14492754, 0.67741935, ..., 0.60077861, 0.98973865,\n",
              "        0.        ],\n",
              "       [0.37814877, 0.15942029, 0.72580645, ..., 0.60077861, 0.98973865,\n",
              "        0.        ],\n",
              "       [0.37824756, 0.26086957, 0.61290323, ..., 0.60077861, 0.98973865,\n",
              "        0.        ],\n",
              "       ...,\n",
              "       [0.6253087 , 0.13043478, 0.5483871 , ..., 0.39922139, 0.98973865,\n",
              "        1.        ],\n",
              "       [0.37607429, 0.37681159, 0.58064516, ..., 0.39922139, 0.98973865,\n",
              "        1.        ],\n",
              "       [0.62481478, 0.27536232, 0.74193548, ..., 0.39922139, 0.98973865,\n",
              "        1.        ]])"
            ]
          },
          "execution_count": 229,
          "metadata": {},
          "output_type": "execute_result"
        }
      ],
      "source": [
        "scaled_train_lstm"
      ]
    },
    {
      "cell_type": "code",
      "execution_count": 230,
      "metadata": {},
      "outputs": [
        {
          "data": {
            "text/plain": [
              "array([ 331.08667376,  351.84258796,  500.16672224, ...,  858.92457936,\n",
              "       1062.58366801, 1412.76194961])"
            ]
          },
          "execution_count": 230,
          "metadata": {},
          "output_type": "execute_result"
        }
      ],
      "source": [
        "dt_train['target'].values"
      ]
    },
    {
      "cell_type": "code",
      "execution_count": 231,
      "metadata": {},
      "outputs": [],
      "source": [
        "import os\n",
        "import tensorflow as tf\n",
        "from tensorflow.keras.models import Sequential, load_model\n",
        "from tensorflow.keras.layers import LSTM, Dense\n",
        "from tensorflow.keras.callbacks import EarlyStopping, ModelCheckpoint\n",
        "\n",
        "# LSTM 모델을 위한 데이터 준비\n",
        "X_train_lstm = scaled_train_lstm  # 스케일링된 train 데이터를 사용\n",
        "X_test_lstm = scaled_test_lstm    # 스케일링된 test 데이터를 사용\n",
        "y_train = dt_train['target'].values  # LSTM 모델의 타겟\n",
        "\n",
        "timesteps = 1  # timestep 설정\n",
        "n_features = X_train_lstm.shape[1]  # features의 개수\n",
        "\n",
        "# 시계열 데이터를 3D 형태로 reshape\n",
        "n_samples_train = (X_train_lstm.shape[0] // timesteps) * timesteps\n",
        "n_samples_test = (X_test_lstm.shape[0] // timesteps) * timesteps\n",
        "\n",
        "X_train_lstm_reshaped = np.reshape(X_train_lstm[:n_samples_train], (n_samples_train // timesteps, timesteps, n_features))\n",
        "X_test_lstm_reshaped = np.reshape(X_test_lstm[:n_samples_test], (n_samples_test // timesteps, timesteps, n_features))\n",
        "\n",
        "# y_train도 LSTM 입력에 맞게 자르기\n",
        "y_train_lstm = y_train[:n_samples_train].reshape(-1, timesteps).mean(axis=1)"
      ]
    },
    {
      "cell_type": "code",
      "execution_count": 232,
      "metadata": {},
      "outputs": [
        {
          "name": "stdout",
          "output_type": "stream",
          "text": [
            "스케일링된 훈련 데이터 일부 (scaled_train_lstm):\n",
            "[[6.21159735e-01 1.44927536e-01 6.77419355e-01 9.13925834e-01\n",
            "  4.25897652e-01 0.00000000e+00 2.08333333e-01 6.19809433e-03\n",
            "  6.71013585e-04 2.58788143e-04 4.21648793e-04 5.39839926e-04\n",
            "  4.35959258e-03 3.70154911e-02 7.50000000e-01 9.33012702e-01\n",
            "  6.00778609e-01 9.89738647e-01 0.00000000e+00]\n",
            " [3.78148770e-01 1.59420290e-01 7.25806452e-01 8.83990247e-01\n",
            "  3.99480128e-01 0.00000000e+00 1.66666667e-01 6.30670387e-03\n",
            "  9.50241567e-04 1.46374968e-04 8.82582552e-04 8.67948541e-04\n",
            "  4.51392683e-03 3.93723735e-02 7.50000000e-01 9.33012702e-01\n",
            "  6.00778609e-01 9.89738647e-01 0.00000000e+00]\n",
            " [3.78247555e-01 2.60869565e-01 6.12903226e-01 8.47051115e-02\n",
            "  5.58059524e-01 0.00000000e+00 2.63888889e-01 8.06509013e-03\n",
            "  2.68358432e-03 1.27812658e-02 4.34489568e-03 3.76412633e-03\n",
            "  4.31852658e-03 5.62149242e-02 7.50000000e-01 9.33012702e-01\n",
            "  6.00778609e-01 9.89738647e-01 0.00000000e+00]\n",
            " [3.77852415e-01 1.73913043e-01 5.48387097e-01 6.84389087e-01\n",
            "  7.70073573e-01 0.00000000e+00 3.19444444e-01 8.40407764e-03\n",
            "  3.14405712e-03 1.57959497e-02 4.39765784e-03 3.82569999e-03\n",
            "  4.34058743e-03 2.93518736e-02 7.50000000e-01 9.33012702e-01\n",
            "  6.00778609e-01 9.89738647e-01 0.00000000e+00]\n",
            " [3.71925319e-01 1.59420290e-01 5.64516129e-01 7.12231109e-01\n",
            "  8.75782665e-01 0.00000000e+00 3.05555556e-01 9.28677912e-03\n",
            "  5.45129383e-03 1.73743255e-02 4.42258000e-03 3.85267639e-03\n",
            "  4.58800252e-03 4.15187705e-02 7.50000000e-01 9.33012702e-01\n",
            "  6.00778609e-01 9.89738647e-01 0.00000000e+00]]\n",
            "\n",
            "스케일링된 테스트 데이터 일부 (scaled_test_lstm):\n",
            "[[ 3.77259706e-01  1.15942029e-01  6.29032258e-01  6.73413256e-01\n",
            "   2.44683344e-01  1.00000000e+00  4.72222222e-01  1.17076426e-02\n",
            "   9.39961990e-03  2.07144238e-02  4.47063191e-03  3.90549665e-03\n",
            "   4.62799932e-03 -5.80171509e-04  2.50000000e-01  6.69872981e-02\n",
            "   6.00778609e-01  9.89738647e-01  1.00000000e+00]\n",
            " [ 5.44305048e-01  2.46376812e-01  2.90322581e-01  6.91897969e-01\n",
            "   2.48755258e-01  1.00000000e+00  7.63888889e-01  3.25402275e-02\n",
            "   3.22913496e-02  4.48512390e-02  4.78957118e-03  4.26143704e-03\n",
            "   4.38982838e-03 -5.80171509e-04  2.50000000e-01  6.69872981e-02\n",
            "   6.00778609e-01  9.89738647e-01  1.00000000e+00]\n",
            " [ 6.24617208e-01  1.30434783e-01  3.87096774e-01  6.15157256e-01\n",
            "   3.35390395e-01  1.00000000e+00  6.80555556e-01  9.36150587e-03\n",
            "   4.39817673e-03  1.69891931e-02  4.41403945e-03  3.84385561e-03\n",
            "   4.37273717e-03 -5.80171509e-04  2.50000000e-01  6.69872981e-02\n",
            "   6.00778609e-01  9.89738647e-01  1.00000000e+00]\n",
            " [ 1.03368567e+00  2.46376812e-01  3.87096774e-01  6.97297305e-01\n",
            "   2.32859463e-01  1.00000000e+00  6.80555556e-01  2.59197443e-02\n",
            "   2.44832273e-02  3.69591112e-02  4.68366484e-03  4.14357796e-03\n",
            "   4.39434840e-03 -5.80171509e-04  2.50000000e-01  6.69872981e-02\n",
            "   6.00778609e-01  9.89738647e-01  1.00000000e+00]\n",
            " [ 6.25012348e-01  1.15942029e-01  3.87096774e-01  6.97297305e-01\n",
            "   2.32859463e-01  1.00000000e+00  6.80555556e-01  2.59197443e-02\n",
            "   2.44832273e-02  3.69591112e-02  4.68366484e-03  4.14357796e-03\n",
            "   4.39434840e-03 -5.80171509e-04  2.50000000e-01  6.69872981e-02\n",
            "   6.00778609e-01  9.89738647e-01  1.00000000e+00]]\n",
            "\n",
            "LSTM 입력으로 사용되는 3D 형태로 변환된 훈련 데이터 (X_train_lstm_reshaped):\n",
            "[[[6.21159735e-01 1.44927536e-01 6.77419355e-01 9.13925834e-01\n",
            "   4.25897652e-01 0.00000000e+00 2.08333333e-01 6.19809433e-03\n",
            "   6.71013585e-04 2.58788143e-04 4.21648793e-04 5.39839926e-04\n",
            "   4.35959258e-03 3.70154911e-02 7.50000000e-01 9.33012702e-01\n",
            "   6.00778609e-01 9.89738647e-01 0.00000000e+00]]\n",
            "\n",
            " [[3.78148770e-01 1.59420290e-01 7.25806452e-01 8.83990247e-01\n",
            "   3.99480128e-01 0.00000000e+00 1.66666667e-01 6.30670387e-03\n",
            "   9.50241567e-04 1.46374968e-04 8.82582552e-04 8.67948541e-04\n",
            "   4.51392683e-03 3.93723735e-02 7.50000000e-01 9.33012702e-01\n",
            "   6.00778609e-01 9.89738647e-01 0.00000000e+00]]\n",
            "\n",
            " [[3.78247555e-01 2.60869565e-01 6.12903226e-01 8.47051115e-02\n",
            "   5.58059524e-01 0.00000000e+00 2.63888889e-01 8.06509013e-03\n",
            "   2.68358432e-03 1.27812658e-02 4.34489568e-03 3.76412633e-03\n",
            "   4.31852658e-03 5.62149242e-02 7.50000000e-01 9.33012702e-01\n",
            "   6.00778609e-01 9.89738647e-01 0.00000000e+00]]\n",
            "\n",
            " [[3.77852415e-01 1.73913043e-01 5.48387097e-01 6.84389087e-01\n",
            "   7.70073573e-01 0.00000000e+00 3.19444444e-01 8.40407764e-03\n",
            "   3.14405712e-03 1.57959497e-02 4.39765784e-03 3.82569999e-03\n",
            "   4.34058743e-03 2.93518736e-02 7.50000000e-01 9.33012702e-01\n",
            "   6.00778609e-01 9.89738647e-01 0.00000000e+00]]\n",
            "\n",
            " [[3.71925319e-01 1.59420290e-01 5.64516129e-01 7.12231109e-01\n",
            "   8.75782665e-01 0.00000000e+00 3.05555556e-01 9.28677912e-03\n",
            "   5.45129383e-03 1.73743255e-02 4.42258000e-03 3.85267639e-03\n",
            "   4.58800252e-03 4.15187705e-02 7.50000000e-01 9.33012702e-01\n",
            "   6.00778609e-01 9.89738647e-01 0.00000000e+00]]]\n",
            "\n",
            "LSTM 입력으로 사용되는 3D 형태로 변환된 테스트 데이터 (X_test_lstm_reshaped):\n",
            "[[[ 3.77259706e-01  1.15942029e-01  6.29032258e-01  6.73413256e-01\n",
            "    2.44683344e-01  1.00000000e+00  4.72222222e-01  1.17076426e-02\n",
            "    9.39961990e-03  2.07144238e-02  4.47063191e-03  3.90549665e-03\n",
            "    4.62799932e-03 -5.80171509e-04  2.50000000e-01  6.69872981e-02\n",
            "    6.00778609e-01  9.89738647e-01  1.00000000e+00]]\n",
            "\n",
            " [[ 5.44305048e-01  2.46376812e-01  2.90322581e-01  6.91897969e-01\n",
            "    2.48755258e-01  1.00000000e+00  7.63888889e-01  3.25402275e-02\n",
            "    3.22913496e-02  4.48512390e-02  4.78957118e-03  4.26143704e-03\n",
            "    4.38982838e-03 -5.80171509e-04  2.50000000e-01  6.69872981e-02\n",
            "    6.00778609e-01  9.89738647e-01  1.00000000e+00]]\n",
            "\n",
            " [[ 6.24617208e-01  1.30434783e-01  3.87096774e-01  6.15157256e-01\n",
            "    3.35390395e-01  1.00000000e+00  6.80555556e-01  9.36150587e-03\n",
            "    4.39817673e-03  1.69891931e-02  4.41403945e-03  3.84385561e-03\n",
            "    4.37273717e-03 -5.80171509e-04  2.50000000e-01  6.69872981e-02\n",
            "    6.00778609e-01  9.89738647e-01  1.00000000e+00]]\n",
            "\n",
            " [[ 1.03368567e+00  2.46376812e-01  3.87096774e-01  6.97297305e-01\n",
            "    2.32859463e-01  1.00000000e+00  6.80555556e-01  2.59197443e-02\n",
            "    2.44832273e-02  3.69591112e-02  4.68366484e-03  4.14357796e-03\n",
            "    4.39434840e-03 -5.80171509e-04  2.50000000e-01  6.69872981e-02\n",
            "    6.00778609e-01  9.89738647e-01  1.00000000e+00]]\n",
            "\n",
            " [[ 6.25012348e-01  1.15942029e-01  3.87096774e-01  6.97297305e-01\n",
            "    2.32859463e-01  1.00000000e+00  6.80555556e-01  2.59197443e-02\n",
            "    2.44832273e-02  3.69591112e-02  4.68366484e-03  4.14357796e-03\n",
            "    4.39434840e-03 -5.80171509e-04  2.50000000e-01  6.69872981e-02\n",
            "    6.00778609e-01  9.89738647e-01  1.00000000e+00]]]\n",
            "\n",
            "LSTM 모델의 타겟 (y_train_lstm):\n",
            "[331.08667376 351.84258796 500.16672224 263.59693026 370.74486013]\n"
          ]
        }
      ],
      "source": [
        "# 스케일링된 데이터들의 스케일 확인\n",
        "\n",
        "# scaled_train_lstm, scaled_test_lstm의 스케일 확인 (일부 데이터)\n",
        "print(\"스케일링된 훈련 데이터 일부 (scaled_train_lstm):\")\n",
        "print(scaled_train_lstm[:5])\n",
        "\n",
        "print(\"\\n스케일링된 테스트 데이터 일부 (scaled_test_lstm):\")\n",
        "print(scaled_test_lstm[:5])\n",
        "\n",
        "# 3D reshape된 데이터 스케일 확인\n",
        "print(\"\\nLSTM 입력으로 사용되는 3D 형태로 변환된 훈련 데이터 (X_train_lstm_reshaped):\")\n",
        "print(X_train_lstm_reshaped[:5])\n",
        "\n",
        "print(\"\\nLSTM 입력으로 사용되는 3D 형태로 변환된 테스트 데이터 (X_test_lstm_reshaped):\")\n",
        "print(X_test_lstm_reshaped[:5])\n",
        "\n",
        "# y_train_lstm의 스케일 확인 (일부 데이터)\n",
        "print(\"\\nLSTM 모델의 타겟 (y_train_lstm):\")\n",
        "print(y_train_lstm[:5])"
      ]
    },
    {
      "cell_type": "code",
      "execution_count": 233,
      "metadata": {},
      "outputs": [],
      "source": [
        "import os\n",
        "import tensorflow as tf\n",
        "from tensorflow.keras.models import Sequential, load_model\n",
        "from tensorflow.keras.layers import LSTM, Dense\n",
        "from tensorflow.keras.callbacks import EarlyStopping, ModelCheckpoint\n",
        "\n",
        "# LSTM 모델 저장 경로 설정\n",
        "initial_epochs = 1000  # 한 번에 학습할 에포크 수\n",
        "model_filename_template = \"lstm_model_epoch_{epoch:03d}.keras\"  # 에포크 단위로 파일명 설정\n",
        "model_checkpoint_path = \"lstm_model_checkpoint.keras\"  # 체크포인트 저장 경로\n",
        "additional_epochs = 10  # 추가로 학습할 에포크 수\n",
        "\n",
        "# 저장된 모델이 있는지 확인\n",
        "if os.path.exists(model_checkpoint_path):\n",
        "    print(f\"Saved model '{model_checkpoint_path}' found. Loading the model...\")\n",
        "    model = load_model(model_checkpoint_path)\n",
        "    \n",
        "    # 현재까지 학습된 에포크 수를 불러와 추가 학습할지 결정\n",
        "    current_epochs = int(model.optimizer.iterations.numpy() // (X_train_lstm_reshaped.shape[0] // 32))\n",
        "    print(f\"Current Epochs: {current_epochs}\")\n",
        "    \n",
        "    if current_epochs < initial_epochs + additional_epochs:\n",
        "        print(f\"Resuming training from epoch {current_epochs} for {additional_epochs} more epochs.\")\n",
        "        early_stopping = EarlyStopping(monitor='val_loss', patience=5, verbose=1)\n",
        "        model_checkpoint = ModelCheckpoint(model_checkpoint_path, monitor='val_loss', save_best_only=True, verbose=1)\n",
        "\n",
        "        # 추가 학습 진행\n",
        "        model.fit(X_train_lstm_reshaped, y_train_lstm, \n",
        "                  epochs=current_epochs + additional_epochs, \n",
        "                  initial_epoch=current_epochs,\n",
        "                  batch_size=32, validation_split=0.2, \n",
        "                  callbacks=[early_stopping, model_checkpoint])\n",
        "\n",
        "        # 에포크 단위로 모델 저장\n",
        "        for epoch in range(current_epochs + 1, current_epochs + additional_epochs + 1, 100):\n",
        "            model.save(model_filename_template.format(epoch=epoch))\n",
        "            print(f\"Model saved at epoch {epoch}\")\n",
        "    else:\n",
        "        print(f\"Model has already trained for {current_epochs} epochs. No further training required.\")\n",
        "else:\n",
        "    print(\"No saved model found. Training a new model from scratch...\")\n",
        "    \n",
        "    # LSTM 모델 구축\n",
        "    model = Sequential()\n",
        "    model.add(LSTM(50, input_shape=(X_train_lstm_reshaped.shape[1], X_train_lstm_reshaped.shape[2])))\n",
        "    model.add(Dense(1))\n",
        "    model.compile(loss='mean_squared_error', optimizer='adam')\n",
        "\n",
        "    early_stopping = EarlyStopping(monitor='val_loss', patience=5, verbose=1)\n",
        "    model_checkpoint = ModelCheckpoint(model_checkpoint_path, monitor='val_loss', save_best_only=True, verbose=1)\n",
        "    \n",
        "    # 새로운 모델 학습\n",
        "    model.fit(X_train_lstm_reshaped, y_train_lstm, epochs=initial_epochs,\n",
        "              batch_size=32, validation_split=0.2, callbacks=[early_stopping, model_checkpoint])\n",
        "\n",
        "    # 에포크 단위로 모델 저장\n",
        "    for epoch in range(100, initial_epochs + 1, 100):\n",
        "        model.save(model_filename_template.format(epoch=epoch))\n",
        "        print(f\"Model saved at epoch {epoch}\")"
      ]
    },
    {
      "cell_type": "code",
      "execution_count": 234,
      "metadata": {
        "id": "7S-ow8vVP_YZ"
      },
      "outputs": [
        {
          "name": "stdout",
          "output_type": "stream",
          "text": [
            "Loading the model from lstm_model_epoch_1000.keras...\n"
          ]
        },
        {
          "data": {
            "text/html": [
              "<pre style=\"white-space:pre;overflow-x:auto;line-height:normal;font-family:Menlo,'DejaVu Sans Mono',consolas,'Courier New',monospace\"><span style=\"font-weight: bold\">Model: \"sequential\"</span>\n",
              "</pre>\n"
            ],
            "text/plain": [
              "\u001b[1mModel: \"sequential\"\u001b[0m\n"
            ]
          },
          "metadata": {},
          "output_type": "display_data"
        },
        {
          "data": {
            "text/html": [
              "<pre style=\"white-space:pre;overflow-x:auto;line-height:normal;font-family:Menlo,'DejaVu Sans Mono',consolas,'Courier New',monospace\">┏━━━━━━━━━━━━━━━━━━━━━━━━━━━━━━━━━┳━━━━━━━━━━━━━━━━━━━━━━━━┳━━━━━━━━━━━━━━━┓\n",
              "┃<span style=\"font-weight: bold\"> Layer (type)                    </span>┃<span style=\"font-weight: bold\"> Output Shape           </span>┃<span style=\"font-weight: bold\">       Param # </span>┃\n",
              "┡━━━━━━━━━━━━━━━━━━━━━━━━━━━━━━━━━╇━━━━━━━━━━━━━━━━━━━━━━━━╇━━━━━━━━━━━━━━━┩\n",
              "│ lstm (<span style=\"color: #0087ff; text-decoration-color: #0087ff\">LSTM</span>)                     │ (<span style=\"color: #00d7ff; text-decoration-color: #00d7ff\">None</span>, <span style=\"color: #00af00; text-decoration-color: #00af00\">50</span>)             │        <span style=\"color: #00af00; text-decoration-color: #00af00\">14,000</span> │\n",
              "├─────────────────────────────────┼────────────────────────┼───────────────┤\n",
              "│ dense (<span style=\"color: #0087ff; text-decoration-color: #0087ff\">Dense</span>)                   │ (<span style=\"color: #00d7ff; text-decoration-color: #00d7ff\">None</span>, <span style=\"color: #00af00; text-decoration-color: #00af00\">1</span>)              │            <span style=\"color: #00af00; text-decoration-color: #00af00\">51</span> │\n",
              "└─────────────────────────────────┴────────────────────────┴───────────────┘\n",
              "</pre>\n"
            ],
            "text/plain": [
              "┏━━━━━━━━━━━━━━━━━━━━━━━━━━━━━━━━━┳━━━━━━━━━━━━━━━━━━━━━━━━┳━━━━━━━━━━━━━━━┓\n",
              "┃\u001b[1m \u001b[0m\u001b[1mLayer (type)                   \u001b[0m\u001b[1m \u001b[0m┃\u001b[1m \u001b[0m\u001b[1mOutput Shape          \u001b[0m\u001b[1m \u001b[0m┃\u001b[1m \u001b[0m\u001b[1m      Param #\u001b[0m\u001b[1m \u001b[0m┃\n",
              "┡━━━━━━━━━━━━━━━━━━━━━━━━━━━━━━━━━╇━━━━━━━━━━━━━━━━━━━━━━━━╇━━━━━━━━━━━━━━━┩\n",
              "│ lstm (\u001b[38;5;33mLSTM\u001b[0m)                     │ (\u001b[38;5;45mNone\u001b[0m, \u001b[38;5;34m50\u001b[0m)             │        \u001b[38;5;34m14,000\u001b[0m │\n",
              "├─────────────────────────────────┼────────────────────────┼───────────────┤\n",
              "│ dense (\u001b[38;5;33mDense\u001b[0m)                   │ (\u001b[38;5;45mNone\u001b[0m, \u001b[38;5;34m1\u001b[0m)              │            \u001b[38;5;34m51\u001b[0m │\n",
              "└─────────────────────────────────┴────────────────────────┴───────────────┘\n"
            ]
          },
          "metadata": {},
          "output_type": "display_data"
        },
        {
          "data": {
            "text/html": [
              "<pre style=\"white-space:pre;overflow-x:auto;line-height:normal;font-family:Menlo,'DejaVu Sans Mono',consolas,'Courier New',monospace\"><span style=\"font-weight: bold\"> Total params: </span><span style=\"color: #00af00; text-decoration-color: #00af00\">42,155</span> (164.67 KB)\n",
              "</pre>\n"
            ],
            "text/plain": [
              "\u001b[1m Total params: \u001b[0m\u001b[38;5;34m42,155\u001b[0m (164.67 KB)\n"
            ]
          },
          "metadata": {},
          "output_type": "display_data"
        },
        {
          "data": {
            "text/html": [
              "<pre style=\"white-space:pre;overflow-x:auto;line-height:normal;font-family:Menlo,'DejaVu Sans Mono',consolas,'Courier New',monospace\"><span style=\"font-weight: bold\"> Trainable params: </span><span style=\"color: #00af00; text-decoration-color: #00af00\">14,051</span> (54.89 KB)\n",
              "</pre>\n"
            ],
            "text/plain": [
              "\u001b[1m Trainable params: \u001b[0m\u001b[38;5;34m14,051\u001b[0m (54.89 KB)\n"
            ]
          },
          "metadata": {},
          "output_type": "display_data"
        },
        {
          "data": {
            "text/html": [
              "<pre style=\"white-space:pre;overflow-x:auto;line-height:normal;font-family:Menlo,'DejaVu Sans Mono',consolas,'Courier New',monospace\"><span style=\"font-weight: bold\"> Non-trainable params: </span><span style=\"color: #00af00; text-decoration-color: #00af00\">0</span> (0.00 B)\n",
              "</pre>\n"
            ],
            "text/plain": [
              "\u001b[1m Non-trainable params: \u001b[0m\u001b[38;5;34m0\u001b[0m (0.00 B)\n"
            ]
          },
          "metadata": {},
          "output_type": "display_data"
        },
        {
          "data": {
            "text/html": [
              "<pre style=\"white-space:pre;overflow-x:auto;line-height:normal;font-family:Menlo,'DejaVu Sans Mono',consolas,'Courier New',monospace\"><span style=\"font-weight: bold\"> Optimizer params: </span><span style=\"color: #00af00; text-decoration-color: #00af00\">28,104</span> (109.79 KB)\n",
              "</pre>\n"
            ],
            "text/plain": [
              "\u001b[1m Optimizer params: \u001b[0m\u001b[38;5;34m28,104\u001b[0m (109.79 KB)\n"
            ]
          },
          "metadata": {},
          "output_type": "display_data"
        }
      ],
      "source": [
        "import os\n",
        "import tensorflow as tf\n",
        "from tensorflow.keras.models import load_model\n",
        "\n",
        "# 모델 저장 경로 설정\n",
        "model_path = \"lstm_model_epoch_1000.keras\"  # 이미 학습된 모델 경로\n",
        "\n",
        "# 1. 저장된 LSTM 모델 불러오기\n",
        "if os.path.exists(model_path):\n",
        "    print(f\"Loading the model from {model_path}...\")\n",
        "    model = load_model(model_path)\n",
        "else:\n",
        "    raise FileNotFoundError(f\"No saved model found at {model_path}\")\n",
        "\n",
        "# 모델 로드 후 구조 확인\n",
        "model.summary()"
      ]
    },
    {
      "cell_type": "code",
      "execution_count": 235,
      "metadata": {},
      "outputs": [
        {
          "name": "stdout",
          "output_type": "stream",
          "text": [
            "False\n",
            "False\n"
          ]
        }
      ],
      "source": [
        "# 입력 데이터에 NaN 값이 있는지 확인\n",
        "print(np.isnan(X_test_lstm_reshaped).any())\n",
        "print(np.isnan(X_train_lstm_reshaped).any())"
      ]
    },
    {
      "cell_type": "code",
      "execution_count": 236,
      "metadata": {},
      "outputs": [
        {
          "name": "stdout",
          "output_type": "stream",
          "text": [
            "\u001b[1m32538/32538\u001b[0m \u001b[32m━━━━━━━━━━━━━━━━━━━━\u001b[0m\u001b[37m\u001b[0m \u001b[1m17s\u001b[0m 504us/step\n",
            "\u001b[1m294/294\u001b[0m \u001b[32m━━━━━━━━━━━━━━━━━━━━\u001b[0m\u001b[37m\u001b[0m \u001b[1m0s\u001b[0m 472us/step\n",
            "1041193 1041193\n"
          ]
        }
      ],
      "source": [
        "# 1. LSTM 모델로 예측값 생성 (입력 데이터는 3차원이어야 함)\n",
        "# 이미 numpy 배열이므로 .values를 제거하고 바로 reshape 사용\n",
        "X_train_lstm_reshaped = X_train_lstm.reshape(-1, 1, X_train_lstm.shape[1])\n",
        "X_test_lstm_reshaped = X_test_lstm.reshape(-1, 1, X_test_lstm.shape[1])\n",
        "\n",
        "# LSTM 모델로 예측\n",
        "train_lstm_preds = model.predict(X_train_lstm_reshaped)\n",
        "test_lstm_preds = model.predict(X_test_lstm_reshaped)\n",
        "\n",
        "# 예측값 확인\n",
        "print(len(train_lstm_preds), len(dt_train))"
      ]
    },
    {
      "cell_type": "code",
      "execution_count": 237,
      "metadata": {},
      "outputs": [
        {
          "data": {
            "text/plain": [
              "array([[0.62115974, 0.14492754, 0.67741935, ..., 0.60077861, 0.98973865,\n",
              "        0.        ],\n",
              "       [0.37814877, 0.15942029, 0.72580645, ..., 0.60077861, 0.98973865,\n",
              "        0.        ],\n",
              "       [0.37824756, 0.26086957, 0.61290323, ..., 0.60077861, 0.98973865,\n",
              "        0.        ],\n",
              "       ...,\n",
              "       [0.6253087 , 0.13043478, 0.5483871 , ..., 0.39922139, 0.98973865,\n",
              "        1.        ],\n",
              "       [0.37607429, 0.37681159, 0.58064516, ..., 0.39922139, 0.98973865,\n",
              "        1.        ],\n",
              "       [0.62481478, 0.27536232, 0.74193548, ..., 0.39922139, 0.98973865,\n",
              "        1.        ]])"
            ]
          },
          "execution_count": 237,
          "metadata": {},
          "output_type": "execute_result"
        }
      ],
      "source": [
        "X_train_lstm"
      ]
    },
    {
      "cell_type": "code",
      "execution_count": 238,
      "metadata": {},
      "outputs": [
        {
          "data": {
            "text/plain": [
              "array([[ 331.18243],\n",
              "       [ 351.96234],\n",
              "       [ 500.33588],\n",
              "       ...,\n",
              "       [ 858.50836],\n",
              "       [1062.6285 ],\n",
              "       [1412.4756 ]], dtype=float32)"
            ]
          },
          "execution_count": 238,
          "metadata": {},
          "output_type": "execute_result"
        }
      ],
      "source": [
        "train_lstm_preds"
      ]
    },
    {
      "cell_type": "code",
      "execution_count": 151,
      "metadata": {},
      "outputs": [
        {
          "name": "stdout",
          "output_type": "stream",
          "text": [
            "Index(['번지', '본번', '부번', '전용면적', '층', '건축년도', '주소', 'x', 'y', '계약년', '거래취소여부',\n",
            "       '거래일건물연식', '구', '동', '강남여부', '신축여부', '건축면적', '연면적', '대지면적', '건폐율',\n",
            "       '용적율', '평균층수', 'target', '계약월_sin', '계약월_cos', '계약일_sin', '계약일_cos',\n",
            "       'lstm_output'],\n",
            "      dtype='object') Index(['번지', '본번', '부번', '전용면적', '층', '건축년도', '주소', 'x', 'y', '계약년', '거래취소여부',\n",
            "       '거래일건물연식', '구', '동', '강남여부', '신축여부', '건축면적', '연면적', '대지면적', '건폐율',\n",
            "       '용적율', '평균층수', 'target', '계약월_sin', '계약월_cos', '계약일_sin', '계약일_cos',\n",
            "       'lstm_output'],\n",
            "      dtype='object')\n",
            "Index(['번지', '본번', '부번', '전용면적', '층', '건축년도', '주소', 'x', 'y', '계약년', '거래취소여부',\n",
            "       '거래일건물연식', '구', '동', '강남여부', '신축여부', '건축면적', '연면적', '대지면적', '건폐율',\n",
            "       '용적율', '평균층수', '계약월_sin', '계약월_cos', '계약일_sin', '계약일_cos',\n",
            "       'lstm_output'],\n",
            "      dtype='object')\n",
            "target\n",
            "Index(['번지', '본번', '부번', '전용면적', '층', '건축년도', '주소', 'x', 'y', '계약년', '거래취소여부',\n",
            "       '거래일건물연식', '구', '동', '강남여부', '신축여부', '건축면적', '연면적', '대지면적', '건폐율',\n",
            "       '용적율', '평균층수', '계약월_sin', '계약월_cos', '계약일_sin', '계약일_cos',\n",
            "       'lstm_output'],\n",
            "      dtype='object')\n",
            "target\n",
            "['전용면적', '층', '건축년도', 'x', 'y', '계약년', '거래일건물연식', '건축면적', '연면적', '대지면적', '건폐율', '용적율', '평균층수', '번지', '본번', '부번', '주소', '거래취소여부', '구', '동', '강남여부', '신축여부', 'lstm_output', '계약월_sin', '계약월_cos', '계약일_sin', '계약일_cos']\n"
          ]
        }
      ],
      "source": [
        "from sklearn.model_selection import train_test_split\n",
        "from xgboost import XGBRegressor\n",
        "from sklearn.metrics import mean_squared_error\n",
        "import numpy as np\n",
        "\n",
        "# 1. 데이터 준비\n",
        "# LSTM 예측값을 dt_train, dt_test에 추가합니다.\n",
        "dt_train['lstm_output'] = train_lstm_preds.flatten()\n",
        "dt_test['lstm_output'] = test_lstm_preds.flatten()\n",
        "\n",
        "print(dt_train.columns, dt_test.columns)\n",
        "\n",
        "# Target과 독립변수들을 분리해줍니다.\n",
        "y_train_xgb = dt_train['target']  # target 변수를 분리합니다.\n",
        "X_train_xgb = dt_train.drop(columns=['target'])  # target 변수를 제외한 독립 변수\n",
        "\n",
        "# 독립 변수 출력\n",
        "print(X_train_xgb.columns)\n",
        "\n",
        "# 타겟 변수는 Series이므로 columns 속성이 없음 (values 또는 name 속성 사용 가능)\n",
        "print(y_train_xgb.name)\n",
        "\n",
        "y_test_xgb = dt_test['target']  # target 변수를 분리합니다.\n",
        "X_test_xgb = dt_test.drop(columns=['target'])  # target 변수를 제외한 독립 변수\n",
        "\n",
        "# 독립 변수 출력\n",
        "print(X_test_xgb.columns)\n",
        "\n",
        "# 타겟 변수는 Series이므로 values 또는 name 속성 사용 가능\n",
        "print(y_test_xgb.name)\n",
        "\n",
        "\n",
        "# XGBoost용 데이터 준비에서 계약일, 계약월을 제외하고 LSTM 예측값 및 추가 변수를 사용\n",
        "xgb_columns = [col for col in continuous_columns_v2 if col not in ['계약일', '계약월', 'target']]\n",
        "xgb_columns += categorical_columns_v2 + ['lstm_output', '계약월_sin', '계약월_cos', '계약일_sin', '계약일_cos']\n",
        "\n",
        "print(xgb_columns)\n",
        "\n",
        "# 이 코드를 통해 X_train_xgb에서 target이 제외된 변수만 남깁니다.\n",
        "X_train_xgb = dt_train[xgb_columns]  # 연속형 + 범주형 + LSTM 출력값만 포함\n",
        "X_test_xgb = dt_test[xgb_columns]  # test 데이터도 동일하게 처리"
      ]
    },
    {
      "cell_type": "code",
      "execution_count": 152,
      "metadata": {},
      "outputs": [
        {
          "name": "stdout",
          "output_type": "stream",
          "text": [
            "Index(['번지', '본번', '부번', '전용면적', '층', '건축년도', '주소', 'x', 'y', '계약년', '거래취소여부',\n",
            "       '거래일건물연식', '구', '동', '강남여부', '신축여부', '건축면적', '연면적', '대지면적', '건폐율',\n",
            "       '용적율', '평균층수', 'target', '계약월_sin', '계약월_cos', '계약일_sin', '계약일_cos',\n",
            "       'lstm_output'],\n",
            "      dtype='object')\n",
            "Index(['번지', '본번', '부번', '전용면적', '층', '건축년도', '주소', 'x', 'y', '계약년', '거래취소여부',\n",
            "       '거래일건물연식', '구', '동', '강남여부', '신축여부', '건축면적', '연면적', '대지면적', '건폐율',\n",
            "       '용적율', '평균층수', 'target', '계약월_sin', '계약월_cos', '계약일_sin', '계약일_cos',\n",
            "       'lstm_output'],\n",
            "      dtype='object')\n",
            "Index(['전용면적', '층', '건축년도', 'x', 'y', '계약년', '거래일건물연식', '건축면적', '연면적', '대지면적',\n",
            "       '건폐율', '용적율', '평균층수', '번지', '본번', '부번', '주소', '거래취소여부', '구', '동',\n",
            "       '강남여부', '신축여부', 'lstm_output', '계약월_sin', '계약월_cos', '계약일_sin',\n",
            "       '계약일_cos'],\n",
            "      dtype='object')\n",
            "Index(['전용면적', '층', '건축년도', 'x', 'y', '계약년', '거래일건물연식', '건축면적', '연면적', '대지면적',\n",
            "       '건폐율', '용적율', '평균층수', '번지', '본번', '부번', '주소', '거래취소여부', '구', '동',\n",
            "       '강남여부', '신축여부', 'lstm_output', '계약월_sin', '계약월_cos', '계약일_sin',\n",
            "       '계약일_cos'],\n",
            "      dtype='object')\n"
          ]
        }
      ],
      "source": [
        "print(dt_train.columns)\n",
        "print(dt_test.columns)\n",
        "print(X_train_xgb.columns)\n",
        "print(X_test_xgb.columns)"
      ]
    },
    {
      "cell_type": "code",
      "execution_count": 153,
      "metadata": {},
      "outputs": [
        {
          "name": "stdout",
          "output_type": "stream",
          "text": [
            "Index(['번지', '본번', '부번', '전용면적', '층', '건축년도', '주소', 'x', 'y', '계약년', '거래취소여부',\n",
            "       '거래일건물연식', '구', '동', '강남여부', '신축여부', '건축면적', '연면적', '대지면적', '건폐율',\n",
            "       '용적율', '평균층수', 'target', '계약월_sin', '계약월_cos', '계약일_sin', '계약일_cos',\n",
            "       'lstm_output'],\n",
            "      dtype='object')\n",
            "0         331.182434\n",
            "1         351.962341\n",
            "2         500.335876\n",
            "3         263.555481\n",
            "4         370.749786\n",
            "             ...    \n",
            "103428    664.467407\n",
            "103429    584.902954\n",
            "103430    590.616516\n",
            "103431    428.633392\n",
            "103432    433.723480\n",
            "Name: lstm_output, Length: 100000, dtype: float32\n",
            "          번지    본번   부번   전용면적   층  건축년도    주소           x          y  \\\n",
            "0       3224   866    1  84.57   7  2003   602  127.148512  37.542270   \n",
            "1       3269   875  106  59.97   8  2006   603  127.137297  37.535581   \n",
            "2       3056   841    1  59.98  15  1999  1304  126.837836  37.575733   \n",
            "3       2359   716    2  59.94   9  1995  3280  127.062514  37.629415   \n",
            "4       3189   860    1  59.34   8  1996  3335  127.072945  37.656181   \n",
            "...      ...   ...  ...    ...  ..   ...   ...         ...        ...   \n",
            "103428  3890  1026    1  59.97   9  1999  2046  127.097748  37.542510   \n",
            "103429  4166  1086    2  59.82   2  1997  2094  127.097621  37.537397   \n",
            "103430  5256  1284    1  84.66   9  2005  2182  127.075729  37.529547   \n",
            "103431  4242  1103  106  80.50   4  2003  2223  127.080196  37.559523   \n",
            "103432  3409   901    1  59.95   9  2000  2271  126.851940  37.484679   \n",
            "\n",
            "             계약년  ...           대지면적         건폐율          용적율       평균층수  \\\n",
            "0       0.000000  ...    2909.000000   28.770000   277.500000  12.270339   \n",
            "1       0.000000  ...    1656.500000   59.980000   564.330000  14.636858   \n",
            "2       0.000000  ...  142433.600000  294.414537  3096.146099  11.640644   \n",
            "3       0.000000  ...  176023.003408  297.987083  3149.973315  11.978919   \n",
            "4       0.000000  ...  193609.160459  299.674572  3173.555878  15.772714   \n",
            "...          ...  ...            ...         ...          ...        ...   \n",
            "103428  0.055556  ...     196.560000  279.050629  2862.960860  15.070894   \n",
            "103429  0.055556  ...  703689.280000  488.250000  6504.180000   1.541693   \n",
            "103430  0.055556  ...    2090.300000   24.610000   240.830000  11.586469   \n",
            "103431  0.055556  ...     554.000000   51.090000   265.890000   7.072468   \n",
            "103432  0.055556  ...  232676.281370  302.857390  3219.294340  14.299859   \n",
            "\n",
            "            target       계약월_sin   계약월_cos   계약일_sin   계약일_cos  lstm_output  \n",
            "0       331.086674  5.000000e-01  0.866025  0.201299  0.979530   331.182434  \n",
            "1       351.842588  5.000000e-01  0.866025  0.201299  0.979530   351.962341  \n",
            "2       500.166722  5.000000e-01  0.866025  0.201299  0.979530   500.335876  \n",
            "3       263.596930  5.000000e-01  0.866025  0.201299  0.979530   263.555481  \n",
            "4       370.744860  5.000000e-01  0.866025  0.201299  0.979530   370.749786  \n",
            "...            ...           ...       ...       ...       ...          ...  \n",
            "103428  664.498916  1.224647e-16 -1.000000 -0.998717 -0.050649   664.467407  \n",
            "103429  585.088599  1.224647e-16 -1.000000 -0.998717 -0.050649   584.902954  \n",
            "103430  590.597685  1.224647e-16 -1.000000 -0.998717 -0.050649   590.616516  \n",
            "103431  428.571429  1.224647e-16 -1.000000 -0.998717 -0.050649   428.633392  \n",
            "103432  433.694746  1.224647e-16 -1.000000 -0.998717 -0.050649   433.723480  \n",
            "\n",
            "[100000 rows x 28 columns]\n"
          ]
        }
      ],
      "source": [
        "print(dt_train.columns)\n",
        "print(dt_train['lstm_output'].head(100000))\n",
        "print(dt_train.head(100000))"
      ]
    },
    {
      "cell_type": "code",
      "execution_count": 154,
      "metadata": {},
      "outputs": [
        {
          "name": "stdout",
          "output_type": "stream",
          "text": [
            "[0]\tvalidation_0-rmse:398.00845\n",
            "[1]\tvalidation_0-rmse:358.42003\n",
            "[2]\tvalidation_0-rmse:322.81595\n",
            "[3]\tvalidation_0-rmse:290.77414\n",
            "[4]\tvalidation_0-rmse:261.93968\n",
            "[5]\tvalidation_0-rmse:236.01539\n",
            "[6]\tvalidation_0-rmse:212.69829\n",
            "[7]\tvalidation_0-rmse:191.74794\n",
            "[8]\tvalidation_0-rmse:172.92625\n",
            "[9]\tvalidation_0-rmse:156.02144\n",
            "[10]\tvalidation_0-rmse:140.82721\n",
            "[11]\tvalidation_0-rmse:127.18850\n",
            "[12]\tvalidation_0-rmse:114.97822\n",
            "[13]\tvalidation_0-rmse:103.99256\n",
            "[14]\tvalidation_0-rmse:94.14925\n",
            "[15]\tvalidation_0-rmse:85.32503\n",
            "[16]\tvalidation_0-rmse:77.46037\n",
            "[17]\tvalidation_0-rmse:70.44785\n",
            "[18]\tvalidation_0-rmse:64.21119\n",
            "[19]\tvalidation_0-rmse:58.59331\n",
            "[20]\tvalidation_0-rmse:53.58746\n",
            "[21]\tvalidation_0-rmse:49.17887\n",
            "[22]\tvalidation_0-rmse:45.30393\n",
            "[23]\tvalidation_0-rmse:41.87124\n",
            "[24]\tvalidation_0-rmse:38.83237\n",
            "[25]\tvalidation_0-rmse:36.21486\n",
            "[26]\tvalidation_0-rmse:33.96642\n",
            "[27]\tvalidation_0-rmse:32.02575\n",
            "[28]\tvalidation_0-rmse:30.26710\n",
            "[29]\tvalidation_0-rmse:28.79326\n",
            "[30]\tvalidation_0-rmse:27.50647\n",
            "[31]\tvalidation_0-rmse:26.43284\n",
            "[32]\tvalidation_0-rmse:25.52818\n",
            "[33]\tvalidation_0-rmse:24.78643\n",
            "[34]\tvalidation_0-rmse:24.12648\n",
            "[35]\tvalidation_0-rmse:23.56031\n",
            "[36]\tvalidation_0-rmse:23.09627\n",
            "[37]\tvalidation_0-rmse:22.69076\n",
            "[38]\tvalidation_0-rmse:22.37811\n",
            "[39]\tvalidation_0-rmse:22.09182\n",
            "[40]\tvalidation_0-rmse:21.84363\n",
            "[41]\tvalidation_0-rmse:21.63201\n",
            "[42]\tvalidation_0-rmse:21.48576\n",
            "[43]\tvalidation_0-rmse:21.35945\n",
            "[44]\tvalidation_0-rmse:21.26405\n",
            "[45]\tvalidation_0-rmse:21.12772\n",
            "[46]\tvalidation_0-rmse:21.05832\n",
            "[47]\tvalidation_0-rmse:20.95956\n",
            "[48]\tvalidation_0-rmse:20.90444\n",
            "[49]\tvalidation_0-rmse:20.84364\n",
            "[50]\tvalidation_0-rmse:20.80520\n",
            "[51]\tvalidation_0-rmse:20.75040\n",
            "[52]\tvalidation_0-rmse:20.69805\n",
            "[53]\tvalidation_0-rmse:20.63202\n",
            "[54]\tvalidation_0-rmse:20.61412\n",
            "[55]\tvalidation_0-rmse:20.58953\n",
            "[56]\tvalidation_0-rmse:20.54710\n",
            "[57]\tvalidation_0-rmse:20.54191\n",
            "[58]\tvalidation_0-rmse:20.50870\n",
            "[59]\tvalidation_0-rmse:20.50087\n",
            "[60]\tvalidation_0-rmse:20.45648\n",
            "[61]\tvalidation_0-rmse:20.43044\n",
            "[62]\tvalidation_0-rmse:20.42878\n",
            "[63]\tvalidation_0-rmse:20.43003\n",
            "[64]\tvalidation_0-rmse:20.42458\n",
            "[65]\tvalidation_0-rmse:20.42156\n",
            "[66]\tvalidation_0-rmse:20.42128\n",
            "[67]\tvalidation_0-rmse:20.39013\n",
            "[68]\tvalidation_0-rmse:20.37661\n",
            "[69]\tvalidation_0-rmse:20.37221\n",
            "[70]\tvalidation_0-rmse:20.36186\n",
            "[71]\tvalidation_0-rmse:20.35752\n",
            "[72]\tvalidation_0-rmse:20.34950\n",
            "[73]\tvalidation_0-rmse:20.33339\n",
            "[74]\tvalidation_0-rmse:20.32248\n",
            "[75]\tvalidation_0-rmse:20.30282\n",
            "[76]\tvalidation_0-rmse:20.28924\n",
            "[77]\tvalidation_0-rmse:20.26248\n",
            "[78]\tvalidation_0-rmse:20.25688\n",
            "[79]\tvalidation_0-rmse:20.23769\n",
            "[80]\tvalidation_0-rmse:20.22329\n",
            "[81]\tvalidation_0-rmse:20.22376\n",
            "[82]\tvalidation_0-rmse:20.21863\n",
            "[83]\tvalidation_0-rmse:20.21384\n",
            "[84]\tvalidation_0-rmse:20.19543\n",
            "[85]\tvalidation_0-rmse:20.19313\n",
            "[86]\tvalidation_0-rmse:20.19301\n",
            "[87]\tvalidation_0-rmse:20.18230\n",
            "[88]\tvalidation_0-rmse:20.19029\n",
            "[89]\tvalidation_0-rmse:20.18791\n",
            "[90]\tvalidation_0-rmse:20.18289\n",
            "[91]\tvalidation_0-rmse:20.18581\n",
            "[92]\tvalidation_0-rmse:20.18625\n",
            "[93]\tvalidation_0-rmse:20.18943\n",
            "[94]\tvalidation_0-rmse:20.19331\n",
            "[95]\tvalidation_0-rmse:20.19097\n",
            "[96]\tvalidation_0-rmse:20.17765\n",
            "[97]\tvalidation_0-rmse:20.17714\n",
            "[98]\tvalidation_0-rmse:20.16323\n",
            "[99]\tvalidation_0-rmse:20.16309\n",
            "[100]\tvalidation_0-rmse:20.16324\n",
            "[101]\tvalidation_0-rmse:20.15583\n",
            "[102]\tvalidation_0-rmse:20.14751\n",
            "[103]\tvalidation_0-rmse:20.14491\n",
            "[104]\tvalidation_0-rmse:20.15701\n",
            "[105]\tvalidation_0-rmse:20.15763\n",
            "[106]\tvalidation_0-rmse:20.14140\n",
            "[107]\tvalidation_0-rmse:20.14105\n",
            "[108]\tvalidation_0-rmse:20.14600\n",
            "[109]\tvalidation_0-rmse:20.15775\n",
            "[110]\tvalidation_0-rmse:20.16568\n",
            "[111]\tvalidation_0-rmse:20.16589\n",
            "[112]\tvalidation_0-rmse:20.17873\n",
            "[113]\tvalidation_0-rmse:20.17623\n",
            "[114]\tvalidation_0-rmse:20.17956\n",
            "[115]\tvalidation_0-rmse:20.17295\n",
            "[116]\tvalidation_0-rmse:20.16850\n",
            "[117]\tvalidation_0-rmse:20.17324\n",
            "[118]\tvalidation_0-rmse:20.17048\n",
            "[119]\tvalidation_0-rmse:20.17292\n",
            "[120]\tvalidation_0-rmse:20.17690\n",
            "[121]\tvalidation_0-rmse:20.17651\n",
            "[122]\tvalidation_0-rmse:20.17533\n",
            "[123]\tvalidation_0-rmse:20.16967\n",
            "[124]\tvalidation_0-rmse:20.16924\n",
            "[125]\tvalidation_0-rmse:20.16436\n",
            "[126]\tvalidation_0-rmse:20.15585\n",
            "[127]\tvalidation_0-rmse:20.15671\n",
            "[128]\tvalidation_0-rmse:20.15740\n",
            "[129]\tvalidation_0-rmse:20.16684\n",
            "[130]\tvalidation_0-rmse:20.16184\n",
            "[131]\tvalidation_0-rmse:20.16801\n",
            "[132]\tvalidation_0-rmse:20.16849\n",
            "[133]\tvalidation_0-rmse:20.17662\n",
            "[134]\tvalidation_0-rmse:20.17982\n",
            "[135]\tvalidation_0-rmse:20.18017\n",
            "[136]\tvalidation_0-rmse:20.19852\n",
            "[137]\tvalidation_0-rmse:20.20243\n",
            "[138]\tvalidation_0-rmse:20.21505\n",
            "[139]\tvalidation_0-rmse:20.21434\n",
            "[140]\tvalidation_0-rmse:20.21065\n",
            "[141]\tvalidation_0-rmse:20.21823\n",
            "[142]\tvalidation_0-rmse:20.22129\n",
            "[143]\tvalidation_0-rmse:20.21905\n",
            "[144]\tvalidation_0-rmse:20.21792\n",
            "[145]\tvalidation_0-rmse:20.21724\n",
            "[146]\tvalidation_0-rmse:20.22076\n",
            "[147]\tvalidation_0-rmse:20.22311\n",
            "[148]\tvalidation_0-rmse:20.22153\n",
            "[149]\tvalidation_0-rmse:20.21769\n",
            "[150]\tvalidation_0-rmse:20.22048\n",
            "[151]\tvalidation_0-rmse:20.22066\n",
            "[152]\tvalidation_0-rmse:20.22285\n",
            "[153]\tvalidation_0-rmse:20.22308\n",
            "[154]\tvalidation_0-rmse:20.22168\n",
            "[155]\tvalidation_0-rmse:20.22082\n",
            "[156]\tvalidation_0-rmse:20.22187\n",
            "[157]\tvalidation_0-rmse:20.22362\n",
            "[158]\tvalidation_0-rmse:20.21709\n",
            "[159]\tvalidation_0-rmse:20.21562\n",
            "[160]\tvalidation_0-rmse:20.22730\n",
            "[161]\tvalidation_0-rmse:20.23003\n",
            "[162]\tvalidation_0-rmse:20.23019\n",
            "[163]\tvalidation_0-rmse:20.23027\n",
            "[164]\tvalidation_0-rmse:20.23867\n",
            "[165]\tvalidation_0-rmse:20.23977\n",
            "[166]\tvalidation_0-rmse:20.24574\n",
            "[167]\tvalidation_0-rmse:20.24619\n",
            "[168]\tvalidation_0-rmse:20.25794\n",
            "[169]\tvalidation_0-rmse:20.25929\n",
            "[170]\tvalidation_0-rmse:20.26245\n",
            "[171]\tvalidation_0-rmse:20.26157\n",
            "[172]\tvalidation_0-rmse:20.27446\n",
            "[173]\tvalidation_0-rmse:20.27622\n",
            "[174]\tvalidation_0-rmse:20.28709\n",
            "[175]\tvalidation_0-rmse:20.28761\n",
            "[176]\tvalidation_0-rmse:20.29394\n",
            "[177]\tvalidation_0-rmse:20.29553\n",
            "[178]\tvalidation_0-rmse:20.30216\n",
            "[179]\tvalidation_0-rmse:20.30881\n",
            "[180]\tvalidation_0-rmse:20.31164\n",
            "[181]\tvalidation_0-rmse:20.31005\n",
            "[182]\tvalidation_0-rmse:20.31170\n",
            "[183]\tvalidation_0-rmse:20.30745\n",
            "[184]\tvalidation_0-rmse:20.30561\n",
            "[185]\tvalidation_0-rmse:20.30956\n",
            "[186]\tvalidation_0-rmse:20.30820\n",
            "[187]\tvalidation_0-rmse:20.31372\n",
            "[188]\tvalidation_0-rmse:20.31318\n",
            "[189]\tvalidation_0-rmse:20.31733\n",
            "[190]\tvalidation_0-rmse:20.31562\n",
            "[191]\tvalidation_0-rmse:20.31864\n",
            "[192]\tvalidation_0-rmse:20.31633\n",
            "[193]\tvalidation_0-rmse:20.31894\n",
            "[194]\tvalidation_0-rmse:20.31982\n",
            "[195]\tvalidation_0-rmse:20.32054\n",
            "[196]\tvalidation_0-rmse:20.32049\n",
            "[197]\tvalidation_0-rmse:20.32158\n",
            "[198]\tvalidation_0-rmse:20.32148\n",
            "[199]\tvalidation_0-rmse:20.32242\n",
            "[200]\tvalidation_0-rmse:20.32127\n",
            "[201]\tvalidation_0-rmse:20.32326\n",
            "[202]\tvalidation_0-rmse:20.33078\n",
            "[203]\tvalidation_0-rmse:20.33899\n",
            "[204]\tvalidation_0-rmse:20.34654\n",
            "[205]\tvalidation_0-rmse:20.34931\n",
            "[206]\tvalidation_0-rmse:20.34882\n",
            "[207]\tvalidation_0-rmse:20.35100\n",
            "[208]\tvalidation_0-rmse:20.35774\n",
            "[209]\tvalidation_0-rmse:20.35785\n",
            "[210]\tvalidation_0-rmse:20.35498\n",
            "[211]\tvalidation_0-rmse:20.36196\n",
            "[212]\tvalidation_0-rmse:20.36339\n",
            "[213]\tvalidation_0-rmse:20.37492\n",
            "[214]\tvalidation_0-rmse:20.37965\n",
            "[215]\tvalidation_0-rmse:20.38392\n",
            "[216]\tvalidation_0-rmse:20.38008\n",
            "[217]\tvalidation_0-rmse:20.38052\n",
            "[218]\tvalidation_0-rmse:20.38071\n",
            "[219]\tvalidation_0-rmse:20.38278\n",
            "[220]\tvalidation_0-rmse:20.38285\n",
            "[221]\tvalidation_0-rmse:20.38248\n",
            "[222]\tvalidation_0-rmse:20.38752\n",
            "[223]\tvalidation_0-rmse:20.38847\n",
            "[224]\tvalidation_0-rmse:20.38905\n",
            "[225]\tvalidation_0-rmse:20.39054\n",
            "[226]\tvalidation_0-rmse:20.39423\n",
            "[227]\tvalidation_0-rmse:20.39407\n",
            "[228]\tvalidation_0-rmse:20.39430\n",
            "[229]\tvalidation_0-rmse:20.39456\n",
            "[230]\tvalidation_0-rmse:20.39421\n",
            "[231]\tvalidation_0-rmse:20.39445\n",
            "[232]\tvalidation_0-rmse:20.39462\n",
            "[233]\tvalidation_0-rmse:20.39352\n",
            "[234]\tvalidation_0-rmse:20.39807\n",
            "[235]\tvalidation_0-rmse:20.39812\n",
            "[236]\tvalidation_0-rmse:20.39751\n",
            "[237]\tvalidation_0-rmse:20.39871\n",
            "[238]\tvalidation_0-rmse:20.39727\n",
            "[239]\tvalidation_0-rmse:20.39828\n",
            "[240]\tvalidation_0-rmse:20.39853\n",
            "[241]\tvalidation_0-rmse:20.39968\n",
            "[242]\tvalidation_0-rmse:20.40109\n",
            "[243]\tvalidation_0-rmse:20.40320\n",
            "[244]\tvalidation_0-rmse:20.40467\n",
            "[245]\tvalidation_0-rmse:20.40352\n",
            "[246]\tvalidation_0-rmse:20.40119\n",
            "[247]\tvalidation_0-rmse:20.40417\n",
            "[248]\tvalidation_0-rmse:20.40336\n",
            "[249]\tvalidation_0-rmse:20.39959\n",
            "[250]\tvalidation_0-rmse:20.40126\n",
            "[251]\tvalidation_0-rmse:20.40281\n",
            "[252]\tvalidation_0-rmse:20.40650\n",
            "[253]\tvalidation_0-rmse:20.40886\n",
            "[254]\tvalidation_0-rmse:20.40992\n",
            "[255]\tvalidation_0-rmse:20.41050\n",
            "[256]\tvalidation_0-rmse:20.41291\n",
            "[257]\tvalidation_0-rmse:20.41465\n",
            "[258]\tvalidation_0-rmse:20.41474\n",
            "[259]\tvalidation_0-rmse:20.41532\n",
            "[260]\tvalidation_0-rmse:20.41482\n",
            "[261]\tvalidation_0-rmse:20.41840\n",
            "[262]\tvalidation_0-rmse:20.41964\n",
            "[263]\tvalidation_0-rmse:20.42074\n",
            "[264]\tvalidation_0-rmse:20.42090\n",
            "[265]\tvalidation_0-rmse:20.42414\n",
            "[266]\tvalidation_0-rmse:20.42441\n",
            "[267]\tvalidation_0-rmse:20.42417\n",
            "[268]\tvalidation_0-rmse:20.42550\n",
            "[269]\tvalidation_0-rmse:20.42389\n",
            "[270]\tvalidation_0-rmse:20.42861\n",
            "[271]\tvalidation_0-rmse:20.43124\n",
            "[272]\tvalidation_0-rmse:20.43268\n",
            "[273]\tvalidation_0-rmse:20.43343\n",
            "[274]\tvalidation_0-rmse:20.43545\n",
            "[275]\tvalidation_0-rmse:20.43472\n",
            "[276]\tvalidation_0-rmse:20.43799\n",
            "[277]\tvalidation_0-rmse:20.43792\n",
            "[278]\tvalidation_0-rmse:20.43749\n",
            "[279]\tvalidation_0-rmse:20.43911\n",
            "[280]\tvalidation_0-rmse:20.43974\n",
            "[281]\tvalidation_0-rmse:20.44029\n",
            "[282]\tvalidation_0-rmse:20.44081\n",
            "[283]\tvalidation_0-rmse:20.44345\n",
            "[284]\tvalidation_0-rmse:20.44708\n",
            "[285]\tvalidation_0-rmse:20.44870\n",
            "[286]\tvalidation_0-rmse:20.45157\n",
            "[287]\tvalidation_0-rmse:20.45185\n",
            "[288]\tvalidation_0-rmse:20.45130\n",
            "[289]\tvalidation_0-rmse:20.45710\n",
            "[290]\tvalidation_0-rmse:20.45702\n",
            "[291]\tvalidation_0-rmse:20.45722\n",
            "[292]\tvalidation_0-rmse:20.46252\n",
            "[293]\tvalidation_0-rmse:20.46307\n",
            "[294]\tvalidation_0-rmse:20.46776\n",
            "[295]\tvalidation_0-rmse:20.46783\n",
            "[296]\tvalidation_0-rmse:20.47427\n",
            "[297]\tvalidation_0-rmse:20.47523\n",
            "[298]\tvalidation_0-rmse:20.47695\n",
            "[299]\tvalidation_0-rmse:20.47711\n",
            "[300]\tvalidation_0-rmse:20.48211\n",
            "[301]\tvalidation_0-rmse:20.48196\n",
            "[302]\tvalidation_0-rmse:20.48600\n",
            "[303]\tvalidation_0-rmse:20.48512\n",
            "[304]\tvalidation_0-rmse:20.48621\n",
            "[305]\tvalidation_0-rmse:20.48661\n",
            "[306]\tvalidation_0-rmse:20.48690\n",
            "[307]\tvalidation_0-rmse:20.49019\n",
            "[308]\tvalidation_0-rmse:20.49021\n",
            "[309]\tvalidation_0-rmse:20.49040\n",
            "[310]\tvalidation_0-rmse:20.49035\n",
            "[311]\tvalidation_0-rmse:20.49128\n",
            "[312]\tvalidation_0-rmse:20.49116\n",
            "[313]\tvalidation_0-rmse:20.49458\n",
            "[314]\tvalidation_0-rmse:20.49430\n",
            "[315]\tvalidation_0-rmse:20.49372\n",
            "[316]\tvalidation_0-rmse:20.49377\n",
            "[317]\tvalidation_0-rmse:20.49338\n",
            "[318]\tvalidation_0-rmse:20.49601\n",
            "[319]\tvalidation_0-rmse:20.49471\n",
            "[320]\tvalidation_0-rmse:20.49532\n",
            "[321]\tvalidation_0-rmse:20.49517\n",
            "[322]\tvalidation_0-rmse:20.49561\n",
            "[323]\tvalidation_0-rmse:20.49594\n",
            "[324]\tvalidation_0-rmse:20.49929\n",
            "[325]\tvalidation_0-rmse:20.49969\n",
            "[326]\tvalidation_0-rmse:20.49960\n",
            "[327]\tvalidation_0-rmse:20.50039\n",
            "[328]\tvalidation_0-rmse:20.50074\n",
            "[329]\tvalidation_0-rmse:20.50056\n",
            "[330]\tvalidation_0-rmse:20.50069\n",
            "[331]\tvalidation_0-rmse:20.50072\n",
            "[332]\tvalidation_0-rmse:20.50373\n",
            "[333]\tvalidation_0-rmse:20.50796\n",
            "[334]\tvalidation_0-rmse:20.50748\n",
            "[335]\tvalidation_0-rmse:20.50925\n",
            "[336]\tvalidation_0-rmse:20.50939\n",
            "[337]\tvalidation_0-rmse:20.51032\n",
            "[338]\tvalidation_0-rmse:20.51094\n",
            "[339]\tvalidation_0-rmse:20.51300\n",
            "[340]\tvalidation_0-rmse:20.51378\n",
            "[341]\tvalidation_0-rmse:20.51420\n",
            "[342]\tvalidation_0-rmse:20.51482\n",
            "[343]\tvalidation_0-rmse:20.51501\n",
            "[344]\tvalidation_0-rmse:20.51432\n",
            "[345]\tvalidation_0-rmse:20.51426\n",
            "[346]\tvalidation_0-rmse:20.51390\n",
            "[347]\tvalidation_0-rmse:20.51541\n",
            "[348]\tvalidation_0-rmse:20.51581\n",
            "[349]\tvalidation_0-rmse:20.51902\n",
            "[350]\tvalidation_0-rmse:20.52060\n",
            "[351]\tvalidation_0-rmse:20.52343\n",
            "[352]\tvalidation_0-rmse:20.52413\n",
            "[353]\tvalidation_0-rmse:20.52516\n",
            "[354]\tvalidation_0-rmse:20.52471\n",
            "[355]\tvalidation_0-rmse:20.52489\n",
            "[356]\tvalidation_0-rmse:20.52666\n",
            "[357]\tvalidation_0-rmse:20.52625\n",
            "[358]\tvalidation_0-rmse:20.52616\n",
            "[359]\tvalidation_0-rmse:20.52729\n",
            "[360]\tvalidation_0-rmse:20.52783\n",
            "[361]\tvalidation_0-rmse:20.52802\n",
            "[362]\tvalidation_0-rmse:20.52808\n",
            "[363]\tvalidation_0-rmse:20.52809\n",
            "[364]\tvalidation_0-rmse:20.52937\n",
            "[365]\tvalidation_0-rmse:20.52684\n",
            "[366]\tvalidation_0-rmse:20.52659\n",
            "[367]\tvalidation_0-rmse:20.52781\n",
            "[368]\tvalidation_0-rmse:20.52800\n",
            "[369]\tvalidation_0-rmse:20.52761\n",
            "[370]\tvalidation_0-rmse:20.52832\n",
            "[371]\tvalidation_0-rmse:20.52786\n",
            "[372]\tvalidation_0-rmse:20.52960\n",
            "[373]\tvalidation_0-rmse:20.53039\n",
            "[374]\tvalidation_0-rmse:20.53027\n",
            "[375]\tvalidation_0-rmse:20.53118\n",
            "[376]\tvalidation_0-rmse:20.53168\n",
            "[377]\tvalidation_0-rmse:20.53233\n",
            "[378]\tvalidation_0-rmse:20.53254\n",
            "[379]\tvalidation_0-rmse:20.53276\n",
            "[380]\tvalidation_0-rmse:20.53284\n",
            "[381]\tvalidation_0-rmse:20.53271\n",
            "[382]\tvalidation_0-rmse:20.53491\n",
            "[383]\tvalidation_0-rmse:20.53488\n",
            "[384]\tvalidation_0-rmse:20.53535\n",
            "[385]\tvalidation_0-rmse:20.53560\n",
            "[386]\tvalidation_0-rmse:20.53597\n",
            "[387]\tvalidation_0-rmse:20.53581\n",
            "[388]\tvalidation_0-rmse:20.53856\n",
            "[389]\tvalidation_0-rmse:20.53898\n",
            "[390]\tvalidation_0-rmse:20.54070\n",
            "[391]\tvalidation_0-rmse:20.54091\n",
            "[392]\tvalidation_0-rmse:20.54180\n",
            "[393]\tvalidation_0-rmse:20.54183\n",
            "[394]\tvalidation_0-rmse:20.54278\n",
            "[395]\tvalidation_0-rmse:20.54296\n",
            "[396]\tvalidation_0-rmse:20.54359\n",
            "[397]\tvalidation_0-rmse:20.54429\n",
            "[398]\tvalidation_0-rmse:20.54433\n",
            "[399]\tvalidation_0-rmse:20.54645\n",
            "[400]\tvalidation_0-rmse:20.54599\n",
            "[401]\tvalidation_0-rmse:20.54620\n",
            "[402]\tvalidation_0-rmse:20.54592\n",
            "[403]\tvalidation_0-rmse:20.54555\n",
            "[404]\tvalidation_0-rmse:20.54662\n",
            "[405]\tvalidation_0-rmse:20.54676\n",
            "[406]\tvalidation_0-rmse:20.54692\n",
            "[407]\tvalidation_0-rmse:20.54693\n",
            "[408]\tvalidation_0-rmse:20.54624\n",
            "[409]\tvalidation_0-rmse:20.54569\n",
            "[410]\tvalidation_0-rmse:20.54639\n",
            "[411]\tvalidation_0-rmse:20.54692\n",
            "[412]\tvalidation_0-rmse:20.54745\n",
            "[413]\tvalidation_0-rmse:20.54760\n",
            "[414]\tvalidation_0-rmse:20.54786\n",
            "[415]\tvalidation_0-rmse:20.54808\n",
            "[416]\tvalidation_0-rmse:20.54991\n",
            "[417]\tvalidation_0-rmse:20.55084\n",
            "[418]\tvalidation_0-rmse:20.55175\n",
            "[419]\tvalidation_0-rmse:20.55231\n",
            "[420]\tvalidation_0-rmse:20.55176\n",
            "[421]\tvalidation_0-rmse:20.55161\n",
            "[422]\tvalidation_0-rmse:20.55224\n",
            "[423]\tvalidation_0-rmse:20.55243\n",
            "[424]\tvalidation_0-rmse:20.55326\n",
            "[425]\tvalidation_0-rmse:20.55263\n",
            "[426]\tvalidation_0-rmse:20.55330\n",
            "[427]\tvalidation_0-rmse:20.55349\n",
            "[428]\tvalidation_0-rmse:20.55400\n",
            "[429]\tvalidation_0-rmse:20.55416\n",
            "[430]\tvalidation_0-rmse:20.55265\n",
            "[431]\tvalidation_0-rmse:20.55297\n",
            "[432]\tvalidation_0-rmse:20.55435\n",
            "[433]\tvalidation_0-rmse:20.55570\n",
            "[434]\tvalidation_0-rmse:20.55652\n",
            "[435]\tvalidation_0-rmse:20.55700\n",
            "[436]\tvalidation_0-rmse:20.55714\n",
            "[437]\tvalidation_0-rmse:20.55806\n",
            "[438]\tvalidation_0-rmse:20.55793\n",
            "[439]\tvalidation_0-rmse:20.55945\n",
            "[440]\tvalidation_0-rmse:20.55845\n",
            "[441]\tvalidation_0-rmse:20.55852\n",
            "[442]\tvalidation_0-rmse:20.55805\n",
            "[443]\tvalidation_0-rmse:20.55807\n",
            "[444]\tvalidation_0-rmse:20.55848\n",
            "[445]\tvalidation_0-rmse:20.55777\n",
            "[446]\tvalidation_0-rmse:20.55813\n",
            "[447]\tvalidation_0-rmse:20.55760\n",
            "[448]\tvalidation_0-rmse:20.55788\n",
            "[449]\tvalidation_0-rmse:20.55821\n",
            "[450]\tvalidation_0-rmse:20.55830\n",
            "[451]\tvalidation_0-rmse:20.55844\n",
            "[452]\tvalidation_0-rmse:20.55873\n",
            "[453]\tvalidation_0-rmse:20.56020\n",
            "[454]\tvalidation_0-rmse:20.56012\n",
            "[455]\tvalidation_0-rmse:20.56039\n",
            "[456]\tvalidation_0-rmse:20.55990\n",
            "[457]\tvalidation_0-rmse:20.55990\n",
            "[458]\tvalidation_0-rmse:20.56037\n",
            "[459]\tvalidation_0-rmse:20.56023\n",
            "[460]\tvalidation_0-rmse:20.56088\n",
            "[461]\tvalidation_0-rmse:20.56054\n",
            "[462]\tvalidation_0-rmse:20.56102\n",
            "[463]\tvalidation_0-rmse:20.56109\n",
            "[464]\tvalidation_0-rmse:20.56172\n",
            "[465]\tvalidation_0-rmse:20.56222\n",
            "[466]\tvalidation_0-rmse:20.56197\n",
            "[467]\tvalidation_0-rmse:20.56213\n",
            "[468]\tvalidation_0-rmse:20.56237\n",
            "[469]\tvalidation_0-rmse:20.56309\n",
            "[470]\tvalidation_0-rmse:20.56324\n",
            "[471]\tvalidation_0-rmse:20.56349\n",
            "[472]\tvalidation_0-rmse:20.56479\n",
            "[473]\tvalidation_0-rmse:20.56459\n",
            "[474]\tvalidation_0-rmse:20.56475\n",
            "[475]\tvalidation_0-rmse:20.56477\n",
            "[476]\tvalidation_0-rmse:20.56634\n",
            "[477]\tvalidation_0-rmse:20.56675\n",
            "[478]\tvalidation_0-rmse:20.56691\n",
            "[479]\tvalidation_0-rmse:20.56709\n",
            "[480]\tvalidation_0-rmse:20.56643\n",
            "[481]\tvalidation_0-rmse:20.56641\n",
            "[482]\tvalidation_0-rmse:20.56665\n",
            "[483]\tvalidation_0-rmse:20.56668\n",
            "[484]\tvalidation_0-rmse:20.56682\n",
            "[485]\tvalidation_0-rmse:20.56963\n",
            "[486]\tvalidation_0-rmse:20.57097\n",
            "[487]\tvalidation_0-rmse:20.57193\n",
            "[488]\tvalidation_0-rmse:20.57229\n",
            "[489]\tvalidation_0-rmse:20.57289\n",
            "[490]\tvalidation_0-rmse:20.57268\n",
            "[491]\tvalidation_0-rmse:20.57199\n",
            "[492]\tvalidation_0-rmse:20.57292\n",
            "[493]\tvalidation_0-rmse:20.57291\n",
            "[494]\tvalidation_0-rmse:20.57226\n",
            "[495]\tvalidation_0-rmse:20.57225\n",
            "[496]\tvalidation_0-rmse:20.57444\n",
            "[497]\tvalidation_0-rmse:20.57471\n",
            "[498]\tvalidation_0-rmse:20.57533\n",
            "[499]\tvalidation_0-rmse:20.57511\n",
            "[500]\tvalidation_0-rmse:20.57528\n",
            "[501]\tvalidation_0-rmse:20.57488\n",
            "[502]\tvalidation_0-rmse:20.57596\n",
            "[503]\tvalidation_0-rmse:20.57632\n",
            "[504]\tvalidation_0-rmse:20.57744\n",
            "[505]\tvalidation_0-rmse:20.57794\n",
            "[506]\tvalidation_0-rmse:20.57799\n",
            "[507]\tvalidation_0-rmse:20.57814\n",
            "[508]\tvalidation_0-rmse:20.57816\n",
            "[509]\tvalidation_0-rmse:20.57750\n",
            "[510]\tvalidation_0-rmse:20.57786\n",
            "[511]\tvalidation_0-rmse:20.57814\n",
            "[512]\tvalidation_0-rmse:20.57859\n",
            "[513]\tvalidation_0-rmse:20.57953\n",
            "[514]\tvalidation_0-rmse:20.58041\n",
            "[515]\tvalidation_0-rmse:20.58075\n",
            "[516]\tvalidation_0-rmse:20.58108\n",
            "[517]\tvalidation_0-rmse:20.58275\n",
            "[518]\tvalidation_0-rmse:20.58279\n",
            "[519]\tvalidation_0-rmse:20.58301\n",
            "[520]\tvalidation_0-rmse:20.58393\n",
            "[521]\tvalidation_0-rmse:20.58428\n",
            "[522]\tvalidation_0-rmse:20.58366\n",
            "[523]\tvalidation_0-rmse:20.58477\n",
            "[524]\tvalidation_0-rmse:20.58591\n",
            "[525]\tvalidation_0-rmse:20.58601\n",
            "[526]\tvalidation_0-rmse:20.58612\n",
            "[527]\tvalidation_0-rmse:20.58596\n",
            "[528]\tvalidation_0-rmse:20.58622\n",
            "[529]\tvalidation_0-rmse:20.58633\n",
            "[530]\tvalidation_0-rmse:20.58607\n",
            "[531]\tvalidation_0-rmse:20.58634\n",
            "[532]\tvalidation_0-rmse:20.58665\n",
            "[533]\tvalidation_0-rmse:20.58683\n",
            "[534]\tvalidation_0-rmse:20.58705\n",
            "[535]\tvalidation_0-rmse:20.58738\n",
            "[536]\tvalidation_0-rmse:20.58721\n",
            "[537]\tvalidation_0-rmse:20.58739\n",
            "[538]\tvalidation_0-rmse:20.58755\n",
            "[539]\tvalidation_0-rmse:20.58792\n",
            "[540]\tvalidation_0-rmse:20.58764\n",
            "[541]\tvalidation_0-rmse:20.58785\n",
            "[542]\tvalidation_0-rmse:20.58881\n",
            "[543]\tvalidation_0-rmse:20.58888\n",
            "[544]\tvalidation_0-rmse:20.58951\n",
            "[545]\tvalidation_0-rmse:20.58978\n",
            "[546]\tvalidation_0-rmse:20.58935\n",
            "[547]\tvalidation_0-rmse:20.58959\n",
            "[548]\tvalidation_0-rmse:20.58971\n",
            "[549]\tvalidation_0-rmse:20.58887\n",
            "[550]\tvalidation_0-rmse:20.58869\n",
            "[551]\tvalidation_0-rmse:20.58878\n",
            "[552]\tvalidation_0-rmse:20.58846\n",
            "[553]\tvalidation_0-rmse:20.58846\n",
            "[554]\tvalidation_0-rmse:20.58868\n",
            "[555]\tvalidation_0-rmse:20.58890\n",
            "[556]\tvalidation_0-rmse:20.58922\n",
            "[557]\tvalidation_0-rmse:20.58962\n",
            "[558]\tvalidation_0-rmse:20.58988\n",
            "[559]\tvalidation_0-rmse:20.59027\n",
            "[560]\tvalidation_0-rmse:20.59073\n",
            "[561]\tvalidation_0-rmse:20.59119\n",
            "[562]\tvalidation_0-rmse:20.59116\n",
            "[563]\tvalidation_0-rmse:20.59127\n",
            "[564]\tvalidation_0-rmse:20.59125\n",
            "[565]\tvalidation_0-rmse:20.59107\n",
            "[566]\tvalidation_0-rmse:20.59177\n",
            "[567]\tvalidation_0-rmse:20.59168\n",
            "[568]\tvalidation_0-rmse:20.59194\n",
            "[569]\tvalidation_0-rmse:20.59213\n",
            "[570]\tvalidation_0-rmse:20.59206\n",
            "[571]\tvalidation_0-rmse:20.59197\n",
            "[572]\tvalidation_0-rmse:20.59196\n",
            "[573]\tvalidation_0-rmse:20.59196\n",
            "[574]\tvalidation_0-rmse:20.59245\n",
            "[575]\tvalidation_0-rmse:20.59279\n",
            "[576]\tvalidation_0-rmse:20.59303\n",
            "[577]\tvalidation_0-rmse:20.59380\n",
            "[578]\tvalidation_0-rmse:20.59415\n",
            "[579]\tvalidation_0-rmse:20.59494\n",
            "[580]\tvalidation_0-rmse:20.59547\n",
            "[581]\tvalidation_0-rmse:20.59529\n",
            "[582]\tvalidation_0-rmse:20.59537\n",
            "[583]\tvalidation_0-rmse:20.59535\n",
            "[584]\tvalidation_0-rmse:20.59568\n",
            "[585]\tvalidation_0-rmse:20.59605\n",
            "[586]\tvalidation_0-rmse:20.59652\n",
            "[587]\tvalidation_0-rmse:20.59674\n",
            "[588]\tvalidation_0-rmse:20.59650\n",
            "[589]\tvalidation_0-rmse:20.59662\n",
            "[590]\tvalidation_0-rmse:20.59642\n",
            "[591]\tvalidation_0-rmse:20.59621\n",
            "[592]\tvalidation_0-rmse:20.59631\n",
            "[593]\tvalidation_0-rmse:20.59644\n",
            "[594]\tvalidation_0-rmse:20.59712\n",
            "[595]\tvalidation_0-rmse:20.59721\n",
            "[596]\tvalidation_0-rmse:20.59734\n",
            "[597]\tvalidation_0-rmse:20.59823\n",
            "[598]\tvalidation_0-rmse:20.59840\n",
            "[599]\tvalidation_0-rmse:20.59881\n",
            "[600]\tvalidation_0-rmse:20.59930\n",
            "[601]\tvalidation_0-rmse:20.59852\n",
            "[602]\tvalidation_0-rmse:20.59853\n",
            "[603]\tvalidation_0-rmse:20.59801\n",
            "[604]\tvalidation_0-rmse:20.59791\n",
            "[605]\tvalidation_0-rmse:20.59789\n",
            "[606]\tvalidation_0-rmse:20.59799\n",
            "[607]\tvalidation_0-rmse:20.59916\n",
            "[608]\tvalidation_0-rmse:20.59950\n",
            "[609]\tvalidation_0-rmse:20.59964\n",
            "[610]\tvalidation_0-rmse:20.59966\n",
            "[611]\tvalidation_0-rmse:20.59974\n",
            "[612]\tvalidation_0-rmse:20.59938\n",
            "[613]\tvalidation_0-rmse:20.59939\n",
            "[614]\tvalidation_0-rmse:20.59942\n",
            "[615]\tvalidation_0-rmse:20.59939\n",
            "[616]\tvalidation_0-rmse:20.59897\n",
            "[617]\tvalidation_0-rmse:20.59925\n",
            "[618]\tvalidation_0-rmse:20.59918\n",
            "[619]\tvalidation_0-rmse:20.59953\n",
            "[620]\tvalidation_0-rmse:20.59972\n",
            "[621]\tvalidation_0-rmse:20.59987\n",
            "[622]\tvalidation_0-rmse:20.59975\n",
            "[623]\tvalidation_0-rmse:20.59959\n",
            "[624]\tvalidation_0-rmse:20.59946\n",
            "[625]\tvalidation_0-rmse:20.59965\n",
            "[626]\tvalidation_0-rmse:20.59989\n",
            "[627]\tvalidation_0-rmse:20.59972\n",
            "[628]\tvalidation_0-rmse:20.59971\n",
            "[629]\tvalidation_0-rmse:20.59981\n",
            "[630]\tvalidation_0-rmse:20.59974\n",
            "[631]\tvalidation_0-rmse:20.59961\n",
            "[632]\tvalidation_0-rmse:20.60018\n",
            "[633]\tvalidation_0-rmse:20.60031\n",
            "[634]\tvalidation_0-rmse:20.60029\n",
            "[635]\tvalidation_0-rmse:20.60020\n",
            "[636]\tvalidation_0-rmse:20.60087\n",
            "[637]\tvalidation_0-rmse:20.60091\n",
            "[638]\tvalidation_0-rmse:20.60114\n",
            "[639]\tvalidation_0-rmse:20.60112\n",
            "[640]\tvalidation_0-rmse:20.60130\n",
            "[641]\tvalidation_0-rmse:20.60137\n",
            "[642]\tvalidation_0-rmse:20.60160\n",
            "[643]\tvalidation_0-rmse:20.60184\n",
            "[644]\tvalidation_0-rmse:20.60185\n",
            "[645]\tvalidation_0-rmse:20.60187\n",
            "[646]\tvalidation_0-rmse:20.60216\n",
            "[647]\tvalidation_0-rmse:20.60223\n",
            "[648]\tvalidation_0-rmse:20.60215\n",
            "[649]\tvalidation_0-rmse:20.60214\n",
            "[650]\tvalidation_0-rmse:20.60215\n",
            "[651]\tvalidation_0-rmse:20.60217\n",
            "[652]\tvalidation_0-rmse:20.60224\n",
            "[653]\tvalidation_0-rmse:20.60226\n",
            "[654]\tvalidation_0-rmse:20.60255\n",
            "[655]\tvalidation_0-rmse:20.60226\n",
            "[656]\tvalidation_0-rmse:20.60241\n",
            "[657]\tvalidation_0-rmse:20.60244\n",
            "[658]\tvalidation_0-rmse:20.60249\n",
            "[659]\tvalidation_0-rmse:20.60230\n",
            "[660]\tvalidation_0-rmse:20.60237\n",
            "[661]\tvalidation_0-rmse:20.60242\n",
            "[662]\tvalidation_0-rmse:20.60231\n",
            "[663]\tvalidation_0-rmse:20.60248\n",
            "[664]\tvalidation_0-rmse:20.60248\n",
            "[665]\tvalidation_0-rmse:20.60238\n",
            "[666]\tvalidation_0-rmse:20.60245\n",
            "[667]\tvalidation_0-rmse:20.60247\n",
            "[668]\tvalidation_0-rmse:20.60245\n",
            "[669]\tvalidation_0-rmse:20.60276\n",
            "[670]\tvalidation_0-rmse:20.60298\n",
            "[671]\tvalidation_0-rmse:20.60291\n",
            "[672]\tvalidation_0-rmse:20.60312\n",
            "[673]\tvalidation_0-rmse:20.60318\n",
            "[674]\tvalidation_0-rmse:20.60320\n",
            "[675]\tvalidation_0-rmse:20.60396\n",
            "[676]\tvalidation_0-rmse:20.60411\n",
            "[677]\tvalidation_0-rmse:20.60421\n",
            "[678]\tvalidation_0-rmse:20.60436\n",
            "[679]\tvalidation_0-rmse:20.60439\n",
            "[680]\tvalidation_0-rmse:20.60446\n",
            "[681]\tvalidation_0-rmse:20.60432\n",
            "[682]\tvalidation_0-rmse:20.60430\n",
            "[683]\tvalidation_0-rmse:20.60476\n",
            "[684]\tvalidation_0-rmse:20.60483\n",
            "[685]\tvalidation_0-rmse:20.60520\n",
            "[686]\tvalidation_0-rmse:20.60523\n",
            "[687]\tvalidation_0-rmse:20.60545\n",
            "[688]\tvalidation_0-rmse:20.60563\n",
            "[689]\tvalidation_0-rmse:20.60550\n",
            "[690]\tvalidation_0-rmse:20.60586\n",
            "[691]\tvalidation_0-rmse:20.60674\n",
            "[692]\tvalidation_0-rmse:20.60677\n",
            "[693]\tvalidation_0-rmse:20.60690\n",
            "[694]\tvalidation_0-rmse:20.60649\n",
            "[695]\tvalidation_0-rmse:20.60657\n",
            "[696]\tvalidation_0-rmse:20.60660\n",
            "[697]\tvalidation_0-rmse:20.60665\n",
            "[698]\tvalidation_0-rmse:20.60678\n",
            "[699]\tvalidation_0-rmse:20.60703\n",
            "[700]\tvalidation_0-rmse:20.60713\n",
            "[701]\tvalidation_0-rmse:20.60718\n",
            "[702]\tvalidation_0-rmse:20.60720\n",
            "[703]\tvalidation_0-rmse:20.60728\n",
            "[704]\tvalidation_0-rmse:20.60756\n",
            "[705]\tvalidation_0-rmse:20.60779\n",
            "[706]\tvalidation_0-rmse:20.60809\n",
            "[707]\tvalidation_0-rmse:20.60790\n",
            "[708]\tvalidation_0-rmse:20.60801\n",
            "[709]\tvalidation_0-rmse:20.60815\n",
            "[710]\tvalidation_0-rmse:20.60821\n",
            "[711]\tvalidation_0-rmse:20.60845\n",
            "[712]\tvalidation_0-rmse:20.60859\n",
            "[713]\tvalidation_0-rmse:20.60951\n",
            "[714]\tvalidation_0-rmse:20.60945\n",
            "[715]\tvalidation_0-rmse:20.60946\n",
            "[716]\tvalidation_0-rmse:20.60949\n",
            "[717]\tvalidation_0-rmse:20.60933\n",
            "[718]\tvalidation_0-rmse:20.60916\n",
            "[719]\tvalidation_0-rmse:20.60933\n",
            "[720]\tvalidation_0-rmse:20.61005\n",
            "[721]\tvalidation_0-rmse:20.61013\n",
            "[722]\tvalidation_0-rmse:20.61024\n",
            "[723]\tvalidation_0-rmse:20.61026\n",
            "[724]\tvalidation_0-rmse:20.61084\n",
            "[725]\tvalidation_0-rmse:20.61090\n",
            "[726]\tvalidation_0-rmse:20.61094\n",
            "[727]\tvalidation_0-rmse:20.61133\n",
            "[728]\tvalidation_0-rmse:20.61180\n",
            "[729]\tvalidation_0-rmse:20.61192\n",
            "[730]\tvalidation_0-rmse:20.61194\n",
            "[731]\tvalidation_0-rmse:20.61175\n",
            "[732]\tvalidation_0-rmse:20.61173\n",
            "[733]\tvalidation_0-rmse:20.61189\n",
            "[734]\tvalidation_0-rmse:20.61193\n",
            "[735]\tvalidation_0-rmse:20.61191\n",
            "[736]\tvalidation_0-rmse:20.61196\n",
            "[737]\tvalidation_0-rmse:20.61235\n",
            "[738]\tvalidation_0-rmse:20.61237\n",
            "[739]\tvalidation_0-rmse:20.61239\n",
            "[740]\tvalidation_0-rmse:20.61269\n",
            "[741]\tvalidation_0-rmse:20.61270\n",
            "[742]\tvalidation_0-rmse:20.61244\n",
            "[743]\tvalidation_0-rmse:20.61239\n",
            "[744]\tvalidation_0-rmse:20.61237\n",
            "[745]\tvalidation_0-rmse:20.61245\n",
            "[746]\tvalidation_0-rmse:20.61249\n",
            "[747]\tvalidation_0-rmse:20.61254\n",
            "[748]\tvalidation_0-rmse:20.61263\n",
            "[749]\tvalidation_0-rmse:20.61277\n",
            "[750]\tvalidation_0-rmse:20.61253\n",
            "[751]\tvalidation_0-rmse:20.61251\n",
            "[752]\tvalidation_0-rmse:20.61247\n",
            "[753]\tvalidation_0-rmse:20.61237\n",
            "[754]\tvalidation_0-rmse:20.61252\n",
            "[755]\tvalidation_0-rmse:20.61283\n",
            "[756]\tvalidation_0-rmse:20.61280\n",
            "[757]\tvalidation_0-rmse:20.61296\n",
            "[758]\tvalidation_0-rmse:20.61301\n",
            "[759]\tvalidation_0-rmse:20.61341\n",
            "[760]\tvalidation_0-rmse:20.61334\n",
            "[761]\tvalidation_0-rmse:20.61321\n",
            "[762]\tvalidation_0-rmse:20.61307\n",
            "[763]\tvalidation_0-rmse:20.61296\n",
            "[764]\tvalidation_0-rmse:20.61301\n",
            "[765]\tvalidation_0-rmse:20.61302\n",
            "[766]\tvalidation_0-rmse:20.61317\n",
            "[767]\tvalidation_0-rmse:20.61320\n",
            "[768]\tvalidation_0-rmse:20.61317\n",
            "[769]\tvalidation_0-rmse:20.61292\n",
            "[770]\tvalidation_0-rmse:20.61304\n",
            "[771]\tvalidation_0-rmse:20.61324\n",
            "[772]\tvalidation_0-rmse:20.61333\n",
            "[773]\tvalidation_0-rmse:20.61370\n",
            "[774]\tvalidation_0-rmse:20.61380\n",
            "[775]\tvalidation_0-rmse:20.61375\n",
            "[776]\tvalidation_0-rmse:20.61405\n",
            "[777]\tvalidation_0-rmse:20.61416\n",
            "[778]\tvalidation_0-rmse:20.61414\n",
            "[779]\tvalidation_0-rmse:20.61427\n",
            "[780]\tvalidation_0-rmse:20.61433\n",
            "[781]\tvalidation_0-rmse:20.61435\n",
            "[782]\tvalidation_0-rmse:20.61434\n",
            "[783]\tvalidation_0-rmse:20.61455\n",
            "[784]\tvalidation_0-rmse:20.61461\n",
            "[785]\tvalidation_0-rmse:20.61495\n",
            "[786]\tvalidation_0-rmse:20.61506\n",
            "[787]\tvalidation_0-rmse:20.61515\n",
            "[788]\tvalidation_0-rmse:20.61516\n",
            "[789]\tvalidation_0-rmse:20.61519\n",
            "[790]\tvalidation_0-rmse:20.61525\n",
            "[791]\tvalidation_0-rmse:20.61528\n",
            "[792]\tvalidation_0-rmse:20.61525\n",
            "[793]\tvalidation_0-rmse:20.61424\n",
            "[794]\tvalidation_0-rmse:20.61459\n",
            "[795]\tvalidation_0-rmse:20.61449\n",
            "[796]\tvalidation_0-rmse:20.61458\n",
            "[797]\tvalidation_0-rmse:20.61488\n",
            "[798]\tvalidation_0-rmse:20.61491\n",
            "[799]\tvalidation_0-rmse:20.61495\n",
            "[800]\tvalidation_0-rmse:20.61508\n",
            "[801]\tvalidation_0-rmse:20.61525\n",
            "[802]\tvalidation_0-rmse:20.61409\n",
            "[803]\tvalidation_0-rmse:20.61414\n",
            "[804]\tvalidation_0-rmse:20.61411\n",
            "[805]\tvalidation_0-rmse:20.61408\n",
            "[806]\tvalidation_0-rmse:20.61396\n",
            "[807]\tvalidation_0-rmse:20.61420\n",
            "[808]\tvalidation_0-rmse:20.61420\n",
            "[809]\tvalidation_0-rmse:20.61417\n",
            "[810]\tvalidation_0-rmse:20.61392\n",
            "[811]\tvalidation_0-rmse:20.61412\n",
            "[812]\tvalidation_0-rmse:20.61424\n",
            "[813]\tvalidation_0-rmse:20.61451\n",
            "[814]\tvalidation_0-rmse:20.61449\n",
            "[815]\tvalidation_0-rmse:20.61436\n",
            "[816]\tvalidation_0-rmse:20.61447\n",
            "[817]\tvalidation_0-rmse:20.61491\n",
            "[818]\tvalidation_0-rmse:20.61525\n",
            "[819]\tvalidation_0-rmse:20.61526\n",
            "[820]\tvalidation_0-rmse:20.61520\n",
            "[821]\tvalidation_0-rmse:20.61520\n",
            "[822]\tvalidation_0-rmse:20.61527\n",
            "[823]\tvalidation_0-rmse:20.61517\n",
            "[824]\tvalidation_0-rmse:20.61512\n",
            "[825]\tvalidation_0-rmse:20.61506\n",
            "[826]\tvalidation_0-rmse:20.61522\n",
            "[827]\tvalidation_0-rmse:20.61528\n",
            "[828]\tvalidation_0-rmse:20.61534\n",
            "[829]\tvalidation_0-rmse:20.61525\n",
            "[830]\tvalidation_0-rmse:20.61528\n",
            "[831]\tvalidation_0-rmse:20.61536\n",
            "[832]\tvalidation_0-rmse:20.61539\n",
            "[833]\tvalidation_0-rmse:20.61546\n",
            "[834]\tvalidation_0-rmse:20.61577\n",
            "[835]\tvalidation_0-rmse:20.61582\n",
            "[836]\tvalidation_0-rmse:20.61588\n",
            "[837]\tvalidation_0-rmse:20.61585\n",
            "[838]\tvalidation_0-rmse:20.61614\n",
            "[839]\tvalidation_0-rmse:20.61629\n",
            "[840]\tvalidation_0-rmse:20.61644\n",
            "[841]\tvalidation_0-rmse:20.61647\n",
            "[842]\tvalidation_0-rmse:20.61650\n",
            "[843]\tvalidation_0-rmse:20.61663\n",
            "[844]\tvalidation_0-rmse:20.61690\n",
            "[845]\tvalidation_0-rmse:20.61710\n",
            "[846]\tvalidation_0-rmse:20.61707\n",
            "[847]\tvalidation_0-rmse:20.61710\n",
            "[848]\tvalidation_0-rmse:20.61759\n",
            "[849]\tvalidation_0-rmse:20.61765\n",
            "[850]\tvalidation_0-rmse:20.61763\n",
            "[851]\tvalidation_0-rmse:20.61824\n",
            "[852]\tvalidation_0-rmse:20.61842\n",
            "[853]\tvalidation_0-rmse:20.61840\n",
            "[854]\tvalidation_0-rmse:20.61847\n",
            "[855]\tvalidation_0-rmse:20.61842\n",
            "[856]\tvalidation_0-rmse:20.61854\n",
            "[857]\tvalidation_0-rmse:20.61852\n",
            "[858]\tvalidation_0-rmse:20.61866\n",
            "[859]\tvalidation_0-rmse:20.61862\n",
            "[860]\tvalidation_0-rmse:20.61874\n",
            "[861]\tvalidation_0-rmse:20.61866\n",
            "[862]\tvalidation_0-rmse:20.61868\n",
            "[863]\tvalidation_0-rmse:20.61866\n",
            "[864]\tvalidation_0-rmse:20.61909\n",
            "[865]\tvalidation_0-rmse:20.61901\n",
            "[866]\tvalidation_0-rmse:20.61898\n",
            "[867]\tvalidation_0-rmse:20.61947\n",
            "[868]\tvalidation_0-rmse:20.61940\n",
            "[869]\tvalidation_0-rmse:20.61944\n",
            "[870]\tvalidation_0-rmse:20.61950\n",
            "[871]\tvalidation_0-rmse:20.61955\n",
            "[872]\tvalidation_0-rmse:20.61967\n",
            "[873]\tvalidation_0-rmse:20.61982\n",
            "[874]\tvalidation_0-rmse:20.62020\n",
            "[875]\tvalidation_0-rmse:20.62035\n",
            "[876]\tvalidation_0-rmse:20.62031\n",
            "[877]\tvalidation_0-rmse:20.62041\n",
            "[878]\tvalidation_0-rmse:20.62067\n",
            "[879]\tvalidation_0-rmse:20.62077\n",
            "[880]\tvalidation_0-rmse:20.62078\n",
            "[881]\tvalidation_0-rmse:20.62084\n",
            "[882]\tvalidation_0-rmse:20.62074\n",
            "[883]\tvalidation_0-rmse:20.62059\n",
            "[884]\tvalidation_0-rmse:20.62057\n",
            "[885]\tvalidation_0-rmse:20.62081\n",
            "[886]\tvalidation_0-rmse:20.62091\n",
            "[887]\tvalidation_0-rmse:20.62099\n",
            "[888]\tvalidation_0-rmse:20.62095\n",
            "[889]\tvalidation_0-rmse:20.62097\n",
            "[890]\tvalidation_0-rmse:20.62097\n",
            "[891]\tvalidation_0-rmse:20.62095\n",
            "[892]\tvalidation_0-rmse:20.62102\n",
            "[893]\tvalidation_0-rmse:20.62107\n",
            "[894]\tvalidation_0-rmse:20.62123\n",
            "[895]\tvalidation_0-rmse:20.62146\n",
            "[896]\tvalidation_0-rmse:20.62158\n",
            "[897]\tvalidation_0-rmse:20.62151\n",
            "[898]\tvalidation_0-rmse:20.62151\n",
            "[899]\tvalidation_0-rmse:20.62143\n",
            "[900]\tvalidation_0-rmse:20.62158\n",
            "[901]\tvalidation_0-rmse:20.62149\n",
            "[902]\tvalidation_0-rmse:20.62224\n",
            "[903]\tvalidation_0-rmse:20.62261\n",
            "[904]\tvalidation_0-rmse:20.62259\n",
            "[905]\tvalidation_0-rmse:20.62281\n",
            "[906]\tvalidation_0-rmse:20.62290\n",
            "[907]\tvalidation_0-rmse:20.62293\n",
            "[908]\tvalidation_0-rmse:20.62297\n",
            "[909]\tvalidation_0-rmse:20.62300\n",
            "[910]\tvalidation_0-rmse:20.62302\n",
            "[911]\tvalidation_0-rmse:20.62301\n",
            "[912]\tvalidation_0-rmse:20.62301\n",
            "[913]\tvalidation_0-rmse:20.62299\n",
            "[914]\tvalidation_0-rmse:20.62309\n",
            "[915]\tvalidation_0-rmse:20.62313\n",
            "[916]\tvalidation_0-rmse:20.62316\n",
            "[917]\tvalidation_0-rmse:20.62323\n",
            "[918]\tvalidation_0-rmse:20.62361\n",
            "[919]\tvalidation_0-rmse:20.62360\n",
            "[920]\tvalidation_0-rmse:20.62347\n",
            "[921]\tvalidation_0-rmse:20.62315\n",
            "[922]\tvalidation_0-rmse:20.62369\n",
            "[923]\tvalidation_0-rmse:20.62364\n",
            "[924]\tvalidation_0-rmse:20.62360\n",
            "[925]\tvalidation_0-rmse:20.62403\n",
            "[926]\tvalidation_0-rmse:20.62412\n",
            "[927]\tvalidation_0-rmse:20.62407\n",
            "[928]\tvalidation_0-rmse:20.62423\n",
            "[929]\tvalidation_0-rmse:20.62437\n",
            "[930]\tvalidation_0-rmse:20.62433\n",
            "[931]\tvalidation_0-rmse:20.62437\n",
            "[932]\tvalidation_0-rmse:20.62455\n",
            "[933]\tvalidation_0-rmse:20.62457\n",
            "[934]\tvalidation_0-rmse:20.62462\n",
            "[935]\tvalidation_0-rmse:20.62471\n",
            "[936]\tvalidation_0-rmse:20.62465\n",
            "[937]\tvalidation_0-rmse:20.62468\n",
            "[938]\tvalidation_0-rmse:20.62484\n",
            "[939]\tvalidation_0-rmse:20.62489\n",
            "[940]\tvalidation_0-rmse:20.62491\n",
            "[941]\tvalidation_0-rmse:20.62482\n",
            "[942]\tvalidation_0-rmse:20.62470\n",
            "[943]\tvalidation_0-rmse:20.62467\n",
            "[944]\tvalidation_0-rmse:20.62453\n",
            "[945]\tvalidation_0-rmse:20.62460\n",
            "[946]\tvalidation_0-rmse:20.62458\n",
            "[947]\tvalidation_0-rmse:20.62469\n",
            "[948]\tvalidation_0-rmse:20.62470\n",
            "[949]\tvalidation_0-rmse:20.62468\n",
            "[950]\tvalidation_0-rmse:20.62478\n",
            "[951]\tvalidation_0-rmse:20.62483\n",
            "[952]\tvalidation_0-rmse:20.62466\n",
            "[953]\tvalidation_0-rmse:20.62467\n",
            "[954]\tvalidation_0-rmse:20.62479\n",
            "[955]\tvalidation_0-rmse:20.62490\n",
            "[956]\tvalidation_0-rmse:20.62506\n",
            "[957]\tvalidation_0-rmse:20.62503\n",
            "[958]\tvalidation_0-rmse:20.62496\n",
            "[959]\tvalidation_0-rmse:20.62497\n",
            "[960]\tvalidation_0-rmse:20.62507\n",
            "[961]\tvalidation_0-rmse:20.62513\n",
            "[962]\tvalidation_0-rmse:20.62538\n",
            "[963]\tvalidation_0-rmse:20.62545\n",
            "[964]\tvalidation_0-rmse:20.62566\n",
            "[965]\tvalidation_0-rmse:20.62567\n",
            "[966]\tvalidation_0-rmse:20.62576\n",
            "[967]\tvalidation_0-rmse:20.62577\n",
            "[968]\tvalidation_0-rmse:20.62585\n",
            "[969]\tvalidation_0-rmse:20.62586\n",
            "[970]\tvalidation_0-rmse:20.62617\n",
            "[971]\tvalidation_0-rmse:20.62584\n",
            "[972]\tvalidation_0-rmse:20.62595\n",
            "[973]\tvalidation_0-rmse:20.62595\n",
            "[974]\tvalidation_0-rmse:20.62592\n",
            "[975]\tvalidation_0-rmse:20.62592\n",
            "[976]\tvalidation_0-rmse:20.62589\n",
            "[977]\tvalidation_0-rmse:20.62585\n",
            "[978]\tvalidation_0-rmse:20.62588\n",
            "[979]\tvalidation_0-rmse:20.62604\n",
            "[980]\tvalidation_0-rmse:20.62619\n",
            "[981]\tvalidation_0-rmse:20.62627\n",
            "[982]\tvalidation_0-rmse:20.62626\n",
            "[983]\tvalidation_0-rmse:20.62652\n",
            "[984]\tvalidation_0-rmse:20.62658\n",
            "[985]\tvalidation_0-rmse:20.62661\n",
            "[986]\tvalidation_0-rmse:20.62661\n",
            "[987]\tvalidation_0-rmse:20.62666\n",
            "[988]\tvalidation_0-rmse:20.62671\n",
            "[989]\tvalidation_0-rmse:20.62670\n",
            "[990]\tvalidation_0-rmse:20.62658\n",
            "[991]\tvalidation_0-rmse:20.62663\n",
            "[992]\tvalidation_0-rmse:20.62667\n",
            "[993]\tvalidation_0-rmse:20.62661\n",
            "[994]\tvalidation_0-rmse:20.62662\n",
            "[995]\tvalidation_0-rmse:20.62663\n",
            "[996]\tvalidation_0-rmse:20.62662\n",
            "[997]\tvalidation_0-rmse:20.62691\n",
            "[998]\tvalidation_0-rmse:20.62694\n",
            "[999]\tvalidation_0-rmse:20.62703\n",
            "Train RMSE: 9.433141741574541\n",
            "Test RMSE: 164.33219082205392\n"
          ]
        }
      ],
      "source": [
        "\n",
        "\n",
        "# 2. 학습 데이터와 검증 데이터로 분할\n",
        "X_train_split, X_val_split, y_train_split, y_val_split = train_test_split(X_train_xgb, y_train_xgb, test_size=0.2, random_state=2023)\n",
        "\n",
        "# 3. XGBoost 모델 구성 및 학습\n",
        "xgb_model = XGBRegressor(\n",
        "    n_estimators=1000,\n",
        "    learning_rate=0.1,\n",
        "    max_depth=10,\n",
        "    objective='reg:squarederror',\n",
        "    random_state=2023\n",
        ")\n",
        "\n",
        "# XGBoost 모델 학습\n",
        "xgb_model.fit(\n",
        "    X_train_split, y_train_split,\n",
        "    eval_set=[(X_val_split, y_val_split)],  # 검증 데이터 설정\n",
        "    verbose=True  # 학습 과정 출력\n",
        ")\n",
        "\n",
        "# 4. XGBoost 모델로 예측\n",
        "train_xgb_preds = xgb_model.predict(X_train_xgb)\n",
        "test_xgb_preds = xgb_model.predict(X_test_xgb)\n",
        "\n",
        "# 5. 성능 평가 (RMSE)\n",
        "train_rmse = np.sqrt(mean_squared_error(y_train_xgb, train_xgb_preds))\n",
        "test_rmse = np.sqrt(mean_squared_error(y_test_xgb, test_xgb_preds))\n",
        "\n",
        "print(f\"Train RMSE: {train_rmse}\")\n",
        "print(f\"Test RMSE: {test_rmse}\")\n"
      ]
    },
    {
      "cell_type": "code",
      "execution_count": 155,
      "metadata": {},
      "outputs": [
        {
          "data": {
            "text/plain": [
              "Index(['전용면적', '층', '건축년도', 'x', 'y', '계약년', '거래일건물연식', '건축면적', '연면적', '대지면적',\n",
              "       '건폐율', '용적율', '평균층수', '번지', '본번', '부번', '주소', '거래취소여부', '구', '동',\n",
              "       '강남여부', '신축여부', 'lstm_output', '계약월_sin', '계약월_cos', '계약일_sin',\n",
              "       '계약일_cos'],\n",
              "      dtype='object')"
            ]
          },
          "execution_count": 155,
          "metadata": {},
          "output_type": "execute_result"
        }
      ],
      "source": [
        "X_val_split.columns"
      ]
    },
    {
      "cell_type": "code",
      "execution_count": 156,
      "metadata": {},
      "outputs": [],
      "source": [
        "pred = xgb_model.predict(X_val_split)\n",
        "y_val_1 = y_val_split * X_val_split['전용면적']\n",
        "pred_1 = pred * X_val_split['전용면적']\n",
        "\n",
        "# print(f\"Train RMSE: {train_rmse}\")\n",
        "# print(f\"Test RMSE: {test_rmse}\")"
      ]
    },
    {
      "cell_type": "code",
      "execution_count": 194,
      "metadata": {},
      "outputs": [
        {
          "name": "stdout",
          "output_type": "stream",
          "text": [
            "RMSE test: 1238.4936979773254\n"
          ]
        }
      ],
      "source": [
        "# 회귀 관련 metric을 통해 train/valid의 모델 적합 결과를 관찰합니다.\n",
        "print(f'RMSE test: {np.sqrt(metrics.mean_squared_error(y_val_1, pred_1))}')"
      ]
    },
    {
      "cell_type": "code",
      "execution_count": 157,
      "metadata": {},
      "outputs": [],
      "source": [
        "# import xgboost as xgb\n",
        "# model = xgb.XGBRegressor(objective='reg:squarederror', \n",
        "#                          n_estimators=1000,  \n",
        "#                          learning_rate=0.1,  \n",
        "#                          max_depth=10,\n",
        "#                          random_state=1)\n",
        "\n",
        "# model.fit(X_train_split, y_train_split,\n",
        "#         eval_set=[(X_val_split, y_val_split)],  # 검증 데이터 설정\n",
        "#         verbose=True  # 학습 과정 출력\n",
        "#     )\n",
        "\n",
        "# pred = model.predict(X_val_split)\n",
        "\n",
        "# y_val_1 = y_val_split * X_val_split['전용면적']\n",
        "# pred_1 = pred * X_val_split['전용면적']\n",
        "# # 회귀 관련 metric을 통해 train/valid의 모델 적합 결과를 관찰합니다.\n",
        "# print(f'RMSE test: {np.sqrt(metrics.mean_squared_error(y_val_1, pred_1))}')"
      ]
    },
    {
      "cell_type": "code",
      "execution_count": 158,
      "metadata": {},
      "outputs": [],
      "source": [
        "# import xgboost as xgb\n",
        "# model = xgb.XGBRegressor(objective='reg:squarederror', \n",
        "#                          n_estimators=1000,  \n",
        "#                          learning_rate=0.1,  \n",
        "#                          max_depth=10,\n",
        "#                          random_state=1)\n",
        "\n",
        "# model.fit(X_train_split, y_train_split)\n",
        "\n",
        "# pred = model.predict(X_val_split)\n",
        "\n",
        "# # 회귀 관련 metric을 통해 train/valid의 모델 적합 결과를 관찰합니다.\n",
        "# print(f'RMSE test: {np.sqrt(metrics.mean_squared_error(y_val_split, pred))}')"
      ]
    },
    {
      "cell_type": "code",
      "execution_count": null,
      "metadata": {},
      "outputs": [],
      "source": []
    },
    {
      "cell_type": "code",
      "execution_count": 159,
      "metadata": {},
      "outputs": [],
      "source": [
        "# assert dt_train.shape[1] == dt_test.shape[1]          # train/test dataset의 shape이 같은지 확인해주겠습니다.\n",
        "\n",
        "# # Target과 독립변수들을 분리해줍니다.\n",
        "# y_train = dt_train['target']\n",
        "# X_train = dt_train.drop(['target'], axis=1)\n",
        "\n",
        "# # Hold out split을 사용해 학습 데이터와 검증 데이터를 8:2 비율로 나누겠습니다.\n",
        "# X_train, X_val, y_train, y_val = train_test_split(X_train, y_train, test_size=0.2, random_state=2023)\n",
        "\n"
      ]
    },
    {
      "cell_type": "code",
      "execution_count": 160,
      "metadata": {},
      "outputs": [],
      "source": [
        "# X_train.columns"
      ]
    },
    {
      "cell_type": "code",
      "execution_count": 161,
      "metadata": {
        "colab": {
          "base_uri": "https://localhost:8080/"
        },
        "id": "fGNHMAD2aBGI",
        "outputId": "5471313e-6838-44d3-8567-940c7456ef9e"
      },
      "outputs": [],
      "source": [
        "# # RandomForestRegressor를 이용해 회귀 모델을 적합시키겠습니다.\n",
        "# model = RandomForestRegressor(n_estimators=5, criterion='squared_error', random_state=1, n_jobs=-1)\n",
        "# model.fit(X_train, y_train)\n",
        "# pred = model.predict(X_val)"
      ]
    },
    {
      "cell_type": "code",
      "execution_count": 162,
      "metadata": {},
      "outputs": [],
      "source": [
        "# y_val = y_val * X_val['전용면적']\n",
        "# pred = pred * X_val['전용면적']"
      ]
    },
    {
      "cell_type": "code",
      "execution_count": 163,
      "metadata": {
        "colab": {
          "base_uri": "https://localhost:8080/"
        },
        "id": "39uvsgeXey3R",
        "outputId": "139e341d-2abd-4923-ed05-a28a70a4caef"
      },
      "outputs": [],
      "source": [
        "# # 회귀 관련 metric을 통해 train/valid의 모델 적합 결과를 관찰합니다.\n",
        "# print(f'RMSE test: {np.sqrt(metrics.mean_squared_error(y_val, pred))}')"
      ]
    },
    {
      "cell_type": "code",
      "execution_count": 164,
      "metadata": {},
      "outputs": [],
      "source": [
        "# #  XGBoost 사용\n",
        "\n",
        "# import xgboost as xgb"
      ]
    },
    {
      "cell_type": "code",
      "execution_count": 165,
      "metadata": {},
      "outputs": [],
      "source": [
        "# model = xgb.XGBRegressor(objective='reg:squarederror', \n",
        "#                          n_estimators=1000,  \n",
        "#                          learning_rate=0.1,  \n",
        "#                          max_depth=10,\n",
        "#                          random_state=1)\n",
        "\n",
        "# model.fit(X_train, y_train)\n",
        "\n",
        "# pred = model.predict(X_val)\n",
        "\n",
        "# y_val_1 = y_val * X_val['전용면적']\n",
        "# pred_1 = pred * X_val['전용면적']"
      ]
    },
    {
      "cell_type": "code",
      "execution_count": 166,
      "metadata": {},
      "outputs": [],
      "source": [
        "# # 회귀 관련 metric을 통해 train/valid의 모델 적합 결과를 관찰합니다.\n",
        "# print(f'RMSE test: {np.sqrt(metrics.mean_squared_error(y_val_1, pred_1))}')"
      ]
    },
    {
      "cell_type": "code",
      "execution_count": 167,
      "metadata": {},
      "outputs": [],
      "source": [
        "# X_train"
      ]
    },
    {
      "cell_type": "markdown",
      "metadata": {
        "id": "4jhh_fZ0DHOd"
      },
      "source": [
        "- 변수 중요도도 확인해보도록 하겠습니다."
      ]
    },
    {
      "cell_type": "code",
      "execution_count": 168,
      "metadata": {
        "colab": {
          "base_uri": "https://localhost:8080/",
          "height": 698
        },
        "id": "VbgCRxFgdFQb",
        "outputId": "f9114f72-78e1-471c-fc0b-ba5b8b6b6d2f"
      },
      "outputs": [],
      "source": [
        "# # 위 feature importance를 시각화해봅니다.\n",
        "# importances = pd.Series(model.feature_importances_, index=list(X_train.columns))\n",
        "# importances = importances.sort_values(ascending=False)\n",
        "\n",
        "# plt.figure(figsize=(10,8))\n",
        "# plt.title(\"Feature Importances\")\n",
        "# sns.barplot(x=importances, y=importances.index)\n",
        "# plt.show()"
      ]
    },
    {
      "cell_type": "code",
      "execution_count": 169,
      "metadata": {
        "id": "vycdrTEAa2va"
      },
      "outputs": [],
      "source": [
        "# 학습된 모델을 저장합니다. Pickle 라이브러리를 이용하겠습니다.\n",
        "with open('saved_model.pkl', 'wb') as f:\n",
        "    pickle.dump(xgb_model, f)"
      ]
    },
    {
      "cell_type": "code",
      "execution_count": 170,
      "metadata": {},
      "outputs": [
        {
          "name": "stdout",
          "output_type": "stream",
          "text": [
            "Length of X_train_split.columns: (27, Index(['전용면적', '층', '건축년도', 'x', 'y', '계약년', '거래일건물연식', '건축면적', '연면적', '대지면적',\n",
            "       '건폐율', '용적율', '평균층수', '번지', '본번', '부번', '주소', '거래취소여부', '구', '동',\n",
            "       '강남여부', '신축여부', 'lstm_output', '계약월_sin', '계약월_cos', '계약일_sin',\n",
            "       '계약일_cos'],\n",
            "      dtype='object'))\n",
            "Length of model.feature_importances_: (27, array([2.9185126e-04, 1.3873169e-04, 6.4315024e-04, 9.1034081e-04,\n",
            "       6.8184402e-04, 1.4458145e-03, 1.3097086e-03, 4.5992245e-04,\n",
            "       1.5382296e-04, 1.3271072e-04, 1.1638079e-04, 1.3757063e-04,\n",
            "       1.4895236e-03, 5.4835051e-04, 3.6594659e-04, 3.4372092e-04,\n",
            "       5.2843004e-04, 1.1561219e-04, 4.0710154e-05, 2.4393425e-04,\n",
            "       8.4784660e-05, 0.0000000e+00, 9.8876035e-01, 4.3439656e-04,\n",
            "       2.9355549e-04, 1.7635213e-04, 1.5244551e-04], dtype=float32))\n"
          ]
        }
      ],
      "source": [
        "# 데이터 확인\n",
        "print(f\"Length of X_train_split.columns: {len(X_train_split.columns), X_train_split.columns}\")\n",
        "print(f\"Length of model.feature_importances_: {len(xgb_model.feature_importances_), xgb_model.feature_importances_}\")\n"
      ]
    },
    {
      "cell_type": "code",
      "execution_count": 171,
      "metadata": {},
      "outputs": [
        {
          "data": {
            "image/png": "[encoded data removed]",
            "text/plain": [
              "<Figure size 1000x800 with 1 Axes>"
            ]
          },
          "metadata": {},
          "output_type": "display_data"
        }
      ],
      "source": [
        "importances = pd.Series(xgb_model.feature_importances_, index=list(X_train_split.columns))\n",
        "importances = importances.sort_values(ascending=False)\n",
        "\n",
        "plt.figure(figsize=(10, 8))\n",
        "plt.title(\"Feature Importances\")\n",
        "sns.barplot(x=importances, y=importances.index)\n",
        "plt.show()"
      ]
    },
    {
      "cell_type": "markdown",
      "metadata": {
        "id": "jOVbJ3KWgBTC"
      },
      "source": [
        "### 5.3. Feature selection"
      ]
    },
    {
      "cell_type": "markdown",
      "metadata": {
        "id": "0Qp7gLG3CfgJ"
      },
      "source": [
        "- 어떤 변수가 유용한 변수인지 확인해보기 위해 permutation selection을 이용해보겠습니다."
      ]
    },
    {
      "cell_type": "code",
      "execution_count": 172,
      "metadata": {
        "colab": {
          "base_uri": "https://localhost:8080/",
          "height": 399
        },
        "id": "bWucmvKrf-tq",
        "outputId": "016c2fae-320b-4778-efb9-799b5cf695b0"
      },
      "outputs": [],
      "source": [
        "# # Permutation importance 방법을 변수 선택에 이용해보겠습니다.\n",
        "# perm = PermutationImportance(model,        # 위에서 학습된 모델을 이용하겠습니다.\n",
        "#                              scoring = \"neg_mean_squared_error\",        # 평가 지표로는 회귀문제이기에 negative rmse를 사용합니다. (neg_mean_squared_error : 음의 평균 제곱 오차)\n",
        "#                              random_state = 42,\n",
        "#                              n_iter=3).fit(X_val, y_val)\n",
        "# eli5.show_weights(perm, feature_names = X_val.columns.tolist())    # valid data에 대해 적합시킵니다."
      ]
    },
    {
      "cell_type": "code",
      "execution_count": 173,
      "metadata": {},
      "outputs": [
        {
          "data": {
            "text/html": [
              "\n",
              "    <style>\n",
              "    table.eli5-weights tr:hover {\n",
              "        filter: brightness(85%);\n",
              "    }\n",
              "</style>\n",
              "\n",
              "\n",
              "\n",
              "    \n",
              "\n",
              "    \n",
              "\n",
              "    \n",
              "\n",
              "    \n",
              "\n",
              "    \n",
              "\n",
              "    \n",
              "\n",
              "\n",
              "    \n",
              "\n",
              "    \n",
              "\n",
              "    \n",
              "\n",
              "    \n",
              "\n",
              "    \n",
              "\n",
              "    \n",
              "\n",
              "\n",
              "    \n",
              "\n",
              "    \n",
              "\n",
              "    \n",
              "\n",
              "    \n",
              "\n",
              "    \n",
              "        <table class=\"eli5-weights eli5-feature-importances\" style=\"border-collapse: collapse; border: none; margin-top: 0em; table-layout: auto;\">\n",
              "    <thead>\n",
              "    <tr style=\"border: none;\">\n",
              "        <th style=\"padding: 0 1em 0 0.5em; text-align: right; border: none;\">Weight</th>\n",
              "        <th style=\"padding: 0 0.5em 0 0.5em; text-align: left; border: none;\">Feature</th>\n",
              "    </tr>\n",
              "    </thead>\n",
              "    <tbody>\n",
              "    \n",
              "        <tr style=\"background-color: hsl(120, 100.00%, 80.00%); border: none;\">\n",
              "            <td style=\"padding: 0 1em 0 0.5em; text-align: right; border: none;\">\n",
              "                375413.0765\n",
              "                \n",
              "                    &plusmn; 1472.6541\n",
              "                \n",
              "            </td>\n",
              "            <td style=\"padding: 0 0.5em 0 0.5em; text-align: left; border: none;\">\n",
              "                lstm_output\n",
              "            </td>\n",
              "        </tr>\n",
              "    \n",
              "        <tr style=\"background-color: hsl(120, 100.00%, 99.76%); border: none;\">\n",
              "            <td style=\"padding: 0 1em 0 0.5em; text-align: right; border: none;\">\n",
              "                656.9298\n",
              "                \n",
              "                    &plusmn; 9.8414\n",
              "                \n",
              "            </td>\n",
              "            <td style=\"padding: 0 0.5em 0 0.5em; text-align: left; border: none;\">\n",
              "                계약년\n",
              "            </td>\n",
              "        </tr>\n",
              "    \n",
              "        <tr style=\"background-color: hsl(120, 100.00%, 99.87%); border: none;\">\n",
              "            <td style=\"padding: 0 1em 0 0.5em; text-align: right; border: none;\">\n",
              "                290.0789\n",
              "                \n",
              "                    &plusmn; 17.9620\n",
              "                \n",
              "            </td>\n",
              "            <td style=\"padding: 0 0.5em 0 0.5em; text-align: left; border: none;\">\n",
              "                평균층수\n",
              "            </td>\n",
              "        </tr>\n",
              "    \n",
              "        <tr style=\"background-color: hsl(120, 100.00%, 99.88%); border: none;\">\n",
              "            <td style=\"padding: 0 1em 0 0.5em; text-align: right; border: none;\">\n",
              "                259.3308\n",
              "                \n",
              "                    &plusmn; 33.3798\n",
              "                \n",
              "            </td>\n",
              "            <td style=\"padding: 0 0.5em 0 0.5em; text-align: left; border: none;\">\n",
              "                전용면적\n",
              "            </td>\n",
              "        </tr>\n",
              "    \n",
              "        <tr style=\"background-color: hsl(120, 100.00%, 99.89%); border: none;\">\n",
              "            <td style=\"padding: 0 1em 0 0.5em; text-align: right; border: none;\">\n",
              "                236.0288\n",
              "                \n",
              "                    &plusmn; 2.5231\n",
              "                \n",
              "            </td>\n",
              "            <td style=\"padding: 0 0.5em 0 0.5em; text-align: left; border: none;\">\n",
              "                x\n",
              "            </td>\n",
              "        </tr>\n",
              "    \n",
              "        <tr style=\"background-color: hsl(120, 100.00%, 99.90%); border: none;\">\n",
              "            <td style=\"padding: 0 1em 0 0.5em; text-align: right; border: none;\">\n",
              "                189.8276\n",
              "                \n",
              "                    &plusmn; 3.7485\n",
              "                \n",
              "            </td>\n",
              "            <td style=\"padding: 0 0.5em 0 0.5em; text-align: left; border: none;\">\n",
              "                y\n",
              "            </td>\n",
              "        </tr>\n",
              "    \n",
              "        <tr style=\"background-color: hsl(120, 100.00%, 99.91%); border: none;\">\n",
              "            <td style=\"padding: 0 1em 0 0.5em; text-align: right; border: none;\">\n",
              "                177.0403\n",
              "                \n",
              "                    &plusmn; 5.8363\n",
              "                \n",
              "            </td>\n",
              "            <td style=\"padding: 0 0.5em 0 0.5em; text-align: left; border: none;\">\n",
              "                거래일건물연식\n",
              "            </td>\n",
              "        </tr>\n",
              "    \n",
              "        <tr style=\"background-color: hsl(120, 100.00%, 99.91%); border: none;\">\n",
              "            <td style=\"padding: 0 1em 0 0.5em; text-align: right; border: none;\">\n",
              "                166.7666\n",
              "                \n",
              "                    &plusmn; 21.5746\n",
              "                \n",
              "            </td>\n",
              "            <td style=\"padding: 0 0.5em 0 0.5em; text-align: left; border: none;\">\n",
              "                계약월_sin\n",
              "            </td>\n",
              "        </tr>\n",
              "    \n",
              "        <tr style=\"background-color: hsl(120, 100.00%, 99.94%); border: none;\">\n",
              "            <td style=\"padding: 0 1em 0 0.5em; text-align: right; border: none;\">\n",
              "                97.0240\n",
              "                \n",
              "                    &plusmn; 14.4352\n",
              "                \n",
              "            </td>\n",
              "            <td style=\"padding: 0 0.5em 0 0.5em; text-align: left; border: none;\">\n",
              "                건축년도\n",
              "            </td>\n",
              "        </tr>\n",
              "    \n",
              "        <tr style=\"background-color: hsl(120, 100.00%, 99.97%); border: none;\">\n",
              "            <td style=\"padding: 0 1em 0 0.5em; text-align: right; border: none;\">\n",
              "                38.9543\n",
              "                \n",
              "                    &plusmn; 8.9216\n",
              "                \n",
              "            </td>\n",
              "            <td style=\"padding: 0 0.5em 0 0.5em; text-align: left; border: none;\">\n",
              "                주소\n",
              "            </td>\n",
              "        </tr>\n",
              "    \n",
              "        <tr style=\"background-color: hsl(120, 100.00%, 99.97%); border: none;\">\n",
              "            <td style=\"padding: 0 1em 0 0.5em; text-align: right; border: none;\">\n",
              "                36.2989\n",
              "                \n",
              "                    &plusmn; 20.4081\n",
              "                \n",
              "            </td>\n",
              "            <td style=\"padding: 0 0.5em 0 0.5em; text-align: left; border: none;\">\n",
              "                계약월_cos\n",
              "            </td>\n",
              "        </tr>\n",
              "    \n",
              "        <tr style=\"background-color: hsl(120, 100.00%, 99.97%); border: none;\">\n",
              "            <td style=\"padding: 0 1em 0 0.5em; text-align: right; border: none;\">\n",
              "                35.7889\n",
              "                \n",
              "                    &plusmn; 9.5278\n",
              "                \n",
              "            </td>\n",
              "            <td style=\"padding: 0 0.5em 0 0.5em; text-align: left; border: none;\">\n",
              "                번지\n",
              "            </td>\n",
              "        </tr>\n",
              "    \n",
              "        <tr style=\"background-color: hsl(120, 100.00%, 99.97%); border: none;\">\n",
              "            <td style=\"padding: 0 1em 0 0.5em; text-align: right; border: none;\">\n",
              "                30.0187\n",
              "                \n",
              "                    &plusmn; 4.0834\n",
              "                \n",
              "            </td>\n",
              "            <td style=\"padding: 0 0.5em 0 0.5em; text-align: left; border: none;\">\n",
              "                건축면적\n",
              "            </td>\n",
              "        </tr>\n",
              "    \n",
              "        <tr style=\"background-color: hsl(120, 100.00%, 99.98%); border: none;\">\n",
              "            <td style=\"padding: 0 1em 0 0.5em; text-align: right; border: none;\">\n",
              "                21.6181\n",
              "                \n",
              "                    &plusmn; 4.6124\n",
              "                \n",
              "            </td>\n",
              "            <td style=\"padding: 0 0.5em 0 0.5em; text-align: left; border: none;\">\n",
              "                층\n",
              "            </td>\n",
              "        </tr>\n",
              "    \n",
              "        <tr style=\"background-color: hsl(120, 100.00%, 99.99%); border: none;\">\n",
              "            <td style=\"padding: 0 1em 0 0.5em; text-align: right; border: none;\">\n",
              "                6.1473\n",
              "                \n",
              "                    &plusmn; 2.5655\n",
              "                \n",
              "            </td>\n",
              "            <td style=\"padding: 0 0.5em 0 0.5em; text-align: left; border: none;\">\n",
              "                동\n",
              "            </td>\n",
              "        </tr>\n",
              "    \n",
              "        <tr style=\"background-color: hsl(120, 100.00%, 99.99%); border: none;\">\n",
              "            <td style=\"padding: 0 1em 0 0.5em; text-align: right; border: none;\">\n",
              "                5.6338\n",
              "                \n",
              "                    &plusmn; 0.4594\n",
              "                \n",
              "            </td>\n",
              "            <td style=\"padding: 0 0.5em 0 0.5em; text-align: left; border: none;\">\n",
              "                부번\n",
              "            </td>\n",
              "        </tr>\n",
              "    \n",
              "        <tr style=\"background-color: hsl(120, 100.00%, 99.99%); border: none;\">\n",
              "            <td style=\"padding: 0 1em 0 0.5em; text-align: right; border: none;\">\n",
              "                4.1215\n",
              "                \n",
              "                    &plusmn; 3.5976\n",
              "                \n",
              "            </td>\n",
              "            <td style=\"padding: 0 0.5em 0 0.5em; text-align: left; border: none;\">\n",
              "                연면적\n",
              "            </td>\n",
              "        </tr>\n",
              "    \n",
              "        <tr style=\"background-color: hsl(120, 100.00%, 99.99%); border: none;\">\n",
              "            <td style=\"padding: 0 1em 0 0.5em; text-align: right; border: none;\">\n",
              "                3.1548\n",
              "                \n",
              "                    &plusmn; 0.2191\n",
              "                \n",
              "            </td>\n",
              "            <td style=\"padding: 0 0.5em 0 0.5em; text-align: left; border: none;\">\n",
              "                구\n",
              "            </td>\n",
              "        </tr>\n",
              "    \n",
              "        <tr style=\"background-color: hsl(120, 100.00%, 100.00%); border: none;\">\n",
              "            <td style=\"padding: 0 1em 0 0.5em; text-align: right; border: none;\">\n",
              "                1.6989\n",
              "                \n",
              "                    &plusmn; 1.4699\n",
              "                \n",
              "            </td>\n",
              "            <td style=\"padding: 0 0.5em 0 0.5em; text-align: left; border: none;\">\n",
              "                용적율\n",
              "            </td>\n",
              "        </tr>\n",
              "    \n",
              "        <tr style=\"background-color: hsl(120, 100.00%, 100.00%); border: none;\">\n",
              "            <td style=\"padding: 0 1em 0 0.5em; text-align: right; border: none;\">\n",
              "                0.7838\n",
              "                \n",
              "                    &plusmn; 1.2681\n",
              "                \n",
              "            </td>\n",
              "            <td style=\"padding: 0 0.5em 0 0.5em; text-align: left; border: none;\">\n",
              "                대지면적\n",
              "            </td>\n",
              "        </tr>\n",
              "    \n",
              "    \n",
              "        \n",
              "            <tr style=\"background-color: hsl(120, 100.00%, 100.00%); border: none;\">\n",
              "                <td colspan=\"2\" style=\"padding: 0 0.5em 0 0.5em; text-align: center; border: none; white-space: nowrap;\">\n",
              "                    <i>&hellip; 7 more &hellip;</i>\n",
              "                </td>\n",
              "            </tr>\n",
              "        \n",
              "    \n",
              "    </tbody>\n",
              "</table>\n",
              "    \n",
              "\n",
              "    \n",
              "\n",
              "\n",
              "    \n",
              "\n",
              "    \n",
              "\n",
              "    \n",
              "\n",
              "    \n",
              "\n",
              "    \n",
              "\n",
              "    \n",
              "\n",
              "\n",
              "\n"
            ],
            "text/plain": [
              "<IPython.core.display.HTML object>"
            ]
          },
          "execution_count": 173,
          "metadata": {},
          "output_type": "execute_result"
        }
      ],
      "source": [
        "# Permutation importance 방법을 변수 선택에 이용해보겠습니다.\n",
        "perm = PermutationImportance(xgb_model,        # 위에서 학습된 모델을 이용하겠습니다.\n",
        "                             scoring = \"neg_mean_squared_error\",        # 평가 지표로는 회귀문제이기에 negative rmse를 사용합니다. (neg_mean_squared_error : 음의 평균 제곱 오차)\n",
        "                             random_state = 42,\n",
        "                             n_iter=3).fit(X_val_split, y_val_split)\n",
        "eli5.show_weights(perm, feature_names = X_val_split.columns.tolist())    # valid data에 대해 적합시킵니다."
      ]
    },
    {
      "cell_type": "markdown",
      "metadata": {
        "id": "8GbMRUxyCmWC"
      },
      "source": [
        "- 분석 결과 \"계약년\", \"전용면적\" 변수가 유의한 변수로 보입니다. 따라서 이 변수로 또 다른 파생변수를 더 생성해보거나, 중요도가 낮아보이는 변수를 제거해 차원의 저주를 막아볼 수도 있습니다."
      ]
    },
    {
      "cell_type": "markdown",
      "metadata": {
        "id": "YncDzsK1zl2w"
      },
      "source": [
        "### 5.4. Valid prediction 분석"
      ]
    },
    {
      "cell_type": "markdown",
      "metadata": {
        "id": "iQS1Fno2C-1R"
      },
      "source": [
        "- 예측값을 분석해보기 위해 valid prediction을 확인해보겠습니다."
      ]
    },
    {
      "cell_type": "code",
      "execution_count": 174,
      "metadata": {
        "id": "_xViv0o6DXQ-"
      },
      "outputs": [],
      "source": [
        "# # Validation dataset에 target과 pred 값을 채워주도록 하겠습니다.\n",
        "# X_val['target'] = y_val\n",
        "# X_val['pred'] = pred"
      ]
    },
    {
      "cell_type": "code",
      "execution_count": 175,
      "metadata": {},
      "outputs": [],
      "source": [
        "# Validation dataset에 target과 pred 값을 채워주도록 하겠습니다.\n",
        "X_val_split['target'] = y_val_split\n",
        "X_val_split['pred'] = pred_1"
      ]
    },
    {
      "cell_type": "code",
      "execution_count": 176,
      "metadata": {
        "id": "-D8NCLkWC-g6"
      },
      "outputs": [],
      "source": [
        "# # Squared_error를 계산하는 함수를 정의하겠습니다.\n",
        "# def calculate_se(target, pred):\n",
        "#     squared_errors = (target - pred) ** 2\n",
        "#     return squared_errors\n",
        "\n",
        "# # RMSE 계산\n",
        "# squared_errors = calculate_se(X_val['target'], X_val['pred'])\n",
        "# X_val['error'] = squared_errors"
      ]
    },
    {
      "cell_type": "code",
      "execution_count": 177,
      "metadata": {},
      "outputs": [],
      "source": [
        "# Squared_error를 계산하는 함수를 정의하겠습니다.\n",
        "def calculate_se(target, pred):\n",
        "    squared_errors = (target - pred) ** 2\n",
        "    return squared_errors\n",
        "\n",
        "# RMSE 계산\n",
        "squared_errors = calculate_se(X_val_split['target'], X_val_split['pred'])\n",
        "X_val_split['error'] = squared_errors"
      ]
    },
    {
      "cell_type": "code",
      "execution_count": 178,
      "metadata": {
        "id": "fXbdC7b9HDDQ"
      },
      "outputs": [],
      "source": [
        "# # Error가 큰 순서대로 sorting 해 보겠습니다.\n",
        "# X_val_sort = X_val.sort_values(by='error', ascending=False)       # 내림차순 sorting"
      ]
    },
    {
      "cell_type": "code",
      "execution_count": 179,
      "metadata": {},
      "outputs": [],
      "source": [
        "# Error가 큰 순서대로 sorting 해 보겠습니다.\n",
        "X_val_sort = X_val_split.sort_values(by='error', ascending=False)       # 내림차순 sorting"
      ]
    },
    {
      "cell_type": "code",
      "execution_count": 180,
      "metadata": {
        "colab": {
          "base_uri": "https://localhost:8080/",
          "height": 287
        },
        "id": "gOc8HmvDHhz8",
        "outputId": "17e408cb-9533-4d3b-baf6-245de0ae1a43"
      },
      "outputs": [
        {
          "data": {
            "text/html": [
              "<div>\n",
              "<style scoped>\n",
              "    .dataframe tbody tr th:only-of-type {\n",
              "        vertical-align: middle;\n",
              "    }\n",
              "\n",
              "    .dataframe tbody tr th {\n",
              "        vertical-align: top;\n",
              "    }\n",
              "\n",
              "    .dataframe thead th {\n",
              "        text-align: right;\n",
              "    }\n",
              "</style>\n",
              "<table border=\"1\" class=\"dataframe\">\n",
              "  <thead>\n",
              "    <tr style=\"text-align: right;\">\n",
              "      <th></th>\n",
              "      <th>전용면적</th>\n",
              "      <th>층</th>\n",
              "      <th>건축년도</th>\n",
              "      <th>x</th>\n",
              "      <th>y</th>\n",
              "      <th>계약년</th>\n",
              "      <th>거래일건물연식</th>\n",
              "      <th>건축면적</th>\n",
              "      <th>연면적</th>\n",
              "      <th>대지면적</th>\n",
              "      <th>...</th>\n",
              "      <th>강남여부</th>\n",
              "      <th>신축여부</th>\n",
              "      <th>lstm_output</th>\n",
              "      <th>계약월_sin</th>\n",
              "      <th>계약월_cos</th>\n",
              "      <th>계약일_sin</th>\n",
              "      <th>계약일_cos</th>\n",
              "      <th>target</th>\n",
              "      <th>pred</th>\n",
              "      <th>error</th>\n",
              "    </tr>\n",
              "  </thead>\n",
              "  <tbody>\n",
              "    <tr>\n",
              "      <th>1080236</th>\n",
              "      <td>107.47</td>\n",
              "      <td>3</td>\n",
              "      <td>1973</td>\n",
              "      <td>126.989036</td>\n",
              "      <td>37.505354</td>\n",
              "      <td>0.777778</td>\n",
              "      <td>48</td>\n",
              "      <td>649.990000</td>\n",
              "      <td>3354.080000</td>\n",
              "      <td>144209.802120</td>\n",
              "      <td>...</td>\n",
              "      <td>1</td>\n",
              "      <td>0</td>\n",
              "      <td>4162.875488</td>\n",
              "      <td>5.000000e-01</td>\n",
              "      <td>-8.660254e-01</td>\n",
              "      <td>-0.571268</td>\n",
              "      <td>0.820763</td>\n",
              "      <td>4270.959337</td>\n",
              "      <td>479143.240469</td>\n",
              "      <td>2.255037e+11</td>\n",
              "    </tr>\n",
              "    <tr>\n",
              "      <th>1111671</th>\n",
              "      <td>115.65</td>\n",
              "      <td>17</td>\n",
              "      <td>2009</td>\n",
              "      <td>126.995023</td>\n",
              "      <td>37.503087</td>\n",
              "      <td>0.833333</td>\n",
              "      <td>13</td>\n",
              "      <td>14870.980000</td>\n",
              "      <td>358547.530000</td>\n",
              "      <td>328908.732808</td>\n",
              "      <td>...</td>\n",
              "      <td>1</td>\n",
              "      <td>1</td>\n",
              "      <td>4115.742676</td>\n",
              "      <td>-1.000000e+00</td>\n",
              "      <td>-1.836970e-16</td>\n",
              "      <td>-0.897805</td>\n",
              "      <td>-0.440394</td>\n",
              "      <td>4262.862084</td>\n",
              "      <td>478171.244751</td>\n",
              "      <td>2.245892e+11</td>\n",
              "    </tr>\n",
              "    <tr>\n",
              "      <th>1122326</th>\n",
              "      <td>106.26</td>\n",
              "      <td>1</td>\n",
              "      <td>1973</td>\n",
              "      <td>126.989036</td>\n",
              "      <td>37.505354</td>\n",
              "      <td>0.888889</td>\n",
              "      <td>50</td>\n",
              "      <td>649.990000</td>\n",
              "      <td>3354.080000</td>\n",
              "      <td>144209.802120</td>\n",
              "      <td>...</td>\n",
              "      <td>1</td>\n",
              "      <td>0</td>\n",
              "      <td>4228.347168</td>\n",
              "      <td>8.660254e-01</td>\n",
              "      <td>-5.000000e-01</td>\n",
              "      <td>0.485302</td>\n",
              "      <td>-0.874347</td>\n",
              "      <td>4536.043666</td>\n",
              "      <td>455507.616416</td>\n",
              "      <td>2.033754e+11</td>\n",
              "    </tr>\n",
              "    <tr>\n",
              "      <th>1102727</th>\n",
              "      <td>119.41</td>\n",
              "      <td>26</td>\n",
              "      <td>2021</td>\n",
              "      <td>127.026003</td>\n",
              "      <td>37.489008</td>\n",
              "      <td>0.833333</td>\n",
              "      <td>1</td>\n",
              "      <td>15922.981687</td>\n",
              "      <td>115229.229938</td>\n",
              "      <td>260979.766113</td>\n",
              "      <td>...</td>\n",
              "      <td>1</td>\n",
              "      <td>1</td>\n",
              "      <td>3657.272217</td>\n",
              "      <td>5.000000e-01</td>\n",
              "      <td>8.660254e-01</td>\n",
              "      <td>-0.571268</td>\n",
              "      <td>0.820763</td>\n",
              "      <td>3768.528599</td>\n",
              "      <td>448510.198706</td>\n",
              "      <td>1.977952e+11</td>\n",
              "    </tr>\n",
              "    <tr>\n",
              "      <th>1082724</th>\n",
              "      <td>112.96</td>\n",
              "      <td>5</td>\n",
              "      <td>2016</td>\n",
              "      <td>126.992772</td>\n",
              "      <td>37.505457</td>\n",
              "      <td>0.777778</td>\n",
              "      <td>5</td>\n",
              "      <td>15922.981687</td>\n",
              "      <td>115229.229938</td>\n",
              "      <td>260979.766113</td>\n",
              "      <td>...</td>\n",
              "      <td>1</td>\n",
              "      <td>1</td>\n",
              "      <td>3629.653809</td>\n",
              "      <td>1.224647e-16</td>\n",
              "      <td>-1.000000e+00</td>\n",
              "      <td>0.101168</td>\n",
              "      <td>-0.994869</td>\n",
              "      <td>3718.130312</td>\n",
              "      <td>448236.807656</td>\n",
              "      <td>1.975969e+11</td>\n",
              "    </tr>\n",
              "  </tbody>\n",
              "</table>\n",
              "<p>5 rows × 30 columns</p>\n",
              "</div>"
            ],
            "text/plain": [
              "           전용면적   층  건축년도           x          y       계약년  거래일건물연식  \\\n",
              "1080236  107.47   3  1973  126.989036  37.505354  0.777778       48   \n",
              "1111671  115.65  17  2009  126.995023  37.503087  0.833333       13   \n",
              "1122326  106.26   1  1973  126.989036  37.505354  0.888889       50   \n",
              "1102727  119.41  26  2021  127.026003  37.489008  0.833333        1   \n",
              "1082724  112.96   5  2016  126.992772  37.505457  0.777778        5   \n",
              "\n",
              "                 건축면적            연면적           대지면적  ...  강남여부  신축여부  \\\n",
              "1080236    649.990000    3354.080000  144209.802120  ...     1     0   \n",
              "1111671  14870.980000  358547.530000  328908.732808  ...     1     1   \n",
              "1122326    649.990000    3354.080000  144209.802120  ...     1     0   \n",
              "1102727  15922.981687  115229.229938  260979.766113  ...     1     1   \n",
              "1082724  15922.981687  115229.229938  260979.766113  ...     1     1   \n",
              "\n",
              "         lstm_output       계약월_sin       계약월_cos   계약일_sin   계약일_cos  \\\n",
              "1080236  4162.875488  5.000000e-01 -8.660254e-01 -0.571268  0.820763   \n",
              "1111671  4115.742676 -1.000000e+00 -1.836970e-16 -0.897805 -0.440394   \n",
              "1122326  4228.347168  8.660254e-01 -5.000000e-01  0.485302 -0.874347   \n",
              "1102727  3657.272217  5.000000e-01  8.660254e-01 -0.571268  0.820763   \n",
              "1082724  3629.653809  1.224647e-16 -1.000000e+00  0.101168 -0.994869   \n",
              "\n",
              "              target           pred         error  \n",
              "1080236  4270.959337  479143.240469  2.255037e+11  \n",
              "1111671  4262.862084  478171.244751  2.245892e+11  \n",
              "1122326  4536.043666  455507.616416  2.033754e+11  \n",
              "1102727  3768.528599  448510.198706  1.977952e+11  \n",
              "1082724  3718.130312  448236.807656  1.975969e+11  \n",
              "\n",
              "[5 rows x 30 columns]"
            ]
          },
          "execution_count": 180,
          "metadata": {},
          "output_type": "execute_result"
        }
      ],
      "source": [
        "X_val_sort.head()"
      ]
    },
    {
      "cell_type": "markdown",
      "metadata": {
        "id": "Mms3pe564O6v"
      },
      "source": [
        "- 예측을 잘 하지 못한 top 100개의 데이터와 예측을 잘한 top 100개의 데이터를 비교해보겠습니다."
      ]
    },
    {
      "cell_type": "code",
      "execution_count": 181,
      "metadata": {
        "id": "xxEferiRIM8A"
      },
      "outputs": [],
      "source": [
        "# X_val_sort_top100 = X_val.sort_values(by='error', ascending=False).head(100)        # 예측을 잘 하지못한 top 100개의 data\n",
        "# X_val_sort_tail100 = X_val.sort_values(by='error', ascending=False).tail(100)       # 예측을 잘한 top 100개의 data"
      ]
    },
    {
      "cell_type": "code",
      "execution_count": 182,
      "metadata": {},
      "outputs": [],
      "source": [
        "X_val_sort_top100 = X_val_split.sort_values(by='error', ascending=False).head(100)        # 예측을 잘 하지못한 top 100개의 data\n",
        "X_val_sort_tail100 = X_val_split.sort_values(by='error', ascending=False).tail(100)       # 예측을 잘한 top 100개의 data"
      ]
    },
    {
      "cell_type": "code",
      "execution_count": 183,
      "metadata": {
        "id": "JPt_LNqW3TZ2"
      },
      "outputs": [],
      "source": [
        "# 해석을 위해 레이블인코딩 된 변수를 복원해줍니다.\n",
        "error_top100 = X_val_sort_top100.copy()\n",
        "for column in categorical_columns_v2 :     # 앞서 레이블 인코딩에서 정의했던 categorical_columns_v2 범주형 변수 리스트를 사용합니다.\n",
        "    error_top100[column] = label_encoders[column].inverse_transform(X_val_sort_top100[column])\n",
        "\n",
        "best_top100 = X_val_sort_tail100.copy()\n",
        "for column in categorical_columns_v2 :     # 앞서 레이블 인코딩에서 정의했던 categorical_columns_v2 범주형 변수 리스트를 사용합니다.\n",
        "    best_top100[column] = label_encoders[column].inverse_transform(X_val_sort_tail100[column])"
      ]
    },
    {
      "cell_type": "code",
      "execution_count": 184,
      "metadata": {
        "colab": {
          "base_uri": "https://localhost:8080/",
          "height": 358
        },
        "id": "Rlo-K31L3PEQ",
        "outputId": "f009d0e0-0224-46eb-de2d-3eff99a2dbd0"
      },
      "outputs": [
        {
          "data": {
            "text/html": [
              "<div>\n",
              "<style scoped>\n",
              "    .dataframe tbody tr th:only-of-type {\n",
              "        vertical-align: middle;\n",
              "    }\n",
              "\n",
              "    .dataframe tbody tr th {\n",
              "        vertical-align: top;\n",
              "    }\n",
              "\n",
              "    .dataframe thead th {\n",
              "        text-align: right;\n",
              "    }\n",
              "</style>\n",
              "<table border=\"1\" class=\"dataframe\">\n",
              "  <thead>\n",
              "    <tr style=\"text-align: right;\">\n",
              "      <th></th>\n",
              "      <th>전용면적</th>\n",
              "      <th>층</th>\n",
              "      <th>건축년도</th>\n",
              "      <th>x</th>\n",
              "      <th>y</th>\n",
              "      <th>계약년</th>\n",
              "      <th>거래일건물연식</th>\n",
              "      <th>건축면적</th>\n",
              "      <th>연면적</th>\n",
              "      <th>대지면적</th>\n",
              "      <th>...</th>\n",
              "      <th>강남여부</th>\n",
              "      <th>신축여부</th>\n",
              "      <th>lstm_output</th>\n",
              "      <th>계약월_sin</th>\n",
              "      <th>계약월_cos</th>\n",
              "      <th>계약일_sin</th>\n",
              "      <th>계약일_cos</th>\n",
              "      <th>target</th>\n",
              "      <th>pred</th>\n",
              "      <th>error</th>\n",
              "    </tr>\n",
              "  </thead>\n",
              "  <tbody>\n",
              "    <tr>\n",
              "      <th>1080236</th>\n",
              "      <td>107.47</td>\n",
              "      <td>3</td>\n",
              "      <td>1973</td>\n",
              "      <td>126.989036</td>\n",
              "      <td>37.505354</td>\n",
              "      <td>0.777778</td>\n",
              "      <td>48</td>\n",
              "      <td>649.99</td>\n",
              "      <td>3354.08</td>\n",
              "      <td>144209.80212</td>\n",
              "      <td>...</td>\n",
              "      <td>1</td>\n",
              "      <td>0</td>\n",
              "      <td>4162.875488</td>\n",
              "      <td>0.5</td>\n",
              "      <td>-0.866025</td>\n",
              "      <td>-0.571268</td>\n",
              "      <td>0.820763</td>\n",
              "      <td>4270.959337</td>\n",
              "      <td>479143.240469</td>\n",
              "      <td>2.255037e+11</td>\n",
              "    </tr>\n",
              "  </tbody>\n",
              "</table>\n",
              "<p>1 rows × 30 columns</p>\n",
              "</div>"
            ],
            "text/plain": [
              "           전용면적  층  건축년도           x          y       계약년  거래일건물연식    건축면적  \\\n",
              "1080236  107.47  3  1973  126.989036  37.505354  0.777778       48  649.99   \n",
              "\n",
              "             연면적          대지면적  ...  강남여부  신축여부  lstm_output 계약월_sin  \\\n",
              "1080236  3354.08  144209.80212  ...     1     0  4162.875488     0.5   \n",
              "\n",
              "          계약월_cos   계약일_sin   계약일_cos       target           pred  \\\n",
              "1080236 -0.866025 -0.571268  0.820763  4270.959337  479143.240469   \n",
              "\n",
              "                error  \n",
              "1080236  2.255037e+11  \n",
              "\n",
              "[1 rows x 30 columns]"
            ]
          },
          "metadata": {},
          "output_type": "display_data"
        },
        {
          "data": {
            "text/html": [
              "<div>\n",
              "<style scoped>\n",
              "    .dataframe tbody tr th:only-of-type {\n",
              "        vertical-align: middle;\n",
              "    }\n",
              "\n",
              "    .dataframe tbody tr th {\n",
              "        vertical-align: top;\n",
              "    }\n",
              "\n",
              "    .dataframe thead th {\n",
              "        text-align: right;\n",
              "    }\n",
              "</style>\n",
              "<table border=\"1\" class=\"dataframe\">\n",
              "  <thead>\n",
              "    <tr style=\"text-align: right;\">\n",
              "      <th></th>\n",
              "      <th>전용면적</th>\n",
              "      <th>층</th>\n",
              "      <th>건축년도</th>\n",
              "      <th>x</th>\n",
              "      <th>y</th>\n",
              "      <th>계약년</th>\n",
              "      <th>거래일건물연식</th>\n",
              "      <th>건축면적</th>\n",
              "      <th>연면적</th>\n",
              "      <th>대지면적</th>\n",
              "      <th>...</th>\n",
              "      <th>강남여부</th>\n",
              "      <th>신축여부</th>\n",
              "      <th>lstm_output</th>\n",
              "      <th>계약월_sin</th>\n",
              "      <th>계약월_cos</th>\n",
              "      <th>계약일_sin</th>\n",
              "      <th>계약일_cos</th>\n",
              "      <th>target</th>\n",
              "      <th>pred</th>\n",
              "      <th>error</th>\n",
              "    </tr>\n",
              "  </thead>\n",
              "  <tbody>\n",
              "    <tr>\n",
              "      <th>3768</th>\n",
              "      <td>45.76</td>\n",
              "      <td>1</td>\n",
              "      <td>1997</td>\n",
              "      <td>126.886897</td>\n",
              "      <td>37.487061</td>\n",
              "      <td>0.0</td>\n",
              "      <td>10</td>\n",
              "      <td>55.12</td>\n",
              "      <td>275.6</td>\n",
              "      <td>79.0</td>\n",
              "      <td>...</td>\n",
              "      <td>0</td>\n",
              "      <td>1</td>\n",
              "      <td>120.384674</td>\n",
              "      <td>0.5</td>\n",
              "      <td>0.866025</td>\n",
              "      <td>-0.724793</td>\n",
              "      <td>0.688967</td>\n",
              "      <td>120.192308</td>\n",
              "      <td>7148.182476</td>\n",
              "      <td>4.939265e+07</td>\n",
              "    </tr>\n",
              "  </tbody>\n",
              "</table>\n",
              "<p>1 rows × 30 columns</p>\n",
              "</div>"
            ],
            "text/plain": [
              "       전용면적  층  건축년도           x          y  계약년  거래일건물연식   건축면적    연면적  대지면적  \\\n",
              "3768  45.76  1  1997  126.886897  37.487061  0.0       10  55.12  275.6  79.0   \n",
              "\n",
              "      ...  강남여부  신축여부  lstm_output 계약월_sin   계약월_cos   계약일_sin   계약일_cos  \\\n",
              "3768  ...     0     1   120.384674     0.5  0.866025 -0.724793  0.688967   \n",
              "\n",
              "          target         pred         error  \n",
              "3768  120.192308  7148.182476  4.939265e+07  \n",
              "\n",
              "[1 rows x 30 columns]"
            ]
          },
          "metadata": {},
          "output_type": "display_data"
        }
      ],
      "source": [
        "display(error_top100.head(1))\n",
        "display(best_top100.head(1))"
      ]
    },
    {
      "cell_type": "markdown",
      "metadata": {
        "id": "K6gnHzd55c6f"
      },
      "source": [
        "- 이제 분포를 비교해보도록 하겠습니다."
      ]
    },
    {
      "cell_type": "code",
      "execution_count": 185,
      "metadata": {
        "colab": {
          "base_uri": "https://localhost:8080/",
          "height": 925
        },
        "id": "SyJJoEiu4kes",
        "outputId": "afd5876f-264e-4ad1-d2bf-cb400819c794"
      },
      "outputs": [
        {
          "data": {
            "image/png": "[encoded data removed]",
            "text/plain": [
              "<Figure size 640x480 with 1 Axes>"
            ]
          },
          "metadata": {},
          "output_type": "display_data"
        },
        {
          "data": {
            "image/png": "[encoded data removed]",
            "text/plain": [
              "<Figure size 640x480 with 1 Axes>"
            ]
          },
          "metadata": {},
          "output_type": "display_data"
        }
      ],
      "source": [
        "sns.boxplot(data = error_top100, x='target')\n",
        "plt.title('The worst top100 prediction의 target 분포')\n",
        "plt.show()\n",
        "\n",
        "sns.boxplot(data = best_top100, x='target', color='orange')\n",
        "plt.title('The best top100 prediction의 target 분포')\n",
        "plt.show()"
      ]
    },
    {
      "cell_type": "markdown",
      "metadata": {
        "id": "gWnF219657Lc"
      },
      "source": [
        "- Taget 분포를 보니 좋은 예측을 보인 top 100개의 data보다 상대적으로 나쁜 예측을 보인 top 100 dataset들이 높은 가격을 보였음을 확인할 수 있습니다. 이에 대한 모델링 및 처리가 필요해보입니다."
      ]
    },
    {
      "cell_type": "code",
      "execution_count": 186,
      "metadata": {
        "colab": {
          "base_uri": "https://localhost:8080/",
          "height": 471
        },
        "id": "qOhsS3Cr6IuH",
        "outputId": "462592ff-31b6-4300-9edb-cbec64054deb"
      },
      "outputs": [
        {
          "data": {
            "image/png": "[encoded data removed]",
            "text/plain": [
              "<Figure size 640x480 with 1 Axes>"
            ]
          },
          "metadata": {},
          "output_type": "display_data"
        }
      ],
      "source": [
        "sns.histplot(data = error_top100, x='전용면적', alpha=0.5)\n",
        "sns.histplot(data = best_top100, x='전용면적', color='orange', alpha=0.5)\n",
        "plt.title('전용면적 분포 비교')\n",
        "plt.show()"
      ]
    },
    {
      "cell_type": "markdown",
      "metadata": {
        "id": "XsMOOYc16jU8"
      },
      "source": [
        "- 전용면적 또한 나쁜 예측을 보인 집들이 더 넓음을 확인할 수 있습니다."
      ]
    },
    {
      "cell_type": "markdown",
      "metadata": {
        "id": "F0Ga4ljBNYIy"
      },
      "source": [
        "## 6. Inference"
      ]
    },
    {
      "cell_type": "code",
      "execution_count": 187,
      "metadata": {
        "colab": {
          "base_uri": "https://localhost:8080/",
          "height": 158
        },
        "id": "7LC7NuRaD_Dd",
        "outputId": "c2827163-dbdd-4c8c-d35b-1c325b8d14c0"
      },
      "outputs": [
        {
          "data": {
            "text/html": [
              "<div>\n",
              "<style scoped>\n",
              "    .dataframe tbody tr th:only-of-type {\n",
              "        vertical-align: middle;\n",
              "    }\n",
              "\n",
              "    .dataframe tbody tr th {\n",
              "        vertical-align: top;\n",
              "    }\n",
              "\n",
              "    .dataframe thead th {\n",
              "        text-align: right;\n",
              "    }\n",
              "</style>\n",
              "<table border=\"1\" class=\"dataframe\">\n",
              "  <thead>\n",
              "    <tr style=\"text-align: right;\">\n",
              "      <th></th>\n",
              "      <th>번지</th>\n",
              "      <th>본번</th>\n",
              "      <th>부번</th>\n",
              "      <th>전용면적</th>\n",
              "      <th>층</th>\n",
              "      <th>건축년도</th>\n",
              "      <th>주소</th>\n",
              "      <th>x</th>\n",
              "      <th>y</th>\n",
              "      <th>계약년</th>\n",
              "      <th>...</th>\n",
              "      <th>대지면적</th>\n",
              "      <th>건폐율</th>\n",
              "      <th>용적율</th>\n",
              "      <th>평균층수</th>\n",
              "      <th>target</th>\n",
              "      <th>계약월_sin</th>\n",
              "      <th>계약월_cos</th>\n",
              "      <th>계약일_sin</th>\n",
              "      <th>계약일_cos</th>\n",
              "      <th>lstm_output</th>\n",
              "    </tr>\n",
              "  </thead>\n",
              "  <tbody>\n",
              "    <tr>\n",
              "      <th>1131730</th>\n",
              "      <td>106</td>\n",
              "      <td>19</td>\n",
              "      <td>175</td>\n",
              "      <td>59.88</td>\n",
              "      <td>5</td>\n",
              "      <td>2000</td>\n",
              "      <td>92</td>\n",
              "      <td>127.058402</td>\n",
              "      <td>37.496387</td>\n",
              "      <td>0.888889</td>\n",
              "      <td>...</td>\n",
              "      <td>230824.309402</td>\n",
              "      <td>302.928185</td>\n",
              "      <td>3219.730933</td>\n",
              "      <td>16.386014</td>\n",
              "      <td>0</td>\n",
              "      <td>-0.5</td>\n",
              "      <td>-0.866025</td>\n",
              "      <td>0.201299</td>\n",
              "      <td>0.97953</td>\n",
              "      <td>-1.124290</td>\n",
              "    </tr>\n",
              "    <tr>\n",
              "      <th>1131731</th>\n",
              "      <td>2318</td>\n",
              "      <td>709</td>\n",
              "      <td>1</td>\n",
              "      <td>76.79</td>\n",
              "      <td>14</td>\n",
              "      <td>1979</td>\n",
              "      <td>97</td>\n",
              "      <td>127.065327</td>\n",
              "      <td>37.497418</td>\n",
              "      <td>0.888889</td>\n",
              "      <td>...</td>\n",
              "      <td>499755.072766</td>\n",
              "      <td>324.523684</td>\n",
              "      <td>3530.891261</td>\n",
              "      <td>12.733967</td>\n",
              "      <td>0</td>\n",
              "      <td>-0.5</td>\n",
              "      <td>-0.866025</td>\n",
              "      <td>0.201299</td>\n",
              "      <td>0.97953</td>\n",
              "      <td>-0.758163</td>\n",
              "    </tr>\n",
              "  </tbody>\n",
              "</table>\n",
              "<p>2 rows × 28 columns</p>\n",
              "</div>"
            ],
            "text/plain": [
              "           번지   본번   부번   전용면적   층  건축년도  주소           x          y       계약년  \\\n",
              "1131730   106   19  175  59.88   5  2000  92  127.058402  37.496387  0.888889   \n",
              "1131731  2318  709    1  76.79  14  1979  97  127.065327  37.497418  0.888889   \n",
              "\n",
              "         ...           대지면적         건폐율          용적율       평균층수  target  \\\n",
              "1131730  ...  230824.309402  302.928185  3219.730933  16.386014       0   \n",
              "1131731  ...  499755.072766  324.523684  3530.891261  12.733967       0   \n",
              "\n",
              "         계약월_sin   계약월_cos   계약일_sin  계약일_cos  lstm_output  \n",
              "1131730     -0.5 -0.866025  0.201299  0.97953    -1.124290  \n",
              "1131731     -0.5 -0.866025  0.201299  0.97953    -0.758163  \n",
              "\n",
              "[2 rows x 28 columns]"
            ]
          },
          "execution_count": 187,
          "metadata": {},
          "output_type": "execute_result"
        }
      ],
      "source": [
        "dt_test.head(2)      # test dataset에 대한 inference를 진행해보겠습니다."
      ]
    },
    {
      "cell_type": "code",
      "execution_count": 188,
      "metadata": {
        "id": "0HXvn8ZSa1kt"
      },
      "outputs": [],
      "source": [
        "# 저장된 모델을 불러옵니다.\n",
        "with open('saved_model.pkl', 'rb') as f:\n",
        "    model = pickle.load(f)"
      ]
    },
    {
      "cell_type": "code",
      "execution_count": 189,
      "metadata": {},
      "outputs": [
        {
          "name": "stdout",
          "output_type": "stream",
          "text": [
            "Feature names used in the model: Index(['전용면적', '층', '건축년도', 'x', 'y', '계약년', '거래일건물연식', '건축면적', '연면적', '대지면적',\n",
            "       '건폐율', '용적율', '평균층수', '번지', '본번', '부번', '주소', '거래취소여부', '구', '동',\n",
            "       '강남여부', '신축여부', 'lstm_output', '계약월_sin', '계약월_cos', '계약일_sin',\n",
            "       '계약일_cos'],\n",
            "      dtype='object')\n",
            "Index(['전용면적', '층', '건축년도', 'x', 'y', '계약년', '거래일건물연식', '건축면적', '연면적', '대지면적',\n",
            "       '건폐율', '용적율', '평균층수', '번지', '본번', '부번', '주소', '거래취소여부', '구', '동',\n",
            "       '강남여부', '신축여부', 'lstm_output', '계약월_sin', '계약월_cos', '계약일_sin',\n",
            "       '계약일_cos'],\n",
            "      dtype='object')\n"
          ]
        }
      ],
      "source": [
        "# DataFrame의 columns 속성으로 feature names 확인\n",
        "feature_names = X_test_xgb.columns\n",
        "print(\"Feature names used in the model:\", feature_names)\n",
        "print(X_test_xgb.columns)"
      ]
    },
    {
      "cell_type": "code",
      "execution_count": 190,
      "metadata": {
        "colab": {
          "base_uri": "https://localhost:8080/"
        },
        "id": "qbZ2A49LP_T9",
        "outputId": "89676c9b-c0a2-4951-84f0-430c5648331c"
      },
      "outputs": [],
      "source": [
        "# %%time\n",
        "# X_test = dt_test.drop(['target'], axis=1)\n",
        "\n",
        "# # Test dataset에 대한 inference를 진행합니다.\n",
        "# real_test_pred = model.predict(X_test)"
      ]
    },
    {
      "cell_type": "code",
      "execution_count": 191,
      "metadata": {},
      "outputs": [],
      "source": [
        "# X_test = X_test_xgb.drop(['target'], axis=1)\n",
        "\n",
        "# Test dataset에 대한 inference를 진행합니다.\n",
        "real_test_pred = model.predict(X_test_xgb)"
      ]
    },
    {
      "cell_type": "code",
      "execution_count": 192,
      "metadata": {
        "colab": {
          "base_uri": "https://localhost:8080/"
        },
        "id": "4M1QkrH_31zK",
        "outputId": "6c6f4635-50bb-4a2d-8453-56f700ec6140"
      },
      "outputs": [
        {
          "data": {
            "text/plain": [
              "array([117.72429, 154.96404, 120.78615, ..., 159.67493, 139.82094,\n",
              "       144.95526], dtype=float32)"
            ]
          },
          "execution_count": 192,
          "metadata": {},
          "output_type": "execute_result"
        }
      ],
      "source": [
        "real_test_pred          # 예측값들이 출력됨을 확인할 수 있습니다."
      ]
    },
    {
      "cell_type": "markdown",
      "metadata": {
        "id": "KlxtDBDNNa6Y"
      },
      "source": [
        "## 7. Output File Save"
      ]
    },
    {
      "cell_type": "code",
      "execution_count": 205,
      "metadata": {},
      "outputs": [
        {
          "name": "stdout",
          "output_type": "stream",
          "text": [
            "Feature names used in the test data: Index(['전용면적', '층', '건축년도', 'x', 'y', '계약년', '거래일건물연식', '건축면적', '연면적', '대지면적',\n",
            "       '건폐율', '용적율', '평균층수', '번지', '본번', '부번', '주소', '거래취소여부', '구', '동',\n",
            "       '강남여부', '신축여부', 'lstm_output', '계약월_sin', '계약월_cos', '계약일_sin',\n",
            "       '계약일_cos'],\n",
            "      dtype='object')\n",
            "Feature names used in the model: ['전용면적', '층', '건축년도', 'x', 'y', '계약년', '거래일건물연식', '건축면적', '연면적', '대지면적', '건폐율', '용적율', '평균층수', '번지', '본번', '부번', '주소', '거래취소여부', '구', '동', '강남여부', '신축여부', 'lstm_output', '계약월_sin', '계약월_cos', '계약일_sin', '계약일_cos']\n"
          ]
        }
      ],
      "source": [
        "# 1. 테스트 데이터의 feature names 확인\n",
        "feature_names = X_test_xgb.columns\n",
        "print(\"Feature names used in the test data:\", feature_names)\n",
        "\n",
        "# 2. 모델 학습 시 사용된 feature names 확인\n",
        "model_feature_names = model.get_booster().feature_names\n",
        "print(\"Feature names used in the model:\", model_feature_names)\n",
        "\n",
        "# 3. 예측에 필요한 feature만 선택 (모델이 학습할 때 사용한 feature만 선택)\n",
        "# 학습에 사용된 feature만 선택해서 test 데이터셋에서 사용\n",
        "X_test_xgb = X_test_xgb[model_feature_names]\n",
        "\n",
        "# # 4. 스케일러를 이용해 테스트 데이터를 스케일 조정 (LSTM과 동일한 스케일러를 사용)\n",
        "# X_test_scaled = scaler.transform(X_test_xgb)\n",
        "\n",
        "# # 5. 스케일된 데이터를 XGBoost 모델에 입력하여 예측을 수행\n",
        "# real_test_pred = model.predict(X_test_scaled)\n",
        "\n",
        "# # 6. 예측된 결과를 다시 원래의 스케일로 복원 (선택 사항)\n",
        "# real_test_pred_original_scale = scaler.inverse_transform(real_test_pred.reshape(-1, 1))\n",
        "\n",
        "# # 7. 복원된 예측 결과 출력 또는 저장\n",
        "# print(real_test_pred_original_scale)\n",
        "\n",
        "# # 예측 결과를 CSV로 저장 (복원된 결과 사용)\n",
        "# preds_df = pd.DataFrame(real_test_pred_original_scale.astype(int), columns=[\"target\"])\n",
        "# preds_df.to_csv('output.csv', index=False)"
      ]
    },
    {
      "cell_type": "code",
      "execution_count": 208,
      "metadata": {},
      "outputs": [
        {
          "data": {
            "text/plain": [
              "Index(['전용면적', '층', '건축년도', 'x', 'y', '계약년', '거래일건물연식', '건축면적', '연면적', '대지면적',\n",
              "       '건폐율', '용적율', '평균층수', '번지', '본번', '부번', '주소', '거래취소여부', '구', '동',\n",
              "       '강남여부', '신축여부', 'lstm_output', '계약월_sin', '계약월_cos', '계약일_sin',\n",
              "       '계약일_cos'],\n",
              "      dtype='object')"
            ]
          },
          "execution_count": 208,
          "metadata": {},
          "output_type": "execute_result"
        }
      ],
      "source": [
        "X_test_xgb.head(10000)\n",
        "X_test_xgb.columns"
      ]
    },
    {
      "cell_type": "code",
      "execution_count": 193,
      "metadata": {
        "id": "Tn36fIuB42aM"
      },
      "outputs": [],
      "source": [
        "# 앞서 예측한 예측값들을 저장합니다.\n",
        "preds_df = pd.DataFrame(real_test_pred.astype(int), columns=[\"target\"])\n",
        "preds_df.to_csv('output.csv', index=False)"
      ]
    },
    {
      "cell_type": "code",
      "execution_count": 195,
      "metadata": {},
      "outputs": [
        {
          "ename": "ValueError",
          "evalue": "non-broadcastable output operand with shape (9390,1) doesn't match the broadcast shape (9390,19)",
          "output_type": "error",
          "traceback": [
            "\u001b[0;31m---------------------------------------------------------------------------\u001b[0m",
            "\u001b[0;31mValueError\u001b[0m                                Traceback (most recent call last)",
            "Cell \u001b[0;32mIn[195], line 1\u001b[0m\n\u001b[0;32m----> 1\u001b[0m real_test_pred_original_scale \u001b[38;5;241m=\u001b[39m \u001b[43mscaler\u001b[49m\u001b[38;5;241;43m.\u001b[39;49m\u001b[43minverse_transform\u001b[49m\u001b[43m(\u001b[49m\u001b[43mreal_test_pred\u001b[49m\u001b[38;5;241;43m.\u001b[39;49m\u001b[43mreshape\u001b[49m\u001b[43m(\u001b[49m\u001b[38;5;241;43m-\u001b[39;49m\u001b[38;5;241;43m1\u001b[39;49m\u001b[43m,\u001b[49m\u001b[43m \u001b[49m\u001b[38;5;241;43m1\u001b[39;49m\u001b[43m)\u001b[49m\u001b[43m)\u001b[49m\n\u001b[1;32m      2\u001b[0m \u001b[38;5;28mprint\u001b[39m(real_test_pred)\n",
            "File \u001b[0;32m/opt/conda/lib/python3.10/site-packages/sklearn/preprocessing/_data.py:541\u001b[0m, in \u001b[0;36mMinMaxScaler.inverse_transform\u001b[0;34m(self, X)\u001b[0m\n\u001b[1;32m    535\u001b[0m check_is_fitted(\u001b[38;5;28mself\u001b[39m)\n\u001b[1;32m    537\u001b[0m X \u001b[38;5;241m=\u001b[39m check_array(\n\u001b[1;32m    538\u001b[0m     X, copy\u001b[38;5;241m=\u001b[39m\u001b[38;5;28mself\u001b[39m\u001b[38;5;241m.\u001b[39mcopy, dtype\u001b[38;5;241m=\u001b[39mFLOAT_DTYPES, force_all_finite\u001b[38;5;241m=\u001b[39m\u001b[38;5;124m\"\u001b[39m\u001b[38;5;124mallow-nan\u001b[39m\u001b[38;5;124m\"\u001b[39m\n\u001b[1;32m    539\u001b[0m )\n\u001b[0;32m--> 541\u001b[0m X \u001b[38;5;241m-\u001b[39m\u001b[38;5;241m=\u001b[39m \u001b[38;5;28mself\u001b[39m\u001b[38;5;241m.\u001b[39mmin_\n\u001b[1;32m    542\u001b[0m X \u001b[38;5;241m/\u001b[39m\u001b[38;5;241m=\u001b[39m \u001b[38;5;28mself\u001b[39m\u001b[38;5;241m.\u001b[39mscale_\n\u001b[1;32m    543\u001b[0m \u001b[38;5;28;01mreturn\u001b[39;00m X\n",
            "\u001b[0;31mValueError\u001b[0m: non-broadcastable output operand with shape (9390,1) doesn't match the broadcast shape (9390,19)"
          ]
        }
      ],
      "source": [
        "real_test_pred_original_scale = scaler.inverse_transform(real_test_pred.reshape(-1, 1))\n",
        "print(real_test_pred) "
      ]
    },
    {
      "cell_type": "code",
      "execution_count": null,
      "metadata": {},
      "outputs": [],
      "source": []
    }
  ],
  "metadata": {
    "colab": {
      "provenance": []
    },
    "kernelspec": {
      "display_name": "Python 3.10.13 ('base')",
      "language": "python",
      "name": "python3"
    },
    "language_info": {
      "codemirror_mode": {
        "name": "ipython",
        "version": 3
      },
      "file_extension": ".py",
      "mimetype": "text/x-python",
      "name": "python",
      "nbconvert_exporter": "python",
      "pygments_lexer": "ipython3",
      "version": "3.10.13"
    },
    "vscode": {
      "interpreter": {
        "hash": "d4d1e4263499bec80672ea0156c357c1ee493ec2b1c70f0acce89fc37c4a6abe"
      }
    }
  },
  "nbformat": 4,
  "nbformat_minor": 0
}
