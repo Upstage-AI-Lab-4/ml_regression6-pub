{
 "cells": [
  {
   "cell_type": "code",
   "execution_count": 1,
   "metadata": {},
   "outputs": [],
   "source": [
    "import pandas as pd\n",
    "import numpy as np\n"
   ]
  },
  {
   "cell_type": "code",
   "execution_count": 2,
   "metadata": {},
   "outputs": [],
   "source": [
    "gis = pd.read_csv('../data/gis건물통합정보.csv')"
   ]
  },
  {
   "cell_type": "code",
   "execution_count": 3,
   "metadata": {},
   "outputs": [
    {
     "data": {
      "text/html": [
       "<div>\n",
       "<style scoped>\n",
       "    .dataframe tbody tr th:only-of-type {\n",
       "        vertical-align: middle;\n",
       "    }\n",
       "\n",
       "    .dataframe tbody tr th {\n",
       "        vertical-align: top;\n",
       "    }\n",
       "\n",
       "    .dataframe thead th {\n",
       "        text-align: right;\n",
       "    }\n",
       "</style>\n",
       "<table border=\"1\" class=\"dataframe\">\n",
       "  <thead>\n",
       "    <tr style=\"text-align: right;\">\n",
       "      <th></th>\n",
       "      <th>Unnamed: 0</th>\n",
       "      <th>법정동명</th>\n",
       "      <th>번지</th>\n",
       "      <th>건축면적</th>\n",
       "      <th>연면적</th>\n",
       "      <th>대지면적</th>\n",
       "      <th>건폐율</th>\n",
       "      <th>용적율</th>\n",
       "      <th>사용승인일자</th>\n",
       "      <th>ID</th>\n",
       "    </tr>\n",
       "  </thead>\n",
       "  <tbody>\n",
       "    <tr>\n",
       "      <th>0</th>\n",
       "      <td>0</td>\n",
       "      <td>서울특별시 종로구 숭인동</td>\n",
       "      <td>704</td>\n",
       "      <td>57.6</td>\n",
       "      <td>203.13</td>\n",
       "      <td>100.6</td>\n",
       "      <td>57.26</td>\n",
       "      <td>144.66202</td>\n",
       "      <td>1991-09-02</td>\n",
       "      <td>서울특별시 종로구 숭인동 704</td>\n",
       "    </tr>\n",
       "    <tr>\n",
       "      <th>1</th>\n",
       "      <td>1</td>\n",
       "      <td>서울특별시 종로구 숭인동</td>\n",
       "      <td>56-24</td>\n",
       "      <td>0.0</td>\n",
       "      <td>114.98</td>\n",
       "      <td>0.0</td>\n",
       "      <td>0.00</td>\n",
       "      <td>0.00000</td>\n",
       "      <td>1967-05-28</td>\n",
       "      <td>서울특별시 종로구 숭인동 56-24</td>\n",
       "    </tr>\n",
       "    <tr>\n",
       "      <th>2</th>\n",
       "      <td>2</td>\n",
       "      <td>서울특별시 종로구 숭인동</td>\n",
       "      <td>56-54</td>\n",
       "      <td>0.0</td>\n",
       "      <td>135.20</td>\n",
       "      <td>0.0</td>\n",
       "      <td>0.00</td>\n",
       "      <td>0.00000</td>\n",
       "      <td>1962-12-21</td>\n",
       "      <td>서울특별시 종로구 숭인동 56-54</td>\n",
       "    </tr>\n",
       "    <tr>\n",
       "      <th>3</th>\n",
       "      <td>3</td>\n",
       "      <td>서울특별시 종로구 숭인동</td>\n",
       "      <td>56-53</td>\n",
       "      <td>0.0</td>\n",
       "      <td>230.18</td>\n",
       "      <td>0.0</td>\n",
       "      <td>0.00</td>\n",
       "      <td>0.00000</td>\n",
       "      <td>1979-06-01</td>\n",
       "      <td>서울특별시 종로구 숭인동 56-53</td>\n",
       "    </tr>\n",
       "    <tr>\n",
       "      <th>4</th>\n",
       "      <td>4</td>\n",
       "      <td>서울특별시 종로구 이화동</td>\n",
       "      <td>28-11</td>\n",
       "      <td>0.0</td>\n",
       "      <td>0.00</td>\n",
       "      <td>0.0</td>\n",
       "      <td>0.00</td>\n",
       "      <td>0.00000</td>\n",
       "      <td>NaN</td>\n",
       "      <td>서울특별시 종로구 이화동 28-11</td>\n",
       "    </tr>\n",
       "  </tbody>\n",
       "</table>\n",
       "</div>"
      ],
      "text/plain": [
       "   Unnamed: 0           법정동명     번지  건축면적     연면적   대지면적    건폐율        용적율  \\\n",
       "0           0  서울특별시 종로구 숭인동    704  57.6  203.13  100.6  57.26  144.66202   \n",
       "1           1  서울특별시 종로구 숭인동  56-24   0.0  114.98    0.0   0.00    0.00000   \n",
       "2           2  서울특별시 종로구 숭인동  56-54   0.0  135.20    0.0   0.00    0.00000   \n",
       "3           3  서울특별시 종로구 숭인동  56-53   0.0  230.18    0.0   0.00    0.00000   \n",
       "4           4  서울특별시 종로구 이화동  28-11   0.0    0.00    0.0   0.00    0.00000   \n",
       "\n",
       "       사용승인일자                   ID  \n",
       "0  1991-09-02    서울특별시 종로구 숭인동 704  \n",
       "1  1967-05-28  서울특별시 종로구 숭인동 56-24  \n",
       "2  1962-12-21  서울특별시 종로구 숭인동 56-54  \n",
       "3  1979-06-01  서울특별시 종로구 숭인동 56-53  \n",
       "4         NaN  서울특별시 종로구 이화동 28-11  "
      ]
     },
     "execution_count": 3,
     "metadata": {},
     "output_type": "execute_result"
    }
   ],
   "source": [
    "gis.head()"
   ]
  },
  {
   "cell_type": "code",
   "execution_count": 4,
   "metadata": {},
   "outputs": [
    {
     "data": {
      "text/html": [
       "<div>\n",
       "<style scoped>\n",
       "    .dataframe tbody tr th:only-of-type {\n",
       "        vertical-align: middle;\n",
       "    }\n",
       "\n",
       "    .dataframe tbody tr th {\n",
       "        vertical-align: top;\n",
       "    }\n",
       "\n",
       "    .dataframe thead th {\n",
       "        text-align: right;\n",
       "    }\n",
       "</style>\n",
       "<table border=\"1\" class=\"dataframe\">\n",
       "  <thead>\n",
       "    <tr style=\"text-align: right;\">\n",
       "      <th></th>\n",
       "      <th>건축면적</th>\n",
       "      <th>연면적</th>\n",
       "      <th>대지면적</th>\n",
       "      <th>ID</th>\n",
       "    </tr>\n",
       "  </thead>\n",
       "  <tbody>\n",
       "    <tr>\n",
       "      <th>0</th>\n",
       "      <td>57.6</td>\n",
       "      <td>203.13</td>\n",
       "      <td>100.6</td>\n",
       "      <td>서울특별시 종로구 숭인동 704</td>\n",
       "    </tr>\n",
       "    <tr>\n",
       "      <th>1</th>\n",
       "      <td>0.0</td>\n",
       "      <td>114.98</td>\n",
       "      <td>0.0</td>\n",
       "      <td>서울특별시 종로구 숭인동 56-24</td>\n",
       "    </tr>\n",
       "    <tr>\n",
       "      <th>2</th>\n",
       "      <td>0.0</td>\n",
       "      <td>135.20</td>\n",
       "      <td>0.0</td>\n",
       "      <td>서울특별시 종로구 숭인동 56-54</td>\n",
       "    </tr>\n",
       "    <tr>\n",
       "      <th>3</th>\n",
       "      <td>0.0</td>\n",
       "      <td>230.18</td>\n",
       "      <td>0.0</td>\n",
       "      <td>서울특별시 종로구 숭인동 56-53</td>\n",
       "    </tr>\n",
       "    <tr>\n",
       "      <th>4</th>\n",
       "      <td>0.0</td>\n",
       "      <td>0.00</td>\n",
       "      <td>0.0</td>\n",
       "      <td>서울특별시 종로구 이화동 28-11</td>\n",
       "    </tr>\n",
       "  </tbody>\n",
       "</table>\n",
       "</div>"
      ],
      "text/plain": [
       "   건축면적     연면적   대지면적                   ID\n",
       "0  57.6  203.13  100.6    서울특별시 종로구 숭인동 704\n",
       "1   0.0  114.98    0.0  서울특별시 종로구 숭인동 56-24\n",
       "2   0.0  135.20    0.0  서울특별시 종로구 숭인동 56-54\n",
       "3   0.0  230.18    0.0  서울특별시 종로구 숭인동 56-53\n",
       "4   0.0    0.00    0.0  서울특별시 종로구 이화동 28-11"
      ]
     },
     "execution_count": 4,
     "metadata": {},
     "output_type": "execute_result"
    }
   ],
   "source": [
    "drop_col = ['Unnamed: 0', '법정동명', '번지', '건폐율', '용적율', '사용승인일자']\n",
    "gis.drop(columns=drop_col, inplace=True)\n",
    "\n",
    "gis.head()"
   ]
  },
  {
   "cell_type": "code",
   "execution_count": 5,
   "metadata": {},
   "outputs": [
    {
     "data": {
      "text/plain": [
       "count    695961.000000\n",
       "mean        140.019386\n",
       "std        3713.559982\n",
       "min        -186.230000\n",
       "25%           0.000000\n",
       "50%          62.750000\n",
       "75%         110.980000\n",
       "max     1077005.000000\n",
       "Name: 건축면적, dtype: float64"
      ]
     },
     "execution_count": 5,
     "metadata": {},
     "output_type": "execute_result"
    }
   ],
   "source": [
    "gis1 = gis.set_index('ID')\n",
    "\n",
    "pd.set_option('display.float_format', '{:.6f}'.format)\n",
    "gis1['건축면적'].describe()"
   ]
  },
  {
   "cell_type": "code",
   "execution_count": 6,
   "metadata": {},
   "outputs": [],
   "source": [
    "df = pd.read_csv('../data/base_dataset_3.csv')\n",
    "\n",
    "df = df[['주소', '번지']]"
   ]
  },
  {
   "cell_type": "code",
   "execution_count": 7,
   "metadata": {},
   "outputs": [
    {
     "data": {
      "text/plain": [
       "(8955, 2)"
      ]
     },
     "execution_count": 7,
     "metadata": {},
     "output_type": "execute_result"
    }
   ],
   "source": [
    "df1 = df.drop_duplicates(subset=['주소'])\n",
    "\n",
    "# df1 = df1.to_frame()\n",
    "df1.shape"
   ]
  },
  {
   "cell_type": "code",
   "execution_count": 8,
   "metadata": {},
   "outputs": [],
   "source": [
    "df1.set_index('주소', inplace=True)\n",
    "\n",
    "# df1.head()"
   ]
  },
  {
   "cell_type": "code",
   "execution_count": 9,
   "metadata": {},
   "outputs": [],
   "source": [
    "gis_filtered = gis1[gis1.index.isin(df1.index)]"
   ]
  },
  {
   "cell_type": "code",
   "execution_count": 10,
   "metadata": {},
   "outputs": [
    {
     "name": "stderr",
     "output_type": "stream",
     "text": [
      "/tmp/ipykernel_657332/964189930.py:1: SettingWithCopyWarning: \n",
      "A value is trying to be set on a copy of a slice from a DataFrame\n",
      "\n",
      "See the caveats in the documentation: https://pandas.pydata.org/pandas-docs/stable/user_guide/indexing.html#returning-a-view-versus-a-copy\n",
      "  gis_filtered.sort_index(inplace=True)\n"
     ]
    }
   ],
   "source": [
    "gis_filtered.sort_index(inplace=True)"
   ]
  },
  {
   "cell_type": "code",
   "execution_count": 11,
   "metadata": {},
   "outputs": [],
   "source": [
    "gis_grouped = gis_filtered.groupby(gis_filtered.index).sum()"
   ]
  },
  {
   "cell_type": "code",
   "execution_count": 12,
   "metadata": {},
   "outputs": [],
   "source": [
    "gis_grouped.loc[gis_grouped['건축면적'] > gis_grouped['연면적'], '건축면적'] = np.nan\n",
    "gis_grouped.loc[(gis_grouped['대지면적'] != 0) & (gis_grouped['건축면적'] > gis_grouped['대지면적']), '건축면적'] = np.nan\n",
    "gis_grouped.loc[(gis_grouped['대지면적'] != 0) & (gis_grouped['건축면적'] > gis_grouped['대지면적']), '건축면적'] = np.nan"
   ]
  },
  {
   "cell_type": "code",
   "execution_count": 13,
   "metadata": {},
   "outputs": [],
   "source": [
    "gis_grouped.at['서울특별시 강남구 대치동 891-26', '연면적'] = 10586.74\n",
    "gis_grouped.at['서울특별시 중랑구 묵동 20', '연면적'] = 214637.11\n",
    "gis_grouped.at['서울특별시 동작구 사당동 1131', '연면적'] = 78345.6392\n",
    "gis_grouped.at['서울특별시 광진구 구의동 611', '연면적'] = 166121.35\n",
    "gis_grouped.at['서울특별시 광진구 구의동 611', '건축면적'] = 8917.99\n",
    "gis_grouped.at['서울특별시 광진구 구의동 611', '대지면적'] = 54083.04\n",
    "gis_grouped.at['서울특별시 성동구 금호동3가 1331', '연면적'] = 144535.75\n",
    "gis_grouped.at['서울특별시 성동구 금호동3가 1331', '건축면적'] = 11492.84\n",
    "gis_grouped.at['서울특별시 성동구 금호동3가 1331', '대지면적'] = 53434.9\n",
    "gis_grouped.at['서울특별시 송파구 잠실동 27', '연면적'] = 144535.75\n",
    "gis_grouped.at['서울특별시 송파구 잠실동 27', '건축면적'] = 30118.4\n",
    "gis_grouped.at['서울특별시 송파구 잠실동 27', '대지면적'] = 296846.1\n",
    "gis_grouped.at['서울특별시 성북구 돈암동 609-1', '연면적'] = 506303.17\n",
    "gis_grouped.at['서울특별시 성북구 돈암동 609-1', '건축면적'] = 36779.86\n",
    "gis_grouped.at['서울특별시 성북구 돈암동 609-1', '대지면적'] = 183281\n",
    "gis_grouped.at['서울특별시 송파구 문정동 150', '건축면적'] = 43339\n",
    "gis_grouped.at['서울특별시 송파구 문정동 150', '대지면적'] = 237830.7\n",
    "\n",
    "gis_grouped.at['서울특별시 송파구 방이동 89', '건축면적'] = 390000\n",
    "gis_grouped.at['서울특별시 송파구 방이동 89', '대지면적'] = 662196\n",
    "gis_grouped.at['서울특별시 서초구 반포동 20-43', '대지면적'] = 194458.3\n",
    "gis_grouped.at['서울특별시 강남구 도곡동 527', '대지면적'] = 133361\n",
    "gis_grouped.at['서울특별시 송파구 문정동 150', '대지면적'] = 237830.7\n",
    "gis_grouped.at['서울특별시 송파구 잠실동 19', '대지면적'] = 224289.1\n",
    "gis_grouped.at['서울특별시 송파구 잠실동 22', '대지면적'] = 211156.1\n",
    "gis_grouped.at['서울특별시 강남구 대치동 316', '대지면적'] = 239225.8\n",
    "gis_grouped.at['서울특별시 송파구 잠실동 27', '대지면적'] = 296846.1\n",
    "gis_grouped.at['서울특별시 중구 신당동 844', '대지면적'] = 2192183.3\n",
    "gis_grouped.at['서울특별시 송파구 잠실동 35', '대지면적'] = 150784.8\n",
    "gis_grouped.at['서울특별시 강북구 미아동 1353', '대지면적'] = 144296.6\n",
    "gis_grouped.at['서울특별시 강동구 암사동 414-2', '대지면적'] = 144209\n",
    "gis_grouped.at['서울특별시 관악구 봉천동 1712', '대지면적'] = 138186.8\n",
    "gis_grouped.at['서울특별시 강남구 대치동 511', '대지면적'] = 195080.4\n",
    "gis_grouped.at['서울특별시 서대문구 북가좌동 481', '대지면적'] = 53060.2\n",
    "gis_grouped.at['서울특별시 서초구 반포동 18-1', '대지면적'] = 120824.6\n",
    "gis_grouped.at['서울특별시 노원구 상계동 624', '대지면적'] = 120824.6\n",
    "gis_grouped.at['서울특별시 송파구 잠실동 44', '대지면적'] = 122682\n",
    "gis_grouped.at['서울특별시 서초구 서초동 1685', '대지면적'] = 144012.4\n",
    "gis_grouped.at['서울특별시 노원구 월계동 18', '대지면적'] = 90668.7"
   ]
  },
  {
   "cell_type": "code",
   "execution_count": 14,
   "metadata": {},
   "outputs": [
    {
     "data": {
      "text/plain": [
       "건축면적    41\n",
       "연면적      0\n",
       "대지면적     0\n",
       "dtype: int64"
      ]
     },
     "execution_count": 14,
     "metadata": {},
     "output_type": "execute_result"
    }
   ],
   "source": [
    "gis_grouped.isnull().sum()"
   ]
  },
  {
   "cell_type": "code",
   "execution_count": 15,
   "metadata": {},
   "outputs": [],
   "source": [
    "gis_grouped.loc[gis_grouped['대지면적'] == 0, '대지면적'] = np.nan\n",
    "gis_grouped.loc[gis_grouped['연면적'] == 0, '연면적'] = np.nan\n",
    "gis_grouped.loc[gis_grouped['건축면적'] == 0, '건축면적'] = np.nan"
   ]
  },
  {
   "cell_type": "code",
   "execution_count": 16,
   "metadata": {},
   "outputs": [],
   "source": [
    "# from sklearn.experimental import enable_iterative_imputer\n",
    "# from sklearn.impute import IterativeImputer\n",
    "\n",
    "# imputer = IterativeImputer(max_iter=50, random_state=0)\n",
    "\n",
    "# # imputer 결측치 보간\n",
    "# gis_grouped_imputed = pd.DataFrame(imputer.fit_transform(gis_grouped), columns=gis_grouped.columns, index=gis_grouped.index)\n"
   ]
  },
  {
   "cell_type": "code",
   "execution_count": 17,
   "metadata": {},
   "outputs": [],
   "source": [
    "# from statsmodels.imputation.mice import MICEData\n",
    "\n",
    "# # MICE 방법을 사용한 결측치 보간\n",
    "# mice_data = MICEData(gis_grouped)\n",
    "# gis_grouped_imputed = mice_data.data"
   ]
  },
  {
   "cell_type": "code",
   "execution_count": 18,
   "metadata": {},
   "outputs": [],
   "source": [
    "# 보통 용적율 건폐율 나오게 계산\n",
    "\n",
    "gis_grouped.loc[gis_grouped['대지면적'].isna(), '대지면적'] = gis_grouped['연면적'] * 0.39\n",
    "gis_grouped.loc[gis_grouped['건축면적'].isna(), '건축면적'] = gis_grouped['대지면적'] * 0.6"
   ]
  },
  {
   "cell_type": "code",
   "execution_count": 19,
   "metadata": {},
   "outputs": [],
   "source": [
    "gis_grouped['용적율'] = gis_grouped['연면적'] / gis_grouped['대지면적']\n",
    "gis_grouped['건폐율'] = gis_grouped['건축면적'] / gis_grouped['대지면적']"
   ]
  },
  {
   "cell_type": "code",
   "execution_count": 20,
   "metadata": {},
   "outputs": [],
   "source": [
    "gis_grouped.loc[gis_grouped['용적율'] > 10, ['대지면적', '건축면적']] = np.nan\n",
    "gis_grouped.loc[gis_grouped['건폐율'] >= 1, ['대지면적', '건축면적']] = np.nan"
   ]
  },
  {
   "cell_type": "code",
   "execution_count": 21,
   "metadata": {},
   "outputs": [],
   "source": [
    "gis_grouped.loc[gis_grouped['대지면적'].isna(), '대지면적'] = gis_grouped['연면적'] * 0.39\n",
    "gis_grouped.loc[gis_grouped['건축면적'].isna(), '건축면적'] = gis_grouped['대지면적'] * 0.6"
   ]
  },
  {
   "cell_type": "code",
   "execution_count": 22,
   "metadata": {},
   "outputs": [],
   "source": [
    "gis_grouped['용적율'] = gis_grouped['연면적'] / gis_grouped['대지면적']\n",
    "gis_grouped['건폐율'] = gis_grouped['건축면적'] / gis_grouped['대지면적']\n",
    "gis_grouped['평균층수'] = gis_grouped['연면적'] / gis_grouped['건축면적']"
   ]
  },
  {
   "cell_type": "code",
   "execution_count": 23,
   "metadata": {},
   "outputs": [],
   "source": [
    "gis_grouped.loc[gis_grouped['평균층수'] >= 100, ['대지면적', '건축면적']] = np.nan"
   ]
  },
  {
   "cell_type": "code",
   "execution_count": 24,
   "metadata": {},
   "outputs": [],
   "source": [
    "gis_grouped.loc[gis_grouped['대지면적'].isna(), '대지면적'] = gis_grouped['연면적'] * 0.39\n",
    "gis_grouped.loc[gis_grouped['건축면적'].isna(), '건축면적'] = gis_grouped['대지면적'] * 0.6"
   ]
  },
  {
   "cell_type": "code",
   "execution_count": 25,
   "metadata": {},
   "outputs": [],
   "source": [
    "gis_grouped.drop(columns=['용적율', '건폐율', '평균층수'], inplace=True)"
   ]
  },
  {
   "cell_type": "code",
   "execution_count": 26,
   "metadata": {},
   "outputs": [],
   "source": [
    "gis_grouped['용적율'] = gis_grouped['연면적'] / gis_grouped['대지면적']\n",
    "gis_grouped['건폐율'] = gis_grouped['건축면적'] / gis_grouped['대지면적']\n",
    "gis_grouped['평균층수'] = gis_grouped['연면적'] / gis_grouped['건축면적']"
   ]
  },
  {
   "cell_type": "code",
   "execution_count": 27,
   "metadata": {},
   "outputs": [],
   "source": [
    "gis_grouped.loc[gis_grouped['용적율'] <= 1.5, '대지면적'] = np.nan\n",
    "\n",
    "gis_grouped.loc[gis_grouped['대지면적'].isna(), '대지면적'] = gis_grouped['연면적'] * 0.39\n",
    "gis_grouped['용적율'] = gis_grouped['연면적'] / gis_grouped['대지면적']"
   ]
  },
  {
   "cell_type": "code",
   "execution_count": 28,
   "metadata": {},
   "outputs": [],
   "source": [
    "gis_grouped.loc[gis_grouped['건폐율'] <= 0.15, '건축면적'] = np.nan\n",
    "\n",
    "gis_grouped.loc[gis_grouped['건축면적'].isna(), '건축면적'] = gis_grouped['대지면적'] * 0.40\n",
    "gis_grouped['건폐율'] = gis_grouped['건축면적'] / gis_grouped['대지면적']"
   ]
  },
  {
   "cell_type": "code",
   "execution_count": 29,
   "metadata": {},
   "outputs": [],
   "source": [
    "gis_grouped.loc[gis_grouped['건축면적'] > gis_grouped['대지면적'], '건축면적'] = np.nan\n",
    "\n",
    "gis_grouped.loc[gis_grouped['건축면적'].isna(), '건축면적'] = gis_grouped['대지면적'] * 0.40"
   ]
  },
  {
   "cell_type": "code",
   "execution_count": 30,
   "metadata": {},
   "outputs": [],
   "source": [
    "gis_grouped['용적율'] = gis_grouped['연면적'] / gis_grouped['대지면적']\n",
    "gis_grouped['건폐율'] = gis_grouped['건축면적'] / gis_grouped['대지면적']\n",
    "gis_grouped['평균층수'] = gis_grouped['연면적'] / gis_grouped['건축면적']"
   ]
  },
  {
   "cell_type": "code",
   "execution_count": 31,
   "metadata": {},
   "outputs": [],
   "source": [
    "gis_grouped.loc[gis_grouped['대지면적'].isna(), '대지면적'] = gis_grouped['연면적'] * 0.39\n",
    "gis_grouped.loc[gis_grouped['건축면적'].isna(), '건축면적'] = gis_grouped['대지면적'] * 0.6"
   ]
  },
  {
   "cell_type": "code",
   "execution_count": 32,
   "metadata": {},
   "outputs": [
    {
     "data": {
      "text/plain": [
       "count   8014.000000\n",
       "mean       8.452780\n",
       "std        3.814097\n",
       "min        2.622514\n",
       "25%        5.598429\n",
       "50%        7.107339\n",
       "75%       10.906074\n",
       "max       40.653223\n",
       "Name: 평균층수, dtype: float64"
      ]
     },
     "execution_count": 32,
     "metadata": {},
     "output_type": "execute_result"
    }
   ],
   "source": [
    "gis_grouped['평균층수'].describe()"
   ]
  },
  {
   "cell_type": "code",
   "execution_count": 33,
   "metadata": {},
   "outputs": [],
   "source": [
    "gis_grouped.to_csv('../data/gis건물정보_fixed.csv')"
   ]
  },
  {
   "cell_type": "code",
   "execution_count": null,
   "metadata": {},
   "outputs": [],
   "source": []
  }
 ],
 "metadata": {
  "kernelspec": {
   "display_name": "base",
   "language": "python",
   "name": "python3"
  },
  "language_info": {
   "codemirror_mode": {
    "name": "ipython",
    "version": 3
   },
   "file_extension": ".py",
   "mimetype": "text/x-python",
   "name": "python",
   "nbconvert_exporter": "python",
   "pygments_lexer": "ipython3",
   "version": "3.10.13"
  }
 },
 "nbformat": 4,
 "nbformat_minor": 2
}
